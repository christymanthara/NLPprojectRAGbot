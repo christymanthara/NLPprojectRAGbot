{
  "nbformat": 4,
  "nbformat_minor": 0,
  "metadata": {
    "colab": {
      "provenance": [],
      "gpuType": "T4",
      "authorship_tag": "ABX9TyMslffIkl52qjLOYrnqIKx/",
      "include_colab_link": true
    },
    "kernelspec": {
      "name": "python3",
      "display_name": "Python 3"
    },
    "language_info": {
      "name": "python"
    },
    "accelerator": "GPU",
    "widgets": {
      "application/vnd.jupyter.widget-state+json": {
        "ef954723484245bfab4cda2566ee905d": {
          "model_module": "@jupyter-widgets/controls",
          "model_name": "VBoxModel",
          "model_module_version": "1.5.0",
          "state": {
            "_dom_classes": [],
            "_model_module": "@jupyter-widgets/controls",
            "_model_module_version": "1.5.0",
            "_model_name": "VBoxModel",
            "_view_count": null,
            "_view_module": "@jupyter-widgets/controls",
            "_view_module_version": "1.5.0",
            "_view_name": "VBoxView",
            "box_style": "",
            "children": [
              "IPY_MODEL_263f1140e7e148b8a2a2c03343f0fb0c",
              "IPY_MODEL_9b0a6b7a6d0e41589562272c1de7cbe2",
              "IPY_MODEL_7541d8b1dceb4419afee710fb219c7fb",
              "IPY_MODEL_fafab02d8e2c4f079f46e6a1e006f49f",
              "IPY_MODEL_6558237f74344d2a8e727402844cb2cd"
            ],
            "layout": "IPY_MODEL_4d7d431702504325aaf9503cf22393ab"
          }
        },
        "263f1140e7e148b8a2a2c03343f0fb0c": {
          "model_module": "@jupyter-widgets/controls",
          "model_name": "HTMLModel",
          "model_module_version": "1.5.0",
          "state": {
            "_dom_classes": [],
            "_model_module": "@jupyter-widgets/controls",
            "_model_module_version": "1.5.0",
            "_model_name": "HTMLModel",
            "_view_count": null,
            "_view_module": "@jupyter-widgets/controls",
            "_view_module_version": "1.5.0",
            "_view_name": "HTMLView",
            "description": "",
            "description_tooltip": null,
            "layout": "IPY_MODEL_fa7e1f01f488479aa069e4c26f2a8f4d",
            "placeholder": "​",
            "style": "IPY_MODEL_8b962ba99e2a422cb34d20b55712e5d3",
            "value": "<center> <img\nsrc=https://huggingface.co/front/assets/huggingface_logo-noborder.svg\nalt='Hugging Face'> <br> Copy a token from <a\nhref=\"https://huggingface.co/settings/tokens\" target=\"_blank\">your Hugging Face\ntokens page</a> and paste it below. <br> Immediately click login after copying\nyour token or it might be stored in plain text in this notebook file. </center>"
          }
        },
        "9b0a6b7a6d0e41589562272c1de7cbe2": {
          "model_module": "@jupyter-widgets/controls",
          "model_name": "PasswordModel",
          "model_module_version": "1.5.0",
          "state": {
            "_dom_classes": [],
            "_model_module": "@jupyter-widgets/controls",
            "_model_module_version": "1.5.0",
            "_model_name": "PasswordModel",
            "_view_count": null,
            "_view_module": "@jupyter-widgets/controls",
            "_view_module_version": "1.5.0",
            "_view_name": "PasswordView",
            "continuous_update": true,
            "description": "Token:",
            "description_tooltip": null,
            "disabled": false,
            "layout": "IPY_MODEL_87f452ec2a1148648c5a0af54d7e63ee",
            "placeholder": "​",
            "style": "IPY_MODEL_6c0a03e338e344fc99f160d1e1ea84c1",
            "value": ""
          }
        },
        "7541d8b1dceb4419afee710fb219c7fb": {
          "model_module": "@jupyter-widgets/controls",
          "model_name": "CheckboxModel",
          "model_module_version": "1.5.0",
          "state": {
            "_dom_classes": [],
            "_model_module": "@jupyter-widgets/controls",
            "_model_module_version": "1.5.0",
            "_model_name": "CheckboxModel",
            "_view_count": null,
            "_view_module": "@jupyter-widgets/controls",
            "_view_module_version": "1.5.0",
            "_view_name": "CheckboxView",
            "description": "Add token as git credential?",
            "description_tooltip": null,
            "disabled": false,
            "indent": true,
            "layout": "IPY_MODEL_2dd602d264244ac19abacfda64761739",
            "style": "IPY_MODEL_2e66cf07a63f40558e306ee5cfdc3dac",
            "value": true
          }
        },
        "fafab02d8e2c4f079f46e6a1e006f49f": {
          "model_module": "@jupyter-widgets/controls",
          "model_name": "ButtonModel",
          "model_module_version": "1.5.0",
          "state": {
            "_dom_classes": [],
            "_model_module": "@jupyter-widgets/controls",
            "_model_module_version": "1.5.0",
            "_model_name": "ButtonModel",
            "_view_count": null,
            "_view_module": "@jupyter-widgets/controls",
            "_view_module_version": "1.5.0",
            "_view_name": "ButtonView",
            "button_style": "",
            "description": "Login",
            "disabled": false,
            "icon": "",
            "layout": "IPY_MODEL_7a3384f3ae654c3f82151a2902871087",
            "style": "IPY_MODEL_5ea194b59e954b4cb1df016b00cc3e4b",
            "tooltip": ""
          }
        },
        "6558237f74344d2a8e727402844cb2cd": {
          "model_module": "@jupyter-widgets/controls",
          "model_name": "HTMLModel",
          "model_module_version": "1.5.0",
          "state": {
            "_dom_classes": [],
            "_model_module": "@jupyter-widgets/controls",
            "_model_module_version": "1.5.0",
            "_model_name": "HTMLModel",
            "_view_count": null,
            "_view_module": "@jupyter-widgets/controls",
            "_view_module_version": "1.5.0",
            "_view_name": "HTMLView",
            "description": "",
            "description_tooltip": null,
            "layout": "IPY_MODEL_f288fe9ffa6b4970b86bb55a733088f0",
            "placeholder": "​",
            "style": "IPY_MODEL_6c148ca18bd94a48a0ea30c380502dfb",
            "value": "\n<b>Pro Tip:</b> If you don't already have one, you can create a dedicated\n'notebooks' token with 'write' access, that you can then easily reuse for all\nnotebooks. </center>"
          }
        },
        "4d7d431702504325aaf9503cf22393ab": {
          "model_module": "@jupyter-widgets/base",
          "model_name": "LayoutModel",
          "model_module_version": "1.2.0",
          "state": {
            "_model_module": "@jupyter-widgets/base",
            "_model_module_version": "1.2.0",
            "_model_name": "LayoutModel",
            "_view_count": null,
            "_view_module": "@jupyter-widgets/base",
            "_view_module_version": "1.2.0",
            "_view_name": "LayoutView",
            "align_content": null,
            "align_items": "center",
            "align_self": null,
            "border": null,
            "bottom": null,
            "display": "flex",
            "flex": null,
            "flex_flow": "column",
            "grid_area": null,
            "grid_auto_columns": null,
            "grid_auto_flow": null,
            "grid_auto_rows": null,
            "grid_column": null,
            "grid_gap": null,
            "grid_row": null,
            "grid_template_areas": null,
            "grid_template_columns": null,
            "grid_template_rows": null,
            "height": null,
            "justify_content": null,
            "justify_items": null,
            "left": null,
            "margin": null,
            "max_height": null,
            "max_width": null,
            "min_height": null,
            "min_width": null,
            "object_fit": null,
            "object_position": null,
            "order": null,
            "overflow": null,
            "overflow_x": null,
            "overflow_y": null,
            "padding": null,
            "right": null,
            "top": null,
            "visibility": null,
            "width": "50%"
          }
        },
        "fa7e1f01f488479aa069e4c26f2a8f4d": {
          "model_module": "@jupyter-widgets/base",
          "model_name": "LayoutModel",
          "model_module_version": "1.2.0",
          "state": {
            "_model_module": "@jupyter-widgets/base",
            "_model_module_version": "1.2.0",
            "_model_name": "LayoutModel",
            "_view_count": null,
            "_view_module": "@jupyter-widgets/base",
            "_view_module_version": "1.2.0",
            "_view_name": "LayoutView",
            "align_content": null,
            "align_items": null,
            "align_self": null,
            "border": null,
            "bottom": null,
            "display": null,
            "flex": null,
            "flex_flow": null,
            "grid_area": null,
            "grid_auto_columns": null,
            "grid_auto_flow": null,
            "grid_auto_rows": null,
            "grid_column": null,
            "grid_gap": null,
            "grid_row": null,
            "grid_template_areas": null,
            "grid_template_columns": null,
            "grid_template_rows": null,
            "height": null,
            "justify_content": null,
            "justify_items": null,
            "left": null,
            "margin": null,
            "max_height": null,
            "max_width": null,
            "min_height": null,
            "min_width": null,
            "object_fit": null,
            "object_position": null,
            "order": null,
            "overflow": null,
            "overflow_x": null,
            "overflow_y": null,
            "padding": null,
            "right": null,
            "top": null,
            "visibility": null,
            "width": null
          }
        },
        "8b962ba99e2a422cb34d20b55712e5d3": {
          "model_module": "@jupyter-widgets/controls",
          "model_name": "DescriptionStyleModel",
          "model_module_version": "1.5.0",
          "state": {
            "_model_module": "@jupyter-widgets/controls",
            "_model_module_version": "1.5.0",
            "_model_name": "DescriptionStyleModel",
            "_view_count": null,
            "_view_module": "@jupyter-widgets/base",
            "_view_module_version": "1.2.0",
            "_view_name": "StyleView",
            "description_width": ""
          }
        },
        "87f452ec2a1148648c5a0af54d7e63ee": {
          "model_module": "@jupyter-widgets/base",
          "model_name": "LayoutModel",
          "model_module_version": "1.2.0",
          "state": {
            "_model_module": "@jupyter-widgets/base",
            "_model_module_version": "1.2.0",
            "_model_name": "LayoutModel",
            "_view_count": null,
            "_view_module": "@jupyter-widgets/base",
            "_view_module_version": "1.2.0",
            "_view_name": "LayoutView",
            "align_content": null,
            "align_items": null,
            "align_self": null,
            "border": null,
            "bottom": null,
            "display": null,
            "flex": null,
            "flex_flow": null,
            "grid_area": null,
            "grid_auto_columns": null,
            "grid_auto_flow": null,
            "grid_auto_rows": null,
            "grid_column": null,
            "grid_gap": null,
            "grid_row": null,
            "grid_template_areas": null,
            "grid_template_columns": null,
            "grid_template_rows": null,
            "height": null,
            "justify_content": null,
            "justify_items": null,
            "left": null,
            "margin": null,
            "max_height": null,
            "max_width": null,
            "min_height": null,
            "min_width": null,
            "object_fit": null,
            "object_position": null,
            "order": null,
            "overflow": null,
            "overflow_x": null,
            "overflow_y": null,
            "padding": null,
            "right": null,
            "top": null,
            "visibility": null,
            "width": null
          }
        },
        "6c0a03e338e344fc99f160d1e1ea84c1": {
          "model_module": "@jupyter-widgets/controls",
          "model_name": "DescriptionStyleModel",
          "model_module_version": "1.5.0",
          "state": {
            "_model_module": "@jupyter-widgets/controls",
            "_model_module_version": "1.5.0",
            "_model_name": "DescriptionStyleModel",
            "_view_count": null,
            "_view_module": "@jupyter-widgets/base",
            "_view_module_version": "1.2.0",
            "_view_name": "StyleView",
            "description_width": ""
          }
        },
        "2dd602d264244ac19abacfda64761739": {
          "model_module": "@jupyter-widgets/base",
          "model_name": "LayoutModel",
          "model_module_version": "1.2.0",
          "state": {
            "_model_module": "@jupyter-widgets/base",
            "_model_module_version": "1.2.0",
            "_model_name": "LayoutModel",
            "_view_count": null,
            "_view_module": "@jupyter-widgets/base",
            "_view_module_version": "1.2.0",
            "_view_name": "LayoutView",
            "align_content": null,
            "align_items": null,
            "align_self": null,
            "border": null,
            "bottom": null,
            "display": null,
            "flex": null,
            "flex_flow": null,
            "grid_area": null,
            "grid_auto_columns": null,
            "grid_auto_flow": null,
            "grid_auto_rows": null,
            "grid_column": null,
            "grid_gap": null,
            "grid_row": null,
            "grid_template_areas": null,
            "grid_template_columns": null,
            "grid_template_rows": null,
            "height": null,
            "justify_content": null,
            "justify_items": null,
            "left": null,
            "margin": null,
            "max_height": null,
            "max_width": null,
            "min_height": null,
            "min_width": null,
            "object_fit": null,
            "object_position": null,
            "order": null,
            "overflow": null,
            "overflow_x": null,
            "overflow_y": null,
            "padding": null,
            "right": null,
            "top": null,
            "visibility": null,
            "width": null
          }
        },
        "2e66cf07a63f40558e306ee5cfdc3dac": {
          "model_module": "@jupyter-widgets/controls",
          "model_name": "DescriptionStyleModel",
          "model_module_version": "1.5.0",
          "state": {
            "_model_module": "@jupyter-widgets/controls",
            "_model_module_version": "1.5.0",
            "_model_name": "DescriptionStyleModel",
            "_view_count": null,
            "_view_module": "@jupyter-widgets/base",
            "_view_module_version": "1.2.0",
            "_view_name": "StyleView",
            "description_width": ""
          }
        },
        "7a3384f3ae654c3f82151a2902871087": {
          "model_module": "@jupyter-widgets/base",
          "model_name": "LayoutModel",
          "model_module_version": "1.2.0",
          "state": {
            "_model_module": "@jupyter-widgets/base",
            "_model_module_version": "1.2.0",
            "_model_name": "LayoutModel",
            "_view_count": null,
            "_view_module": "@jupyter-widgets/base",
            "_view_module_version": "1.2.0",
            "_view_name": "LayoutView",
            "align_content": null,
            "align_items": null,
            "align_self": null,
            "border": null,
            "bottom": null,
            "display": null,
            "flex": null,
            "flex_flow": null,
            "grid_area": null,
            "grid_auto_columns": null,
            "grid_auto_flow": null,
            "grid_auto_rows": null,
            "grid_column": null,
            "grid_gap": null,
            "grid_row": null,
            "grid_template_areas": null,
            "grid_template_columns": null,
            "grid_template_rows": null,
            "height": null,
            "justify_content": null,
            "justify_items": null,
            "left": null,
            "margin": null,
            "max_height": null,
            "max_width": null,
            "min_height": null,
            "min_width": null,
            "object_fit": null,
            "object_position": null,
            "order": null,
            "overflow": null,
            "overflow_x": null,
            "overflow_y": null,
            "padding": null,
            "right": null,
            "top": null,
            "visibility": null,
            "width": null
          }
        },
        "5ea194b59e954b4cb1df016b00cc3e4b": {
          "model_module": "@jupyter-widgets/controls",
          "model_name": "ButtonStyleModel",
          "model_module_version": "1.5.0",
          "state": {
            "_model_module": "@jupyter-widgets/controls",
            "_model_module_version": "1.5.0",
            "_model_name": "ButtonStyleModel",
            "_view_count": null,
            "_view_module": "@jupyter-widgets/base",
            "_view_module_version": "1.2.0",
            "_view_name": "StyleView",
            "button_color": null,
            "font_weight": ""
          }
        },
        "f288fe9ffa6b4970b86bb55a733088f0": {
          "model_module": "@jupyter-widgets/base",
          "model_name": "LayoutModel",
          "model_module_version": "1.2.0",
          "state": {
            "_model_module": "@jupyter-widgets/base",
            "_model_module_version": "1.2.0",
            "_model_name": "LayoutModel",
            "_view_count": null,
            "_view_module": "@jupyter-widgets/base",
            "_view_module_version": "1.2.0",
            "_view_name": "LayoutView",
            "align_content": null,
            "align_items": null,
            "align_self": null,
            "border": null,
            "bottom": null,
            "display": null,
            "flex": null,
            "flex_flow": null,
            "grid_area": null,
            "grid_auto_columns": null,
            "grid_auto_flow": null,
            "grid_auto_rows": null,
            "grid_column": null,
            "grid_gap": null,
            "grid_row": null,
            "grid_template_areas": null,
            "grid_template_columns": null,
            "grid_template_rows": null,
            "height": null,
            "justify_content": null,
            "justify_items": null,
            "left": null,
            "margin": null,
            "max_height": null,
            "max_width": null,
            "min_height": null,
            "min_width": null,
            "object_fit": null,
            "object_position": null,
            "order": null,
            "overflow": null,
            "overflow_x": null,
            "overflow_y": null,
            "padding": null,
            "right": null,
            "top": null,
            "visibility": null,
            "width": null
          }
        },
        "6c148ca18bd94a48a0ea30c380502dfb": {
          "model_module": "@jupyter-widgets/controls",
          "model_name": "DescriptionStyleModel",
          "model_module_version": "1.5.0",
          "state": {
            "_model_module": "@jupyter-widgets/controls",
            "_model_module_version": "1.5.0",
            "_model_name": "DescriptionStyleModel",
            "_view_count": null,
            "_view_module": "@jupyter-widgets/base",
            "_view_module_version": "1.2.0",
            "_view_name": "StyleView",
            "description_width": ""
          }
        },
        "46f5bc460b3d48698ea2dfeab09bd752": {
          "model_module": "@jupyter-widgets/controls",
          "model_name": "VBoxModel",
          "model_module_version": "1.5.0",
          "state": {
            "_dom_classes": [],
            "_model_module": "@jupyter-widgets/controls",
            "_model_module_version": "1.5.0",
            "_model_name": "VBoxModel",
            "_view_count": null,
            "_view_module": "@jupyter-widgets/controls",
            "_view_module_version": "1.5.0",
            "_view_name": "VBoxView",
            "box_style": "",
            "children": [
              "IPY_MODEL_7852253399f8479dbaf231b2f604bf1f",
              "IPY_MODEL_5746c2f871ff419693f57afde55f1415",
              "IPY_MODEL_fa3727f3902140ada703df6e266bc94b",
              "IPY_MODEL_905ae31c83e54c6d87d3864d0ce8225b"
            ],
            "layout": "IPY_MODEL_1d4d52891cc94c1e8a5ec6436a526ae7"
          }
        },
        "1046bacd50c44d85b4adba9f7e98c221": {
          "model_module": "@jupyter-widgets/controls",
          "model_name": "HTMLModel",
          "model_module_version": "1.5.0",
          "state": {
            "_dom_classes": [],
            "_model_module": "@jupyter-widgets/controls",
            "_model_module_version": "1.5.0",
            "_model_name": "HTMLModel",
            "_view_count": null,
            "_view_module": "@jupyter-widgets/controls",
            "_view_module_version": "1.5.0",
            "_view_name": "HTMLView",
            "description": "",
            "description_tooltip": null,
            "layout": "IPY_MODEL_486f57e51e2c4d54912f52f24409664e",
            "placeholder": "​",
            "style": "IPY_MODEL_f6b040366e5d4fbcb9eb5364943f78dc",
            "value": "<center> <img\nsrc=https://huggingface.co/front/assets/huggingface_logo-noborder.svg\nalt='Hugging Face'> <br> Copy a token from <a\nhref=\"https://huggingface.co/settings/tokens\" target=\"_blank\">your Hugging Face\ntokens page</a> and paste it below. <br> Immediately click login after copying\nyour token or it might be stored in plain text in this notebook file. </center>"
          }
        },
        "f5e28248f9014c8692c13773fe580f8f": {
          "model_module": "@jupyter-widgets/controls",
          "model_name": "PasswordModel",
          "model_module_version": "1.5.0",
          "state": {
            "_dom_classes": [],
            "_model_module": "@jupyter-widgets/controls",
            "_model_module_version": "1.5.0",
            "_model_name": "PasswordModel",
            "_view_count": null,
            "_view_module": "@jupyter-widgets/controls",
            "_view_module_version": "1.5.0",
            "_view_name": "PasswordView",
            "continuous_update": true,
            "description": "Token:",
            "description_tooltip": null,
            "disabled": false,
            "layout": "IPY_MODEL_9a402174e5214567828b3e49e263305e",
            "placeholder": "​",
            "style": "IPY_MODEL_a00358d319214cda8fecdc76aabfa04f",
            "value": ""
          }
        },
        "623d9db01b2546ccbf56e9ac73bfe023": {
          "model_module": "@jupyter-widgets/controls",
          "model_name": "CheckboxModel",
          "model_module_version": "1.5.0",
          "state": {
            "_dom_classes": [],
            "_model_module": "@jupyter-widgets/controls",
            "_model_module_version": "1.5.0",
            "_model_name": "CheckboxModel",
            "_view_count": null,
            "_view_module": "@jupyter-widgets/controls",
            "_view_module_version": "1.5.0",
            "_view_name": "CheckboxView",
            "description": "Add token as git credential?",
            "description_tooltip": null,
            "disabled": false,
            "indent": true,
            "layout": "IPY_MODEL_a8b0a619a1904bc28832341457904aec",
            "style": "IPY_MODEL_010faf60c42d45779a00534208c7b8ff",
            "value": true
          }
        },
        "ef3499505ed44844947b18e85f3f1119": {
          "model_module": "@jupyter-widgets/controls",
          "model_name": "ButtonModel",
          "model_module_version": "1.5.0",
          "state": {
            "_dom_classes": [],
            "_model_module": "@jupyter-widgets/controls",
            "_model_module_version": "1.5.0",
            "_model_name": "ButtonModel",
            "_view_count": null,
            "_view_module": "@jupyter-widgets/controls",
            "_view_module_version": "1.5.0",
            "_view_name": "ButtonView",
            "button_style": "",
            "description": "Login",
            "disabled": false,
            "icon": "",
            "layout": "IPY_MODEL_ed29e6c7f0fa4c079a67eabc445bd48e",
            "style": "IPY_MODEL_6d69a5675b2d416cb3fdcf417497918d",
            "tooltip": ""
          }
        },
        "889217f84c99487192b811f4f741c5f3": {
          "model_module": "@jupyter-widgets/controls",
          "model_name": "HTMLModel",
          "model_module_version": "1.5.0",
          "state": {
            "_dom_classes": [],
            "_model_module": "@jupyter-widgets/controls",
            "_model_module_version": "1.5.0",
            "_model_name": "HTMLModel",
            "_view_count": null,
            "_view_module": "@jupyter-widgets/controls",
            "_view_module_version": "1.5.0",
            "_view_name": "HTMLView",
            "description": "",
            "description_tooltip": null,
            "layout": "IPY_MODEL_a6f0f21e0c024fa694378b4ee26ba064",
            "placeholder": "​",
            "style": "IPY_MODEL_7cdc7524ac104ecfb88dca4cef8999c1",
            "value": "\n<b>Pro Tip:</b> If you don't already have one, you can create a dedicated\n'notebooks' token with 'write' access, that you can then easily reuse for all\nnotebooks. </center>"
          }
        },
        "1d4d52891cc94c1e8a5ec6436a526ae7": {
          "model_module": "@jupyter-widgets/base",
          "model_name": "LayoutModel",
          "model_module_version": "1.2.0",
          "state": {
            "_model_module": "@jupyter-widgets/base",
            "_model_module_version": "1.2.0",
            "_model_name": "LayoutModel",
            "_view_count": null,
            "_view_module": "@jupyter-widgets/base",
            "_view_module_version": "1.2.0",
            "_view_name": "LayoutView",
            "align_content": null,
            "align_items": "center",
            "align_self": null,
            "border": null,
            "bottom": null,
            "display": "flex",
            "flex": null,
            "flex_flow": "column",
            "grid_area": null,
            "grid_auto_columns": null,
            "grid_auto_flow": null,
            "grid_auto_rows": null,
            "grid_column": null,
            "grid_gap": null,
            "grid_row": null,
            "grid_template_areas": null,
            "grid_template_columns": null,
            "grid_template_rows": null,
            "height": null,
            "justify_content": null,
            "justify_items": null,
            "left": null,
            "margin": null,
            "max_height": null,
            "max_width": null,
            "min_height": null,
            "min_width": null,
            "object_fit": null,
            "object_position": null,
            "order": null,
            "overflow": null,
            "overflow_x": null,
            "overflow_y": null,
            "padding": null,
            "right": null,
            "top": null,
            "visibility": null,
            "width": "50%"
          }
        },
        "486f57e51e2c4d54912f52f24409664e": {
          "model_module": "@jupyter-widgets/base",
          "model_name": "LayoutModel",
          "model_module_version": "1.2.0",
          "state": {
            "_model_module": "@jupyter-widgets/base",
            "_model_module_version": "1.2.0",
            "_model_name": "LayoutModel",
            "_view_count": null,
            "_view_module": "@jupyter-widgets/base",
            "_view_module_version": "1.2.0",
            "_view_name": "LayoutView",
            "align_content": null,
            "align_items": null,
            "align_self": null,
            "border": null,
            "bottom": null,
            "display": null,
            "flex": null,
            "flex_flow": null,
            "grid_area": null,
            "grid_auto_columns": null,
            "grid_auto_flow": null,
            "grid_auto_rows": null,
            "grid_column": null,
            "grid_gap": null,
            "grid_row": null,
            "grid_template_areas": null,
            "grid_template_columns": null,
            "grid_template_rows": null,
            "height": null,
            "justify_content": null,
            "justify_items": null,
            "left": null,
            "margin": null,
            "max_height": null,
            "max_width": null,
            "min_height": null,
            "min_width": null,
            "object_fit": null,
            "object_position": null,
            "order": null,
            "overflow": null,
            "overflow_x": null,
            "overflow_y": null,
            "padding": null,
            "right": null,
            "top": null,
            "visibility": null,
            "width": null
          }
        },
        "f6b040366e5d4fbcb9eb5364943f78dc": {
          "model_module": "@jupyter-widgets/controls",
          "model_name": "DescriptionStyleModel",
          "model_module_version": "1.5.0",
          "state": {
            "_model_module": "@jupyter-widgets/controls",
            "_model_module_version": "1.5.0",
            "_model_name": "DescriptionStyleModel",
            "_view_count": null,
            "_view_module": "@jupyter-widgets/base",
            "_view_module_version": "1.2.0",
            "_view_name": "StyleView",
            "description_width": ""
          }
        },
        "9a402174e5214567828b3e49e263305e": {
          "model_module": "@jupyter-widgets/base",
          "model_name": "LayoutModel",
          "model_module_version": "1.2.0",
          "state": {
            "_model_module": "@jupyter-widgets/base",
            "_model_module_version": "1.2.0",
            "_model_name": "LayoutModel",
            "_view_count": null,
            "_view_module": "@jupyter-widgets/base",
            "_view_module_version": "1.2.0",
            "_view_name": "LayoutView",
            "align_content": null,
            "align_items": null,
            "align_self": null,
            "border": null,
            "bottom": null,
            "display": null,
            "flex": null,
            "flex_flow": null,
            "grid_area": null,
            "grid_auto_columns": null,
            "grid_auto_flow": null,
            "grid_auto_rows": null,
            "grid_column": null,
            "grid_gap": null,
            "grid_row": null,
            "grid_template_areas": null,
            "grid_template_columns": null,
            "grid_template_rows": null,
            "height": null,
            "justify_content": null,
            "justify_items": null,
            "left": null,
            "margin": null,
            "max_height": null,
            "max_width": null,
            "min_height": null,
            "min_width": null,
            "object_fit": null,
            "object_position": null,
            "order": null,
            "overflow": null,
            "overflow_x": null,
            "overflow_y": null,
            "padding": null,
            "right": null,
            "top": null,
            "visibility": null,
            "width": null
          }
        },
        "a00358d319214cda8fecdc76aabfa04f": {
          "model_module": "@jupyter-widgets/controls",
          "model_name": "DescriptionStyleModel",
          "model_module_version": "1.5.0",
          "state": {
            "_model_module": "@jupyter-widgets/controls",
            "_model_module_version": "1.5.0",
            "_model_name": "DescriptionStyleModel",
            "_view_count": null,
            "_view_module": "@jupyter-widgets/base",
            "_view_module_version": "1.2.0",
            "_view_name": "StyleView",
            "description_width": ""
          }
        },
        "a8b0a619a1904bc28832341457904aec": {
          "model_module": "@jupyter-widgets/base",
          "model_name": "LayoutModel",
          "model_module_version": "1.2.0",
          "state": {
            "_model_module": "@jupyter-widgets/base",
            "_model_module_version": "1.2.0",
            "_model_name": "LayoutModel",
            "_view_count": null,
            "_view_module": "@jupyter-widgets/base",
            "_view_module_version": "1.2.0",
            "_view_name": "LayoutView",
            "align_content": null,
            "align_items": null,
            "align_self": null,
            "border": null,
            "bottom": null,
            "display": null,
            "flex": null,
            "flex_flow": null,
            "grid_area": null,
            "grid_auto_columns": null,
            "grid_auto_flow": null,
            "grid_auto_rows": null,
            "grid_column": null,
            "grid_gap": null,
            "grid_row": null,
            "grid_template_areas": null,
            "grid_template_columns": null,
            "grid_template_rows": null,
            "height": null,
            "justify_content": null,
            "justify_items": null,
            "left": null,
            "margin": null,
            "max_height": null,
            "max_width": null,
            "min_height": null,
            "min_width": null,
            "object_fit": null,
            "object_position": null,
            "order": null,
            "overflow": null,
            "overflow_x": null,
            "overflow_y": null,
            "padding": null,
            "right": null,
            "top": null,
            "visibility": null,
            "width": null
          }
        },
        "010faf60c42d45779a00534208c7b8ff": {
          "model_module": "@jupyter-widgets/controls",
          "model_name": "DescriptionStyleModel",
          "model_module_version": "1.5.0",
          "state": {
            "_model_module": "@jupyter-widgets/controls",
            "_model_module_version": "1.5.0",
            "_model_name": "DescriptionStyleModel",
            "_view_count": null,
            "_view_module": "@jupyter-widgets/base",
            "_view_module_version": "1.2.0",
            "_view_name": "StyleView",
            "description_width": ""
          }
        },
        "ed29e6c7f0fa4c079a67eabc445bd48e": {
          "model_module": "@jupyter-widgets/base",
          "model_name": "LayoutModel",
          "model_module_version": "1.2.0",
          "state": {
            "_model_module": "@jupyter-widgets/base",
            "_model_module_version": "1.2.0",
            "_model_name": "LayoutModel",
            "_view_count": null,
            "_view_module": "@jupyter-widgets/base",
            "_view_module_version": "1.2.0",
            "_view_name": "LayoutView",
            "align_content": null,
            "align_items": null,
            "align_self": null,
            "border": null,
            "bottom": null,
            "display": null,
            "flex": null,
            "flex_flow": null,
            "grid_area": null,
            "grid_auto_columns": null,
            "grid_auto_flow": null,
            "grid_auto_rows": null,
            "grid_column": null,
            "grid_gap": null,
            "grid_row": null,
            "grid_template_areas": null,
            "grid_template_columns": null,
            "grid_template_rows": null,
            "height": null,
            "justify_content": null,
            "justify_items": null,
            "left": null,
            "margin": null,
            "max_height": null,
            "max_width": null,
            "min_height": null,
            "min_width": null,
            "object_fit": null,
            "object_position": null,
            "order": null,
            "overflow": null,
            "overflow_x": null,
            "overflow_y": null,
            "padding": null,
            "right": null,
            "top": null,
            "visibility": null,
            "width": null
          }
        },
        "6d69a5675b2d416cb3fdcf417497918d": {
          "model_module": "@jupyter-widgets/controls",
          "model_name": "ButtonStyleModel",
          "model_module_version": "1.5.0",
          "state": {
            "_model_module": "@jupyter-widgets/controls",
            "_model_module_version": "1.5.0",
            "_model_name": "ButtonStyleModel",
            "_view_count": null,
            "_view_module": "@jupyter-widgets/base",
            "_view_module_version": "1.2.0",
            "_view_name": "StyleView",
            "button_color": null,
            "font_weight": ""
          }
        },
        "a6f0f21e0c024fa694378b4ee26ba064": {
          "model_module": "@jupyter-widgets/base",
          "model_name": "LayoutModel",
          "model_module_version": "1.2.0",
          "state": {
            "_model_module": "@jupyter-widgets/base",
            "_model_module_version": "1.2.0",
            "_model_name": "LayoutModel",
            "_view_count": null,
            "_view_module": "@jupyter-widgets/base",
            "_view_module_version": "1.2.0",
            "_view_name": "LayoutView",
            "align_content": null,
            "align_items": null,
            "align_self": null,
            "border": null,
            "bottom": null,
            "display": null,
            "flex": null,
            "flex_flow": null,
            "grid_area": null,
            "grid_auto_columns": null,
            "grid_auto_flow": null,
            "grid_auto_rows": null,
            "grid_column": null,
            "grid_gap": null,
            "grid_row": null,
            "grid_template_areas": null,
            "grid_template_columns": null,
            "grid_template_rows": null,
            "height": null,
            "justify_content": null,
            "justify_items": null,
            "left": null,
            "margin": null,
            "max_height": null,
            "max_width": null,
            "min_height": null,
            "min_width": null,
            "object_fit": null,
            "object_position": null,
            "order": null,
            "overflow": null,
            "overflow_x": null,
            "overflow_y": null,
            "padding": null,
            "right": null,
            "top": null,
            "visibility": null,
            "width": null
          }
        },
        "7cdc7524ac104ecfb88dca4cef8999c1": {
          "model_module": "@jupyter-widgets/controls",
          "model_name": "DescriptionStyleModel",
          "model_module_version": "1.5.0",
          "state": {
            "_model_module": "@jupyter-widgets/controls",
            "_model_module_version": "1.5.0",
            "_model_name": "DescriptionStyleModel",
            "_view_count": null,
            "_view_module": "@jupyter-widgets/base",
            "_view_module_version": "1.2.0",
            "_view_name": "StyleView",
            "description_width": ""
          }
        },
        "eb174aea1dd14bbb89f25d0a8bcb281c": {
          "model_module": "@jupyter-widgets/controls",
          "model_name": "LabelModel",
          "model_module_version": "1.5.0",
          "state": {
            "_dom_classes": [],
            "_model_module": "@jupyter-widgets/controls",
            "_model_module_version": "1.5.0",
            "_model_name": "LabelModel",
            "_view_count": null,
            "_view_module": "@jupyter-widgets/controls",
            "_view_module_version": "1.5.0",
            "_view_name": "LabelView",
            "description": "",
            "description_tooltip": null,
            "layout": "IPY_MODEL_9e7a86b4f09d4b19a7fb17bdc9d2f3b7",
            "placeholder": "​",
            "style": "IPY_MODEL_e87db2d1363b4def8fcafb9ab1713028",
            "value": "Connecting..."
          }
        },
        "9e7a86b4f09d4b19a7fb17bdc9d2f3b7": {
          "model_module": "@jupyter-widgets/base",
          "model_name": "LayoutModel",
          "model_module_version": "1.2.0",
          "state": {
            "_model_module": "@jupyter-widgets/base",
            "_model_module_version": "1.2.0",
            "_model_name": "LayoutModel",
            "_view_count": null,
            "_view_module": "@jupyter-widgets/base",
            "_view_module_version": "1.2.0",
            "_view_name": "LayoutView",
            "align_content": null,
            "align_items": null,
            "align_self": null,
            "border": null,
            "bottom": null,
            "display": null,
            "flex": null,
            "flex_flow": null,
            "grid_area": null,
            "grid_auto_columns": null,
            "grid_auto_flow": null,
            "grid_auto_rows": null,
            "grid_column": null,
            "grid_gap": null,
            "grid_row": null,
            "grid_template_areas": null,
            "grid_template_columns": null,
            "grid_template_rows": null,
            "height": null,
            "justify_content": null,
            "justify_items": null,
            "left": null,
            "margin": null,
            "max_height": null,
            "max_width": null,
            "min_height": null,
            "min_width": null,
            "object_fit": null,
            "object_position": null,
            "order": null,
            "overflow": null,
            "overflow_x": null,
            "overflow_y": null,
            "padding": null,
            "right": null,
            "top": null,
            "visibility": null,
            "width": null
          }
        },
        "e87db2d1363b4def8fcafb9ab1713028": {
          "model_module": "@jupyter-widgets/controls",
          "model_name": "DescriptionStyleModel",
          "model_module_version": "1.5.0",
          "state": {
            "_model_module": "@jupyter-widgets/controls",
            "_model_module_version": "1.5.0",
            "_model_name": "DescriptionStyleModel",
            "_view_count": null,
            "_view_module": "@jupyter-widgets/base",
            "_view_module_version": "1.2.0",
            "_view_name": "StyleView",
            "description_width": ""
          }
        },
        "7852253399f8479dbaf231b2f604bf1f": {
          "model_module": "@jupyter-widgets/controls",
          "model_name": "LabelModel",
          "model_module_version": "1.5.0",
          "state": {
            "_dom_classes": [],
            "_model_module": "@jupyter-widgets/controls",
            "_model_module_version": "1.5.0",
            "_model_name": "LabelModel",
            "_view_count": null,
            "_view_module": "@jupyter-widgets/controls",
            "_view_module_version": "1.5.0",
            "_view_name": "LabelView",
            "description": "",
            "description_tooltip": null,
            "layout": "IPY_MODEL_32ab5016df3d4789b13d7c0c434a8160",
            "placeholder": "​",
            "style": "IPY_MODEL_2b4f2ee597d04be281c20c4372f481e7",
            "value": "Token is valid (permission: read)."
          }
        },
        "5746c2f871ff419693f57afde55f1415": {
          "model_module": "@jupyter-widgets/controls",
          "model_name": "LabelModel",
          "model_module_version": "1.5.0",
          "state": {
            "_dom_classes": [],
            "_model_module": "@jupyter-widgets/controls",
            "_model_module_version": "1.5.0",
            "_model_name": "LabelModel",
            "_view_count": null,
            "_view_module": "@jupyter-widgets/controls",
            "_view_module_version": "1.5.0",
            "_view_name": "LabelView",
            "description": "",
            "description_tooltip": null,
            "layout": "IPY_MODEL_f7fb58e765b94c0586a67c6b5c8b9845",
            "placeholder": "​",
            "style": "IPY_MODEL_4bbb53d122c949af93b0237cc74b4640",
            "value": "Your token has been saved in your configured git credential helpers (store)."
          }
        },
        "fa3727f3902140ada703df6e266bc94b": {
          "model_module": "@jupyter-widgets/controls",
          "model_name": "LabelModel",
          "model_module_version": "1.5.0",
          "state": {
            "_dom_classes": [],
            "_model_module": "@jupyter-widgets/controls",
            "_model_module_version": "1.5.0",
            "_model_name": "LabelModel",
            "_view_count": null,
            "_view_module": "@jupyter-widgets/controls",
            "_view_module_version": "1.5.0",
            "_view_name": "LabelView",
            "description": "",
            "description_tooltip": null,
            "layout": "IPY_MODEL_33da8487106844278fda8e0aaaacfc7d",
            "placeholder": "​",
            "style": "IPY_MODEL_a9143c750e0a4f1289baf83b89d51f75",
            "value": "Your token has been saved to /root/.cache/huggingface/token"
          }
        },
        "905ae31c83e54c6d87d3864d0ce8225b": {
          "model_module": "@jupyter-widgets/controls",
          "model_name": "LabelModel",
          "model_module_version": "1.5.0",
          "state": {
            "_dom_classes": [],
            "_model_module": "@jupyter-widgets/controls",
            "_model_module_version": "1.5.0",
            "_model_name": "LabelModel",
            "_view_count": null,
            "_view_module": "@jupyter-widgets/controls",
            "_view_module_version": "1.5.0",
            "_view_name": "LabelView",
            "description": "",
            "description_tooltip": null,
            "layout": "IPY_MODEL_bb86c654ef334882a298cd7818067668",
            "placeholder": "​",
            "style": "IPY_MODEL_09f185ad2dcc488491995bd21fdb829a",
            "value": "Login successful"
          }
        },
        "32ab5016df3d4789b13d7c0c434a8160": {
          "model_module": "@jupyter-widgets/base",
          "model_name": "LayoutModel",
          "model_module_version": "1.2.0",
          "state": {
            "_model_module": "@jupyter-widgets/base",
            "_model_module_version": "1.2.0",
            "_model_name": "LayoutModel",
            "_view_count": null,
            "_view_module": "@jupyter-widgets/base",
            "_view_module_version": "1.2.0",
            "_view_name": "LayoutView",
            "align_content": null,
            "align_items": null,
            "align_self": null,
            "border": null,
            "bottom": null,
            "display": null,
            "flex": null,
            "flex_flow": null,
            "grid_area": null,
            "grid_auto_columns": null,
            "grid_auto_flow": null,
            "grid_auto_rows": null,
            "grid_column": null,
            "grid_gap": null,
            "grid_row": null,
            "grid_template_areas": null,
            "grid_template_columns": null,
            "grid_template_rows": null,
            "height": null,
            "justify_content": null,
            "justify_items": null,
            "left": null,
            "margin": null,
            "max_height": null,
            "max_width": null,
            "min_height": null,
            "min_width": null,
            "object_fit": null,
            "object_position": null,
            "order": null,
            "overflow": null,
            "overflow_x": null,
            "overflow_y": null,
            "padding": null,
            "right": null,
            "top": null,
            "visibility": null,
            "width": null
          }
        },
        "2b4f2ee597d04be281c20c4372f481e7": {
          "model_module": "@jupyter-widgets/controls",
          "model_name": "DescriptionStyleModel",
          "model_module_version": "1.5.0",
          "state": {
            "_model_module": "@jupyter-widgets/controls",
            "_model_module_version": "1.5.0",
            "_model_name": "DescriptionStyleModel",
            "_view_count": null,
            "_view_module": "@jupyter-widgets/base",
            "_view_module_version": "1.2.0",
            "_view_name": "StyleView",
            "description_width": ""
          }
        },
        "f7fb58e765b94c0586a67c6b5c8b9845": {
          "model_module": "@jupyter-widgets/base",
          "model_name": "LayoutModel",
          "model_module_version": "1.2.0",
          "state": {
            "_model_module": "@jupyter-widgets/base",
            "_model_module_version": "1.2.0",
            "_model_name": "LayoutModel",
            "_view_count": null,
            "_view_module": "@jupyter-widgets/base",
            "_view_module_version": "1.2.0",
            "_view_name": "LayoutView",
            "align_content": null,
            "align_items": null,
            "align_self": null,
            "border": null,
            "bottom": null,
            "display": null,
            "flex": null,
            "flex_flow": null,
            "grid_area": null,
            "grid_auto_columns": null,
            "grid_auto_flow": null,
            "grid_auto_rows": null,
            "grid_column": null,
            "grid_gap": null,
            "grid_row": null,
            "grid_template_areas": null,
            "grid_template_columns": null,
            "grid_template_rows": null,
            "height": null,
            "justify_content": null,
            "justify_items": null,
            "left": null,
            "margin": null,
            "max_height": null,
            "max_width": null,
            "min_height": null,
            "min_width": null,
            "object_fit": null,
            "object_position": null,
            "order": null,
            "overflow": null,
            "overflow_x": null,
            "overflow_y": null,
            "padding": null,
            "right": null,
            "top": null,
            "visibility": null,
            "width": null
          }
        },
        "4bbb53d122c949af93b0237cc74b4640": {
          "model_module": "@jupyter-widgets/controls",
          "model_name": "DescriptionStyleModel",
          "model_module_version": "1.5.0",
          "state": {
            "_model_module": "@jupyter-widgets/controls",
            "_model_module_version": "1.5.0",
            "_model_name": "DescriptionStyleModel",
            "_view_count": null,
            "_view_module": "@jupyter-widgets/base",
            "_view_module_version": "1.2.0",
            "_view_name": "StyleView",
            "description_width": ""
          }
        },
        "33da8487106844278fda8e0aaaacfc7d": {
          "model_module": "@jupyter-widgets/base",
          "model_name": "LayoutModel",
          "model_module_version": "1.2.0",
          "state": {
            "_model_module": "@jupyter-widgets/base",
            "_model_module_version": "1.2.0",
            "_model_name": "LayoutModel",
            "_view_count": null,
            "_view_module": "@jupyter-widgets/base",
            "_view_module_version": "1.2.0",
            "_view_name": "LayoutView",
            "align_content": null,
            "align_items": null,
            "align_self": null,
            "border": null,
            "bottom": null,
            "display": null,
            "flex": null,
            "flex_flow": null,
            "grid_area": null,
            "grid_auto_columns": null,
            "grid_auto_flow": null,
            "grid_auto_rows": null,
            "grid_column": null,
            "grid_gap": null,
            "grid_row": null,
            "grid_template_areas": null,
            "grid_template_columns": null,
            "grid_template_rows": null,
            "height": null,
            "justify_content": null,
            "justify_items": null,
            "left": null,
            "margin": null,
            "max_height": null,
            "max_width": null,
            "min_height": null,
            "min_width": null,
            "object_fit": null,
            "object_position": null,
            "order": null,
            "overflow": null,
            "overflow_x": null,
            "overflow_y": null,
            "padding": null,
            "right": null,
            "top": null,
            "visibility": null,
            "width": null
          }
        },
        "a9143c750e0a4f1289baf83b89d51f75": {
          "model_module": "@jupyter-widgets/controls",
          "model_name": "DescriptionStyleModel",
          "model_module_version": "1.5.0",
          "state": {
            "_model_module": "@jupyter-widgets/controls",
            "_model_module_version": "1.5.0",
            "_model_name": "DescriptionStyleModel",
            "_view_count": null,
            "_view_module": "@jupyter-widgets/base",
            "_view_module_version": "1.2.0",
            "_view_name": "StyleView",
            "description_width": ""
          }
        },
        "bb86c654ef334882a298cd7818067668": {
          "model_module": "@jupyter-widgets/base",
          "model_name": "LayoutModel",
          "model_module_version": "1.2.0",
          "state": {
            "_model_module": "@jupyter-widgets/base",
            "_model_module_version": "1.2.0",
            "_model_name": "LayoutModel",
            "_view_count": null,
            "_view_module": "@jupyter-widgets/base",
            "_view_module_version": "1.2.0",
            "_view_name": "LayoutView",
            "align_content": null,
            "align_items": null,
            "align_self": null,
            "border": null,
            "bottom": null,
            "display": null,
            "flex": null,
            "flex_flow": null,
            "grid_area": null,
            "grid_auto_columns": null,
            "grid_auto_flow": null,
            "grid_auto_rows": null,
            "grid_column": null,
            "grid_gap": null,
            "grid_row": null,
            "grid_template_areas": null,
            "grid_template_columns": null,
            "grid_template_rows": null,
            "height": null,
            "justify_content": null,
            "justify_items": null,
            "left": null,
            "margin": null,
            "max_height": null,
            "max_width": null,
            "min_height": null,
            "min_width": null,
            "object_fit": null,
            "object_position": null,
            "order": null,
            "overflow": null,
            "overflow_x": null,
            "overflow_y": null,
            "padding": null,
            "right": null,
            "top": null,
            "visibility": null,
            "width": null
          }
        },
        "09f185ad2dcc488491995bd21fdb829a": {
          "model_module": "@jupyter-widgets/controls",
          "model_name": "DescriptionStyleModel",
          "model_module_version": "1.5.0",
          "state": {
            "_model_module": "@jupyter-widgets/controls",
            "_model_module_version": "1.5.0",
            "_model_name": "DescriptionStyleModel",
            "_view_count": null,
            "_view_module": "@jupyter-widgets/base",
            "_view_module_version": "1.2.0",
            "_view_name": "StyleView",
            "description_width": ""
          }
        },
        "62b1325187e14002946f1ecfad992dd3": {
          "model_module": "@jupyter-widgets/controls",
          "model_name": "HBoxModel",
          "model_module_version": "1.5.0",
          "state": {
            "_dom_classes": [],
            "_model_module": "@jupyter-widgets/controls",
            "_model_module_version": "1.5.0",
            "_model_name": "HBoxModel",
            "_view_count": null,
            "_view_module": "@jupyter-widgets/controls",
            "_view_module_version": "1.5.0",
            "_view_name": "HBoxView",
            "box_style": "",
            "children": [
              "IPY_MODEL_84c5a43f5b494e3f8f1fadaed2f4fd8a",
              "IPY_MODEL_6fd9413bee6e45c9bb08d4d00a63ac74",
              "IPY_MODEL_5ed2bda90f704aa19dd236061d5fe774"
            ],
            "layout": "IPY_MODEL_64d2497934fe41819d7d864532f87503"
          }
        },
        "84c5a43f5b494e3f8f1fadaed2f4fd8a": {
          "model_module": "@jupyter-widgets/controls",
          "model_name": "HTMLModel",
          "model_module_version": "1.5.0",
          "state": {
            "_dom_classes": [],
            "_model_module": "@jupyter-widgets/controls",
            "_model_module_version": "1.5.0",
            "_model_name": "HTMLModel",
            "_view_count": null,
            "_view_module": "@jupyter-widgets/controls",
            "_view_module_version": "1.5.0",
            "_view_name": "HTMLView",
            "description": "",
            "description_tooltip": null,
            "layout": "IPY_MODEL_4daa7d469e2a476b8c886bcd50be918f",
            "placeholder": "​",
            "style": "IPY_MODEL_46bad561a9f746389ea5d786e4afe33b",
            "value": "model.safetensors.index.json: 100%"
          }
        },
        "6fd9413bee6e45c9bb08d4d00a63ac74": {
          "model_module": "@jupyter-widgets/controls",
          "model_name": "FloatProgressModel",
          "model_module_version": "1.5.0",
          "state": {
            "_dom_classes": [],
            "_model_module": "@jupyter-widgets/controls",
            "_model_module_version": "1.5.0",
            "_model_name": "FloatProgressModel",
            "_view_count": null,
            "_view_module": "@jupyter-widgets/controls",
            "_view_module_version": "1.5.0",
            "_view_name": "ProgressView",
            "bar_style": "success",
            "description": "",
            "description_tooltip": null,
            "layout": "IPY_MODEL_36f56955222d4556b69834f205007874",
            "max": 33444,
            "min": 0,
            "orientation": "horizontal",
            "style": "IPY_MODEL_42a77abbb6344341a791c112942f131c",
            "value": 33444
          }
        },
        "5ed2bda90f704aa19dd236061d5fe774": {
          "model_module": "@jupyter-widgets/controls",
          "model_name": "HTMLModel",
          "model_module_version": "1.5.0",
          "state": {
            "_dom_classes": [],
            "_model_module": "@jupyter-widgets/controls",
            "_model_module_version": "1.5.0",
            "_model_name": "HTMLModel",
            "_view_count": null,
            "_view_module": "@jupyter-widgets/controls",
            "_view_module_version": "1.5.0",
            "_view_name": "HTMLView",
            "description": "",
            "description_tooltip": null,
            "layout": "IPY_MODEL_baac2c53412a4b18938eb99b1282a2e7",
            "placeholder": "​",
            "style": "IPY_MODEL_df47ea05a8ef467cb6934849d687e497",
            "value": " 33.4k/33.4k [00:00&lt;00:00, 761kB/s]"
          }
        },
        "64d2497934fe41819d7d864532f87503": {
          "model_module": "@jupyter-widgets/base",
          "model_name": "LayoutModel",
          "model_module_version": "1.2.0",
          "state": {
            "_model_module": "@jupyter-widgets/base",
            "_model_module_version": "1.2.0",
            "_model_name": "LayoutModel",
            "_view_count": null,
            "_view_module": "@jupyter-widgets/base",
            "_view_module_version": "1.2.0",
            "_view_name": "LayoutView",
            "align_content": null,
            "align_items": null,
            "align_self": null,
            "border": null,
            "bottom": null,
            "display": null,
            "flex": null,
            "flex_flow": null,
            "grid_area": null,
            "grid_auto_columns": null,
            "grid_auto_flow": null,
            "grid_auto_rows": null,
            "grid_column": null,
            "grid_gap": null,
            "grid_row": null,
            "grid_template_areas": null,
            "grid_template_columns": null,
            "grid_template_rows": null,
            "height": null,
            "justify_content": null,
            "justify_items": null,
            "left": null,
            "margin": null,
            "max_height": null,
            "max_width": null,
            "min_height": null,
            "min_width": null,
            "object_fit": null,
            "object_position": null,
            "order": null,
            "overflow": null,
            "overflow_x": null,
            "overflow_y": null,
            "padding": null,
            "right": null,
            "top": null,
            "visibility": null,
            "width": null
          }
        },
        "4daa7d469e2a476b8c886bcd50be918f": {
          "model_module": "@jupyter-widgets/base",
          "model_name": "LayoutModel",
          "model_module_version": "1.2.0",
          "state": {
            "_model_module": "@jupyter-widgets/base",
            "_model_module_version": "1.2.0",
            "_model_name": "LayoutModel",
            "_view_count": null,
            "_view_module": "@jupyter-widgets/base",
            "_view_module_version": "1.2.0",
            "_view_name": "LayoutView",
            "align_content": null,
            "align_items": null,
            "align_self": null,
            "border": null,
            "bottom": null,
            "display": null,
            "flex": null,
            "flex_flow": null,
            "grid_area": null,
            "grid_auto_columns": null,
            "grid_auto_flow": null,
            "grid_auto_rows": null,
            "grid_column": null,
            "grid_gap": null,
            "grid_row": null,
            "grid_template_areas": null,
            "grid_template_columns": null,
            "grid_template_rows": null,
            "height": null,
            "justify_content": null,
            "justify_items": null,
            "left": null,
            "margin": null,
            "max_height": null,
            "max_width": null,
            "min_height": null,
            "min_width": null,
            "object_fit": null,
            "object_position": null,
            "order": null,
            "overflow": null,
            "overflow_x": null,
            "overflow_y": null,
            "padding": null,
            "right": null,
            "top": null,
            "visibility": null,
            "width": null
          }
        },
        "46bad561a9f746389ea5d786e4afe33b": {
          "model_module": "@jupyter-widgets/controls",
          "model_name": "DescriptionStyleModel",
          "model_module_version": "1.5.0",
          "state": {
            "_model_module": "@jupyter-widgets/controls",
            "_model_module_version": "1.5.0",
            "_model_name": "DescriptionStyleModel",
            "_view_count": null,
            "_view_module": "@jupyter-widgets/base",
            "_view_module_version": "1.2.0",
            "_view_name": "StyleView",
            "description_width": ""
          }
        },
        "36f56955222d4556b69834f205007874": {
          "model_module": "@jupyter-widgets/base",
          "model_name": "LayoutModel",
          "model_module_version": "1.2.0",
          "state": {
            "_model_module": "@jupyter-widgets/base",
            "_model_module_version": "1.2.0",
            "_model_name": "LayoutModel",
            "_view_count": null,
            "_view_module": "@jupyter-widgets/base",
            "_view_module_version": "1.2.0",
            "_view_name": "LayoutView",
            "align_content": null,
            "align_items": null,
            "align_self": null,
            "border": null,
            "bottom": null,
            "display": null,
            "flex": null,
            "flex_flow": null,
            "grid_area": null,
            "grid_auto_columns": null,
            "grid_auto_flow": null,
            "grid_auto_rows": null,
            "grid_column": null,
            "grid_gap": null,
            "grid_row": null,
            "grid_template_areas": null,
            "grid_template_columns": null,
            "grid_template_rows": null,
            "height": null,
            "justify_content": null,
            "justify_items": null,
            "left": null,
            "margin": null,
            "max_height": null,
            "max_width": null,
            "min_height": null,
            "min_width": null,
            "object_fit": null,
            "object_position": null,
            "order": null,
            "overflow": null,
            "overflow_x": null,
            "overflow_y": null,
            "padding": null,
            "right": null,
            "top": null,
            "visibility": null,
            "width": null
          }
        },
        "42a77abbb6344341a791c112942f131c": {
          "model_module": "@jupyter-widgets/controls",
          "model_name": "ProgressStyleModel",
          "model_module_version": "1.5.0",
          "state": {
            "_model_module": "@jupyter-widgets/controls",
            "_model_module_version": "1.5.0",
            "_model_name": "ProgressStyleModel",
            "_view_count": null,
            "_view_module": "@jupyter-widgets/base",
            "_view_module_version": "1.2.0",
            "_view_name": "StyleView",
            "bar_color": null,
            "description_width": ""
          }
        },
        "baac2c53412a4b18938eb99b1282a2e7": {
          "model_module": "@jupyter-widgets/base",
          "model_name": "LayoutModel",
          "model_module_version": "1.2.0",
          "state": {
            "_model_module": "@jupyter-widgets/base",
            "_model_module_version": "1.2.0",
            "_model_name": "LayoutModel",
            "_view_count": null,
            "_view_module": "@jupyter-widgets/base",
            "_view_module_version": "1.2.0",
            "_view_name": "LayoutView",
            "align_content": null,
            "align_items": null,
            "align_self": null,
            "border": null,
            "bottom": null,
            "display": null,
            "flex": null,
            "flex_flow": null,
            "grid_area": null,
            "grid_auto_columns": null,
            "grid_auto_flow": null,
            "grid_auto_rows": null,
            "grid_column": null,
            "grid_gap": null,
            "grid_row": null,
            "grid_template_areas": null,
            "grid_template_columns": null,
            "grid_template_rows": null,
            "height": null,
            "justify_content": null,
            "justify_items": null,
            "left": null,
            "margin": null,
            "max_height": null,
            "max_width": null,
            "min_height": null,
            "min_width": null,
            "object_fit": null,
            "object_position": null,
            "order": null,
            "overflow": null,
            "overflow_x": null,
            "overflow_y": null,
            "padding": null,
            "right": null,
            "top": null,
            "visibility": null,
            "width": null
          }
        },
        "df47ea05a8ef467cb6934849d687e497": {
          "model_module": "@jupyter-widgets/controls",
          "model_name": "DescriptionStyleModel",
          "model_module_version": "1.5.0",
          "state": {
            "_model_module": "@jupyter-widgets/controls",
            "_model_module_version": "1.5.0",
            "_model_name": "DescriptionStyleModel",
            "_view_count": null,
            "_view_module": "@jupyter-widgets/base",
            "_view_module_version": "1.2.0",
            "_view_name": "StyleView",
            "description_width": ""
          }
        },
        "95141a29ec1a48328ac0245dcdf423f3": {
          "model_module": "@jupyter-widgets/controls",
          "model_name": "HBoxModel",
          "model_module_version": "1.5.0",
          "state": {
            "_dom_classes": [],
            "_model_module": "@jupyter-widgets/controls",
            "_model_module_version": "1.5.0",
            "_model_name": "HBoxModel",
            "_view_count": null,
            "_view_module": "@jupyter-widgets/controls",
            "_view_module_version": "1.5.0",
            "_view_name": "HBoxView",
            "box_style": "",
            "children": [
              "IPY_MODEL_57f8392d1f9d48899abb81bc8c9ed677",
              "IPY_MODEL_eb5da9f239b241d18980affb0fc100e0",
              "IPY_MODEL_c0b0395d158a4e7483c27cb341b4f917"
            ],
            "layout": "IPY_MODEL_13ae540f3f3d481c8d0e2491d22b268f"
          }
        },
        "57f8392d1f9d48899abb81bc8c9ed677": {
          "model_module": "@jupyter-widgets/controls",
          "model_name": "HTMLModel",
          "model_module_version": "1.5.0",
          "state": {
            "_dom_classes": [],
            "_model_module": "@jupyter-widgets/controls",
            "_model_module_version": "1.5.0",
            "_model_name": "HTMLModel",
            "_view_count": null,
            "_view_module": "@jupyter-widgets/controls",
            "_view_module_version": "1.5.0",
            "_view_name": "HTMLView",
            "description": "",
            "description_tooltip": null,
            "layout": "IPY_MODEL_b364b093ce7c443091dbde86a14c4a12",
            "placeholder": "​",
            "style": "IPY_MODEL_37bd463c18f14aca904d34bc7dd256d2",
            "value": "Downloading shards: 100%"
          }
        },
        "eb5da9f239b241d18980affb0fc100e0": {
          "model_module": "@jupyter-widgets/controls",
          "model_name": "FloatProgressModel",
          "model_module_version": "1.5.0",
          "state": {
            "_dom_classes": [],
            "_model_module": "@jupyter-widgets/controls",
            "_model_module_version": "1.5.0",
            "_model_name": "FloatProgressModel",
            "_view_count": null,
            "_view_module": "@jupyter-widgets/controls",
            "_view_module_version": "1.5.0",
            "_view_name": "ProgressView",
            "bar_style": "success",
            "description": "",
            "description_tooltip": null,
            "layout": "IPY_MODEL_8be6918f936543a485b54b3237d534f5",
            "max": 3,
            "min": 0,
            "orientation": "horizontal",
            "style": "IPY_MODEL_df6b5540c52e44ffb92c74e21d681b70",
            "value": 3
          }
        },
        "c0b0395d158a4e7483c27cb341b4f917": {
          "model_module": "@jupyter-widgets/controls",
          "model_name": "HTMLModel",
          "model_module_version": "1.5.0",
          "state": {
            "_dom_classes": [],
            "_model_module": "@jupyter-widgets/controls",
            "_model_module_version": "1.5.0",
            "_model_name": "HTMLModel",
            "_view_count": null,
            "_view_module": "@jupyter-widgets/controls",
            "_view_module_version": "1.5.0",
            "_view_name": "HTMLView",
            "description": "",
            "description_tooltip": null,
            "layout": "IPY_MODEL_8e6d3897d8ca414fa92beb59db883dfb",
            "placeholder": "​",
            "style": "IPY_MODEL_39b0110089264e76a7de33fe9472dc26",
            "value": " 3/3 [02:28&lt;00:00, 46.83s/it]"
          }
        },
        "13ae540f3f3d481c8d0e2491d22b268f": {
          "model_module": "@jupyter-widgets/base",
          "model_name": "LayoutModel",
          "model_module_version": "1.2.0",
          "state": {
            "_model_module": "@jupyter-widgets/base",
            "_model_module_version": "1.2.0",
            "_model_name": "LayoutModel",
            "_view_count": null,
            "_view_module": "@jupyter-widgets/base",
            "_view_module_version": "1.2.0",
            "_view_name": "LayoutView",
            "align_content": null,
            "align_items": null,
            "align_self": null,
            "border": null,
            "bottom": null,
            "display": null,
            "flex": null,
            "flex_flow": null,
            "grid_area": null,
            "grid_auto_columns": null,
            "grid_auto_flow": null,
            "grid_auto_rows": null,
            "grid_column": null,
            "grid_gap": null,
            "grid_row": null,
            "grid_template_areas": null,
            "grid_template_columns": null,
            "grid_template_rows": null,
            "height": null,
            "justify_content": null,
            "justify_items": null,
            "left": null,
            "margin": null,
            "max_height": null,
            "max_width": null,
            "min_height": null,
            "min_width": null,
            "object_fit": null,
            "object_position": null,
            "order": null,
            "overflow": null,
            "overflow_x": null,
            "overflow_y": null,
            "padding": null,
            "right": null,
            "top": null,
            "visibility": null,
            "width": null
          }
        },
        "b364b093ce7c443091dbde86a14c4a12": {
          "model_module": "@jupyter-widgets/base",
          "model_name": "LayoutModel",
          "model_module_version": "1.2.0",
          "state": {
            "_model_module": "@jupyter-widgets/base",
            "_model_module_version": "1.2.0",
            "_model_name": "LayoutModel",
            "_view_count": null,
            "_view_module": "@jupyter-widgets/base",
            "_view_module_version": "1.2.0",
            "_view_name": "LayoutView",
            "align_content": null,
            "align_items": null,
            "align_self": null,
            "border": null,
            "bottom": null,
            "display": null,
            "flex": null,
            "flex_flow": null,
            "grid_area": null,
            "grid_auto_columns": null,
            "grid_auto_flow": null,
            "grid_auto_rows": null,
            "grid_column": null,
            "grid_gap": null,
            "grid_row": null,
            "grid_template_areas": null,
            "grid_template_columns": null,
            "grid_template_rows": null,
            "height": null,
            "justify_content": null,
            "justify_items": null,
            "left": null,
            "margin": null,
            "max_height": null,
            "max_width": null,
            "min_height": null,
            "min_width": null,
            "object_fit": null,
            "object_position": null,
            "order": null,
            "overflow": null,
            "overflow_x": null,
            "overflow_y": null,
            "padding": null,
            "right": null,
            "top": null,
            "visibility": null,
            "width": null
          }
        },
        "37bd463c18f14aca904d34bc7dd256d2": {
          "model_module": "@jupyter-widgets/controls",
          "model_name": "DescriptionStyleModel",
          "model_module_version": "1.5.0",
          "state": {
            "_model_module": "@jupyter-widgets/controls",
            "_model_module_version": "1.5.0",
            "_model_name": "DescriptionStyleModel",
            "_view_count": null,
            "_view_module": "@jupyter-widgets/base",
            "_view_module_version": "1.2.0",
            "_view_name": "StyleView",
            "description_width": ""
          }
        },
        "8be6918f936543a485b54b3237d534f5": {
          "model_module": "@jupyter-widgets/base",
          "model_name": "LayoutModel",
          "model_module_version": "1.2.0",
          "state": {
            "_model_module": "@jupyter-widgets/base",
            "_model_module_version": "1.2.0",
            "_model_name": "LayoutModel",
            "_view_count": null,
            "_view_module": "@jupyter-widgets/base",
            "_view_module_version": "1.2.0",
            "_view_name": "LayoutView",
            "align_content": null,
            "align_items": null,
            "align_self": null,
            "border": null,
            "bottom": null,
            "display": null,
            "flex": null,
            "flex_flow": null,
            "grid_area": null,
            "grid_auto_columns": null,
            "grid_auto_flow": null,
            "grid_auto_rows": null,
            "grid_column": null,
            "grid_gap": null,
            "grid_row": null,
            "grid_template_areas": null,
            "grid_template_columns": null,
            "grid_template_rows": null,
            "height": null,
            "justify_content": null,
            "justify_items": null,
            "left": null,
            "margin": null,
            "max_height": null,
            "max_width": null,
            "min_height": null,
            "min_width": null,
            "object_fit": null,
            "object_position": null,
            "order": null,
            "overflow": null,
            "overflow_x": null,
            "overflow_y": null,
            "padding": null,
            "right": null,
            "top": null,
            "visibility": null,
            "width": null
          }
        },
        "df6b5540c52e44ffb92c74e21d681b70": {
          "model_module": "@jupyter-widgets/controls",
          "model_name": "ProgressStyleModel",
          "model_module_version": "1.5.0",
          "state": {
            "_model_module": "@jupyter-widgets/controls",
            "_model_module_version": "1.5.0",
            "_model_name": "ProgressStyleModel",
            "_view_count": null,
            "_view_module": "@jupyter-widgets/base",
            "_view_module_version": "1.2.0",
            "_view_name": "StyleView",
            "bar_color": null,
            "description_width": ""
          }
        },
        "8e6d3897d8ca414fa92beb59db883dfb": {
          "model_module": "@jupyter-widgets/base",
          "model_name": "LayoutModel",
          "model_module_version": "1.2.0",
          "state": {
            "_model_module": "@jupyter-widgets/base",
            "_model_module_version": "1.2.0",
            "_model_name": "LayoutModel",
            "_view_count": null,
            "_view_module": "@jupyter-widgets/base",
            "_view_module_version": "1.2.0",
            "_view_name": "LayoutView",
            "align_content": null,
            "align_items": null,
            "align_self": null,
            "border": null,
            "bottom": null,
            "display": null,
            "flex": null,
            "flex_flow": null,
            "grid_area": null,
            "grid_auto_columns": null,
            "grid_auto_flow": null,
            "grid_auto_rows": null,
            "grid_column": null,
            "grid_gap": null,
            "grid_row": null,
            "grid_template_areas": null,
            "grid_template_columns": null,
            "grid_template_rows": null,
            "height": null,
            "justify_content": null,
            "justify_items": null,
            "left": null,
            "margin": null,
            "max_height": null,
            "max_width": null,
            "min_height": null,
            "min_width": null,
            "object_fit": null,
            "object_position": null,
            "order": null,
            "overflow": null,
            "overflow_x": null,
            "overflow_y": null,
            "padding": null,
            "right": null,
            "top": null,
            "visibility": null,
            "width": null
          }
        },
        "39b0110089264e76a7de33fe9472dc26": {
          "model_module": "@jupyter-widgets/controls",
          "model_name": "DescriptionStyleModel",
          "model_module_version": "1.5.0",
          "state": {
            "_model_module": "@jupyter-widgets/controls",
            "_model_module_version": "1.5.0",
            "_model_name": "DescriptionStyleModel",
            "_view_count": null,
            "_view_module": "@jupyter-widgets/base",
            "_view_module_version": "1.2.0",
            "_view_name": "StyleView",
            "description_width": ""
          }
        },
        "f4d9021652a94fa0afa33e4dcf213ba9": {
          "model_module": "@jupyter-widgets/controls",
          "model_name": "HBoxModel",
          "model_module_version": "1.5.0",
          "state": {
            "_dom_classes": [],
            "_model_module": "@jupyter-widgets/controls",
            "_model_module_version": "1.5.0",
            "_model_name": "HBoxModel",
            "_view_count": null,
            "_view_module": "@jupyter-widgets/controls",
            "_view_module_version": "1.5.0",
            "_view_name": "HBoxView",
            "box_style": "",
            "children": [
              "IPY_MODEL_17a0a9aa130b42cb80c6d2a561ef3243",
              "IPY_MODEL_12687e6c70f048f9a6efd4f45dd8b2e7",
              "IPY_MODEL_536265e4c2ac45a6b133b30b01238937"
            ],
            "layout": "IPY_MODEL_e51f936d075d4415b645940803bd4fb6"
          }
        },
        "17a0a9aa130b42cb80c6d2a561ef3243": {
          "model_module": "@jupyter-widgets/controls",
          "model_name": "HTMLModel",
          "model_module_version": "1.5.0",
          "state": {
            "_dom_classes": [],
            "_model_module": "@jupyter-widgets/controls",
            "_model_module_version": "1.5.0",
            "_model_name": "HTMLModel",
            "_view_count": null,
            "_view_module": "@jupyter-widgets/controls",
            "_view_module_version": "1.5.0",
            "_view_name": "HTMLView",
            "description": "",
            "description_tooltip": null,
            "layout": "IPY_MODEL_6ba5c2d283154277bd0061127b5e34bd",
            "placeholder": "​",
            "style": "IPY_MODEL_0b3a594bfbb84a858d44864c8d1b1369",
            "value": "model-00001-of-00003.safetensors: 100%"
          }
        },
        "12687e6c70f048f9a6efd4f45dd8b2e7": {
          "model_module": "@jupyter-widgets/controls",
          "model_name": "FloatProgressModel",
          "model_module_version": "1.5.0",
          "state": {
            "_dom_classes": [],
            "_model_module": "@jupyter-widgets/controls",
            "_model_module_version": "1.5.0",
            "_model_name": "FloatProgressModel",
            "_view_count": null,
            "_view_module": "@jupyter-widgets/controls",
            "_view_module_version": "1.5.0",
            "_view_name": "ProgressView",
            "bar_style": "success",
            "description": "",
            "description_tooltip": null,
            "layout": "IPY_MODEL_f87dea117c934a8b83093181b99b40e7",
            "max": 9948693272,
            "min": 0,
            "orientation": "horizontal",
            "style": "IPY_MODEL_f077d3c99a264f9f9a31bdee1261d71b",
            "value": 9948693272
          }
        },
        "536265e4c2ac45a6b133b30b01238937": {
          "model_module": "@jupyter-widgets/controls",
          "model_name": "HTMLModel",
          "model_module_version": "1.5.0",
          "state": {
            "_dom_classes": [],
            "_model_module": "@jupyter-widgets/controls",
            "_model_module_version": "1.5.0",
            "_model_name": "HTMLModel",
            "_view_count": null,
            "_view_module": "@jupyter-widgets/controls",
            "_view_module_version": "1.5.0",
            "_view_name": "HTMLView",
            "description": "",
            "description_tooltip": null,
            "layout": "IPY_MODEL_1bfd214ae546496b8a296876db85d6ca",
            "placeholder": "​",
            "style": "IPY_MODEL_99472149a0804fcb962871a816bea16c",
            "value": " 9.95G/9.95G [00:57&lt;00:00, 222MB/s]"
          }
        },
        "e51f936d075d4415b645940803bd4fb6": {
          "model_module": "@jupyter-widgets/base",
          "model_name": "LayoutModel",
          "model_module_version": "1.2.0",
          "state": {
            "_model_module": "@jupyter-widgets/base",
            "_model_module_version": "1.2.0",
            "_model_name": "LayoutModel",
            "_view_count": null,
            "_view_module": "@jupyter-widgets/base",
            "_view_module_version": "1.2.0",
            "_view_name": "LayoutView",
            "align_content": null,
            "align_items": null,
            "align_self": null,
            "border": null,
            "bottom": null,
            "display": null,
            "flex": null,
            "flex_flow": null,
            "grid_area": null,
            "grid_auto_columns": null,
            "grid_auto_flow": null,
            "grid_auto_rows": null,
            "grid_column": null,
            "grid_gap": null,
            "grid_row": null,
            "grid_template_areas": null,
            "grid_template_columns": null,
            "grid_template_rows": null,
            "height": null,
            "justify_content": null,
            "justify_items": null,
            "left": null,
            "margin": null,
            "max_height": null,
            "max_width": null,
            "min_height": null,
            "min_width": null,
            "object_fit": null,
            "object_position": null,
            "order": null,
            "overflow": null,
            "overflow_x": null,
            "overflow_y": null,
            "padding": null,
            "right": null,
            "top": null,
            "visibility": null,
            "width": null
          }
        },
        "6ba5c2d283154277bd0061127b5e34bd": {
          "model_module": "@jupyter-widgets/base",
          "model_name": "LayoutModel",
          "model_module_version": "1.2.0",
          "state": {
            "_model_module": "@jupyter-widgets/base",
            "_model_module_version": "1.2.0",
            "_model_name": "LayoutModel",
            "_view_count": null,
            "_view_module": "@jupyter-widgets/base",
            "_view_module_version": "1.2.0",
            "_view_name": "LayoutView",
            "align_content": null,
            "align_items": null,
            "align_self": null,
            "border": null,
            "bottom": null,
            "display": null,
            "flex": null,
            "flex_flow": null,
            "grid_area": null,
            "grid_auto_columns": null,
            "grid_auto_flow": null,
            "grid_auto_rows": null,
            "grid_column": null,
            "grid_gap": null,
            "grid_row": null,
            "grid_template_areas": null,
            "grid_template_columns": null,
            "grid_template_rows": null,
            "height": null,
            "justify_content": null,
            "justify_items": null,
            "left": null,
            "margin": null,
            "max_height": null,
            "max_width": null,
            "min_height": null,
            "min_width": null,
            "object_fit": null,
            "object_position": null,
            "order": null,
            "overflow": null,
            "overflow_x": null,
            "overflow_y": null,
            "padding": null,
            "right": null,
            "top": null,
            "visibility": null,
            "width": null
          }
        },
        "0b3a594bfbb84a858d44864c8d1b1369": {
          "model_module": "@jupyter-widgets/controls",
          "model_name": "DescriptionStyleModel",
          "model_module_version": "1.5.0",
          "state": {
            "_model_module": "@jupyter-widgets/controls",
            "_model_module_version": "1.5.0",
            "_model_name": "DescriptionStyleModel",
            "_view_count": null,
            "_view_module": "@jupyter-widgets/base",
            "_view_module_version": "1.2.0",
            "_view_name": "StyleView",
            "description_width": ""
          }
        },
        "f87dea117c934a8b83093181b99b40e7": {
          "model_module": "@jupyter-widgets/base",
          "model_name": "LayoutModel",
          "model_module_version": "1.2.0",
          "state": {
            "_model_module": "@jupyter-widgets/base",
            "_model_module_version": "1.2.0",
            "_model_name": "LayoutModel",
            "_view_count": null,
            "_view_module": "@jupyter-widgets/base",
            "_view_module_version": "1.2.0",
            "_view_name": "LayoutView",
            "align_content": null,
            "align_items": null,
            "align_self": null,
            "border": null,
            "bottom": null,
            "display": null,
            "flex": null,
            "flex_flow": null,
            "grid_area": null,
            "grid_auto_columns": null,
            "grid_auto_flow": null,
            "grid_auto_rows": null,
            "grid_column": null,
            "grid_gap": null,
            "grid_row": null,
            "grid_template_areas": null,
            "grid_template_columns": null,
            "grid_template_rows": null,
            "height": null,
            "justify_content": null,
            "justify_items": null,
            "left": null,
            "margin": null,
            "max_height": null,
            "max_width": null,
            "min_height": null,
            "min_width": null,
            "object_fit": null,
            "object_position": null,
            "order": null,
            "overflow": null,
            "overflow_x": null,
            "overflow_y": null,
            "padding": null,
            "right": null,
            "top": null,
            "visibility": null,
            "width": null
          }
        },
        "f077d3c99a264f9f9a31bdee1261d71b": {
          "model_module": "@jupyter-widgets/controls",
          "model_name": "ProgressStyleModel",
          "model_module_version": "1.5.0",
          "state": {
            "_model_module": "@jupyter-widgets/controls",
            "_model_module_version": "1.5.0",
            "_model_name": "ProgressStyleModel",
            "_view_count": null,
            "_view_module": "@jupyter-widgets/base",
            "_view_module_version": "1.2.0",
            "_view_name": "StyleView",
            "bar_color": null,
            "description_width": ""
          }
        },
        "1bfd214ae546496b8a296876db85d6ca": {
          "model_module": "@jupyter-widgets/base",
          "model_name": "LayoutModel",
          "model_module_version": "1.2.0",
          "state": {
            "_model_module": "@jupyter-widgets/base",
            "_model_module_version": "1.2.0",
            "_model_name": "LayoutModel",
            "_view_count": null,
            "_view_module": "@jupyter-widgets/base",
            "_view_module_version": "1.2.0",
            "_view_name": "LayoutView",
            "align_content": null,
            "align_items": null,
            "align_self": null,
            "border": null,
            "bottom": null,
            "display": null,
            "flex": null,
            "flex_flow": null,
            "grid_area": null,
            "grid_auto_columns": null,
            "grid_auto_flow": null,
            "grid_auto_rows": null,
            "grid_column": null,
            "grid_gap": null,
            "grid_row": null,
            "grid_template_areas": null,
            "grid_template_columns": null,
            "grid_template_rows": null,
            "height": null,
            "justify_content": null,
            "justify_items": null,
            "left": null,
            "margin": null,
            "max_height": null,
            "max_width": null,
            "min_height": null,
            "min_width": null,
            "object_fit": null,
            "object_position": null,
            "order": null,
            "overflow": null,
            "overflow_x": null,
            "overflow_y": null,
            "padding": null,
            "right": null,
            "top": null,
            "visibility": null,
            "width": null
          }
        },
        "99472149a0804fcb962871a816bea16c": {
          "model_module": "@jupyter-widgets/controls",
          "model_name": "DescriptionStyleModel",
          "model_module_version": "1.5.0",
          "state": {
            "_model_module": "@jupyter-widgets/controls",
            "_model_module_version": "1.5.0",
            "_model_name": "DescriptionStyleModel",
            "_view_count": null,
            "_view_module": "@jupyter-widgets/base",
            "_view_module_version": "1.2.0",
            "_view_name": "StyleView",
            "description_width": ""
          }
        },
        "096e0330ddf54a16a176af5655976a9b": {
          "model_module": "@jupyter-widgets/controls",
          "model_name": "HBoxModel",
          "model_module_version": "1.5.0",
          "state": {
            "_dom_classes": [],
            "_model_module": "@jupyter-widgets/controls",
            "_model_module_version": "1.5.0",
            "_model_name": "HBoxModel",
            "_view_count": null,
            "_view_module": "@jupyter-widgets/controls",
            "_view_module_version": "1.5.0",
            "_view_name": "HBoxView",
            "box_style": "",
            "children": [
              "IPY_MODEL_e83bf09c288a414389e99000a4b91d04",
              "IPY_MODEL_e134a239ad834517bfa31665786bf93f",
              "IPY_MODEL_44e0a85e046a414cb90652d19185fcf8"
            ],
            "layout": "IPY_MODEL_87d3b52fe79641329a42bf960cc2a90b"
          }
        },
        "e83bf09c288a414389e99000a4b91d04": {
          "model_module": "@jupyter-widgets/controls",
          "model_name": "HTMLModel",
          "model_module_version": "1.5.0",
          "state": {
            "_dom_classes": [],
            "_model_module": "@jupyter-widgets/controls",
            "_model_module_version": "1.5.0",
            "_model_name": "HTMLModel",
            "_view_count": null,
            "_view_module": "@jupyter-widgets/controls",
            "_view_module_version": "1.5.0",
            "_view_name": "HTMLView",
            "description": "",
            "description_tooltip": null,
            "layout": "IPY_MODEL_428e253d325349d4afc0c4f1a7c02e14",
            "placeholder": "​",
            "style": "IPY_MODEL_e21158b9eae84f7784f9d20f6410b156",
            "value": "model-00002-of-00003.safetensors: 100%"
          }
        },
        "e134a239ad834517bfa31665786bf93f": {
          "model_module": "@jupyter-widgets/controls",
          "model_name": "FloatProgressModel",
          "model_module_version": "1.5.0",
          "state": {
            "_dom_classes": [],
            "_model_module": "@jupyter-widgets/controls",
            "_model_module_version": "1.5.0",
            "_model_name": "FloatProgressModel",
            "_view_count": null,
            "_view_module": "@jupyter-widgets/controls",
            "_view_module_version": "1.5.0",
            "_view_name": "ProgressView",
            "bar_style": "success",
            "description": "",
            "description_tooltip": null,
            "layout": "IPY_MODEL_6026f1d621724708b97237f823969bc9",
            "max": 9904129368,
            "min": 0,
            "orientation": "horizontal",
            "style": "IPY_MODEL_30028ce3af0a4d6699677b54e0eeaf1a",
            "value": 9904129368
          }
        },
        "44e0a85e046a414cb90652d19185fcf8": {
          "model_module": "@jupyter-widgets/controls",
          "model_name": "HTMLModel",
          "model_module_version": "1.5.0",
          "state": {
            "_dom_classes": [],
            "_model_module": "@jupyter-widgets/controls",
            "_model_module_version": "1.5.0",
            "_model_name": "HTMLModel",
            "_view_count": null,
            "_view_module": "@jupyter-widgets/controls",
            "_view_module_version": "1.5.0",
            "_view_name": "HTMLView",
            "description": "",
            "description_tooltip": null,
            "layout": "IPY_MODEL_8e02f6feb4134e398b0d870eab7caafc",
            "placeholder": "​",
            "style": "IPY_MODEL_698092cc935343e9a3e555bff28e4f65",
            "value": " 9.90G/9.90G [00:54&lt;00:00, 193MB/s]"
          }
        },
        "87d3b52fe79641329a42bf960cc2a90b": {
          "model_module": "@jupyter-widgets/base",
          "model_name": "LayoutModel",
          "model_module_version": "1.2.0",
          "state": {
            "_model_module": "@jupyter-widgets/base",
            "_model_module_version": "1.2.0",
            "_model_name": "LayoutModel",
            "_view_count": null,
            "_view_module": "@jupyter-widgets/base",
            "_view_module_version": "1.2.0",
            "_view_name": "LayoutView",
            "align_content": null,
            "align_items": null,
            "align_self": null,
            "border": null,
            "bottom": null,
            "display": null,
            "flex": null,
            "flex_flow": null,
            "grid_area": null,
            "grid_auto_columns": null,
            "grid_auto_flow": null,
            "grid_auto_rows": null,
            "grid_column": null,
            "grid_gap": null,
            "grid_row": null,
            "grid_template_areas": null,
            "grid_template_columns": null,
            "grid_template_rows": null,
            "height": null,
            "justify_content": null,
            "justify_items": null,
            "left": null,
            "margin": null,
            "max_height": null,
            "max_width": null,
            "min_height": null,
            "min_width": null,
            "object_fit": null,
            "object_position": null,
            "order": null,
            "overflow": null,
            "overflow_x": null,
            "overflow_y": null,
            "padding": null,
            "right": null,
            "top": null,
            "visibility": null,
            "width": null
          }
        },
        "428e253d325349d4afc0c4f1a7c02e14": {
          "model_module": "@jupyter-widgets/base",
          "model_name": "LayoutModel",
          "model_module_version": "1.2.0",
          "state": {
            "_model_module": "@jupyter-widgets/base",
            "_model_module_version": "1.2.0",
            "_model_name": "LayoutModel",
            "_view_count": null,
            "_view_module": "@jupyter-widgets/base",
            "_view_module_version": "1.2.0",
            "_view_name": "LayoutView",
            "align_content": null,
            "align_items": null,
            "align_self": null,
            "border": null,
            "bottom": null,
            "display": null,
            "flex": null,
            "flex_flow": null,
            "grid_area": null,
            "grid_auto_columns": null,
            "grid_auto_flow": null,
            "grid_auto_rows": null,
            "grid_column": null,
            "grid_gap": null,
            "grid_row": null,
            "grid_template_areas": null,
            "grid_template_columns": null,
            "grid_template_rows": null,
            "height": null,
            "justify_content": null,
            "justify_items": null,
            "left": null,
            "margin": null,
            "max_height": null,
            "max_width": null,
            "min_height": null,
            "min_width": null,
            "object_fit": null,
            "object_position": null,
            "order": null,
            "overflow": null,
            "overflow_x": null,
            "overflow_y": null,
            "padding": null,
            "right": null,
            "top": null,
            "visibility": null,
            "width": null
          }
        },
        "e21158b9eae84f7784f9d20f6410b156": {
          "model_module": "@jupyter-widgets/controls",
          "model_name": "DescriptionStyleModel",
          "model_module_version": "1.5.0",
          "state": {
            "_model_module": "@jupyter-widgets/controls",
            "_model_module_version": "1.5.0",
            "_model_name": "DescriptionStyleModel",
            "_view_count": null,
            "_view_module": "@jupyter-widgets/base",
            "_view_module_version": "1.2.0",
            "_view_name": "StyleView",
            "description_width": ""
          }
        },
        "6026f1d621724708b97237f823969bc9": {
          "model_module": "@jupyter-widgets/base",
          "model_name": "LayoutModel",
          "model_module_version": "1.2.0",
          "state": {
            "_model_module": "@jupyter-widgets/base",
            "_model_module_version": "1.2.0",
            "_model_name": "LayoutModel",
            "_view_count": null,
            "_view_module": "@jupyter-widgets/base",
            "_view_module_version": "1.2.0",
            "_view_name": "LayoutView",
            "align_content": null,
            "align_items": null,
            "align_self": null,
            "border": null,
            "bottom": null,
            "display": null,
            "flex": null,
            "flex_flow": null,
            "grid_area": null,
            "grid_auto_columns": null,
            "grid_auto_flow": null,
            "grid_auto_rows": null,
            "grid_column": null,
            "grid_gap": null,
            "grid_row": null,
            "grid_template_areas": null,
            "grid_template_columns": null,
            "grid_template_rows": null,
            "height": null,
            "justify_content": null,
            "justify_items": null,
            "left": null,
            "margin": null,
            "max_height": null,
            "max_width": null,
            "min_height": null,
            "min_width": null,
            "object_fit": null,
            "object_position": null,
            "order": null,
            "overflow": null,
            "overflow_x": null,
            "overflow_y": null,
            "padding": null,
            "right": null,
            "top": null,
            "visibility": null,
            "width": null
          }
        },
        "30028ce3af0a4d6699677b54e0eeaf1a": {
          "model_module": "@jupyter-widgets/controls",
          "model_name": "ProgressStyleModel",
          "model_module_version": "1.5.0",
          "state": {
            "_model_module": "@jupyter-widgets/controls",
            "_model_module_version": "1.5.0",
            "_model_name": "ProgressStyleModel",
            "_view_count": null,
            "_view_module": "@jupyter-widgets/base",
            "_view_module_version": "1.2.0",
            "_view_name": "StyleView",
            "bar_color": null,
            "description_width": ""
          }
        },
        "8e02f6feb4134e398b0d870eab7caafc": {
          "model_module": "@jupyter-widgets/base",
          "model_name": "LayoutModel",
          "model_module_version": "1.2.0",
          "state": {
            "_model_module": "@jupyter-widgets/base",
            "_model_module_version": "1.2.0",
            "_model_name": "LayoutModel",
            "_view_count": null,
            "_view_module": "@jupyter-widgets/base",
            "_view_module_version": "1.2.0",
            "_view_name": "LayoutView",
            "align_content": null,
            "align_items": null,
            "align_self": null,
            "border": null,
            "bottom": null,
            "display": null,
            "flex": null,
            "flex_flow": null,
            "grid_area": null,
            "grid_auto_columns": null,
            "grid_auto_flow": null,
            "grid_auto_rows": null,
            "grid_column": null,
            "grid_gap": null,
            "grid_row": null,
            "grid_template_areas": null,
            "grid_template_columns": null,
            "grid_template_rows": null,
            "height": null,
            "justify_content": null,
            "justify_items": null,
            "left": null,
            "margin": null,
            "max_height": null,
            "max_width": null,
            "min_height": null,
            "min_width": null,
            "object_fit": null,
            "object_position": null,
            "order": null,
            "overflow": null,
            "overflow_x": null,
            "overflow_y": null,
            "padding": null,
            "right": null,
            "top": null,
            "visibility": null,
            "width": null
          }
        },
        "698092cc935343e9a3e555bff28e4f65": {
          "model_module": "@jupyter-widgets/controls",
          "model_name": "DescriptionStyleModel",
          "model_module_version": "1.5.0",
          "state": {
            "_model_module": "@jupyter-widgets/controls",
            "_model_module_version": "1.5.0",
            "_model_name": "DescriptionStyleModel",
            "_view_count": null,
            "_view_module": "@jupyter-widgets/base",
            "_view_module_version": "1.2.0",
            "_view_name": "StyleView",
            "description_width": ""
          }
        },
        "e4f9501b862b4781aba28bf375c6d80a": {
          "model_module": "@jupyter-widgets/controls",
          "model_name": "HBoxModel",
          "model_module_version": "1.5.0",
          "state": {
            "_dom_classes": [],
            "_model_module": "@jupyter-widgets/controls",
            "_model_module_version": "1.5.0",
            "_model_name": "HBoxModel",
            "_view_count": null,
            "_view_module": "@jupyter-widgets/controls",
            "_view_module_version": "1.5.0",
            "_view_name": "HBoxView",
            "box_style": "",
            "children": [
              "IPY_MODEL_a6aafa20d98348109fbdf3c066d5b3b6",
              "IPY_MODEL_68101468a66d444d9e1df41a9f6f0e7e",
              "IPY_MODEL_b922a3fe1f724e5b87a9f6f6fbab083a"
            ],
            "layout": "IPY_MODEL_7328d91dc4c64fafac949b30820dc723"
          }
        },
        "a6aafa20d98348109fbdf3c066d5b3b6": {
          "model_module": "@jupyter-widgets/controls",
          "model_name": "HTMLModel",
          "model_module_version": "1.5.0",
          "state": {
            "_dom_classes": [],
            "_model_module": "@jupyter-widgets/controls",
            "_model_module_version": "1.5.0",
            "_model_name": "HTMLModel",
            "_view_count": null,
            "_view_module": "@jupyter-widgets/controls",
            "_view_module_version": "1.5.0",
            "_view_name": "HTMLView",
            "description": "",
            "description_tooltip": null,
            "layout": "IPY_MODEL_b4688b2f53ad4a4d90519dd4cb23111a",
            "placeholder": "​",
            "style": "IPY_MODEL_26ca368824574e81bc7447ac29cb1462",
            "value": "model-00003-of-00003.safetensors: 100%"
          }
        },
        "68101468a66d444d9e1df41a9f6f0e7e": {
          "model_module": "@jupyter-widgets/controls",
          "model_name": "FloatProgressModel",
          "model_module_version": "1.5.0",
          "state": {
            "_dom_classes": [],
            "_model_module": "@jupyter-widgets/controls",
            "_model_module_version": "1.5.0",
            "_model_name": "FloatProgressModel",
            "_view_count": null,
            "_view_module": "@jupyter-widgets/controls",
            "_view_module_version": "1.5.0",
            "_view_name": "ProgressView",
            "bar_style": "success",
            "description": "",
            "description_tooltip": null,
            "layout": "IPY_MODEL_ad1ee5246e4f4bbe9f362db89dee86d9",
            "max": 6178962272,
            "min": 0,
            "orientation": "horizontal",
            "style": "IPY_MODEL_b559dbc378994238b4faba5c889af811",
            "value": 6178962272
          }
        },
        "b922a3fe1f724e5b87a9f6f6fbab083a": {
          "model_module": "@jupyter-widgets/controls",
          "model_name": "HTMLModel",
          "model_module_version": "1.5.0",
          "state": {
            "_dom_classes": [],
            "_model_module": "@jupyter-widgets/controls",
            "_model_module_version": "1.5.0",
            "_model_name": "HTMLModel",
            "_view_count": null,
            "_view_module": "@jupyter-widgets/controls",
            "_view_module_version": "1.5.0",
            "_view_name": "HTMLView",
            "description": "",
            "description_tooltip": null,
            "layout": "IPY_MODEL_cf11468b488847c4a2cbee9ba14b59fd",
            "placeholder": "​",
            "style": "IPY_MODEL_f3950e3bc7b940d182a031505ce9a9f2",
            "value": " 6.18G/6.18G [00:35&lt;00:00, 208MB/s]"
          }
        },
        "7328d91dc4c64fafac949b30820dc723": {
          "model_module": "@jupyter-widgets/base",
          "model_name": "LayoutModel",
          "model_module_version": "1.2.0",
          "state": {
            "_model_module": "@jupyter-widgets/base",
            "_model_module_version": "1.2.0",
            "_model_name": "LayoutModel",
            "_view_count": null,
            "_view_module": "@jupyter-widgets/base",
            "_view_module_version": "1.2.0",
            "_view_name": "LayoutView",
            "align_content": null,
            "align_items": null,
            "align_self": null,
            "border": null,
            "bottom": null,
            "display": null,
            "flex": null,
            "flex_flow": null,
            "grid_area": null,
            "grid_auto_columns": null,
            "grid_auto_flow": null,
            "grid_auto_rows": null,
            "grid_column": null,
            "grid_gap": null,
            "grid_row": null,
            "grid_template_areas": null,
            "grid_template_columns": null,
            "grid_template_rows": null,
            "height": null,
            "justify_content": null,
            "justify_items": null,
            "left": null,
            "margin": null,
            "max_height": null,
            "max_width": null,
            "min_height": null,
            "min_width": null,
            "object_fit": null,
            "object_position": null,
            "order": null,
            "overflow": null,
            "overflow_x": null,
            "overflow_y": null,
            "padding": null,
            "right": null,
            "top": null,
            "visibility": null,
            "width": null
          }
        },
        "b4688b2f53ad4a4d90519dd4cb23111a": {
          "model_module": "@jupyter-widgets/base",
          "model_name": "LayoutModel",
          "model_module_version": "1.2.0",
          "state": {
            "_model_module": "@jupyter-widgets/base",
            "_model_module_version": "1.2.0",
            "_model_name": "LayoutModel",
            "_view_count": null,
            "_view_module": "@jupyter-widgets/base",
            "_view_module_version": "1.2.0",
            "_view_name": "LayoutView",
            "align_content": null,
            "align_items": null,
            "align_self": null,
            "border": null,
            "bottom": null,
            "display": null,
            "flex": null,
            "flex_flow": null,
            "grid_area": null,
            "grid_auto_columns": null,
            "grid_auto_flow": null,
            "grid_auto_rows": null,
            "grid_column": null,
            "grid_gap": null,
            "grid_row": null,
            "grid_template_areas": null,
            "grid_template_columns": null,
            "grid_template_rows": null,
            "height": null,
            "justify_content": null,
            "justify_items": null,
            "left": null,
            "margin": null,
            "max_height": null,
            "max_width": null,
            "min_height": null,
            "min_width": null,
            "object_fit": null,
            "object_position": null,
            "order": null,
            "overflow": null,
            "overflow_x": null,
            "overflow_y": null,
            "padding": null,
            "right": null,
            "top": null,
            "visibility": null,
            "width": null
          }
        },
        "26ca368824574e81bc7447ac29cb1462": {
          "model_module": "@jupyter-widgets/controls",
          "model_name": "DescriptionStyleModel",
          "model_module_version": "1.5.0",
          "state": {
            "_model_module": "@jupyter-widgets/controls",
            "_model_module_version": "1.5.0",
            "_model_name": "DescriptionStyleModel",
            "_view_count": null,
            "_view_module": "@jupyter-widgets/base",
            "_view_module_version": "1.2.0",
            "_view_name": "StyleView",
            "description_width": ""
          }
        },
        "ad1ee5246e4f4bbe9f362db89dee86d9": {
          "model_module": "@jupyter-widgets/base",
          "model_name": "LayoutModel",
          "model_module_version": "1.2.0",
          "state": {
            "_model_module": "@jupyter-widgets/base",
            "_model_module_version": "1.2.0",
            "_model_name": "LayoutModel",
            "_view_count": null,
            "_view_module": "@jupyter-widgets/base",
            "_view_module_version": "1.2.0",
            "_view_name": "LayoutView",
            "align_content": null,
            "align_items": null,
            "align_self": null,
            "border": null,
            "bottom": null,
            "display": null,
            "flex": null,
            "flex_flow": null,
            "grid_area": null,
            "grid_auto_columns": null,
            "grid_auto_flow": null,
            "grid_auto_rows": null,
            "grid_column": null,
            "grid_gap": null,
            "grid_row": null,
            "grid_template_areas": null,
            "grid_template_columns": null,
            "grid_template_rows": null,
            "height": null,
            "justify_content": null,
            "justify_items": null,
            "left": null,
            "margin": null,
            "max_height": null,
            "max_width": null,
            "min_height": null,
            "min_width": null,
            "object_fit": null,
            "object_position": null,
            "order": null,
            "overflow": null,
            "overflow_x": null,
            "overflow_y": null,
            "padding": null,
            "right": null,
            "top": null,
            "visibility": null,
            "width": null
          }
        },
        "b559dbc378994238b4faba5c889af811": {
          "model_module": "@jupyter-widgets/controls",
          "model_name": "ProgressStyleModel",
          "model_module_version": "1.5.0",
          "state": {
            "_model_module": "@jupyter-widgets/controls",
            "_model_module_version": "1.5.0",
            "_model_name": "ProgressStyleModel",
            "_view_count": null,
            "_view_module": "@jupyter-widgets/base",
            "_view_module_version": "1.2.0",
            "_view_name": "StyleView",
            "bar_color": null,
            "description_width": ""
          }
        },
        "cf11468b488847c4a2cbee9ba14b59fd": {
          "model_module": "@jupyter-widgets/base",
          "model_name": "LayoutModel",
          "model_module_version": "1.2.0",
          "state": {
            "_model_module": "@jupyter-widgets/base",
            "_model_module_version": "1.2.0",
            "_model_name": "LayoutModel",
            "_view_count": null,
            "_view_module": "@jupyter-widgets/base",
            "_view_module_version": "1.2.0",
            "_view_name": "LayoutView",
            "align_content": null,
            "align_items": null,
            "align_self": null,
            "border": null,
            "bottom": null,
            "display": null,
            "flex": null,
            "flex_flow": null,
            "grid_area": null,
            "grid_auto_columns": null,
            "grid_auto_flow": null,
            "grid_auto_rows": null,
            "grid_column": null,
            "grid_gap": null,
            "grid_row": null,
            "grid_template_areas": null,
            "grid_template_columns": null,
            "grid_template_rows": null,
            "height": null,
            "justify_content": null,
            "justify_items": null,
            "left": null,
            "margin": null,
            "max_height": null,
            "max_width": null,
            "min_height": null,
            "min_width": null,
            "object_fit": null,
            "object_position": null,
            "order": null,
            "overflow": null,
            "overflow_x": null,
            "overflow_y": null,
            "padding": null,
            "right": null,
            "top": null,
            "visibility": null,
            "width": null
          }
        },
        "f3950e3bc7b940d182a031505ce9a9f2": {
          "model_module": "@jupyter-widgets/controls",
          "model_name": "DescriptionStyleModel",
          "model_module_version": "1.5.0",
          "state": {
            "_model_module": "@jupyter-widgets/controls",
            "_model_module_version": "1.5.0",
            "_model_name": "DescriptionStyleModel",
            "_view_count": null,
            "_view_module": "@jupyter-widgets/base",
            "_view_module_version": "1.2.0",
            "_view_name": "StyleView",
            "description_width": ""
          }
        },
        "b4b331db738a4439b931cf413d6b4a94": {
          "model_module": "@jupyter-widgets/controls",
          "model_name": "HBoxModel",
          "model_module_version": "1.5.0",
          "state": {
            "_dom_classes": [],
            "_model_module": "@jupyter-widgets/controls",
            "_model_module_version": "1.5.0",
            "_model_name": "HBoxModel",
            "_view_count": null,
            "_view_module": "@jupyter-widgets/controls",
            "_view_module_version": "1.5.0",
            "_view_name": "HBoxView",
            "box_style": "",
            "children": [
              "IPY_MODEL_bd2c39f9b714446395a0eb99c780485f",
              "IPY_MODEL_1ea5915443f047f181983f7a51ca8b05",
              "IPY_MODEL_0210ff51680d4a56b55acb27a1809d64"
            ],
            "layout": "IPY_MODEL_fd6ab777549f46ab9c5f92bab3f13fce"
          }
        },
        "bd2c39f9b714446395a0eb99c780485f": {
          "model_module": "@jupyter-widgets/controls",
          "model_name": "HTMLModel",
          "model_module_version": "1.5.0",
          "state": {
            "_dom_classes": [],
            "_model_module": "@jupyter-widgets/controls",
            "_model_module_version": "1.5.0",
            "_model_name": "HTMLModel",
            "_view_count": null,
            "_view_module": "@jupyter-widgets/controls",
            "_view_module_version": "1.5.0",
            "_view_name": "HTMLView",
            "description": "",
            "description_tooltip": null,
            "layout": "IPY_MODEL_818f053f672b4e83a5edfb366b2ae8a1",
            "placeholder": "​",
            "style": "IPY_MODEL_c41eab48f0c9405eb4af494f802da881",
            "value": "Loading checkpoint shards: 100%"
          }
        },
        "1ea5915443f047f181983f7a51ca8b05": {
          "model_module": "@jupyter-widgets/controls",
          "model_name": "FloatProgressModel",
          "model_module_version": "1.5.0",
          "state": {
            "_dom_classes": [],
            "_model_module": "@jupyter-widgets/controls",
            "_model_module_version": "1.5.0",
            "_model_name": "FloatProgressModel",
            "_view_count": null,
            "_view_module": "@jupyter-widgets/controls",
            "_view_module_version": "1.5.0",
            "_view_name": "ProgressView",
            "bar_style": "success",
            "description": "",
            "description_tooltip": null,
            "layout": "IPY_MODEL_cc15d941d32140be9acbbafba5589246",
            "max": 3,
            "min": 0,
            "orientation": "horizontal",
            "style": "IPY_MODEL_c68c88862b2d4a23b28ed3dfb9f5c153",
            "value": 3
          }
        },
        "0210ff51680d4a56b55acb27a1809d64": {
          "model_module": "@jupyter-widgets/controls",
          "model_name": "HTMLModel",
          "model_module_version": "1.5.0",
          "state": {
            "_dom_classes": [],
            "_model_module": "@jupyter-widgets/controls",
            "_model_module_version": "1.5.0",
            "_model_name": "HTMLModel",
            "_view_count": null,
            "_view_module": "@jupyter-widgets/controls",
            "_view_module_version": "1.5.0",
            "_view_name": "HTMLView",
            "description": "",
            "description_tooltip": null,
            "layout": "IPY_MODEL_d0ae206b91474274a87d22ec7b908241",
            "placeholder": "​",
            "style": "IPY_MODEL_741f10ce3c4549a1a9d39102e547648d",
            "value": " 3/3 [01:53&lt;00:00, 35.71s/it]"
          }
        },
        "fd6ab777549f46ab9c5f92bab3f13fce": {
          "model_module": "@jupyter-widgets/base",
          "model_name": "LayoutModel",
          "model_module_version": "1.2.0",
          "state": {
            "_model_module": "@jupyter-widgets/base",
            "_model_module_version": "1.2.0",
            "_model_name": "LayoutModel",
            "_view_count": null,
            "_view_module": "@jupyter-widgets/base",
            "_view_module_version": "1.2.0",
            "_view_name": "LayoutView",
            "align_content": null,
            "align_items": null,
            "align_self": null,
            "border": null,
            "bottom": null,
            "display": null,
            "flex": null,
            "flex_flow": null,
            "grid_area": null,
            "grid_auto_columns": null,
            "grid_auto_flow": null,
            "grid_auto_rows": null,
            "grid_column": null,
            "grid_gap": null,
            "grid_row": null,
            "grid_template_areas": null,
            "grid_template_columns": null,
            "grid_template_rows": null,
            "height": null,
            "justify_content": null,
            "justify_items": null,
            "left": null,
            "margin": null,
            "max_height": null,
            "max_width": null,
            "min_height": null,
            "min_width": null,
            "object_fit": null,
            "object_position": null,
            "order": null,
            "overflow": null,
            "overflow_x": null,
            "overflow_y": null,
            "padding": null,
            "right": null,
            "top": null,
            "visibility": null,
            "width": null
          }
        },
        "818f053f672b4e83a5edfb366b2ae8a1": {
          "model_module": "@jupyter-widgets/base",
          "model_name": "LayoutModel",
          "model_module_version": "1.2.0",
          "state": {
            "_model_module": "@jupyter-widgets/base",
            "_model_module_version": "1.2.0",
            "_model_name": "LayoutModel",
            "_view_count": null,
            "_view_module": "@jupyter-widgets/base",
            "_view_module_version": "1.2.0",
            "_view_name": "LayoutView",
            "align_content": null,
            "align_items": null,
            "align_self": null,
            "border": null,
            "bottom": null,
            "display": null,
            "flex": null,
            "flex_flow": null,
            "grid_area": null,
            "grid_auto_columns": null,
            "grid_auto_flow": null,
            "grid_auto_rows": null,
            "grid_column": null,
            "grid_gap": null,
            "grid_row": null,
            "grid_template_areas": null,
            "grid_template_columns": null,
            "grid_template_rows": null,
            "height": null,
            "justify_content": null,
            "justify_items": null,
            "left": null,
            "margin": null,
            "max_height": null,
            "max_width": null,
            "min_height": null,
            "min_width": null,
            "object_fit": null,
            "object_position": null,
            "order": null,
            "overflow": null,
            "overflow_x": null,
            "overflow_y": null,
            "padding": null,
            "right": null,
            "top": null,
            "visibility": null,
            "width": null
          }
        },
        "c41eab48f0c9405eb4af494f802da881": {
          "model_module": "@jupyter-widgets/controls",
          "model_name": "DescriptionStyleModel",
          "model_module_version": "1.5.0",
          "state": {
            "_model_module": "@jupyter-widgets/controls",
            "_model_module_version": "1.5.0",
            "_model_name": "DescriptionStyleModel",
            "_view_count": null,
            "_view_module": "@jupyter-widgets/base",
            "_view_module_version": "1.2.0",
            "_view_name": "StyleView",
            "description_width": ""
          }
        },
        "cc15d941d32140be9acbbafba5589246": {
          "model_module": "@jupyter-widgets/base",
          "model_name": "LayoutModel",
          "model_module_version": "1.2.0",
          "state": {
            "_model_module": "@jupyter-widgets/base",
            "_model_module_version": "1.2.0",
            "_model_name": "LayoutModel",
            "_view_count": null,
            "_view_module": "@jupyter-widgets/base",
            "_view_module_version": "1.2.0",
            "_view_name": "LayoutView",
            "align_content": null,
            "align_items": null,
            "align_self": null,
            "border": null,
            "bottom": null,
            "display": null,
            "flex": null,
            "flex_flow": null,
            "grid_area": null,
            "grid_auto_columns": null,
            "grid_auto_flow": null,
            "grid_auto_rows": null,
            "grid_column": null,
            "grid_gap": null,
            "grid_row": null,
            "grid_template_areas": null,
            "grid_template_columns": null,
            "grid_template_rows": null,
            "height": null,
            "justify_content": null,
            "justify_items": null,
            "left": null,
            "margin": null,
            "max_height": null,
            "max_width": null,
            "min_height": null,
            "min_width": null,
            "object_fit": null,
            "object_position": null,
            "order": null,
            "overflow": null,
            "overflow_x": null,
            "overflow_y": null,
            "padding": null,
            "right": null,
            "top": null,
            "visibility": null,
            "width": null
          }
        },
        "c68c88862b2d4a23b28ed3dfb9f5c153": {
          "model_module": "@jupyter-widgets/controls",
          "model_name": "ProgressStyleModel",
          "model_module_version": "1.5.0",
          "state": {
            "_model_module": "@jupyter-widgets/controls",
            "_model_module_version": "1.5.0",
            "_model_name": "ProgressStyleModel",
            "_view_count": null,
            "_view_module": "@jupyter-widgets/base",
            "_view_module_version": "1.2.0",
            "_view_name": "StyleView",
            "bar_color": null,
            "description_width": ""
          }
        },
        "d0ae206b91474274a87d22ec7b908241": {
          "model_module": "@jupyter-widgets/base",
          "model_name": "LayoutModel",
          "model_module_version": "1.2.0",
          "state": {
            "_model_module": "@jupyter-widgets/base",
            "_model_module_version": "1.2.0",
            "_model_name": "LayoutModel",
            "_view_count": null,
            "_view_module": "@jupyter-widgets/base",
            "_view_module_version": "1.2.0",
            "_view_name": "LayoutView",
            "align_content": null,
            "align_items": null,
            "align_self": null,
            "border": null,
            "bottom": null,
            "display": null,
            "flex": null,
            "flex_flow": null,
            "grid_area": null,
            "grid_auto_columns": null,
            "grid_auto_flow": null,
            "grid_auto_rows": null,
            "grid_column": null,
            "grid_gap": null,
            "grid_row": null,
            "grid_template_areas": null,
            "grid_template_columns": null,
            "grid_template_rows": null,
            "height": null,
            "justify_content": null,
            "justify_items": null,
            "left": null,
            "margin": null,
            "max_height": null,
            "max_width": null,
            "min_height": null,
            "min_width": null,
            "object_fit": null,
            "object_position": null,
            "order": null,
            "overflow": null,
            "overflow_x": null,
            "overflow_y": null,
            "padding": null,
            "right": null,
            "top": null,
            "visibility": null,
            "width": null
          }
        },
        "741f10ce3c4549a1a9d39102e547648d": {
          "model_module": "@jupyter-widgets/controls",
          "model_name": "DescriptionStyleModel",
          "model_module_version": "1.5.0",
          "state": {
            "_model_module": "@jupyter-widgets/controls",
            "_model_module_version": "1.5.0",
            "_model_name": "DescriptionStyleModel",
            "_view_count": null,
            "_view_module": "@jupyter-widgets/base",
            "_view_module_version": "1.2.0",
            "_view_name": "StyleView",
            "description_width": ""
          }
        },
        "a87929a2fff043a9bf1ce2d197f68787": {
          "model_module": "@jupyter-widgets/controls",
          "model_name": "HBoxModel",
          "model_module_version": "1.5.0",
          "state": {
            "_dom_classes": [],
            "_model_module": "@jupyter-widgets/controls",
            "_model_module_version": "1.5.0",
            "_model_name": "HBoxModel",
            "_view_count": null,
            "_view_module": "@jupyter-widgets/controls",
            "_view_module_version": "1.5.0",
            "_view_name": "HBoxView",
            "box_style": "",
            "children": [
              "IPY_MODEL_be14457a0cf34e46b257e7b1ef2bbde6",
              "IPY_MODEL_96d44a1293774d86bb8aedf119e303c8",
              "IPY_MODEL_a9f01ce504ee488f83926d5f2b12d555"
            ],
            "layout": "IPY_MODEL_b7c212e4b06749a88dbf9b3a531638d6"
          }
        },
        "be14457a0cf34e46b257e7b1ef2bbde6": {
          "model_module": "@jupyter-widgets/controls",
          "model_name": "HTMLModel",
          "model_module_version": "1.5.0",
          "state": {
            "_dom_classes": [],
            "_model_module": "@jupyter-widgets/controls",
            "_model_module_version": "1.5.0",
            "_model_name": "HTMLModel",
            "_view_count": null,
            "_view_module": "@jupyter-widgets/controls",
            "_view_module_version": "1.5.0",
            "_view_name": "HTMLView",
            "description": "",
            "description_tooltip": null,
            "layout": "IPY_MODEL_7e079b6bb94642e1b7f475503f542f37",
            "placeholder": "​",
            "style": "IPY_MODEL_afe4bd9b191941f8831c3a136dfa320a",
            "value": "generation_config.json: 100%"
          }
        },
        "96d44a1293774d86bb8aedf119e303c8": {
          "model_module": "@jupyter-widgets/controls",
          "model_name": "FloatProgressModel",
          "model_module_version": "1.5.0",
          "state": {
            "_dom_classes": [],
            "_model_module": "@jupyter-widgets/controls",
            "_model_module_version": "1.5.0",
            "_model_name": "FloatProgressModel",
            "_view_count": null,
            "_view_module": "@jupyter-widgets/controls",
            "_view_module_version": "1.5.0",
            "_view_name": "ProgressView",
            "bar_style": "success",
            "description": "",
            "description_tooltip": null,
            "layout": "IPY_MODEL_3f340f0b752f4bbebc4d1349952056ac",
            "max": 188,
            "min": 0,
            "orientation": "horizontal",
            "style": "IPY_MODEL_f335c8d1f9d0425f830c284698059a1b",
            "value": 188
          }
        },
        "a9f01ce504ee488f83926d5f2b12d555": {
          "model_module": "@jupyter-widgets/controls",
          "model_name": "HTMLModel",
          "model_module_version": "1.5.0",
          "state": {
            "_dom_classes": [],
            "_model_module": "@jupyter-widgets/controls",
            "_model_module_version": "1.5.0",
            "_model_name": "HTMLModel",
            "_view_count": null,
            "_view_module": "@jupyter-widgets/controls",
            "_view_module_version": "1.5.0",
            "_view_name": "HTMLView",
            "description": "",
            "description_tooltip": null,
            "layout": "IPY_MODEL_c13679d3f5eb49f294b56ce7b12e2952",
            "placeholder": "​",
            "style": "IPY_MODEL_8fe54f34c8c246299edbc52d77ea461b",
            "value": " 188/188 [00:00&lt;00:00, 9.57kB/s]"
          }
        },
        "b7c212e4b06749a88dbf9b3a531638d6": {
          "model_module": "@jupyter-widgets/base",
          "model_name": "LayoutModel",
          "model_module_version": "1.2.0",
          "state": {
            "_model_module": "@jupyter-widgets/base",
            "_model_module_version": "1.2.0",
            "_model_name": "LayoutModel",
            "_view_count": null,
            "_view_module": "@jupyter-widgets/base",
            "_view_module_version": "1.2.0",
            "_view_name": "LayoutView",
            "align_content": null,
            "align_items": null,
            "align_self": null,
            "border": null,
            "bottom": null,
            "display": null,
            "flex": null,
            "flex_flow": null,
            "grid_area": null,
            "grid_auto_columns": null,
            "grid_auto_flow": null,
            "grid_auto_rows": null,
            "grid_column": null,
            "grid_gap": null,
            "grid_row": null,
            "grid_template_areas": null,
            "grid_template_columns": null,
            "grid_template_rows": null,
            "height": null,
            "justify_content": null,
            "justify_items": null,
            "left": null,
            "margin": null,
            "max_height": null,
            "max_width": null,
            "min_height": null,
            "min_width": null,
            "object_fit": null,
            "object_position": null,
            "order": null,
            "overflow": null,
            "overflow_x": null,
            "overflow_y": null,
            "padding": null,
            "right": null,
            "top": null,
            "visibility": null,
            "width": null
          }
        },
        "7e079b6bb94642e1b7f475503f542f37": {
          "model_module": "@jupyter-widgets/base",
          "model_name": "LayoutModel",
          "model_module_version": "1.2.0",
          "state": {
            "_model_module": "@jupyter-widgets/base",
            "_model_module_version": "1.2.0",
            "_model_name": "LayoutModel",
            "_view_count": null,
            "_view_module": "@jupyter-widgets/base",
            "_view_module_version": "1.2.0",
            "_view_name": "LayoutView",
            "align_content": null,
            "align_items": null,
            "align_self": null,
            "border": null,
            "bottom": null,
            "display": null,
            "flex": null,
            "flex_flow": null,
            "grid_area": null,
            "grid_auto_columns": null,
            "grid_auto_flow": null,
            "grid_auto_rows": null,
            "grid_column": null,
            "grid_gap": null,
            "grid_row": null,
            "grid_template_areas": null,
            "grid_template_columns": null,
            "grid_template_rows": null,
            "height": null,
            "justify_content": null,
            "justify_items": null,
            "left": null,
            "margin": null,
            "max_height": null,
            "max_width": null,
            "min_height": null,
            "min_width": null,
            "object_fit": null,
            "object_position": null,
            "order": null,
            "overflow": null,
            "overflow_x": null,
            "overflow_y": null,
            "padding": null,
            "right": null,
            "top": null,
            "visibility": null,
            "width": null
          }
        },
        "afe4bd9b191941f8831c3a136dfa320a": {
          "model_module": "@jupyter-widgets/controls",
          "model_name": "DescriptionStyleModel",
          "model_module_version": "1.5.0",
          "state": {
            "_model_module": "@jupyter-widgets/controls",
            "_model_module_version": "1.5.0",
            "_model_name": "DescriptionStyleModel",
            "_view_count": null,
            "_view_module": "@jupyter-widgets/base",
            "_view_module_version": "1.2.0",
            "_view_name": "StyleView",
            "description_width": ""
          }
        },
        "3f340f0b752f4bbebc4d1349952056ac": {
          "model_module": "@jupyter-widgets/base",
          "model_name": "LayoutModel",
          "model_module_version": "1.2.0",
          "state": {
            "_model_module": "@jupyter-widgets/base",
            "_model_module_version": "1.2.0",
            "_model_name": "LayoutModel",
            "_view_count": null,
            "_view_module": "@jupyter-widgets/base",
            "_view_module_version": "1.2.0",
            "_view_name": "LayoutView",
            "align_content": null,
            "align_items": null,
            "align_self": null,
            "border": null,
            "bottom": null,
            "display": null,
            "flex": null,
            "flex_flow": null,
            "grid_area": null,
            "grid_auto_columns": null,
            "grid_auto_flow": null,
            "grid_auto_rows": null,
            "grid_column": null,
            "grid_gap": null,
            "grid_row": null,
            "grid_template_areas": null,
            "grid_template_columns": null,
            "grid_template_rows": null,
            "height": null,
            "justify_content": null,
            "justify_items": null,
            "left": null,
            "margin": null,
            "max_height": null,
            "max_width": null,
            "min_height": null,
            "min_width": null,
            "object_fit": null,
            "object_position": null,
            "order": null,
            "overflow": null,
            "overflow_x": null,
            "overflow_y": null,
            "padding": null,
            "right": null,
            "top": null,
            "visibility": null,
            "width": null
          }
        },
        "f335c8d1f9d0425f830c284698059a1b": {
          "model_module": "@jupyter-widgets/controls",
          "model_name": "ProgressStyleModel",
          "model_module_version": "1.5.0",
          "state": {
            "_model_module": "@jupyter-widgets/controls",
            "_model_module_version": "1.5.0",
            "_model_name": "ProgressStyleModel",
            "_view_count": null,
            "_view_module": "@jupyter-widgets/base",
            "_view_module_version": "1.2.0",
            "_view_name": "StyleView",
            "bar_color": null,
            "description_width": ""
          }
        },
        "c13679d3f5eb49f294b56ce7b12e2952": {
          "model_module": "@jupyter-widgets/base",
          "model_name": "LayoutModel",
          "model_module_version": "1.2.0",
          "state": {
            "_model_module": "@jupyter-widgets/base",
            "_model_module_version": "1.2.0",
            "_model_name": "LayoutModel",
            "_view_count": null,
            "_view_module": "@jupyter-widgets/base",
            "_view_module_version": "1.2.0",
            "_view_name": "LayoutView",
            "align_content": null,
            "align_items": null,
            "align_self": null,
            "border": null,
            "bottom": null,
            "display": null,
            "flex": null,
            "flex_flow": null,
            "grid_area": null,
            "grid_auto_columns": null,
            "grid_auto_flow": null,
            "grid_auto_rows": null,
            "grid_column": null,
            "grid_gap": null,
            "grid_row": null,
            "grid_template_areas": null,
            "grid_template_columns": null,
            "grid_template_rows": null,
            "height": null,
            "justify_content": null,
            "justify_items": null,
            "left": null,
            "margin": null,
            "max_height": null,
            "max_width": null,
            "min_height": null,
            "min_width": null,
            "object_fit": null,
            "object_position": null,
            "order": null,
            "overflow": null,
            "overflow_x": null,
            "overflow_y": null,
            "padding": null,
            "right": null,
            "top": null,
            "visibility": null,
            "width": null
          }
        },
        "8fe54f34c8c246299edbc52d77ea461b": {
          "model_module": "@jupyter-widgets/controls",
          "model_name": "DescriptionStyleModel",
          "model_module_version": "1.5.0",
          "state": {
            "_model_module": "@jupyter-widgets/controls",
            "_model_module_version": "1.5.0",
            "_model_name": "DescriptionStyleModel",
            "_view_count": null,
            "_view_module": "@jupyter-widgets/base",
            "_view_module_version": "1.2.0",
            "_view_name": "StyleView",
            "description_width": ""
          }
        },
        "d692de0875a74708b47742b3a14e53ce": {
          "model_module": "@jupyter-widgets/controls",
          "model_name": "HBoxModel",
          "model_module_version": "1.5.0",
          "state": {
            "_dom_classes": [],
            "_model_module": "@jupyter-widgets/controls",
            "_model_module_version": "1.5.0",
            "_model_name": "HBoxModel",
            "_view_count": null,
            "_view_module": "@jupyter-widgets/controls",
            "_view_module_version": "1.5.0",
            "_view_name": "HBoxView",
            "box_style": "",
            "children": [
              "IPY_MODEL_64aeb660e77643b4b6e437917f9b740d",
              "IPY_MODEL_4c5052f0bc3d4d5e976d6fbd2fb7dd5d",
              "IPY_MODEL_d5c1757d6c294d8aa4988342f518c7f2"
            ],
            "layout": "IPY_MODEL_8bff27f136cc40bb958fff55f985540b"
          }
        },
        "64aeb660e77643b4b6e437917f9b740d": {
          "model_module": "@jupyter-widgets/controls",
          "model_name": "HTMLModel",
          "model_module_version": "1.5.0",
          "state": {
            "_dom_classes": [],
            "_model_module": "@jupyter-widgets/controls",
            "_model_module_version": "1.5.0",
            "_model_name": "HTMLModel",
            "_view_count": null,
            "_view_module": "@jupyter-widgets/controls",
            "_view_module_version": "1.5.0",
            "_view_name": "HTMLView",
            "description": "",
            "description_tooltip": null,
            "layout": "IPY_MODEL_5ade0ba109e34c4aa131272ba5a1eaa1",
            "placeholder": "​",
            "style": "IPY_MODEL_01d29a9715784afc86042b4de3069521",
            "value": "tokenizer_config.json: 100%"
          }
        },
        "4c5052f0bc3d4d5e976d6fbd2fb7dd5d": {
          "model_module": "@jupyter-widgets/controls",
          "model_name": "FloatProgressModel",
          "model_module_version": "1.5.0",
          "state": {
            "_dom_classes": [],
            "_model_module": "@jupyter-widgets/controls",
            "_model_module_version": "1.5.0",
            "_model_name": "FloatProgressModel",
            "_view_count": null,
            "_view_module": "@jupyter-widgets/controls",
            "_view_module_version": "1.5.0",
            "_view_name": "ProgressView",
            "bar_style": "success",
            "description": "",
            "description_tooltip": null,
            "layout": "IPY_MODEL_1228ff1e5f464f389bff7b6de7f5d90b",
            "max": 1618,
            "min": 0,
            "orientation": "horizontal",
            "style": "IPY_MODEL_ef0e768a83af4775aae4e2b59f3c5401",
            "value": 1618
          }
        },
        "d5c1757d6c294d8aa4988342f518c7f2": {
          "model_module": "@jupyter-widgets/controls",
          "model_name": "HTMLModel",
          "model_module_version": "1.5.0",
          "state": {
            "_dom_classes": [],
            "_model_module": "@jupyter-widgets/controls",
            "_model_module_version": "1.5.0",
            "_model_name": "HTMLModel",
            "_view_count": null,
            "_view_module": "@jupyter-widgets/controls",
            "_view_module_version": "1.5.0",
            "_view_name": "HTMLView",
            "description": "",
            "description_tooltip": null,
            "layout": "IPY_MODEL_caca4abb9dc64716b43abb31278376fc",
            "placeholder": "​",
            "style": "IPY_MODEL_8c7f0accdb084594a65fb039bac8438a",
            "value": " 1.62k/1.62k [00:00&lt;00:00, 46.9kB/s]"
          }
        },
        "8bff27f136cc40bb958fff55f985540b": {
          "model_module": "@jupyter-widgets/base",
          "model_name": "LayoutModel",
          "model_module_version": "1.2.0",
          "state": {
            "_model_module": "@jupyter-widgets/base",
            "_model_module_version": "1.2.0",
            "_model_name": "LayoutModel",
            "_view_count": null,
            "_view_module": "@jupyter-widgets/base",
            "_view_module_version": "1.2.0",
            "_view_name": "LayoutView",
            "align_content": null,
            "align_items": null,
            "align_self": null,
            "border": null,
            "bottom": null,
            "display": null,
            "flex": null,
            "flex_flow": null,
            "grid_area": null,
            "grid_auto_columns": null,
            "grid_auto_flow": null,
            "grid_auto_rows": null,
            "grid_column": null,
            "grid_gap": null,
            "grid_row": null,
            "grid_template_areas": null,
            "grid_template_columns": null,
            "grid_template_rows": null,
            "height": null,
            "justify_content": null,
            "justify_items": null,
            "left": null,
            "margin": null,
            "max_height": null,
            "max_width": null,
            "min_height": null,
            "min_width": null,
            "object_fit": null,
            "object_position": null,
            "order": null,
            "overflow": null,
            "overflow_x": null,
            "overflow_y": null,
            "padding": null,
            "right": null,
            "top": null,
            "visibility": null,
            "width": null
          }
        },
        "5ade0ba109e34c4aa131272ba5a1eaa1": {
          "model_module": "@jupyter-widgets/base",
          "model_name": "LayoutModel",
          "model_module_version": "1.2.0",
          "state": {
            "_model_module": "@jupyter-widgets/base",
            "_model_module_version": "1.2.0",
            "_model_name": "LayoutModel",
            "_view_count": null,
            "_view_module": "@jupyter-widgets/base",
            "_view_module_version": "1.2.0",
            "_view_name": "LayoutView",
            "align_content": null,
            "align_items": null,
            "align_self": null,
            "border": null,
            "bottom": null,
            "display": null,
            "flex": null,
            "flex_flow": null,
            "grid_area": null,
            "grid_auto_columns": null,
            "grid_auto_flow": null,
            "grid_auto_rows": null,
            "grid_column": null,
            "grid_gap": null,
            "grid_row": null,
            "grid_template_areas": null,
            "grid_template_columns": null,
            "grid_template_rows": null,
            "height": null,
            "justify_content": null,
            "justify_items": null,
            "left": null,
            "margin": null,
            "max_height": null,
            "max_width": null,
            "min_height": null,
            "min_width": null,
            "object_fit": null,
            "object_position": null,
            "order": null,
            "overflow": null,
            "overflow_x": null,
            "overflow_y": null,
            "padding": null,
            "right": null,
            "top": null,
            "visibility": null,
            "width": null
          }
        },
        "01d29a9715784afc86042b4de3069521": {
          "model_module": "@jupyter-widgets/controls",
          "model_name": "DescriptionStyleModel",
          "model_module_version": "1.5.0",
          "state": {
            "_model_module": "@jupyter-widgets/controls",
            "_model_module_version": "1.5.0",
            "_model_name": "DescriptionStyleModel",
            "_view_count": null,
            "_view_module": "@jupyter-widgets/base",
            "_view_module_version": "1.2.0",
            "_view_name": "StyleView",
            "description_width": ""
          }
        },
        "1228ff1e5f464f389bff7b6de7f5d90b": {
          "model_module": "@jupyter-widgets/base",
          "model_name": "LayoutModel",
          "model_module_version": "1.2.0",
          "state": {
            "_model_module": "@jupyter-widgets/base",
            "_model_module_version": "1.2.0",
            "_model_name": "LayoutModel",
            "_view_count": null,
            "_view_module": "@jupyter-widgets/base",
            "_view_module_version": "1.2.0",
            "_view_name": "LayoutView",
            "align_content": null,
            "align_items": null,
            "align_self": null,
            "border": null,
            "bottom": null,
            "display": null,
            "flex": null,
            "flex_flow": null,
            "grid_area": null,
            "grid_auto_columns": null,
            "grid_auto_flow": null,
            "grid_auto_rows": null,
            "grid_column": null,
            "grid_gap": null,
            "grid_row": null,
            "grid_template_areas": null,
            "grid_template_columns": null,
            "grid_template_rows": null,
            "height": null,
            "justify_content": null,
            "justify_items": null,
            "left": null,
            "margin": null,
            "max_height": null,
            "max_width": null,
            "min_height": null,
            "min_width": null,
            "object_fit": null,
            "object_position": null,
            "order": null,
            "overflow": null,
            "overflow_x": null,
            "overflow_y": null,
            "padding": null,
            "right": null,
            "top": null,
            "visibility": null,
            "width": null
          }
        },
        "ef0e768a83af4775aae4e2b59f3c5401": {
          "model_module": "@jupyter-widgets/controls",
          "model_name": "ProgressStyleModel",
          "model_module_version": "1.5.0",
          "state": {
            "_model_module": "@jupyter-widgets/controls",
            "_model_module_version": "1.5.0",
            "_model_name": "ProgressStyleModel",
            "_view_count": null,
            "_view_module": "@jupyter-widgets/base",
            "_view_module_version": "1.2.0",
            "_view_name": "StyleView",
            "bar_color": null,
            "description_width": ""
          }
        },
        "caca4abb9dc64716b43abb31278376fc": {
          "model_module": "@jupyter-widgets/base",
          "model_name": "LayoutModel",
          "model_module_version": "1.2.0",
          "state": {
            "_model_module": "@jupyter-widgets/base",
            "_model_module_version": "1.2.0",
            "_model_name": "LayoutModel",
            "_view_count": null,
            "_view_module": "@jupyter-widgets/base",
            "_view_module_version": "1.2.0",
            "_view_name": "LayoutView",
            "align_content": null,
            "align_items": null,
            "align_self": null,
            "border": null,
            "bottom": null,
            "display": null,
            "flex": null,
            "flex_flow": null,
            "grid_area": null,
            "grid_auto_columns": null,
            "grid_auto_flow": null,
            "grid_auto_rows": null,
            "grid_column": null,
            "grid_gap": null,
            "grid_row": null,
            "grid_template_areas": null,
            "grid_template_columns": null,
            "grid_template_rows": null,
            "height": null,
            "justify_content": null,
            "justify_items": null,
            "left": null,
            "margin": null,
            "max_height": null,
            "max_width": null,
            "min_height": null,
            "min_width": null,
            "object_fit": null,
            "object_position": null,
            "order": null,
            "overflow": null,
            "overflow_x": null,
            "overflow_y": null,
            "padding": null,
            "right": null,
            "top": null,
            "visibility": null,
            "width": null
          }
        },
        "8c7f0accdb084594a65fb039bac8438a": {
          "model_module": "@jupyter-widgets/controls",
          "model_name": "DescriptionStyleModel",
          "model_module_version": "1.5.0",
          "state": {
            "_model_module": "@jupyter-widgets/controls",
            "_model_module_version": "1.5.0",
            "_model_name": "DescriptionStyleModel",
            "_view_count": null,
            "_view_module": "@jupyter-widgets/base",
            "_view_module_version": "1.2.0",
            "_view_name": "StyleView",
            "description_width": ""
          }
        },
        "e7b58a132b084ddd872d88374071b84c": {
          "model_module": "@jupyter-widgets/controls",
          "model_name": "HBoxModel",
          "model_module_version": "1.5.0",
          "state": {
            "_dom_classes": [],
            "_model_module": "@jupyter-widgets/controls",
            "_model_module_version": "1.5.0",
            "_model_name": "HBoxModel",
            "_view_count": null,
            "_view_module": "@jupyter-widgets/controls",
            "_view_module_version": "1.5.0",
            "_view_name": "HBoxView",
            "box_style": "",
            "children": [
              "IPY_MODEL_d421e8e3c6844e62a0919aadadf1eac1",
              "IPY_MODEL_6256fdeee41f45e598a19ee0439dc391",
              "IPY_MODEL_924d66a61b444549968b5c70367833aa"
            ],
            "layout": "IPY_MODEL_36e944da293443c48f097f2987126901"
          }
        },
        "d421e8e3c6844e62a0919aadadf1eac1": {
          "model_module": "@jupyter-widgets/controls",
          "model_name": "HTMLModel",
          "model_module_version": "1.5.0",
          "state": {
            "_dom_classes": [],
            "_model_module": "@jupyter-widgets/controls",
            "_model_module_version": "1.5.0",
            "_model_name": "HTMLModel",
            "_view_count": null,
            "_view_module": "@jupyter-widgets/controls",
            "_view_module_version": "1.5.0",
            "_view_name": "HTMLView",
            "description": "",
            "description_tooltip": null,
            "layout": "IPY_MODEL_35fb501922c647329e73b297d08144f6",
            "placeholder": "​",
            "style": "IPY_MODEL_596490f7278b47ac817d960b52a7a8bd",
            "value": "tokenizer.model: 100%"
          }
        },
        "6256fdeee41f45e598a19ee0439dc391": {
          "model_module": "@jupyter-widgets/controls",
          "model_name": "FloatProgressModel",
          "model_module_version": "1.5.0",
          "state": {
            "_dom_classes": [],
            "_model_module": "@jupyter-widgets/controls",
            "_model_module_version": "1.5.0",
            "_model_name": "FloatProgressModel",
            "_view_count": null,
            "_view_module": "@jupyter-widgets/controls",
            "_view_module_version": "1.5.0",
            "_view_name": "ProgressView",
            "bar_style": "success",
            "description": "",
            "description_tooltip": null,
            "layout": "IPY_MODEL_ab92d65bcb724963b647a11aac54c729",
            "max": 499723,
            "min": 0,
            "orientation": "horizontal",
            "style": "IPY_MODEL_5735e48a79684e1e8dbf9e4dd316a578",
            "value": 499723
          }
        },
        "924d66a61b444549968b5c70367833aa": {
          "model_module": "@jupyter-widgets/controls",
          "model_name": "HTMLModel",
          "model_module_version": "1.5.0",
          "state": {
            "_dom_classes": [],
            "_model_module": "@jupyter-widgets/controls",
            "_model_module_version": "1.5.0",
            "_model_name": "HTMLModel",
            "_view_count": null,
            "_view_module": "@jupyter-widgets/controls",
            "_view_module_version": "1.5.0",
            "_view_name": "HTMLView",
            "description": "",
            "description_tooltip": null,
            "layout": "IPY_MODEL_e1c1269715a94d35be02712ca79f6cc0",
            "placeholder": "​",
            "style": "IPY_MODEL_f9c77c6f82474cbc8075695fc20f7330",
            "value": " 500k/500k [00:00&lt;00:00, 11.4MB/s]"
          }
        },
        "36e944da293443c48f097f2987126901": {
          "model_module": "@jupyter-widgets/base",
          "model_name": "LayoutModel",
          "model_module_version": "1.2.0",
          "state": {
            "_model_module": "@jupyter-widgets/base",
            "_model_module_version": "1.2.0",
            "_model_name": "LayoutModel",
            "_view_count": null,
            "_view_module": "@jupyter-widgets/base",
            "_view_module_version": "1.2.0",
            "_view_name": "LayoutView",
            "align_content": null,
            "align_items": null,
            "align_self": null,
            "border": null,
            "bottom": null,
            "display": null,
            "flex": null,
            "flex_flow": null,
            "grid_area": null,
            "grid_auto_columns": null,
            "grid_auto_flow": null,
            "grid_auto_rows": null,
            "grid_column": null,
            "grid_gap": null,
            "grid_row": null,
            "grid_template_areas": null,
            "grid_template_columns": null,
            "grid_template_rows": null,
            "height": null,
            "justify_content": null,
            "justify_items": null,
            "left": null,
            "margin": null,
            "max_height": null,
            "max_width": null,
            "min_height": null,
            "min_width": null,
            "object_fit": null,
            "object_position": null,
            "order": null,
            "overflow": null,
            "overflow_x": null,
            "overflow_y": null,
            "padding": null,
            "right": null,
            "top": null,
            "visibility": null,
            "width": null
          }
        },
        "35fb501922c647329e73b297d08144f6": {
          "model_module": "@jupyter-widgets/base",
          "model_name": "LayoutModel",
          "model_module_version": "1.2.0",
          "state": {
            "_model_module": "@jupyter-widgets/base",
            "_model_module_version": "1.2.0",
            "_model_name": "LayoutModel",
            "_view_count": null,
            "_view_module": "@jupyter-widgets/base",
            "_view_module_version": "1.2.0",
            "_view_name": "LayoutView",
            "align_content": null,
            "align_items": null,
            "align_self": null,
            "border": null,
            "bottom": null,
            "display": null,
            "flex": null,
            "flex_flow": null,
            "grid_area": null,
            "grid_auto_columns": null,
            "grid_auto_flow": null,
            "grid_auto_rows": null,
            "grid_column": null,
            "grid_gap": null,
            "grid_row": null,
            "grid_template_areas": null,
            "grid_template_columns": null,
            "grid_template_rows": null,
            "height": null,
            "justify_content": null,
            "justify_items": null,
            "left": null,
            "margin": null,
            "max_height": null,
            "max_width": null,
            "min_height": null,
            "min_width": null,
            "object_fit": null,
            "object_position": null,
            "order": null,
            "overflow": null,
            "overflow_x": null,
            "overflow_y": null,
            "padding": null,
            "right": null,
            "top": null,
            "visibility": null,
            "width": null
          }
        },
        "596490f7278b47ac817d960b52a7a8bd": {
          "model_module": "@jupyter-widgets/controls",
          "model_name": "DescriptionStyleModel",
          "model_module_version": "1.5.0",
          "state": {
            "_model_module": "@jupyter-widgets/controls",
            "_model_module_version": "1.5.0",
            "_model_name": "DescriptionStyleModel",
            "_view_count": null,
            "_view_module": "@jupyter-widgets/base",
            "_view_module_version": "1.2.0",
            "_view_name": "StyleView",
            "description_width": ""
          }
        },
        "ab92d65bcb724963b647a11aac54c729": {
          "model_module": "@jupyter-widgets/base",
          "model_name": "LayoutModel",
          "model_module_version": "1.2.0",
          "state": {
            "_model_module": "@jupyter-widgets/base",
            "_model_module_version": "1.2.0",
            "_model_name": "LayoutModel",
            "_view_count": null,
            "_view_module": "@jupyter-widgets/base",
            "_view_module_version": "1.2.0",
            "_view_name": "LayoutView",
            "align_content": null,
            "align_items": null,
            "align_self": null,
            "border": null,
            "bottom": null,
            "display": null,
            "flex": null,
            "flex_flow": null,
            "grid_area": null,
            "grid_auto_columns": null,
            "grid_auto_flow": null,
            "grid_auto_rows": null,
            "grid_column": null,
            "grid_gap": null,
            "grid_row": null,
            "grid_template_areas": null,
            "grid_template_columns": null,
            "grid_template_rows": null,
            "height": null,
            "justify_content": null,
            "justify_items": null,
            "left": null,
            "margin": null,
            "max_height": null,
            "max_width": null,
            "min_height": null,
            "min_width": null,
            "object_fit": null,
            "object_position": null,
            "order": null,
            "overflow": null,
            "overflow_x": null,
            "overflow_y": null,
            "padding": null,
            "right": null,
            "top": null,
            "visibility": null,
            "width": null
          }
        },
        "5735e48a79684e1e8dbf9e4dd316a578": {
          "model_module": "@jupyter-widgets/controls",
          "model_name": "ProgressStyleModel",
          "model_module_version": "1.5.0",
          "state": {
            "_model_module": "@jupyter-widgets/controls",
            "_model_module_version": "1.5.0",
            "_model_name": "ProgressStyleModel",
            "_view_count": null,
            "_view_module": "@jupyter-widgets/base",
            "_view_module_version": "1.2.0",
            "_view_name": "StyleView",
            "bar_color": null,
            "description_width": ""
          }
        },
        "e1c1269715a94d35be02712ca79f6cc0": {
          "model_module": "@jupyter-widgets/base",
          "model_name": "LayoutModel",
          "model_module_version": "1.2.0",
          "state": {
            "_model_module": "@jupyter-widgets/base",
            "_model_module_version": "1.2.0",
            "_model_name": "LayoutModel",
            "_view_count": null,
            "_view_module": "@jupyter-widgets/base",
            "_view_module_version": "1.2.0",
            "_view_name": "LayoutView",
            "align_content": null,
            "align_items": null,
            "align_self": null,
            "border": null,
            "bottom": null,
            "display": null,
            "flex": null,
            "flex_flow": null,
            "grid_area": null,
            "grid_auto_columns": null,
            "grid_auto_flow": null,
            "grid_auto_rows": null,
            "grid_column": null,
            "grid_gap": null,
            "grid_row": null,
            "grid_template_areas": null,
            "grid_template_columns": null,
            "grid_template_rows": null,
            "height": null,
            "justify_content": null,
            "justify_items": null,
            "left": null,
            "margin": null,
            "max_height": null,
            "max_width": null,
            "min_height": null,
            "min_width": null,
            "object_fit": null,
            "object_position": null,
            "order": null,
            "overflow": null,
            "overflow_x": null,
            "overflow_y": null,
            "padding": null,
            "right": null,
            "top": null,
            "visibility": null,
            "width": null
          }
        },
        "f9c77c6f82474cbc8075695fc20f7330": {
          "model_module": "@jupyter-widgets/controls",
          "model_name": "DescriptionStyleModel",
          "model_module_version": "1.5.0",
          "state": {
            "_model_module": "@jupyter-widgets/controls",
            "_model_module_version": "1.5.0",
            "_model_name": "DescriptionStyleModel",
            "_view_count": null,
            "_view_module": "@jupyter-widgets/base",
            "_view_module_version": "1.2.0",
            "_view_name": "StyleView",
            "description_width": ""
          }
        },
        "f5aea525e6ff40dda4a9c577c48bfa21": {
          "model_module": "@jupyter-widgets/controls",
          "model_name": "HBoxModel",
          "model_module_version": "1.5.0",
          "state": {
            "_dom_classes": [],
            "_model_module": "@jupyter-widgets/controls",
            "_model_module_version": "1.5.0",
            "_model_name": "HBoxModel",
            "_view_count": null,
            "_view_module": "@jupyter-widgets/controls",
            "_view_module_version": "1.5.0",
            "_view_name": "HBoxView",
            "box_style": "",
            "children": [
              "IPY_MODEL_52f2cadf2e9240bdae993aa92e6e2a52",
              "IPY_MODEL_0186b28b3b614f538b8c481c5f188ea1",
              "IPY_MODEL_a9f70d2186094f3794f8224f5af59a33"
            ],
            "layout": "IPY_MODEL_d5aa390b2adf4319856a507022c099e5"
          }
        },
        "52f2cadf2e9240bdae993aa92e6e2a52": {
          "model_module": "@jupyter-widgets/controls",
          "model_name": "HTMLModel",
          "model_module_version": "1.5.0",
          "state": {
            "_dom_classes": [],
            "_model_module": "@jupyter-widgets/controls",
            "_model_module_version": "1.5.0",
            "_model_name": "HTMLModel",
            "_view_count": null,
            "_view_module": "@jupyter-widgets/controls",
            "_view_module_version": "1.5.0",
            "_view_name": "HTMLView",
            "description": "",
            "description_tooltip": null,
            "layout": "IPY_MODEL_15c6e7a947cc4ba6baf02b69157a97f5",
            "placeholder": "​",
            "style": "IPY_MODEL_267fe38bab2e42bf9c57af79351f8d08",
            "value": "tokenizer.json: 100%"
          }
        },
        "0186b28b3b614f538b8c481c5f188ea1": {
          "model_module": "@jupyter-widgets/controls",
          "model_name": "FloatProgressModel",
          "model_module_version": "1.5.0",
          "state": {
            "_dom_classes": [],
            "_model_module": "@jupyter-widgets/controls",
            "_model_module_version": "1.5.0",
            "_model_name": "FloatProgressModel",
            "_view_count": null,
            "_view_module": "@jupyter-widgets/controls",
            "_view_module_version": "1.5.0",
            "_view_name": "ProgressView",
            "bar_style": "success",
            "description": "",
            "description_tooltip": null,
            "layout": "IPY_MODEL_21f615a4c3e24d62ba41711016d25bac",
            "max": 1842767,
            "min": 0,
            "orientation": "horizontal",
            "style": "IPY_MODEL_1666d20d3a1e491b99d46bc0fbd99571",
            "value": 1842767
          }
        },
        "a9f70d2186094f3794f8224f5af59a33": {
          "model_module": "@jupyter-widgets/controls",
          "model_name": "HTMLModel",
          "model_module_version": "1.5.0",
          "state": {
            "_dom_classes": [],
            "_model_module": "@jupyter-widgets/controls",
            "_model_module_version": "1.5.0",
            "_model_name": "HTMLModel",
            "_view_count": null,
            "_view_module": "@jupyter-widgets/controls",
            "_view_module_version": "1.5.0",
            "_view_name": "HTMLView",
            "description": "",
            "description_tooltip": null,
            "layout": "IPY_MODEL_6817289b80904c2f96ff67f174b68b68",
            "placeholder": "​",
            "style": "IPY_MODEL_29c59c956a3743cdbcad75fafc043e6c",
            "value": " 1.84M/1.84M [00:00&lt;00:00, 13.6MB/s]"
          }
        },
        "d5aa390b2adf4319856a507022c099e5": {
          "model_module": "@jupyter-widgets/base",
          "model_name": "LayoutModel",
          "model_module_version": "1.2.0",
          "state": {
            "_model_module": "@jupyter-widgets/base",
            "_model_module_version": "1.2.0",
            "_model_name": "LayoutModel",
            "_view_count": null,
            "_view_module": "@jupyter-widgets/base",
            "_view_module_version": "1.2.0",
            "_view_name": "LayoutView",
            "align_content": null,
            "align_items": null,
            "align_self": null,
            "border": null,
            "bottom": null,
            "display": null,
            "flex": null,
            "flex_flow": null,
            "grid_area": null,
            "grid_auto_columns": null,
            "grid_auto_flow": null,
            "grid_auto_rows": null,
            "grid_column": null,
            "grid_gap": null,
            "grid_row": null,
            "grid_template_areas": null,
            "grid_template_columns": null,
            "grid_template_rows": null,
            "height": null,
            "justify_content": null,
            "justify_items": null,
            "left": null,
            "margin": null,
            "max_height": null,
            "max_width": null,
            "min_height": null,
            "min_width": null,
            "object_fit": null,
            "object_position": null,
            "order": null,
            "overflow": null,
            "overflow_x": null,
            "overflow_y": null,
            "padding": null,
            "right": null,
            "top": null,
            "visibility": null,
            "width": null
          }
        },
        "15c6e7a947cc4ba6baf02b69157a97f5": {
          "model_module": "@jupyter-widgets/base",
          "model_name": "LayoutModel",
          "model_module_version": "1.2.0",
          "state": {
            "_model_module": "@jupyter-widgets/base",
            "_model_module_version": "1.2.0",
            "_model_name": "LayoutModel",
            "_view_count": null,
            "_view_module": "@jupyter-widgets/base",
            "_view_module_version": "1.2.0",
            "_view_name": "LayoutView",
            "align_content": null,
            "align_items": null,
            "align_self": null,
            "border": null,
            "bottom": null,
            "display": null,
            "flex": null,
            "flex_flow": null,
            "grid_area": null,
            "grid_auto_columns": null,
            "grid_auto_flow": null,
            "grid_auto_rows": null,
            "grid_column": null,
            "grid_gap": null,
            "grid_row": null,
            "grid_template_areas": null,
            "grid_template_columns": null,
            "grid_template_rows": null,
            "height": null,
            "justify_content": null,
            "justify_items": null,
            "left": null,
            "margin": null,
            "max_height": null,
            "max_width": null,
            "min_height": null,
            "min_width": null,
            "object_fit": null,
            "object_position": null,
            "order": null,
            "overflow": null,
            "overflow_x": null,
            "overflow_y": null,
            "padding": null,
            "right": null,
            "top": null,
            "visibility": null,
            "width": null
          }
        },
        "267fe38bab2e42bf9c57af79351f8d08": {
          "model_module": "@jupyter-widgets/controls",
          "model_name": "DescriptionStyleModel",
          "model_module_version": "1.5.0",
          "state": {
            "_model_module": "@jupyter-widgets/controls",
            "_model_module_version": "1.5.0",
            "_model_name": "DescriptionStyleModel",
            "_view_count": null,
            "_view_module": "@jupyter-widgets/base",
            "_view_module_version": "1.2.0",
            "_view_name": "StyleView",
            "description_width": ""
          }
        },
        "21f615a4c3e24d62ba41711016d25bac": {
          "model_module": "@jupyter-widgets/base",
          "model_name": "LayoutModel",
          "model_module_version": "1.2.0",
          "state": {
            "_model_module": "@jupyter-widgets/base",
            "_model_module_version": "1.2.0",
            "_model_name": "LayoutModel",
            "_view_count": null,
            "_view_module": "@jupyter-widgets/base",
            "_view_module_version": "1.2.0",
            "_view_name": "LayoutView",
            "align_content": null,
            "align_items": null,
            "align_self": null,
            "border": null,
            "bottom": null,
            "display": null,
            "flex": null,
            "flex_flow": null,
            "grid_area": null,
            "grid_auto_columns": null,
            "grid_auto_flow": null,
            "grid_auto_rows": null,
            "grid_column": null,
            "grid_gap": null,
            "grid_row": null,
            "grid_template_areas": null,
            "grid_template_columns": null,
            "grid_template_rows": null,
            "height": null,
            "justify_content": null,
            "justify_items": null,
            "left": null,
            "margin": null,
            "max_height": null,
            "max_width": null,
            "min_height": null,
            "min_width": null,
            "object_fit": null,
            "object_position": null,
            "order": null,
            "overflow": null,
            "overflow_x": null,
            "overflow_y": null,
            "padding": null,
            "right": null,
            "top": null,
            "visibility": null,
            "width": null
          }
        },
        "1666d20d3a1e491b99d46bc0fbd99571": {
          "model_module": "@jupyter-widgets/controls",
          "model_name": "ProgressStyleModel",
          "model_module_version": "1.5.0",
          "state": {
            "_model_module": "@jupyter-widgets/controls",
            "_model_module_version": "1.5.0",
            "_model_name": "ProgressStyleModel",
            "_view_count": null,
            "_view_module": "@jupyter-widgets/base",
            "_view_module_version": "1.2.0",
            "_view_name": "StyleView",
            "bar_color": null,
            "description_width": ""
          }
        },
        "6817289b80904c2f96ff67f174b68b68": {
          "model_module": "@jupyter-widgets/base",
          "model_name": "LayoutModel",
          "model_module_version": "1.2.0",
          "state": {
            "_model_module": "@jupyter-widgets/base",
            "_model_module_version": "1.2.0",
            "_model_name": "LayoutModel",
            "_view_count": null,
            "_view_module": "@jupyter-widgets/base",
            "_view_module_version": "1.2.0",
            "_view_name": "LayoutView",
            "align_content": null,
            "align_items": null,
            "align_self": null,
            "border": null,
            "bottom": null,
            "display": null,
            "flex": null,
            "flex_flow": null,
            "grid_area": null,
            "grid_auto_columns": null,
            "grid_auto_flow": null,
            "grid_auto_rows": null,
            "grid_column": null,
            "grid_gap": null,
            "grid_row": null,
            "grid_template_areas": null,
            "grid_template_columns": null,
            "grid_template_rows": null,
            "height": null,
            "justify_content": null,
            "justify_items": null,
            "left": null,
            "margin": null,
            "max_height": null,
            "max_width": null,
            "min_height": null,
            "min_width": null,
            "object_fit": null,
            "object_position": null,
            "order": null,
            "overflow": null,
            "overflow_x": null,
            "overflow_y": null,
            "padding": null,
            "right": null,
            "top": null,
            "visibility": null,
            "width": null
          }
        },
        "29c59c956a3743cdbcad75fafc043e6c": {
          "model_module": "@jupyter-widgets/controls",
          "model_name": "DescriptionStyleModel",
          "model_module_version": "1.5.0",
          "state": {
            "_model_module": "@jupyter-widgets/controls",
            "_model_module_version": "1.5.0",
            "_model_name": "DescriptionStyleModel",
            "_view_count": null,
            "_view_module": "@jupyter-widgets/base",
            "_view_module_version": "1.2.0",
            "_view_name": "StyleView",
            "description_width": ""
          }
        },
        "d321f3a714d04c3baf87c39b6eb81a95": {
          "model_module": "@jupyter-widgets/controls",
          "model_name": "HBoxModel",
          "model_module_version": "1.5.0",
          "state": {
            "_dom_classes": [],
            "_model_module": "@jupyter-widgets/controls",
            "_model_module_version": "1.5.0",
            "_model_name": "HBoxModel",
            "_view_count": null,
            "_view_module": "@jupyter-widgets/controls",
            "_view_module_version": "1.5.0",
            "_view_name": "HBoxView",
            "box_style": "",
            "children": [
              "IPY_MODEL_c320a74954024f1988d31dc299d3c08d",
              "IPY_MODEL_200c81f0959d4764bc7134ab8326672f",
              "IPY_MODEL_6a6ca0d82d2a4e1b9a6c5e7aa13018c6"
            ],
            "layout": "IPY_MODEL_2e90a7b90ea24a6cad893d842b489bca"
          }
        },
        "c320a74954024f1988d31dc299d3c08d": {
          "model_module": "@jupyter-widgets/controls",
          "model_name": "HTMLModel",
          "model_module_version": "1.5.0",
          "state": {
            "_dom_classes": [],
            "_model_module": "@jupyter-widgets/controls",
            "_model_module_version": "1.5.0",
            "_model_name": "HTMLModel",
            "_view_count": null,
            "_view_module": "@jupyter-widgets/controls",
            "_view_module_version": "1.5.0",
            "_view_name": "HTMLView",
            "description": "",
            "description_tooltip": null,
            "layout": "IPY_MODEL_0f7331ec4def44db9c930ad5b6ca2dc8",
            "placeholder": "​",
            "style": "IPY_MODEL_2b467b7cb521481981b02289a3ace41e",
            "value": "special_tokens_map.json: 100%"
          }
        },
        "200c81f0959d4764bc7134ab8326672f": {
          "model_module": "@jupyter-widgets/controls",
          "model_name": "FloatProgressModel",
          "model_module_version": "1.5.0",
          "state": {
            "_dom_classes": [],
            "_model_module": "@jupyter-widgets/controls",
            "_model_module_version": "1.5.0",
            "_model_name": "FloatProgressModel",
            "_view_count": null,
            "_view_module": "@jupyter-widgets/controls",
            "_view_module_version": "1.5.0",
            "_view_name": "ProgressView",
            "bar_style": "success",
            "description": "",
            "description_tooltip": null,
            "layout": "IPY_MODEL_91c11faff6914a2590a51b229f61a0de",
            "max": 414,
            "min": 0,
            "orientation": "horizontal",
            "style": "IPY_MODEL_a4e81fb56f1f46a1a7fcc1ca63aa90e5",
            "value": 414
          }
        },
        "6a6ca0d82d2a4e1b9a6c5e7aa13018c6": {
          "model_module": "@jupyter-widgets/controls",
          "model_name": "HTMLModel",
          "model_module_version": "1.5.0",
          "state": {
            "_dom_classes": [],
            "_model_module": "@jupyter-widgets/controls",
            "_model_module_version": "1.5.0",
            "_model_name": "HTMLModel",
            "_view_count": null,
            "_view_module": "@jupyter-widgets/controls",
            "_view_module_version": "1.5.0",
            "_view_name": "HTMLView",
            "description": "",
            "description_tooltip": null,
            "layout": "IPY_MODEL_b8cfc1dcdbd04249b792b42da0fe2403",
            "placeholder": "​",
            "style": "IPY_MODEL_eff840aa61bd4af2b922435e565074fd",
            "value": " 414/414 [00:00&lt;00:00, 12.9kB/s]"
          }
        },
        "2e90a7b90ea24a6cad893d842b489bca": {
          "model_module": "@jupyter-widgets/base",
          "model_name": "LayoutModel",
          "model_module_version": "1.2.0",
          "state": {
            "_model_module": "@jupyter-widgets/base",
            "_model_module_version": "1.2.0",
            "_model_name": "LayoutModel",
            "_view_count": null,
            "_view_module": "@jupyter-widgets/base",
            "_view_module_version": "1.2.0",
            "_view_name": "LayoutView",
            "align_content": null,
            "align_items": null,
            "align_self": null,
            "border": null,
            "bottom": null,
            "display": null,
            "flex": null,
            "flex_flow": null,
            "grid_area": null,
            "grid_auto_columns": null,
            "grid_auto_flow": null,
            "grid_auto_rows": null,
            "grid_column": null,
            "grid_gap": null,
            "grid_row": null,
            "grid_template_areas": null,
            "grid_template_columns": null,
            "grid_template_rows": null,
            "height": null,
            "justify_content": null,
            "justify_items": null,
            "left": null,
            "margin": null,
            "max_height": null,
            "max_width": null,
            "min_height": null,
            "min_width": null,
            "object_fit": null,
            "object_position": null,
            "order": null,
            "overflow": null,
            "overflow_x": null,
            "overflow_y": null,
            "padding": null,
            "right": null,
            "top": null,
            "visibility": null,
            "width": null
          }
        },
        "0f7331ec4def44db9c930ad5b6ca2dc8": {
          "model_module": "@jupyter-widgets/base",
          "model_name": "LayoutModel",
          "model_module_version": "1.2.0",
          "state": {
            "_model_module": "@jupyter-widgets/base",
            "_model_module_version": "1.2.0",
            "_model_name": "LayoutModel",
            "_view_count": null,
            "_view_module": "@jupyter-widgets/base",
            "_view_module_version": "1.2.0",
            "_view_name": "LayoutView",
            "align_content": null,
            "align_items": null,
            "align_self": null,
            "border": null,
            "bottom": null,
            "display": null,
            "flex": null,
            "flex_flow": null,
            "grid_area": null,
            "grid_auto_columns": null,
            "grid_auto_flow": null,
            "grid_auto_rows": null,
            "grid_column": null,
            "grid_gap": null,
            "grid_row": null,
            "grid_template_areas": null,
            "grid_template_columns": null,
            "grid_template_rows": null,
            "height": null,
            "justify_content": null,
            "justify_items": null,
            "left": null,
            "margin": null,
            "max_height": null,
            "max_width": null,
            "min_height": null,
            "min_width": null,
            "object_fit": null,
            "object_position": null,
            "order": null,
            "overflow": null,
            "overflow_x": null,
            "overflow_y": null,
            "padding": null,
            "right": null,
            "top": null,
            "visibility": null,
            "width": null
          }
        },
        "2b467b7cb521481981b02289a3ace41e": {
          "model_module": "@jupyter-widgets/controls",
          "model_name": "DescriptionStyleModel",
          "model_module_version": "1.5.0",
          "state": {
            "_model_module": "@jupyter-widgets/controls",
            "_model_module_version": "1.5.0",
            "_model_name": "DescriptionStyleModel",
            "_view_count": null,
            "_view_module": "@jupyter-widgets/base",
            "_view_module_version": "1.2.0",
            "_view_name": "StyleView",
            "description_width": ""
          }
        },
        "91c11faff6914a2590a51b229f61a0de": {
          "model_module": "@jupyter-widgets/base",
          "model_name": "LayoutModel",
          "model_module_version": "1.2.0",
          "state": {
            "_model_module": "@jupyter-widgets/base",
            "_model_module_version": "1.2.0",
            "_model_name": "LayoutModel",
            "_view_count": null,
            "_view_module": "@jupyter-widgets/base",
            "_view_module_version": "1.2.0",
            "_view_name": "LayoutView",
            "align_content": null,
            "align_items": null,
            "align_self": null,
            "border": null,
            "bottom": null,
            "display": null,
            "flex": null,
            "flex_flow": null,
            "grid_area": null,
            "grid_auto_columns": null,
            "grid_auto_flow": null,
            "grid_auto_rows": null,
            "grid_column": null,
            "grid_gap": null,
            "grid_row": null,
            "grid_template_areas": null,
            "grid_template_columns": null,
            "grid_template_rows": null,
            "height": null,
            "justify_content": null,
            "justify_items": null,
            "left": null,
            "margin": null,
            "max_height": null,
            "max_width": null,
            "min_height": null,
            "min_width": null,
            "object_fit": null,
            "object_position": null,
            "order": null,
            "overflow": null,
            "overflow_x": null,
            "overflow_y": null,
            "padding": null,
            "right": null,
            "top": null,
            "visibility": null,
            "width": null
          }
        },
        "a4e81fb56f1f46a1a7fcc1ca63aa90e5": {
          "model_module": "@jupyter-widgets/controls",
          "model_name": "ProgressStyleModel",
          "model_module_version": "1.5.0",
          "state": {
            "_model_module": "@jupyter-widgets/controls",
            "_model_module_version": "1.5.0",
            "_model_name": "ProgressStyleModel",
            "_view_count": null,
            "_view_module": "@jupyter-widgets/base",
            "_view_module_version": "1.2.0",
            "_view_name": "StyleView",
            "bar_color": null,
            "description_width": ""
          }
        },
        "b8cfc1dcdbd04249b792b42da0fe2403": {
          "model_module": "@jupyter-widgets/base",
          "model_name": "LayoutModel",
          "model_module_version": "1.2.0",
          "state": {
            "_model_module": "@jupyter-widgets/base",
            "_model_module_version": "1.2.0",
            "_model_name": "LayoutModel",
            "_view_count": null,
            "_view_module": "@jupyter-widgets/base",
            "_view_module_version": "1.2.0",
            "_view_name": "LayoutView",
            "align_content": null,
            "align_items": null,
            "align_self": null,
            "border": null,
            "bottom": null,
            "display": null,
            "flex": null,
            "flex_flow": null,
            "grid_area": null,
            "grid_auto_columns": null,
            "grid_auto_flow": null,
            "grid_auto_rows": null,
            "grid_column": null,
            "grid_gap": null,
            "grid_row": null,
            "grid_template_areas": null,
            "grid_template_columns": null,
            "grid_template_rows": null,
            "height": null,
            "justify_content": null,
            "justify_items": null,
            "left": null,
            "margin": null,
            "max_height": null,
            "max_width": null,
            "min_height": null,
            "min_width": null,
            "object_fit": null,
            "object_position": null,
            "order": null,
            "overflow": null,
            "overflow_x": null,
            "overflow_y": null,
            "padding": null,
            "right": null,
            "top": null,
            "visibility": null,
            "width": null
          }
        },
        "eff840aa61bd4af2b922435e565074fd": {
          "model_module": "@jupyter-widgets/controls",
          "model_name": "DescriptionStyleModel",
          "model_module_version": "1.5.0",
          "state": {
            "_model_module": "@jupyter-widgets/controls",
            "_model_module_version": "1.5.0",
            "_model_name": "DescriptionStyleModel",
            "_view_count": null,
            "_view_module": "@jupyter-widgets/base",
            "_view_module_version": "1.2.0",
            "_view_name": "StyleView",
            "description_width": ""
          }
        }
      }
    }
  },
  "cells": [
    {
      "cell_type": "markdown",
      "metadata": {
        "id": "view-in-github",
        "colab_type": "text"
      },
      "source": [
        "<a href=\"https://colab.research.google.com/github/christymanthara/NLPprojectRAGbot/blob/main/NLPprojectipynb.ipynb\" target=\"_parent\"><img src=\"https://colab.research.google.com/assets/colab-badge.svg\" alt=\"Open In Colab\"/></a>"
      ]
    },
    {
      "cell_type": "markdown",
      "source": [
        "##Get the dataset from Kaggle"
      ],
      "metadata": {
        "id": "3wVPQFUdJ6Qp"
      }
    },
    {
      "cell_type": "code",
      "source": [
        "!pip install -U -q \"langchain\"  \"bitsandbytes==0.40.2\""
      ],
      "metadata": {
        "id": "pwYcte6ncyLQ"
      },
      "execution_count": 56,
      "outputs": []
    },
    {
      "cell_type": "code",
      "source": [
        "! pip install kaggle"
      ],
      "metadata": {
        "colab": {
          "base_uri": "https://localhost:8080/"
        },
        "id": "HiEuM4UIGNVu",
        "outputId": "405bd551-7f81-46a0-e826-01127125a1e1"
      },
      "execution_count": 57,
      "outputs": [
        {
          "output_type": "stream",
          "name": "stdout",
          "text": [
            "Requirement already satisfied: kaggle in /usr/local/lib/python3.10/dist-packages (1.6.14)\n",
            "Requirement already satisfied: six>=1.10 in /usr/local/lib/python3.10/dist-packages (from kaggle) (1.16.0)\n",
            "Requirement already satisfied: certifi>=2023.7.22 in /usr/local/lib/python3.10/dist-packages (from kaggle) (2024.2.2)\n",
            "Requirement already satisfied: python-dateutil in /usr/local/lib/python3.10/dist-packages (from kaggle) (2.8.2)\n",
            "Requirement already satisfied: requests in /usr/local/lib/python3.10/dist-packages (from kaggle) (2.31.0)\n",
            "Requirement already satisfied: tqdm in /usr/local/lib/python3.10/dist-packages (from kaggle) (4.66.4)\n",
            "Requirement already satisfied: python-slugify in /usr/local/lib/python3.10/dist-packages (from kaggle) (8.0.4)\n",
            "Requirement already satisfied: urllib3 in /usr/local/lib/python3.10/dist-packages (from kaggle) (2.0.7)\n",
            "Requirement already satisfied: bleach in /usr/local/lib/python3.10/dist-packages (from kaggle) (6.1.0)\n",
            "Requirement already satisfied: webencodings in /usr/local/lib/python3.10/dist-packages (from bleach->kaggle) (0.5.1)\n",
            "Requirement already satisfied: text-unidecode>=1.3 in /usr/local/lib/python3.10/dist-packages (from python-slugify->kaggle) (1.3)\n",
            "Requirement already satisfied: charset-normalizer<4,>=2 in /usr/local/lib/python3.10/dist-packages (from requests->kaggle) (3.3.2)\n",
            "Requirement already satisfied: idna<4,>=2.5 in /usr/local/lib/python3.10/dist-packages (from requests->kaggle) (3.7)\n"
          ]
        }
      ]
    },
    {
      "cell_type": "code",
      "source": [
        "from google.colab import drive\n",
        "drive.mount('/content/drive')"
      ],
      "metadata": {
        "colab": {
          "base_uri": "https://localhost:8080/"
        },
        "id": "Lk6pkn8fGSbw",
        "outputId": "78d140a8-b696-48dd-c332-19ebc54ced3d"
      },
      "execution_count": 58,
      "outputs": [
        {
          "output_type": "stream",
          "name": "stdout",
          "text": [
            "Drive already mounted at /content/drive; to attempt to forcibly remount, call drive.mount(\"/content/drive\", force_remount=True).\n"
          ]
        }
      ]
    },
    {
      "cell_type": "code",
      "source": [
        "! mkdir ~/.kaggle"
      ],
      "metadata": {
        "id": "bhoIUBP_GlDM",
        "colab": {
          "base_uri": "https://localhost:8080/"
        },
        "outputId": "6ee6c773-84fe-4b60-ae2f-8adeb2deef57"
      },
      "execution_count": 59,
      "outputs": [
        {
          "output_type": "stream",
          "name": "stdout",
          "text": [
            "mkdir: cannot create directory ‘/root/.kaggle’: File exists\n"
          ]
        }
      ]
    },
    {
      "cell_type": "markdown",
      "source": [
        "Create  a key for kaggle and store it in the drive. copy the path to the key to the temporary kaggle folder created above"
      ],
      "metadata": {
        "id": "QeGxgIc3IAJc"
      }
    },
    {
      "cell_type": "code",
      "source": [
        "!cp /content/drive/MyDrive/KAGGLE/kaggle.json ~/.kaggle/"
      ],
      "metadata": {
        "id": "1L0GDDBLHtp0"
      },
      "execution_count": 60,
      "outputs": []
    },
    {
      "cell_type": "code",
      "source": [
        "! chmod 600 ~/.kaggle/kaggle.json"
      ],
      "metadata": {
        "id": "M0HDV4eNJCpe"
      },
      "execution_count": 61,
      "outputs": []
    },
    {
      "cell_type": "code",
      "source": [
        "!kaggle datasets download -d tentotheminus9/religious-and-philosophical-texts"
      ],
      "metadata": {
        "colab": {
          "base_uri": "https://localhost:8080/"
        },
        "id": "Foj0McgDJRIg",
        "outputId": "289eecf1-c61c-406a-d577-e1ce0e8dfc93"
      },
      "execution_count": 62,
      "outputs": [
        {
          "output_type": "stream",
          "name": "stdout",
          "text": [
            "Dataset URL: https://www.kaggle.com/datasets/tentotheminus9/religious-and-philosophical-texts\n",
            "License(s): unknown\n",
            "religious-and-philosophical-texts.zip: Skipping, found more recently modified local copy (use --force to force download)\n"
          ]
        }
      ]
    },
    {
      "cell_type": "code",
      "source": [
        "#now we unzip the downloaded dataset\n",
        "! unzip religious-and-philosophical-texts.zip"
      ],
      "metadata": {
        "colab": {
          "base_uri": "https://localhost:8080/"
        },
        "id": "jnoasb7cJgGS",
        "outputId": "9ec9c233-af4a-4f8e-aab7-6070cc5ba866"
      },
      "execution_count": 63,
      "outputs": [
        {
          "output_type": "stream",
          "name": "stdout",
          "text": [
            "Archive:  religious-and-philosophical-texts.zip\n",
            "replace 35895-0.txt? [y]es, [n]o, [A]ll, [N]one, [r]ename: "
          ]
        }
      ]
    },
    {
      "cell_type": "code",
      "execution_count": 64,
      "metadata": {
        "id": "MGy6LWyKBwOc"
      },
      "outputs": [],
      "source": [
        "!pip install -q -U faiss-cpu tiktoken sentence-transformers"
      ]
    },
    {
      "cell_type": "markdown",
      "source": [
        "#Task 1: Data Preparation"
      ],
      "metadata": {
        "id": "7W2WuXuHCHq6"
      }
    },
    {
      "cell_type": "markdown",
      "source": [
        "####Data parsing"
      ],
      "metadata": {
        "id": "l9xHv2W7CaKL"
      }
    },
    {
      "cell_type": "code",
      "source": [
        "!pip install langchain_community"
      ],
      "metadata": {
        "colab": {
          "base_uri": "https://localhost:8080/"
        },
        "id": "Ct-bza2xCw9L",
        "outputId": "8d7df470-68f8-49a9-fde7-1c5b1c428f0e"
      },
      "execution_count": 6,
      "outputs": [
        {
          "output_type": "stream",
          "name": "stdout",
          "text": [
            "Requirement already satisfied: langchain_community in /usr/local/lib/python3.10/dist-packages (0.2.1)\n",
            "Requirement already satisfied: PyYAML>=5.3 in /usr/local/lib/python3.10/dist-packages (from langchain_community) (6.0.1)\n",
            "Requirement already satisfied: SQLAlchemy<3,>=1.4 in /usr/local/lib/python3.10/dist-packages (from langchain_community) (2.0.30)\n",
            "Requirement already satisfied: aiohttp<4.0.0,>=3.8.3 in /usr/local/lib/python3.10/dist-packages (from langchain_community) (3.9.5)\n",
            "Requirement already satisfied: dataclasses-json<0.7,>=0.5.7 in /usr/local/lib/python3.10/dist-packages (from langchain_community) (0.6.6)\n",
            "Requirement already satisfied: langchain<0.3.0,>=0.2.0 in /usr/local/lib/python3.10/dist-packages (from langchain_community) (0.2.1)\n",
            "Requirement already satisfied: langchain-core<0.3.0,>=0.2.0 in /usr/local/lib/python3.10/dist-packages (from langchain_community) (0.2.2)\n",
            "Requirement already satisfied: langsmith<0.2.0,>=0.1.0 in /usr/local/lib/python3.10/dist-packages (from langchain_community) (0.1.65)\n",
            "Requirement already satisfied: numpy<2,>=1 in /usr/local/lib/python3.10/dist-packages (from langchain_community) (1.25.2)\n",
            "Requirement already satisfied: requests<3,>=2 in /usr/local/lib/python3.10/dist-packages (from langchain_community) (2.31.0)\n",
            "Requirement already satisfied: tenacity<9.0.0,>=8.1.0 in /usr/local/lib/python3.10/dist-packages (from langchain_community) (8.3.0)\n",
            "Requirement already satisfied: aiosignal>=1.1.2 in /usr/local/lib/python3.10/dist-packages (from aiohttp<4.0.0,>=3.8.3->langchain_community) (1.3.1)\n",
            "Requirement already satisfied: attrs>=17.3.0 in /usr/local/lib/python3.10/dist-packages (from aiohttp<4.0.0,>=3.8.3->langchain_community) (23.2.0)\n",
            "Requirement already satisfied: frozenlist>=1.1.1 in /usr/local/lib/python3.10/dist-packages (from aiohttp<4.0.0,>=3.8.3->langchain_community) (1.4.1)\n",
            "Requirement already satisfied: multidict<7.0,>=4.5 in /usr/local/lib/python3.10/dist-packages (from aiohttp<4.0.0,>=3.8.3->langchain_community) (6.0.5)\n",
            "Requirement already satisfied: yarl<2.0,>=1.0 in /usr/local/lib/python3.10/dist-packages (from aiohttp<4.0.0,>=3.8.3->langchain_community) (1.9.4)\n",
            "Requirement already satisfied: async-timeout<5.0,>=4.0 in /usr/local/lib/python3.10/dist-packages (from aiohttp<4.0.0,>=3.8.3->langchain_community) (4.0.3)\n",
            "Requirement already satisfied: marshmallow<4.0.0,>=3.18.0 in /usr/local/lib/python3.10/dist-packages (from dataclasses-json<0.7,>=0.5.7->langchain_community) (3.21.2)\n",
            "Requirement already satisfied: typing-inspect<1,>=0.4.0 in /usr/local/lib/python3.10/dist-packages (from dataclasses-json<0.7,>=0.5.7->langchain_community) (0.9.0)\n",
            "Requirement already satisfied: langchain-text-splitters<0.3.0,>=0.2.0 in /usr/local/lib/python3.10/dist-packages (from langchain<0.3.0,>=0.2.0->langchain_community) (0.2.0)\n",
            "Requirement already satisfied: pydantic<3,>=1 in /usr/local/lib/python3.10/dist-packages (from langchain<0.3.0,>=0.2.0->langchain_community) (2.7.1)\n",
            "Requirement already satisfied: jsonpatch<2.0,>=1.33 in /usr/local/lib/python3.10/dist-packages (from langchain-core<0.3.0,>=0.2.0->langchain_community) (1.33)\n",
            "Requirement already satisfied: packaging<24.0,>=23.2 in /usr/local/lib/python3.10/dist-packages (from langchain-core<0.3.0,>=0.2.0->langchain_community) (23.2)\n",
            "Requirement already satisfied: orjson<4.0.0,>=3.9.14 in /usr/local/lib/python3.10/dist-packages (from langsmith<0.2.0,>=0.1.0->langchain_community) (3.10.3)\n",
            "Requirement already satisfied: charset-normalizer<4,>=2 in /usr/local/lib/python3.10/dist-packages (from requests<3,>=2->langchain_community) (3.3.2)\n",
            "Requirement already satisfied: idna<4,>=2.5 in /usr/local/lib/python3.10/dist-packages (from requests<3,>=2->langchain_community) (3.7)\n",
            "Requirement already satisfied: urllib3<3,>=1.21.1 in /usr/local/lib/python3.10/dist-packages (from requests<3,>=2->langchain_community) (2.0.7)\n",
            "Requirement already satisfied: certifi>=2017.4.17 in /usr/local/lib/python3.10/dist-packages (from requests<3,>=2->langchain_community) (2024.2.2)\n",
            "Requirement already satisfied: typing-extensions>=4.6.0 in /usr/local/lib/python3.10/dist-packages (from SQLAlchemy<3,>=1.4->langchain_community) (4.11.0)\n",
            "Requirement already satisfied: greenlet!=0.4.17 in /usr/local/lib/python3.10/dist-packages (from SQLAlchemy<3,>=1.4->langchain_community) (3.0.3)\n",
            "Requirement already satisfied: jsonpointer>=1.9 in /usr/local/lib/python3.10/dist-packages (from jsonpatch<2.0,>=1.33->langchain-core<0.3.0,>=0.2.0->langchain_community) (2.4)\n",
            "Requirement already satisfied: annotated-types>=0.4.0 in /usr/local/lib/python3.10/dist-packages (from pydantic<3,>=1->langchain<0.3.0,>=0.2.0->langchain_community) (0.7.0)\n",
            "Requirement already satisfied: pydantic-core==2.18.2 in /usr/local/lib/python3.10/dist-packages (from pydantic<3,>=1->langchain<0.3.0,>=0.2.0->langchain_community) (2.18.2)\n",
            "Requirement already satisfied: mypy-extensions>=0.3.0 in /usr/local/lib/python3.10/dist-packages (from typing-inspect<1,>=0.4.0->dataclasses-json<0.7,>=0.5.7->langchain_community) (1.0.0)\n"
          ]
        }
      ]
    },
    {
      "cell_type": "code",
      "source": [
        "from langchain_community.document_loaders import TextLoader"
      ],
      "metadata": {
        "id": "NTmZbMJtCWk_"
      },
      "execution_count": 7,
      "outputs": []
    },
    {
      "cell_type": "code",
      "source": [
        "loader = TextLoader('pg2680.txt')\n",
        "meditations_data = loader.load()"
      ],
      "metadata": {
        "id": "fnWzU4uBCoP-"
      },
      "execution_count": 8,
      "outputs": []
    },
    {
      "cell_type": "code",
      "source": [
        "len(meditations_data)"
      ],
      "metadata": {
        "colab": {
          "base_uri": "https://localhost:8080/"
        },
        "id": "hCGk2IoWDIuZ",
        "outputId": "4d110618-ae21-4999-cea6-5c313e925ae4"
      },
      "execution_count": 9,
      "outputs": [
        {
          "output_type": "execute_result",
          "data": {
            "text/plain": [
              "1"
            ]
          },
          "metadata": {},
          "execution_count": 9
        }
      ]
    },
    {
      "cell_type": "code",
      "source": [
        "print(meditations_data)"
      ],
      "metadata": {
        "colab": {
          "base_uri": "https://localhost:8080/"
        },
        "id": "l2GGj4wbD85G",
        "outputId": "45519aa0-b31b-4938-afb2-8170d380914d"
      },
      "execution_count": 10,
      "outputs": [
        {
          "output_type": "stream",
          "name": "stdout",
          "text": [
            "[Document(page_content='\\ufeffThe Project Gutenberg EBook of Meditations, by Marcus Aurelius\\n\\nThis eBook is for the use of anyone anywhere at no cost and with\\nalmost no restrictions whatsoever.  You may copy it, give it away or\\nre-use it under the terms of the Project Gutenberg License included\\nwith this eBook or online at www.gutenberg.org\\n\\n\\nTitle: Meditations\\n\\nAuthor: Marcus Aurelius\\n\\nPosting Date: December 25, 2008 [EBook #2680]\\nRelease Date: June, 2001\\n\\nLanguage: English\\n\\n\\n*** START OF THIS PROJECT GUTENBERG EBOOK MEDITATIONS ***\\n\\n\\n\\n\\nProduced by J. Boulton\\n\\n\\n\\n\\n\\nMEDITATIONS\\n\\nBy Marcus Aurelius\\n\\n\\n\\n\\nCONTENTS\\n\\n\\n     NOTES\\n\\n     INTRODUCTION\\n\\n     FIRST BOOK\\n\\n     SECOND BOOK\\n\\n     THIRD BOOK\\n\\n     FOURTH BOOK\\n\\n     FIFTH BOOK\\n\\n     SIXTH BOOK\\n\\n     SEVENTH BOOK\\n\\n     EIGHTH BOOK\\n\\n     NINTH BOOK\\n\\n     TENTH BOOK\\n\\n     ELEVENTH BOOK\\n\\n     TWELFTH BOOK\\n\\n     APPENDIX\\n\\n     GLOSSARY\\n\\n\\n\\n\\nOriginal Transcriber\\'s Notes:\\n\\nThis text was scanned by J. Boulton using Textbridge OCR. The Greek\\nportions of the text have been added by hand and they will require the\\nstandard \"Symbol\" font \"symbol.ttf\" to be installed in the system fonts\\nfolder. This is a standard Windows font, so should be present on most\\nsystems. To contact the scanner e-mail: magicjon@ic24.net INTRODUCTION\\nThis is the Plain Text version, see medma10h.txt or .zip for the HTML\\nversion with the various symbols mentioned above.\\n\\n\\n\\n\\nINTRODUCTION\\n\\n\\nMARCUS AURELIUS ANTONINUS was born on April 26, A.D. 121. His real name\\nwas M. Annius Verus, and he was sprung of a noble family which claimed\\ndescent from Numa, second King of Rome. Thus the most religious of\\nemperors came of the blood of the most pious of early kings. His father,\\nAnnius Verus, had held high office in Rome, and his grandfather, of\\nthe same name, had been thrice Consul. Both his parents died young, but\\nMarcus held them in loving remembrance. On his father\\'s death Marcus\\nwas adopted by his grandfather, the consular Annius Verus, and there was\\ndeep love between these two. On the very first page of his book Marcus\\ngratefully declares how of his grandfather he had learned to be gentle\\nand meek, and to refrain from all anger and passion. The Emperor Hadrian\\ndivined the fine character of the lad, whom he used to call not Verus\\nbut Verissimus, more Truthful than his own name. He advanced Marcus to\\nequestrian rank when six years of age, and at the age of eight made him\\na member of the ancient Salian priesthood. The boy\\'s aunt, Annia Galeria\\nFaustina, was married to Antoninus Pius, afterwards emperor. Hence it\\ncame about that Antoninus, having no son, adopted Marcus, changing his\\nname to that which he is known by, and betrothed him to his daughter\\nFaustina. His education was conducted with all care. The ablest teachers\\nwere engaged for him, and he was trained in the strict doctrine of the\\nStoic philosophy, which was his great delight. He was taught to dress\\nplainly and to live simply, to avoid all softness and luxury. His body\\nwas trained to hardihood by wrestling, hunting, and outdoor games; and\\nthough his constitution was weak, he showed great personal courage to\\nencounter the fiercest boars. At the same time he was kept from the\\nextravagancies of his day. The great excitement in Rome was the strife\\nof the Factions, as they were called, in the circus. The racing drivers\\nused to adopt one of four colours--red, blue, white, or green--and their\\npartisans showed an eagerness in supporting them which nothing could\\nsurpass. Riot and corruption went in the train of the racing chariots;\\nand from all these things Marcus held severely aloof.\\n\\nIn 140 Marcus was raised to the consulship, and in 145 his betrothal\\nwas consummated by marriage. Two years later Faustina brought him a\\ndaughter; and soon after the tribunate and other imperial honours were\\nconferred upon him.\\n\\nAntoninus Pius died in 161, and Marcus assumed the imperial state. He\\nat once associated with himself L. Ceionius Commodus, whom Antoninus had\\nadopted as a younger son at the same time with Marcus, giving him the\\nname of Lucius Aurelius Verus. Henceforth the two are colleagues in the\\nempire, the junior being trained as it were to succeed. No sooner was\\nMarcus settled upon the throne than wars broke out on all sides. In\\nthe east, Vologeses III. of Parthia began a long-meditated revolt by\\ndestroying a whole Roman Legion and invading Syria (162). Verus was sent\\noff in hot haste to quell this rising; and he fulfilled his trust by\\nplunging into drunkenness and debauchery, while the war was left to his\\nofficers. Soon after Marcus had to face a more serious danger at home in\\nthe coalition of several powerful tribes on the northern frontier. Chief\\namong those were the Marcomanni or Marchmen, the Quadi (mentioned in\\nthis book), the Sarmatians, the Catti, the Jazyges. In Rome itself there\\nwas pestilence and starvation, the one brought from the east by Verus\\'s\\nlegions, the other caused by floods which had destroyed vast quantities\\nof grain. After all had been done possible to allay famine and to supply\\npressing needs--Marcus being forced even to sell the imperial jewels to\\nfind money--both emperors set forth to a struggle which was to continue\\nmore or less during the rest of Marcus\\'s reign. During these wars, in\\n169, Verus died. We have no means of following the campaigns in detail;\\nbut thus much is certain, that in the end the Romans succeeded in\\ncrushing the barbarian tribes, and effecting a settlement which made the\\nempire more secure. Marcus was himself commander-in-chief, and victory\\nwas due no less to his own ability than to his wisdom in choice of\\nlieutenants, shown conspicuously in the case of Pertinax. There were\\nseveral important battles fought in these campaigns; and one of them has\\nbecome celebrated for the legend of the Thundering Legion. In a battle\\nagainst the Quadi in 174, the day seemed to be going in favour of\\nthe foe, when on a sudden arose a great storm of thunder and rain the\\nlightning struck the barbarians with terror, and they turned to rout.\\nIn later days this storm was said to have been sent in answer to the\\nprayers of a legion which contained many Christians, and the name\\nThundering Legion should be given to it on this account. The title of\\nThundering Legion is known at an earlier date, so this part of the story\\nat least cannot be true; but the aid of the storm is acknowledged by one\\nof the scenes carved on Antonine\\'s Column at Rome, which commemorates\\nthese wars.\\n\\nThe settlement made after these troubles might have been more\\nsatisfactory but for an unexpected rising in the east. Avidius Cassius,\\nan able captain who had won renown in the Parthian wars, was at this\\ntime chief governor of the eastern provinces. By whatever means induced,\\nhe had conceived the project of proclaiming himself emperor as soon as\\nMarcus, who was then in feeble health, should die; and a report having\\nbeen conveyed to him that Marcus was dead, Cassius did as he had\\nplanned. Marcus, on hearing the news, immediately patched up a peace and\\nreturned home to meet this new peril. The emperors great grief was that\\nhe must needs engage in the horrors of civil strife. He praised the\\nqualities of Cassius, and expressed a heartfelt wish that Cassius might\\nnot be driven to do himself a hurt before he should have the opportunity\\nto grant a free pardon. But before he could come to the east news had\\ncome to Cassius that the emperor still lived; his followers fell away\\nfrom him, and he was assassinated. Marcus now went to the east, and\\nwhile there the murderers brought the head of Cassius to him; but the\\nemperor indignantly refused their gift, nor would he admit the men to\\nhis presence.\\n\\nOn this journey his wife, Faustina, died. At his return the emperor\\ncelebrated a triumph (176). Immediately afterwards he repaired to\\nGermany, and took up once more the burden of war. His operations were\\nfollowed by complete success; but the troubles of late years had been\\ntoo much for his constitution, at no time robust, and on March 17, 180,\\nhe died in Pannonia.\\n\\nThe good emperor was not spared domestic troubles. Faustina had borne\\nhim several children, of whom he was passionately fond. Their innocent\\nfaces may still be seen in many a sculpture gallery, recalling with odd\\neffect the dreamy countenance of their father. But they died one by\\none, and when Marcus came to his own end only one of his sons still\\nlived--the weak and worthless Commodus. On his father\\'s death Commodus,\\nwho succeeded him, undid the work of many campaigns by a hasty and\\nunwise peace; and his reign of twelve years proved him to be a ferocious\\nand bloodthirsty tyrant. Scandal has made free with the name of Faustina\\nherself, who is accused not only of unfaithfulness, but of intriguing\\nwith Cassius and egging him on to his fatal rebellion, it must be\\nadmitted that these charges rest on no sure evidence; and the emperor,\\nat all events, loved her dearly, nor ever felt the slightest qualm of\\nsuspicion.\\n\\nAs a soldier we have seen that Marcus was both capable and successful;\\nas an administrator he was prudent and conscientious. Although steeped\\nin the teachings of philosophy, he did not attempt to remodel the world\\non any preconceived plan. He trod the path beaten by his predecessors,\\nseeking only to do his duty as well as he could, and to keep out\\ncorruption. He did some unwise things, it is true. To create a compeer\\nin empire, as he did with Verus, was a dangerous innovation which could\\nonly succeed if one of the two effaced himself; and under Diocletian\\nthis very precedent caused the Roman Empire to split into halves. He\\nerred in his civil administration by too much centralising. But the\\nstrong point of his reign was the administration of justice. Marcus\\nsought by-laws to protect the weak, to make the lot of the slaves\\nless hard, to stand in place of father to the fatherless. Charitable\\nfoundations were endowed for rearing and educating poor children. The\\nprovinces were protected against oppression, and public help was given\\nto cities or districts which might be visited by calamity. The great\\nblot on his name, and one hard indeed to explain, is his treatment\\nof the Christians. In his reign Justin at Rome became a martyr to\\nhis faith, and Polycarp at Smyrna, and we know of many outbreaks of\\nfanaticism in the provinces which caused the death of the faithful. It\\nis no excuse to plead that he knew nothing about the atrocities done in\\nhis name: it was his duty to know, and if he did not he would have been\\nthe first to confess that he had failed in his duty. But from his own\\ntone in speaking of the Christians it is clear he knew them only from\\ncalumny; and we hear of no measures taken even to secure that they\\nshould have a fair hearing. In this respect Trajan was better than he.\\n\\nTo a thoughtful mind such a religion as that of Rome would give small\\nsatisfaction. Its legends were often childish or impossible; its\\nteaching had little to do with morality. The Roman religion was in fact\\nof the nature of a bargain: men paid certain sacrifices and rites, and\\nthe gods granted their favour, irrespective of right or wrong. In this\\ncase all devout souls were thrown back upon philosophy, as they had\\nbeen, though to a less extent, in Greece. There were under the early\\nempire two rival schools which practically divided the field between\\nthem, Stoicism and Epicureanism. The ideal set before each was nominally\\nmuch the same. The Stoics aspired to the repression of all emotion, and\\nthe Epicureans to freedom from all disturbance; yet in the upshot the\\none has become a synonym of stubborn endurance, the other for unbridled\\nlicence. With Epicureanism we have nothing to do now; but it will be\\nworth while to sketch the history and tenets of the Stoic sect. Zeno,\\nthe founder of Stoicism, was born in Cyprus at some date unknown, but\\nhis life may be said roughly to be between the years 350 and 250 B.C.\\nCyprus has been from time immemorial a meeting-place of the East and\\nWest, and although we cannot grant any importance to a possible strain\\nof Phoenician blood in him (for the Phoenicians were no philosophers),\\nyet it is quite likely that through Asia Minor he may have come in touch\\nwith the Far East. He studied under the cynic Crates, but he did not\\nneglect other philosophical systems. After many years\\' study he opened\\nhis own school in a colonnade in Athens called the Painted Porch, or\\nStoa, which gave the Stoics their name. Next to Zeno, the School of the\\nPorch owes most to Chrysippus (280--207 b.c.), who organised Stoicism\\ninto a system. Of him it was said, \\'But for Chrysippus, there had been\\nno Porch.\\'\\n\\nThe Stoics regarded speculation as a means to an end and that end was,\\nas Zeno put it, to live consistently omologonuenws zhn or as it was\\nlater explained, to live in conformity with nature. This conforming of\\nthe life to nature oralogoumenwz th fusei zhn. was the Stoic idea of\\nVirtue.\\n\\nThis dictum might easily be taken to mean that virtue consists in\\nyielding to each natural impulse; but that was very far from the Stoic\\nmeaning. In order to live in accord with nature, it is necessary to know\\nwhat nature is; and to this end a threefold division of philosophy is\\nmade--into Physics, dealing with the universe and its laws, the problems\\nof divine government and teleology; Logic, which trains the mind to\\ndiscern true from false; and Ethics, which applies the knowledge thus\\ngained and tested to practical life. The Stoic system of physics was\\nmaterialism with an infusion of pantheism. In contradiction to Plato\\'s\\nview that the Ideas, or Prototypes, of phenomena alone really exist,\\nthe Stoics held that material objects alone existed; but immanent in\\nthe material universe was a spiritual force which acted through them,\\nmanifesting itself under many forms, as fire, aether, spirit, soul,\\nreason, the ruling principle.\\n\\nThe universe, then, is God, of whom the popular gods are manifestations;\\nwhile legends and myths are allegorical. The soul of man is thus an\\nemanation from the godhead, into whom it will eventually be re-absorbed.\\nThe divine ruling principle makes all things work together for good,\\nbut for the good of the whole. The highest good of man is consciously\\nto work with God for the common good, and this is the sense in which\\nthe Stoic tried to live in accord with nature. In the individual it\\nis virtue alone which enables him to do this; as Providence rules the\\nuniverse, so virtue in the soul must rule man.\\n\\nIn Logic, the Stoic system is noteworthy for their theory as to the test\\nof truth, the Criterion. They compared the new-born soul to a sheet of\\npaper ready for writing. Upon this the senses write their impressions,\\nfantasias and by experience of a number of these the soul unconsciously\\nconceives general notions koinai eunoiai or anticipations. prolhyeis\\nWhen the impression was such as to be irresistible it was called\\n(katalnptikh fantasia) one that holds fast, or as they explained it,\\none proceeding from truth. Ideas and inferences artificially produced by\\ndeduction or the like were tested by this \\'holding perception.\\' Of the\\nEthical application I have already spoken. The highest good was the\\nvirtuous life. Virtue alone is happiness, and vice is unhappiness.\\nCarrying this theory to its extreme, the Stoic said that there could\\nbe no gradations between virtue and vice, though of course each has\\nits special manifestations. Moreover, nothing is good but virtue, and\\nnothing but vice is bad. Those outside things which are commonly called\\ngood or bad, such as health and sickness, wealth and poverty, pleasure\\nand pain, are to him indifferent adiofora. All these things are merely\\nthe sphere in which virtue may act. The ideal Wise Man is sufficient\\nunto himself in all things, autarkhs and knowing these truths, he will\\nbe happy even when stretched upon the rack. It is probable that no Stoic\\nclaimed for himself that he was this Wise Man, but that each strove\\nafter it as an ideal much as the Christian strives after a likeness to\\nChrist. The exaggeration in this statement was, however, so obvious,\\nthat the later Stoics were driven to make a further subdivision of\\nthings indifferent into what is preferable (prohgmena) and what is\\nundesirable. They also held that for him who had not attained to the\\nperfect wisdom, certain actions were proper. (kaqhkonta) These were\\nneither virtuous nor vicious, but, like the indifferent things, held a\\nmiddle place. Two points in the Stoic system deserve special mention.\\nOne is a careful distinction between things which are in our power and\\nthings which are not. Desire and dislike, opinion and affection, are\\nwithin the power of the will; whereas health, wealth, honour, and other\\nsuch are generally not so. The Stoic was called upon to control his\\ndesires and affections, and to guide his opinion; to bring his whole\\nbeing under the sway of the will or leading principle, just as the\\nuniverse is guided and governed by divine Providence. This is a special\\napplication of the favourite Greek virtue of moderation, (swfrosuum) and\\nhas also its parallel in Christian ethics. The second point is a strong\\ninsistence on the unity of the universe, and on man\\'s duty as part of a\\ngreat whole. Public spirit was the most splendid political virtue of the\\nancient world, and it is here made cosmopolitan. It is again instructive\\nto note that Christian sages insisted on the same thing. Christians\\nare taught that they are members of a worldwide brotherhood, where is\\nneither Greek nor Hebrew, bond nor free and that they live their lives\\nas fellow-workers with God.\\n\\nSuch is the system which underlies the Meditations of Marcus Aurelius.\\nSome knowledge of it is necessary to the right understanding of the\\nbook, but for us the chief interest lies elsewhere. We do not come to\\nMarcus Aurelius for a treatise on Stoicism. He is no head of a school to\\nlay down a body of doctrine for students; he does not even contemplate\\nthat others should read what he writes. His philosophy is not an eager\\nintellectual inquiry, but more what we should call religious feeling.\\nThe uncompromising stiffness of Zeno or Chrysippus is softened and\\ntransformed by passing through a nature reverent and tolerant, gentle\\nand free from guile; the grim resignation which made life possible to\\nthe Stoic sage becomes in him almost a mood of aspiration. His book\\nrecords the innermost thoughts of his heart, set down to ease it, with\\nsuch moral maxims and reflections as may help him to bear the burden of\\nduty and the countless annoyances of a busy life.\\n\\nIt is instructive to compare the Meditations with another famous book,\\nthe Imitation of Christ. There is the same ideal of self-control in\\nboth. It should be a man\\'s task, says the Imitation, \\'to overcome\\nhimself, and every day to be stronger than himself.\\' \\'In withstanding of\\nthe passions standeth very peace of heart.\\' \\'Let us set the axe to the\\nroot, that we being purged of our passions may have a peaceable mind.\\'\\nTo this end there must be continual self-examination. \\'If thou may not\\ncontinually gather thyself together, namely sometimes do it, at least\\nonce a day, the morning or the evening. In the morning purpose, in the\\nevening discuss the manner, what thou hast been this day, in word, work,\\nand thought.\\' But while the Roman\\'s temper is a modest self-reliance,\\nthe Christian aims at a more passive mood, humbleness and meekness,\\nand reliance on the presence and personal friendship of God. The Roman\\nscrutinises his faults with severity, but without the self-contempt\\nwhich makes the Christian \\'vile in his own sight.\\' The Christian, like\\nthe Roman, bids \\'study to withdraw thine heart from the love of things\\nvisible\\'; but it is not the busy life of duty he has in mind so much as\\nthe contempt of all worldly things, and the \\'cutting away of all\\nlower delectations.\\' Both rate men\\'s praise or blame at their real\\nworthlessness; \\'Let not thy peace,\\' says the Christian, \\'be in the\\nmouths of men.\\' But it is to God\\'s censure the Christian appeals, the\\nRoman to his own soul. The petty annoyances of injustice or unkindness\\nare looked on by each with the same magnanimity. \\'Why doth a little\\nthing said or done against thee make thee sorry? It is no new thing; it\\nis not the first, nor shall it be the last, if thou live long. At best\\nsuffer patiently, if thou canst not suffer joyously.\\' The Christian\\nshould sorrow more for other men\\'s malice than for our own wrongs; but\\nthe Roman is inclined to wash his hands of the offender. \\'Study to be\\npatient in suffering and bearing other men\\'s defaults and all manner\\ninfirmities,\\' says the Christian; but the Roman would never have thought\\nto add, \\'If all men were perfect, what had we then to suffer of other\\nmen for God?\\' The virtue of suffering in itself is an idea which does\\nnot meet us in the Meditations. Both alike realise that man is one of a\\ngreat community. \\'No man is sufficient to himself,\\' says the Christian;\\n\\'we must bear together, help together, comfort together.\\' But while\\nhe sees a chief importance in zeal, in exalted emotion that is, and\\navoidance of lukewarmness, the Roman thought mainly of the duty to be\\ndone as well as might be, and less of the feeling which should go with\\nthe doing of it. To the saint as to the emperor, the world is a poor\\nthing at best. \\'Verily it is a misery to live upon the earth,\\' says the\\nChristian; few and evil are the days of man\\'s life, which passeth away\\nsuddenly as a shadow.\\n\\nBut there is one great difference between the two books we are\\nconsidering. The Imitation is addressed to others, the Meditations\\nby the writer to himself. We learn nothing from the Imitation of\\nthe author\\'s own life, except in so far as he may be assumed to have\\npractised his own preachings; the Meditations reflect mood by mood the\\nmind of him who wrote them. In their intimacy and frankness lies their\\ngreat charm. These notes are not sermons; they are not even confessions.\\nThere is always an air of self-consciousness in confessions; in such\\nrevelations there is always a danger of unctuousness or of vulgarity for\\nthe best of men. St. Augus-tine is not always clear of offence, and John\\nBunyan himself exaggerates venial peccadilloes into heinous sins. But\\nMarcus Aurelius is neither vulgar nor unctuous; he extenuates nothing,\\nbut nothing sets down in malice. He never poses before an audience; he\\nmay not be profound, he is always sincere. And it is a lofty and serene\\nsoul which is here disclosed before us. Vulgar vices seem to have no\\ntemptation for him; this is not one tied and bound with chains which\\nhe strives to break. The faults he detects in himself are often such as\\nmost men would have no eyes to see. To serve the divine spirit which\\nis implanted within him, a man must \\'keep himself pure from all violent\\npassion and evil affection, from all rashness and vanity, and from all\\nmanner of discontent, either in regard of the gods or men\\': or, as he\\nsays elsewhere, \\'unspotted by pleasure, undaunted by pain.\\' Unwavering\\ncourtesy and consideration are his aims. \\'Whatsoever any man either\\ndoth or saith, thou must be good;\\' \\'doth any man offend? It is against\\nhimself that he doth offend: why should it trouble thee?\\' The offender\\nneeds pity, not wrath; those who must needs be corrected, should be\\ntreated with tact and gentleness; and one must be always ready to learn\\nbetter. \\'The best kind of revenge is, not to become like unto them.\\'\\nThere are so many hints of offence forgiven, that we may believe the\\nnotes followed sharp on the facts. Perhaps he has fallen short of his\\naim, and thus seeks to call his principles to mind, and to strengthen\\nhimself for the future. That these sayings are not mere talk is plain\\nfrom the story of Avidius Cassius, who would have usurped his imperial\\nthrone. Thus the emperor faithfully carries out his own principle, that\\nevil must be overcome with good. For each fault in others, Nature (says\\nhe) has given us a counteracting virtue; \\'as, for example, against the\\nunthankful, it hath given goodness and meekness, as an antidote.\\'\\n\\nOne so gentle towards a foe was sure to be a good friend; and indeed his\\npages are full of generous gratitude to those who had served him. In his\\nFirst Book he sets down to account all the debts due to his kinsfolk\\nand teachers. To his grandfather he owed his own gentle spirit, to\\nhis father shamefastness and courage; he learnt of his mother to be\\nreligious and bountiful and single-minded. Rusticus did not work in\\nvain, if he showed his pupil that his life needed amending. Apollonius\\ntaught him simplicity, reasonableness, gratitude, a love of true\\nliberty. So the list runs on; every one he had dealings with seems\\nto have given him something good, a sure proof of the goodness of his\\nnature, which thought no evil.\\n\\nIf his was that honest and true heart which is the Christian ideal, this\\nis the more wonderful in that he lacked the faith which makes Christians\\nstrong. He could say, it is true, \\'either there is a God, and then all\\nis well; or if all things go by chance and fortune, yet mayest thou use\\nthine own providence in those things that concern thee properly; and\\nthen art thou well.\\' Or again, \\'We must needs grant that there is a\\nnature that doth govern the universe.\\' But his own part in the scheme\\nof things is so small, that he does not hope for any personal happiness\\nbeyond what a serene soul may win in this mortal life. \\'O my soul, the\\ntime I trust will be, when thou shalt be good, simple, more open and\\nvisible, than that body by which it is enclosed;\\' but this is said of\\nthe calm contentment with human lot which he hopes to attain, not of a\\ntime when the trammels of the body shall be cast off. For the rest, the\\nworld and its fame and wealth, \\'all is vanity.\\' The gods may perhaps\\nhave a particular care for him, but their especial care is for the\\nuniverse at large: thus much should suffice. His gods are better than\\nthe Stoic gods, who sit aloof from all human things, untroubled and\\nuncaring, but his personal hope is hardly stronger. On this point he\\nsays little, though there are many allusions to death as the natural\\nend; doubtless he expected his soul one day to be absorbed into the\\nuniversal soul, since nothing comes out of nothing, and nothing can be\\nannihilated. His mood is one of strenuous weariness; he does his duty as\\na good soldier, waiting for the sound of the trumpet which shall sound\\nthe retreat; he has not that cheerful confidence which led Socrates\\nthrough a life no less noble, to a death which was to bring him into the\\ncompany of gods he had worshipped and men whom he had revered.\\n\\nBut although Marcus Aurelius may have held intellectually that his soul\\nwas destined to be absorbed, and to lose consciousness of itself, there\\nwere times when he felt, as all who hold it must sometimes feel, how\\nunsatisfying is such a creed. Then he gropes blindly after something\\nless empty and vain. \\'Thou hast taken ship,\\' he says, \\'thou hast sailed,\\nthou art come to land, go out, if to another life, there also shalt\\nthou find gods, who are everywhere.\\' There is more in this than the\\nassumption of a rival theory for argument\\'s sake. If worldly things\\n\\'be but as a dream, the thought is not far off that there may be an\\nawakening to what is real. When he speaks of death as a necessary\\nchange, and points out that nothing useful and profitable can be brought\\nabout without change, did he perhaps think of the change in a corn of\\nwheat, which is not quickened except it die? Nature\\'s marvellous power\\nof recreating out of Corruption is surely not confined to bodily things.\\nMany of his thoughts sound like far-off echoes of St. Paul; and it is\\nstrange indeed that this most Christian of emperors has nothing good\\nto say of the Christians. To him they are only sectaries \\'violently and\\npassionately set upon opposition.\\n\\nProfound as philosophy these Meditations certainly are not; but Marcus\\nAurelius was too sincere not to see the essence of such things as\\ncame within his experience. Ancient religions were for the most\\npart concerned with outward things. Do the necessary rites, and you\\npropitiate the gods; and these rites were often trivial, sometimes\\nviolated right feeling or even morality. Even when the gods stood on the\\nside of righteousness, they were concerned with the act more than with\\nthe intent. But Marcus Aurelius knows that what the heart is full of,\\nthe man will do. \\'Such as thy thoughts and ordinary cogitations are,\\' he\\nsays, \\'such will thy mind be in time.\\' And every page of the book shows\\nus that he knew thought was sure to issue in act. He drills his soul, as\\nit were, in right principles, that when the time comes, it may be guided\\nby them. To wait until the emergency is to be too late. He sees also the\\ntrue essence of happiness. \\'If happiness did consist in pleasure,\\nhow came notorious robbers, impure abominable livers, parricides, and\\ntyrants, in so large a measure to have their part of pleasures?\\' He who\\nhad all the world\\'s pleasures at command can write thus \\'A happy lot and\\nportion is, good inclinations of the soul, good desires, good actions.\\'\\n\\nBy the irony of fate this man, so gentle and good, so desirous of quiet\\njoys and a mind free from care, was set at the head of the Roman Empire\\nwhen great dangers threatened from east and west. For several years he\\nhimself commanded his armies in chief. In camp before the Quadi he dates\\nthe first book of his Meditations, and shows how he could retire within\\nhimself amid the coarse clangour of arms. The pomps and glories which\\nhe despised were all his; what to most men is an ambition or a dream, to\\nhim was a round of weary tasks which nothing but the stern sense of duty\\ncould carry him through. And he did his work well. His wars were slow\\nand tedious, but successful. With a statesman\\'s wisdom he foresaw the\\ndanger to Rome of the barbarian hordes from the north, and took measures\\nto meet it. As it was, his settlement gave two centuries of respite\\nto the Roman Empire; had he fulfilled the plan of pushing the imperial\\nfrontiers to the Elbe, which seems to have been in his mind, much more\\nmight have been accomplished. But death cut short his designs.\\n\\nTruly a rare opportunity was given to Marcus Aurelius of showing what\\nthe mind can do in despite of circumstances. Most peaceful of warriors,\\na magnificent monarch whose ideal was quiet happiness in home life, bent\\nto obscurity yet born to greatness, the loving father of children who\\ndied young or turned out hateful, his life was one paradox. That nothing\\nmight lack, it was in camp before the face of the enemy that he passed\\naway and went to his own place.\\n\\nTranslations THE following is a list of the chief English translations\\nof Marcus Aurelius: (1) By Meric Casaubon, 1634; (2) Jeremy Collier,\\n1701; (3) James Thomson, 1747; (4) R. Graves, 1792; (5) H. McCormac,\\n1844; (6) George Long, 1862; (7) G. H. Rendall, 1898; and (8) J.\\nJackson, 1906. Renan\\'s \"Marc-Aurèle\"--in his \"History of the Origins of\\nChristianity,\" which appeared in 1882--is the most vital and original\\nbook to be had relating to the time of Marcus Aurelius. Pater\\'s \"Marius\\nthe Epicurean\" forms another outside commentary, which is of service in\\nthe imaginative attempt to create again the period.\\n\\n\\n\\n\\nMARCUS AURELIUS ANTONINUS THE ROMAN EMPEROR\\n\\n\\n\\n\\nHIS FIRST BOOK\\n\\nconcerning HIMSELF:\\n\\nWherein Antoninus recordeth, What and of whom, whether Parents, Friends,\\nor Masters; by their good examples, or good advice and counsel, he had\\nlearned:\\n\\nDivided into Numbers or Sections.\\n\\nANTONINUS Book vi. Num. xlviii. Whensoever thou wilt rejoice thyself,\\nthink and meditate upon those good parts and especial gifts, which thou\\nhast observed in any of them that live with thee:\\n\\nas industry in one, in another modesty, in another bountifulness, in\\nanother some other thing. For nothing can so much rejoice thee, as\\nthe resemblances and parallels of several virtues, eminent in the\\ndispositions of them that live with thee, especially when all at once,\\nas it were, they represent themselves unto thee. See therefore, that\\nthou have them always in a readiness.\\n\\n\\nTHE FIRST BOOK\\n\\nI. Of my grandfather Verus I have learned to be gentle and meek, and to\\nrefrain from all anger and passion. From the fame and memory of him that\\nbegot me I have learned both shamefastness and manlike behaviour. Of my\\nmother I have learned to be religious, and bountiful; and to forbear,\\nnot only to do, but to intend any evil; to content myself with a spare\\ndiet, and to fly all such excess as is incidental to great wealth. Of my\\ngreat-grandfather, both to frequent public schools and auditories, and\\nto get me good and able teachers at home; and that I ought not to think\\nmuch, if upon such occasions, I were at excessive charges.\\n\\nII. Of him that brought me up, not to be fondly addicted to either of\\nthe two great factions of the coursers in the circus, called Prasini,\\nand Veneti: nor in the amphitheatre partially to favour any of the\\ngladiators, or fencers, as either the Parmularii, or the Secutores.\\nMoreover, to endure labour; nor to need many things; when I have\\nanything to do, to do it myself rather than by others; not to meddle\\nwith many businesses; and not easily to admit of any slander.\\n\\nIII. Of Diognetus, not to busy myself about vain things, and not easily\\nto believe those things, which are commonly spoken, by such as take upon\\nthem to work wonders, and by sorcerers, or prestidigitators, and\\nimpostors; concerning the power of charms, and their driving out of\\ndemons, or evil spirits; and the like. Not to keep quails for the game;\\nnor to be mad after such things. Not to be offended with other men\\'s\\nliberty of speech, and to apply myself unto philosophy. Him also I must\\nthank, that ever I heard first Bacchius, then Tandasis and Marcianus,\\nand that I did write dialogues in my youth; and that I took liking to\\nthe philosophers\\' little couch and skins, and such other things, which\\nby the Grecian discipline are proper to those who profess philosophy.\\n\\nIV. To Rusticus I am beholding, that I first entered into the conceit\\nthat my life wanted some redress and cure. And then, that I did not\\nfall into the ambition of ordinary sophists, either to write tracts\\nconcerning the common theorems, or to exhort men unto virtue and the\\nstudy of philosophy by public orations; as also that I never by way of\\nostentation did affect to show myself an active able man, for any kind\\nof bodily exercises. And that I gave over the study of rhetoric and\\npoetry, and of elegant neat language. That I did not use to walk about\\nthe house in my long robe, nor to do any such things. Moreover I learned\\nof him to write letters without any affectation, or curiosity; such as\\nthat was, which by him was written to my mother from Sinuessa: and to be\\neasy and ready to be reconciled, and well pleased again with them that\\nhad offended me, as soon as any of them would be content to seek unto\\nme again. To read with diligence; not to rest satisfied with a light and\\nsuperficial knowledge, nor quickly to assent to things commonly spoken\\nof: whom also I must thank that ever I lighted upon Epictetus his\\nHypomnemata, or moral commentaries and common-factions: which also he\\ngave me of his own.\\n\\nV. From Apollonius, true liberty, and unvariable steadfastness, and not\\nto regard anything at all, though never so little, but right and reason:\\nand always, whether in the sharpest pains, or after the loss of a child,\\nor in long diseases, to be still the same man; who also was a present\\nand visible example unto me, that it was possible for the same man to\\nbe both vehement and remiss: a man not subject to be vexed, and offended\\nwith the incapacity of his scholars and auditors in his lectures and\\nexpositions; and a true pattern of a man who of all his good gifts\\nand faculties, least esteemed in himself, that his excellent skill and\\nability to teach and persuade others the common theorems and maxims of\\nthe Stoic philosophy. Of him also I learned how to receive favours and\\nkindnesses (as commonly they are accounted:) from friends, so that I\\nmight not become obnoxious unto them, for them, nor more yielding upon\\noccasion, than in right I ought; and yet so that I should not pass them\\nneither, as an unsensible and unthankful man.\\n\\nVI. Of Sextus, mildness and the pattern of a family governed with\\npaternal affection; and a purpose to live according to nature: to be\\ngrave without affectation: to observe carefully the several dispositions\\nof my friends, not to be offended with idiots, nor unseasonably to set\\nupon those that are carried with the vulgar opinions, with the theorems,\\nand tenets of philosophers: his conversation being an example how a man\\nmight accommodate himself to all men and companies; so that though his\\ncompany were sweeter and more pleasing than any flatterer\\'s cogging and\\nfawning; yet was it at the same time most respected and reverenced: who\\nalso had a proper happiness and faculty, rationally and methodically to\\nfind out, and set in order all necessary determinations and instructions\\nfor a man\\'s life. A man without ever the least appearance of anger, or\\nany other passion; able at the same time most exactly to observe the\\nStoic Apathia, or unpassionateness, and yet to be most tender-hearted:\\never of good credit; and yet almost without any noise, or rumour: very\\nlearned, and yet making little show.\\n\\nVII. From Alexander the Grammarian, to be un-reprovable myself, and not\\nreproachfully to reprehend any man for a barbarism, or a solecism, or\\nany false pronunciation, but dextrously by way of answer, or testimony,\\nor confirmation of the same matter (taking no notice of the word) to\\nutter it as it should have been spoken; or by some other such close and\\nindirect admonition, handsomely and civilly to tell him of it.\\n\\nVIII. Of Fronto, to how much envy and fraud and hypocrisy the state of a\\ntyrannous king is subject unto, and how they who are commonly called\\n[Eupatridas Gk.], i.e. nobly born, are in some sort incapable, or void\\nof natural affection.\\n\\nIX. Of Alexander the Platonic, not often nor without great necessity to\\nsay, or to write to any man in a letter, \\'I am not at leisure\\'; nor in\\nthis manner still to put off those duties, which we owe to our friends\\nand acquaintances (to every one in his kind) under pretence of urgent\\naffairs.\\n\\nX. Of Catulus, not to contemn any friend\\'s expostulation, though unjust,\\nbut to strive to reduce him to his former disposition: freely and\\nheartily to speak well of all my masters upon any occasion, as it is\\nreported of Domitius, and Athenodotus: and to love my children with true\\naffection.\\n\\nXI. From my brother Severus, to be kind and loving to all them of my\\nhouse and family; by whom also I came to the knowledge of Thrasea and\\nHelvidius, and Cato, and Dio, and Brutus. He it was also that did put me\\nin the first conceit and desire of an equal commonwealth, administered\\nby justice and equality; and of a kingdom wherein should be regarded\\nnothing more than the good and welfare of the subjects. Of him also,\\nto observe a constant tenor, (not interrupted, with any other cares and\\ndistractions,) in the study and esteem of philosophy: to be bountiful\\nand liberal in the largest measure; always to hope the best; and to\\nbe confident that my friends love me. In whom I moreover observed open\\ndealing towards those whom he reproved at any time, and that his friends\\nmight without all doubt or much observation know what he would, or would\\nnot, so open and plain was he.\\n\\nXII. From Claudius Maximus, in all things to endeavour to have power\\nof myself, and in nothing to be carried about; to be cheerful and\\ncourageous in all sudden chances and accidents, as in sicknesses: to\\nlove mildness, and moderation, and gravity: and to do my business,\\nwhatsoever it be, thoroughly, and without querulousness. Whatsoever\\nhe said, all men believed him that as he spake, so he thought, and\\nwhatsoever he did, that he did it with a good intent. His manner was,\\nnever to wonder at anything; never to be in haste, and yet never\\nslow: nor to be perplexed, or dejected, or at any time unseemly, or\\nexcessively to laugh: nor to be angry, or suspicious, but ever ready to\\ndo good, and to forgive, and to speak truth; and all this, as one that\\nseemed rather of himself to have been straight and right, than ever to\\nhave been rectified or redressed; neither was there any man that ever\\nthought himself undervalued by him, or that could find in his heart, to\\nthink himself a better man than he. He would also be very pleasant and\\ngracious.\\n\\nXIII. In my father, I observed his meekness; his constancy without\\nwavering in those things, which after a due examination and\\ndeliberation, he had determined. How free from all vanity he carried\\nhimself in matter of honour and dignity, (as they are esteemed:) his\\nlaboriousness and assiduity, his readiness to hear any man, that had\\naught to say tending to any common good: how generally and impartially\\nhe would give every man his due; his skill and knowledge, when rigour\\nor extremity, or when remissness or moderation was in season; how he did\\nabstain from all unchaste love of youths; his moderate condescending to\\nother men\\'s occasions as an ordinary man, neither absolutely requiring\\nof his friends, that they should wait upon him at his ordinary meals,\\nnor that they should of necessity accompany him in his journeys; and\\nthat whensoever any business upon some necessary occasions was to be put\\noff and omitted before it could be ended, he was ever found when he\\nwent about it again, the same man that he was before. His accurate\\nexamination of things in consultations, and patient hearing of others.\\nHe would not hastily give over the search of the matter, as one easy to\\nbe satisfied with sudden notions and apprehensions. His care to preserve\\nhis friends; how neither at any time he would carry himself towards them\\nwith disdainful neglect, and grow weary of them; nor yet at any time\\nbe madly fond of them. His contented mind in all things, his cheerful\\ncountenance, his care to foresee things afar off, and to take order for\\nthe least, without any noise or clamour. Moreover how all acclamations\\nand flattery were repressed by him: how carefully he observed all things\\nnecessary to the government, and kept an account of the common expenses,\\nand how patiently he did abide that he was reprehended by some for this\\nhis strict and rigid kind of dealing. How he was neither a superstitious\\nworshipper of the gods, nor an ambitious pleaser of men, or studious of\\npopular applause; but sober in all things, and everywhere observant of\\nthat which was fitting; no affecter of novelties: in those things which\\nconduced to his ease and convenience, (plenty whereof his fortune\\ndid afford him,) without pride and bragging, yet with all freedom and\\nliberty: so that as he did freely enjoy them without any anxiety or\\naffectation when they were present; so when absent, he found no want\\nof them. Moreover, that he was never commended by any man, as either a\\nlearned acute man, or an obsequious officious man, or a fine orator; but\\nas a ripe mature man, a perfect sound man; one that could not endure to\\nbe flattered; able to govern both himself and others. Moreover, how much\\nhe did honour all true philosophers, without upbraiding those that were\\nnot so; his sociableness, his gracious and delightful conversation, but\\nnever unto satiety; his care of his body within bounds and measure,\\nnot as one that desired to live long, or over-studious of neatness, and\\nelegancy; and yet not as one that did not regard it: so that through his\\nown care and providence, he seldom needed any inward physic, or outward\\napplications: but especially how ingeniously he would yield to any that\\nhad obtained any peculiar faculty, as either eloquence, or the knowledge\\nof the laws, or of ancient customs, or the like; and how he concurred\\nwith them, in his best care and endeavour that every one of them might\\nin his kind, for that wherein he excelled, be regarded and esteemed: and\\nalthough he did all things carefully after the ancient customs of his\\nforefathers, yet even of this was he not desirous that men should take\\nnotice, that he did imitate ancient customs. Again, how he was not\\neasily moved and tossed up and down, but loved to be constant, both in\\nthe same places and businesses; and how after his great fits of headache\\nhe would return fresh and vigorous to his wonted affairs. Again, that\\nsecrets he neither had many, nor often, and such only as concerned\\npublic matters: his discretion and moderation, in exhibiting of the\\npublic sights and shows for the pleasure and pastime of the people: in\\npublic buildings. congiaries, and the like. In all these things,\\nhaving a respect unto men only as men, and to the equity of the things\\nthemselves, and not unto the glory that might follow. Never wont to\\nuse the baths at unseasonable hours; no builder; never curious, or\\nsolicitous, either about his meat, or about the workmanship, or colour\\nof his clothes, or about anything that belonged to external beauty.\\nIn all his conversation, far from all inhumanity, all boldness, and\\nincivility, all greediness and impetuosity; never doing anything with\\nsuch earnestness, and intention, that a man could say of him, that\\nhe did sweat about it: but contrariwise, all things distinctly, as at\\nleisure; without trouble; orderly, soundly, and agreeably. A man might\\nhave applied that to him, which is recorded of Socrates, that he knew\\nhow to want, and to enjoy those things, in the want whereof, most men\\nshow themselves weak; and in the fruition, intemperate: but to hold out\\nfirm and constant, and to keep within the compass of true moderation and\\nsobriety in either estate, is proper to a man, who hath a perfect and\\ninvincible soul; such as he showed himself in the sickness of Maximus.\\n\\nXIV. From the gods I received that I had good grandfathers, and parents,\\na good sister, good masters, good domestics, loving kinsmen, almost all\\nthat I have; and that I never through haste and rashness transgressed\\nagainst any of them, notwithstanding that my disposition was such,\\nas that such a thing (if occasion had been) might very well have been\\ncommitted by me, but that It was the mercy of the gods, to prevent such\\na concurring of matters and occasions, as might make me to incur this\\nblame. That I was not long brought up by the concubine of my father;\\nthat I preserved the flower of my youth. That I took not upon me to be\\na man before my time, but rather put it off longer than I needed. That\\nI lived under the government of my lord and father, who would take\\naway from me all pride and vainglory, and reduce me to that conceit and\\nopinion that it was not impossible for a prince to live in the court\\nwithout a troop of guards and followers, extraordinary apparel, such\\nand such torches and statues, and other like particulars of state and\\nmagnificence; but that a man may reduce and contract himself almost to\\nthe state of a private man, and yet for all that not to become the more\\nbase and remiss in those public matters and affairs, wherein power and\\nauthority is requisite. That I have had such a brother, who by his own\\nexample might stir me up to think of myself; and by his respect and\\nlove, delight and please me. That I have got ingenuous children, and\\nthat they were not born distorted, nor with any other natural deformity.\\nThat I was no great proficient in the study of rhetoric and poetry, and\\nof other faculties, which perchance I might have dwelt upon, if I had\\nfound myself to go on in them with success. That I did by times prefer\\nthose, by whom I was brought up, to such places and dignities, which\\nthey seemed unto me most to desire; and that I did not put them off with\\nhope and expectation, that (since that they were yet but young) I would\\ndo the same hereafter. That I ever knew Apollonius and Rusticus, and\\nMaximus. That I have had occasion often and effectually to consider and\\nmeditate with myself, concerning that life which is according to nature,\\nwhat the nature and manner of it is: so that as for the gods and such\\nsuggestions, helps and inspirations, as might be expected from them,\\nnothing did hinder, but that I might have begun long before to live\\naccording to nature; or that even now that I was not yet partaker and\\nin present possession of that life, that I myself (in that I did not\\nobserve those inward motions, and suggestions, yea and almost plain and\\napparent instructions and admonitions of the gods,) was the only cause\\nof it. That my body in such a life, hath been able to hold out so long.\\nThat I never had to do with Benedicta and Theodotus, yea and afterwards\\nwhen I fell into some fits of love, I was soon cured. That having been\\noften displeased with Rusticus, I never did him anything for which\\nafterwards I had occasion to repent. That it being so that my mother was\\nto die young, yet she lived with me all her latter years. That as often\\nas I had a purpose to help and succour any that either were poor, or\\nfallen into some present necessity, I never was answered by my officers\\nthat there was not ready money enough to do it; and that I myself never\\nhad occasion to require the like succour from any other. That I have\\nsuch a wife, so obedient, so loving, so ingenuous. That I had choice of\\nfit and able men, to whom I might commit the bringing up of my children.\\nThat by dreams I have received help, as for other things, so in\\nparticular, how I might stay my casting of blood, and cure my dizziness,\\nas that also that happened to thee in Cajeta, as unto Chryses when he\\nprayed by the seashore. And when I did first apply myself to philosophy,\\nthat I did not fall into the hands of some sophists, or spent my time\\neither in reading the manifold volumes of ordinary philosophers, nor in\\npractising myself in the solution of arguments and fallacies, nor dwelt\\nupon the studies of the meteors, and other natural curiosities. All\\nthese things without the assistance of the gods, and fortune, could not\\nhave been.\\n\\nXV. In the country of the Quadi at Granua, these. Betimes in the morning\\nsay to thyself, This day I shalt have to do with an idle curious man,\\nwith an unthankful man, a railer, a crafty, false, or an envious man; an\\nunsociable uncharitable man. All these ill qualities have happened unto\\nthem, through ignorance of that which is truly good and truly bad. But I\\nthat understand the nature of that which is good, that it only is to\\nbe desired, and of that which is bad, that it only is truly odious and\\nshameful: who know moreover, that this transgressor, whosoever he be, is\\nmy kinsman, not by the same blood and seed, but by participation of the\\nsame reason, and of the same divine particle; How can I either be\\nhurt by any of those, since it is not in their power to make me incur\\nanything that is truly reproachful? or angry, and ill affected towards\\nhim, who by nature is so near unto me? for we are all born to be\\nfellow-workers, as the feet, the hands, and the eyelids; as the rows of\\nthe upper and under teeth: for such therefore to be in opposition, is\\nagainst nature; and what is it to chafe at, and to be averse from, but\\nto be in opposition?\\n\\nXVI. Whatsoever I am, is either flesh, or life, or that which we\\ncommonly call the mistress and overruling part of man; reason. Away with\\nthy books, suffer not thy mind any more to be distracted, and carried to\\nand fro; for it will not be; but as even now ready to die, think little\\nof thy flesh: blood, bones, and a skin; a pretty piece of knit and\\ntwisted work, consisting of nerves, veins and arteries; think no more of\\nit, than so. And as for thy life, consider what it is; a wind; not one\\nconstant wind neither, but every moment of an hour let out, and sucked\\nin again. The third, is thy ruling part; and here consider; Thou art an\\nold man; suffer not that excellent part to be brought in subjection, and\\nto become slavish: suffer it not to be drawn up and down with\\nunreasonable and unsociable lusts and motions, as it were with wires and\\nnerves; suffer it not any more, either to repine at anything now\\npresent, or to fear and fly anything to come, which the destiny hath\\nappointed thee.\\n\\nXVII. Whatsoever proceeds from the gods immediately, that any man will\\ngrant totally depends from their divine providence. As for those\\nthings that are commonly said to happen by fortune, even those must be\\nconceived to have dependence from nature, or from that first and general\\nconnection, and concatenation of all those things, which more apparently\\nby the divine providence are administered and brought to pass.\\nAll things flow from thence: and whatsoever it is that is, is both\\nnecessary, and conducing to the whole (part of which thou art), and\\nwhatsoever it is that is requisite and necessary for the preservation of\\nthe general, must of necessity for every particular nature, be good and\\nbehoveful. And as for the whole, it is preserved, as by the perpetual\\nmutation and conversion of the simple elements one into another, so\\nalso by the mutation, and alteration of things mixed and compounded. Let\\nthese things suffice thee; let them be always unto thee, as thy general\\nrules and precepts. As for thy thirst after books, away with it with all\\nspeed, that thou die not murmuring and complaining, but truly meek and\\nwell satisfied, and from thy heart thankful unto the gods.\\n\\n\\n\\n\\nTHE SECOND BOOK\\n\\nI. Remember how long thou hast already put off these things, and how\\noften a certain day and hour as it were, having been set unto thee by\\nthe gods, thou hast neglected it. It is high time for thee to understand\\nthe true nature both of the world, whereof thou art a part; and of that\\nLord and Governor of the world, from whom, as a channel from the spring,\\nthou thyself didst flow: and that there is but a certain limit of time\\nappointed unto thee, which if thou shalt not make use of to calm and\\nallay the many distempers of thy soul, it will pass away and thou with\\nit, and never after return.\\n\\nII. Let it be thy earnest and incessant care as a Roman and a man to\\nperform whatsoever it is that thou art about, with true and unfeigned\\ngravity, natural affection, freedom and justice: and as for all other\\ncares, and imaginations, how thou mayest ease thy mind of them. Which\\nthou shalt do; if thou shalt go about every action as thy last action,\\nfree from all vanity, all passionate and wilful aberration from reason,\\nand from all hypocrisy, and self-love, and dislike of those things,\\nwhich by the fates or appointment of God have happened unto thee. Thou\\nseest that those things, which for a man to hold on in a prosperous\\ncourse, and to live a divine life, are requisite and necessary, are not\\nmany, for the gods will require no more of any man, that shall but keep\\nand observe these things.\\n\\nIII. Do, soul, do; abuse and contemn thyself; yet a while and the time\\nfor thee to respect thyself, will be at an end. Every man\\'s happiness\\ndepends from himself, but behold thy life is almost at an end, whiles\\naffording thyself no respect, thou dost make thy happiness to consist in\\nthe souls, and conceits of other men.\\n\\nIV. Why should any of these things that happen externally, so much\\ndistract thee? Give thyself leisure to learn some good thing, and cease\\nroving and wandering to and fro. Thou must also take heed of another\\nkind of wandering, for they are idle in their actions, who toil and\\nlabour in this life, and have no certain scope to which to direct all\\ntheir motions, and desires. V. For not observing the state of another\\nman\\'s soul, scarce was ever any man known to be unhappy. Tell whosoever\\nthey be that intend not, and guide not by reason and discretion the\\nmotions of their own souls, they must of necessity be unhappy.\\n\\nVI. These things thou must always have in mind: What is the nature\\nof the universe, and what is mine--in particular: This unto that what\\nrelation it hath: what kind of part, of what kind of universe it is: And\\nthat there is nobody that can hinder thee, but that thou mayest always\\nboth do and speak those things which are agreeable to that nature,\\nwhereof thou art a part.\\n\\nVII. Theophrastus, where he compares sin with sin (as after a vulgar\\nsense such things I grant may be compared:) says well and like a\\nphilosopher, that those sins are greater which are committed through\\nlust, than those which are committed through anger. For he that is angry\\nseems with a kind of grief and close contraction of himself, to turn\\naway from reason; but he that sins through lust, being overcome by\\npleasure, doth in his very sin bewray a more impotent, and unmanlike\\ndisposition. Well then and like a philosopher doth he say, that he of\\nthe two is the more to be condemned, that sins with pleasure, than he\\nthat sins with grief. For indeed this latter may seem first to have been\\nwronged, and so in some manner through grief thereof to have been forced\\nto be angry, whereas he who through lust doth commit anything, did of\\nhimself merely resolve upon that action.\\n\\nVIII. Whatsoever thou dost affect, whatsoever thou dost project, so do,\\nand so project all, as one who, for aught thou knowest, may at this very\\npresent depart out of this life. And as for death, if there be any gods,\\nit is no grievous thing to leave the society of men. The gods will do\\nthee no hurt, thou mayest be sure. But if it be so that there be no\\ngods, or that they take no care of the world, why should I desire to\\nlive in a world void of gods, and of all divine providence? But gods\\nthere be certainly, and they take care for the world; and as for those\\nthings which be truly evil, as vice and wickedness, such things they\\nhave put in a man\\'s own power, that he might avoid them if he would: and\\nhad there been anything besides that had been truly bad and evil, they\\nwould have had a care of that also, that a man might have avoided it.\\nBut why should that be thought to hurt and prejudice a man\\'s life in\\nthis world, which cannot any ways make man himself the better, or the\\nworse in his own person? Neither must we think that the nature of the\\nuniverse did either through ignorance pass these things, or if not as\\nignorant of them, yet as unable either to prevent, or better to order\\nand dispose them. It cannot be that she through want either of power or\\nskill, should have committed such a thing, so as to suffer all things\\nboth good and bad, equally and promiscuously, to happen unto all both\\ngood and bad. As for life therefore, and death, honour and dishonour,\\nlabour and pleasure, riches and poverty, all these things happen\\nunto men indeed, both good and bad, equally; but as things which of\\nthemselves are neither good nor bad; because of themselves, neither\\nshameful nor praiseworthy.\\n\\nIX. Consider how quickly all things are dissolved and resolved: the\\nbodies and substances themselves, into the matter and substance of the\\nworld: and their memories into the general age and time of the world.\\nConsider the nature of all worldly sensible things; of those especially,\\nwhich either ensnare by pleasure, or for their irksomeness are dreadful,\\nor for their outward lustre and show are in great esteem and request,\\nhow vile and contemptible, how base and corruptible, how destitute of\\nall true life and being they are.\\n\\nX. It is the part of a man endowed with a good understanding faculty, to\\nconsider what they themselves are in very deed, from whose bare conceits\\nand voices, honour and credit do proceed: as also what it is to die, and\\nhow if a man shall consider this by itself alone, to die, and separate\\nfrom it in his mind all those things which with it usually represent\\nthemselves unto us, he can conceive of it no otherwise, than as of a\\nwork of nature, and he that fears any work of nature, is a very child.\\nNow death, it is not only a work of nature, but also conducing to\\nnature.\\n\\nXI. Consider with thyself how man, and by what part of his, is joined\\nunto God, and how that part of man is affected, when it is said to be\\ndiffused. There is nothing more wretched than that soul, which in a kind\\nof circuit compasseth all things, searching (as he saith) even the very\\ndepths of the earth; and by all signs and conjectures prying into the\\nvery thoughts of other men\\'s souls; and yet of this, is not sensible,\\nthat it is sufficient for a man to apply himself wholly, and to confine\\nall his thoughts and cares to the tendance of that spirit which is\\nwithin him, and truly and really to serve him. His service doth consist\\nin this, that a man keep himself pure from all violent passion and\\nevil affection, from all rashness and vanity, and from all manner of\\ndiscontent, either in regard of the gods or men. For indeed whatsoever\\nproceeds from the gods, deserves respect for their worth and excellency;\\nand whatsoever proceeds from men, as they are our kinsmen, should by us\\nbe entertained, with love, always; sometimes, as proceeding from their\\nignorance, of that which is truly good and bad, (a blindness no less,\\nthan that by which we are not able to discern between white and black:)\\nwith a kind of pity and compassion also.\\n\\nXII. If thou shouldst live three thousand, or as many as ten thousands\\nof years, yet remember this, that man can part with no life properly,\\nsave with that little part of life, which he now lives: and that which\\nhe lives, is no other, than that which at every instant he parts with.\\nThat then which is longest of duration, and that which is shortest, come\\nboth to one effect. For although in regard of that which is already past\\nthere may be some inequality, yet that time which is now present and\\nin being, is equal unto all men. And that being it which we part with\\nwhensoever we die, it doth manifestly appear, that it can be but a\\nmoment of time, that we then part with. For as for that which is either\\npast or to come, a man cannot be said properly to part with it. For\\nhow should a man part with that which he hath not? These two things\\ntherefore thou must remember. First, that all things in the world from\\nall eternity, by a perpetual revolution of the same times and things\\never continued and renewed, are of one kind and nature; so that whether\\nfor a hundred or two hundred years only, or for an infinite space of\\ntime, a man see those things which are still the same, it can be no\\nmatter of great moment. And secondly, that that life which any the\\nlongest liver, or the shortest liver parts with, is for length and\\nduration the very same, for that only which is present, is that, which\\neither of them can lose, as being that only which they have; for that\\nwhich he hath not, no man can truly be said to lose.\\n\\nXIII. Remember that all is but opinion and conceit, for those things\\nare plain and apparent, which were spoken unto Monimus the Cynic; and as\\nplain and apparent is the use that may be made of those things, if that\\nwhich is true and serious in them, be received as well as that which is\\nsweet and pleasing.\\n\\nXIV. A man\\'s soul doth wrong and disrespect itself first and especially,\\nwhen as much as in itself lies it becomes an aposteme, and as it were an\\nexcrescency of the world, for to be grieved and displeased with anything\\nthat happens in the world, is direct apostacy from the nature of the\\nuniverse; part of which, all particular natures of the world, are.\\nSecondly, when she either is averse from any man, or led by contrary\\ndesires or affections, tending to his hurt and prejudice; such as are\\nthe souls of them that are angry. Thirdly, when she is overcome by any\\npleasure or pain. Fourthly, when she doth dissemble, and covertly and\\nfalsely either doth or saith anything. Fifthly, when she doth either\\naffect or endeavour anything to no certain end, but rashly and without\\ndue ratiocination and consideration, how consequent or inconsequent it\\nis to the common end. For even the least things ought not to be done,\\nwithout relation unto the end; and the end of the reasonable creatures\\nis, to follow and obey him, who is the reason as it were, and the law of\\nthis great city, and ancient commonwealth.\\n\\nXV. The time of a man\\'s life is as a point; the substance of it ever\\nflowing, the sense obscure; and the whole composition of the body\\ntending to corruption. His soul is restless, fortune uncertain, and fame\\ndoubtful; to be brief, as a stream so are all things belonging to the\\nbody; as a dream, or as a smoke, so are all that belong unto the soul.\\nOur life is a warfare, and a mere pilgrimage. Fame after life is no\\nbetter than oblivion. What is it then that will adhere and follow? Only\\none thing, philosophy. And philosophy doth consist in this, for a man to\\npreserve that spirit which is within him, from all manner of contumelies\\nand injuries, and above all pains or pleasures; never to do anything\\neither rashly, or feignedly, or hypocritically: wholly to depend from\\nhimself and his own proper actions: all things that happen unto him to\\nembrace contentedly, as coming from Him from whom he himself also came;\\nand above all things, with all meekness and a calm cheerfulness, to\\nexpect death, as being nothing else but the resolution of those\\nelements, of which every creature is composed. And if the elements\\nthemselves suffer nothing by this their perpetual conversion of one into\\nanother, that dissolution, and alteration, which is so common unto all,\\nwhy should it be feared by any? Is not this according to nature? But\\nnothing that is according to nature can be evil, whilst I was at\\nCarnuntzim.\\n\\n\\n\\n\\nTHE THIRD BOOK\\n\\nI. A man must not only consider how daily his life wasteth and\\ndecreaseth, but this also, that if he live long, he cannot be certain,\\nwhether his understanding shall continue so able and sufficient,\\nfor either discreet consideration, in matter of businesses; or for\\ncontemplation: it being the thing, whereon true knowledge of things both\\ndivine and human, doth depend. For if once he shall begin to dote,\\nhis respiration, nutrition, his imaginative, and appetitive, and other\\nnatural faculties, may still continue the same: he shall find no want of\\nthem. But how to make that right use of himself that he should, how\\nto observe exactly in all things that which is right and just, how to\\nredress and rectify all wrong, or sudden apprehensions and imaginations,\\nand even of this particular, whether he should live any longer or no, to\\nconsider duly; for all such things, wherein the best strength and vigour\\nof the mind is most requisite; his power and ability will be past and\\ngone. Thou must hasten therefore; not only because thou art every day\\nnearer unto death than other, but also because that intellective faculty\\nin thee, whereby thou art enabled to know the true nature of things, and\\nto order all thy actions by that knowledge, doth daily waste and decay:\\nor, may fail thee before thou die.\\n\\nII. This also thou must observe, that whatsoever it is that naturally\\ndoth happen to things natural, hath somewhat in itself that is pleasing\\nand delightful: as a great loaf when it is baked, some parts of it\\ncleave as it were, and part asunder, and make the crust of it rugged and\\nunequal, and yet those parts of it, though in some sort it be against\\nthe art and intention of baking itself, that they are thus cleft and\\nparted, which should have been and were first made all even and uniform,\\nthey become it well nevertheless, and have a certain peculiar property,\\nto stir the appetite. So figs are accounted fairest and ripest then,\\nwhen they begin to shrink, and wither as it were. So ripe olives, when\\nthey are next to putrefaction, then are they in their proper beauty. The\\nhanging down of grapes--the brow of a lion, the froth of a foaming wild\\nboar, and many other like things, though by themselves considered, they\\nare far from any beauty, yet because they happen naturally, they both\\nare comely, and delightful; so that if a man shall with a profound mind\\nand apprehension, consider all things in the world, even among all those\\nthings which are but mere accessories and natural appendices as it were,\\nthere will scarce appear anything unto him, wherein he will not find\\nmatter of pleasure and delight. So will he behold with as much pleasure\\nthe true rictus of wild beasts, as those which by skilful painters and\\nother artificers are imitated. So will he be able to perceive the proper\\nripeness and beauty of old age, whether in man or woman: and whatsoever\\nelse it is that is beautiful and alluring in whatsoever is, with chaste\\nand continent eyes he will soon find out and discern. Those and many\\nother things will he discern, not credible unto every one, but unto them\\nonly who are truly and familiarly acquainted, both with nature itself,\\nand all natural things.\\n\\nIII. Hippocrates having cured many sicknesses, fell sick himself and\\ndied. The Chaldeans and Astrologians having foretold the deaths of\\ndivers, were afterwards themselves surprised by the fates. Alexander and\\nPompeius, and Caius Caesar, having destroyed so many towns, and cut\\noff in the field so many thousands both of horse and foot, yet they\\nthemselves at last were fain to part with their own lives. Heraclitus\\nhaving written so many natural tracts concerning the last and general\\nconflagration of the world, died afterwards all filled with water\\nwithin, and all bedaubed with dirt and dung without. Lice killed\\nDemocritus; and Socrates, another sort of vermin, wicked ungodly men.\\nHow then stands the case? Thou hast taken ship, thou hast sailed, thou\\nart come to land, go out, if to another life, there also shalt thou find\\ngods, who are everywhere. If all life and sense shall cease, then shalt\\nthou cease also to be subject to either pains or pleasures; and to serve\\nand tend this vile cottage; so much the viler, by how much that which\\nministers unto it doth excel; the one being a rational substance, and a\\nspirit, the other nothing but earth and blood.\\n\\nIV. Spend not the remnant of thy days in thoughts and fancies concerning\\nother men, when it is not in relation to some common good, when by it\\nthou art hindered from some other better work. That is, spend not thy\\ntime in thinking, what such a man doth, and to what end: what he saith,\\nand what he thinks, and what he is about, and such other things or\\ncuriosities, which make a man to rove and wander from the care and\\nobservation of that part of himself, which is rational, and overruling.\\nSee therefore in the whole series and connection of thy thoughts, that\\nthou be careful to prevent whatsoever is idle and impertinent: but\\nespecially, whatsoever is curious and malicious: and thou must use\\nthyself to think only of such things, of which if a man upon a sudden\\nshould ask thee, what it is that thou art now thinking, thou mayest\\nanswer This, and That, freely and boldly, that so by thy thoughts it may\\npresently appear that in all thee is sincere, and peaceable; as becometh\\none that is made for society, and regards not pleasures, nor gives way\\nto any voluptuous imaginations at all: free from all contentiousness,\\nenvy, and suspicion, and from whatsoever else thou wouldest blush to\\nconfess thy thoughts were set upon. He that is such, is he surely that\\ndoth not put off to lay hold on that which is best indeed, a very priest\\nand minister of the gods, well acquainted and in good correspondence\\nwith him especially that is seated and placed within himself, as in\\na temple and sacrary: to whom also he keeps and preserves himself\\nunspotted by pleasure, undaunted by pain; free from any manner of wrong,\\nor contumely, by himself offered unto himself: not capable of any evil\\nfrom others: a wrestler of the best sort, and for the highest prize,\\nthat he may not be cast down by any passion or affection of his own;\\ndeeply dyed and drenched in righteousness, embracing and accepting with\\nhis whole heart whatsoever either happeneth or is allotted unto him. One\\nwho not often, nor without some great necessity tending to some public\\ngood, mindeth what any other, either speaks, or doth, or purposeth: for\\nthose things only that are in his own power, or that are truly his own,\\nare the objects of his employments, and his thoughts are ever taken\\nup with those things, which of the whole universe are by the fates or\\nProvidence destinated and appropriated unto himself. Those things that\\nare his own, and in his own power, he himself takes order, for that they\\nbe good: and as for those that happen unto him, he believes them to be\\nso. For that lot and portion which is assigned to every one, as it is\\nunavoidable and necessary, so is it always profitable. He remembers\\nbesides that whatsoever partakes of reason, is akin unto him, and that\\nto care for all men generally, is agreeing to the nature of a man: but\\nas for honour and praise, that they ought not generally to be admitted\\nand accepted of from all, but from such only, who live according to\\nnature. As for them that do not, what manner of men they be at home,\\nor abroad; day or night, how conditioned themselves with what manner of\\nconditions, or with men of what conditions they moil and pass away\\nthe time together, he knoweth, and remembers right well, he therefore\\nregards not such praise and approbation, as proceeding from them, who\\ncannot like and approve themselves.\\n\\nV. Do nothing against thy will, nor contrary to the community, nor\\nwithout due examination, nor with reluctancy. Affect not to set out thy\\nthoughts with curious neat language. Be neither a great talker, nor a\\ngreat undertaker. Moreover, let thy God that is in thee to rule over\\nthee, find by thee, that he hath to do with a man; an aged man; a\\nsociable man; a Roman; a prince; one that hath ordered his life, as\\none that expecteth, as it were, nothing but the sound of the trumpet,\\nsounding a retreat to depart out of this life with all expedition. One\\nwho for his word or actions neither needs an oath, nor any man to be a\\nwitness.\\n\\nVI. To be cheerful, and to stand in no need, either of other men\\'s help\\nor attendance, or of that rest and tranquillity, which thou must be\\nbeholding to others for. Rather like one that is straight of himself, or\\nhath ever been straight, than one that hath been rectified.\\n\\nVII. If thou shalt find anything in this mortal life better than\\nrighteousness, than truth, temperance, fortitude, and in general better\\nthan a mind contented both with those things which according to right\\nand reason she doth, and in those, which without her will and knowledge\\nhappen unto thee by the providence; if I say, thou canst find out\\nanything better than this, apply thyself unto it with thy whole heart,\\nand that which is best wheresoever thou dost find it, enjoy freely. But\\nif nothing thou shalt find worthy to be preferred to that spirit which\\nis within thee; if nothing better than to subject unto thee thine own\\nlusts and desires, and not to give way to any fancies or imaginations\\nbefore thou hast duly considered of them, nothing better than to\\nwithdraw thyself (to use Socrates his words) from all sensuality, and\\nsubmit thyself unto the gods, and to have care of all men in general: if\\nthou shalt find that all other things in comparison of this, are but\\nvile, and of little moment; then give not way to any other thing, which\\nbeing once though but affected and inclined unto, it will no more be in\\nthy power without all distraction as thou oughtest to prefer and to\\npursue after that good, which is thine own and thy proper good. For it\\nis not lawful, that anything that is of another and inferior kind and\\nnature, be it what it will, as either popular applause, or honour, or\\nriches, or pleasures; should be suffered to confront and contest as it\\nwere, with that which is rational, and operatively good. For all these\\nthings, if once though but for a while, they begin to please, they\\npresently prevail, and pervert a man\\'s mind, or turn a man from the\\nright way. Do thou therefore I say absolutely and freely make choice of\\nthat which is best, and stick unto it. Now, that they say is best, which\\nis most profitable. If they mean profitable to man as he is a rational\\nman, stand thou to it, and maintain it; but if they mean profitable, as\\nhe is a creature, only reject it; and from this thy tenet and conclusion\\nkeep off carefully all plausible shows and colours of external\\nappearance, that thou mayest be able to discern things rightly.\\n\\nVIII. Never esteem of anything as profitable, which shall ever constrain\\nthee either to break thy faith, or to lose thy modesty; to hate any man,\\nto suspect, to curse, to dissemble, to lust after anything, that\\nrequireth the secret of walls or veils. But he that preferreth before\\nall things his rational part and spirit, and the sacred mysteries of\\nvirtue which issueth from it, he shall never lament and exclaim, never\\nsigh; he shall never want either solitude or company: and which is\\nchiefest of all, he shall live without either desire or fear. And as for\\nlife, whether for a long or short time he shall enjoy his soul thus\\ncompassed about with a body, he is altogether indifferent. For if even\\nnow he were to depart, he is as ready for it, as for any other action,\\nwhich may be performed with modesty and decency. For all his life long,\\nthis is his only care, that his mind may always be occupied in such\\nintentions and objects, as are proper to a rational sociable creature.\\n\\nIX. In the mind that is once truly disciplined and purged, thou canst\\nnot find anything, either foul or impure, or as it were festered:\\nnothing that is either servile, or affected: no partial tie; no\\nmalicious averseness; nothing obnoxious; nothing concealed. The life of\\nsuch an one, death can never surprise as imperfect; as of an actor, that\\nshould die before he had ended, or the play itself were at an end, a man\\nmight speak.\\n\\nX. Use thine opinative faculty with all honour and respect, for in\\nher indeed is all: that thy opinion do not beget in thy understanding\\nanything contrary to either nature, or the proper constitution of a\\nrational creature. The end and object of a rational constitution is, to\\ndo nothing rashly, to be kindly affected towards men, and in all things\\nwillingly to submit unto the gods. Casting therefore all other things\\naside, keep thyself to these few, and remember withal that no man\\nproperly can be said to live more than that which is now present, which\\nis but a moment of time. Whatsoever is besides either is already past,\\nor uncertain. The time therefore that any man doth live, is but a\\nlittle, and the place where he liveth, is but a very little corner of\\nthe earth, and the greatest fame that can remain of a man after his\\ndeath, even that is but little, and that too, such as it is whilst it\\nis, is by the succession of silly mortal men preserved, who likewise\\nshall shortly die, and even whiles they live know not what in very deed\\nthey themselves are: and much less can know one, who long before is dead\\nand gone.\\n\\nXI. To these ever-present helps and mementoes, let one more be added,\\never to make a particular description and delineation as it were of\\nevery object that presents itself to thy mind, that thou mayest wholly\\nand throughly contemplate it, in its own proper nature, bare and naked;\\nwholly, and severally; divided into its several parts and quarters: and\\nthen by thyself in thy mind, to call both it, and those things of which\\nit doth consist, and in which it shall be resolved, by their own proper\\ntrue names, and appellations. For there is nothing so effectual to beget\\ntrue magnanimity, as to be able truly and methodically to examine and\\nconsider all things that happen in this life, and so to penetrate\\ninto their natures, that at the same time, this also may concur in our\\napprehensions: what is the true use of it? and what is the true nature\\nof this universe, to which it is useful? how much in regard of the\\nuniverse may it be esteemed? how much in regard of man, a citizen of the\\nsupreme city, of which all other cities in the world are as it were but\\nhouses and families?\\n\\nXII. What is this, that now my fancy is set upon? of what things doth\\nit consist? how long can it last? which of all the virtues is the proper\\nvirtue for this present use? as whether meekness, fortitude, truth,\\nfaith, sincerity, contentation, or any of the rest? Of everything\\ntherefore thou must use thyself to say, This immediately comes from God,\\nthis by that fatal connection, and concatenation of things, or (which\\nalmost comes to one) by some coincidental casualty. And as for this, it\\nproceeds from my neighbour, my kinsman, my fellow: through his ignorance\\nindeed, because he knows not what is truly natural unto him: but I know\\nit, and therefore carry myself towards him according to the natural law\\nof fellowship; that is kindly, and justly. As for those things that of\\nthemselves are altogether indifferent, as in my best judgment I conceive\\neverything to deserve more or less, so I carry myself towards it.\\n\\nXIII. If thou shalt intend that which is present, following the rule of\\nright and reason carefully, solidly, meekly, and shalt not intermix\\nany other businesses, but shall study this only to preserve thy spirit\\nunpolluted, and pure, and shall cleave unto him without either hope\\nor fear of anything, in all things that thou shalt either do or speak,\\ncontenting thyself with heroical truth, thou shalt live happily; and\\nfrom this, there is no man that can hinder thee.\\n\\nXIV. As physicians and chirurgeons have always their instruments ready\\nat hand for all sudden cures; so have thou always thy dogmata in a\\nreadiness for the knowledge of things, both divine and human: and\\nwhatsoever thou dost, even in the smallest things that thou dost, thou\\nmust ever remember that mutual relation, and connection that is between\\nthese two things divine, and things human. For without relation unto\\nGod, thou shalt never speed in any worldly actions; nor on the other\\nside in any divine, without some respect had to things human.\\n\\nXV. Be not deceived; for thou shalt never live to read thy moral\\ncommentaries, nor the acts of the famous Romans and Grecians; nor those\\nexcerpta from several books; all which thou hadst provided and laid\\nup for thyself against thine old age. Hasten therefore to an end, and\\ngiving over all vain hopes, help thyself in time if thou carest for\\nthyself, as thou oughtest to do.\\n\\nXVI. To steal, to sow, to buy, to be at rest, to see what is to be done\\n(which is not seen by the eyes, but by another kind of sight:) what\\nthese words mean, and how many ways to be understood, they do not\\nunderstand. The body, the soul, the understanding. As the senses\\nnaturally belong to the body, and the desires and affections to the\\nsoul, so do the dogmata to the understanding.\\n\\nXVII. To be capable of fancies and imaginations, is common to man and\\nbeast. To be violently drawn and moved by the lusts and desires of the\\nsoul, is proper to wild beasts and monsters, such as Phalaris and Nero\\nwere. To follow reason for ordinary duties and actions is common to them\\nalso, who believe not that there be any gods, and for their advantage\\nwould make no conscience to betray their own country; and who when once\\nthe doors be shut upon them, dare do anything. If therefore all things\\nelse be common to these likewise, it follows, that for a man to like and\\nembrace all things that happen and are destinated unto him, and not to\\ntrouble and molest that spirit which is seated in the temple of his own\\nbreast, with a multitude of vain fancies and imaginations, but to keep\\nhim propitious and to obey him as a god, never either speaking anything\\ncontrary to truth, or doing anything contrary to justice, is the only\\ntrue property of a good man. And such a one, though no man should\\nbelieve that he liveth as he doth, either sincerely and conscionably,\\nor cheerful and contentedly; yet is he neither with any man at all angry\\nfor it, nor diverted by it from the way that leadeth to the end of his\\nlife, through which a man must pass pure, ever ready to depart, and\\nwilling of himself without any compulsion to fit and accommodate himself\\nto his proper lot and portion.\\n\\n\\n\\n\\nTHE FOURTH BOOK\\n\\nI. That inward mistress part of man if it be in its own true natural\\ntemper, is towards all worldly chances and events ever so disposed and\\naffected, that it will easily turn and apply itself to that which may\\nbe, and is within its own power to compass, when that cannot be which at\\nfirst it intended. For it never doth absolutely addict and apply itself\\nto any one object, but whatsoever it is that it doth now intend and\\nprosecute, it doth prosecute it with exception and reservation; so that\\nwhatsoever it is that falls out contrary to its first intentions, even\\nthat afterwards it makes its proper object. Even as the fire when it\\nprevails upon those things that are in his way; by which things indeed a\\nlittle fire would have been quenched, but a great fire doth soon turn to\\nits own nature, and so consume whatsoever comes in his way: yea by those\\nvery things it is made greater and greater.\\n\\nII. Let nothing be done rashly, and at random, but all things according\\nto the most exact and perfect rules of art.\\n\\nIII. They seek for themselves private retiring\\nplaces, as country villages, the sea-shore, mountains; yea thou thyself\\nart wont to long much after such places. But all this thou must know\\nproceeds from simplicity in the highest degree. At what time soever thou\\nwilt, it is in thy power to retire into thyself, and to be at rest, and\\nfree from all businesses. A man cannot any whither retire better than\\nto his own soul; he especially who is beforehand provided of such\\nthings within, which whensoever he doth withdraw himself to look in, may\\npresently afford unto him perfect ease and tranquillity. By tranquillity\\nI understand a decent orderly disposition and carriage, free from\\nall confusion and tumultuousness. Afford then thyself this retiring\\ncontinually, and thereby refresh and renew thyself. Let these precepts\\nbe brief and fundamental, which as soon as thou dost call them to mind,\\nmay suffice thee to purge thy soul throughly, and to send thee away well\\npleased with those things whatsoever they be, which now again after this\\nshort withdrawing of thy soul into herself thou dost return unto. For\\nwhat is it that thou art offended at? Can it be at the wickedness of\\nmen, when thou dost call to mind this conclusion, that all reasonable\\ncreatures are made one for another? and that it is part of justice to\\nbear with them? and that it is against their wills that they offend?\\nand how many already, who once likewise prosecuted their enmities,\\nsuspected, hated, and fiercely contended, are now long ago stretched\\nout, and reduced unto ashes? It is time for thee to make an end. As for\\nthose things which among the common chances of the world happen unto\\nthee as thy particular lot and portion, canst thou be displeased with\\nany of them, when thou dost call that our ordinary dilemma to mind,\\neither a providence, or Democritus his atoms; and with it, whatsoever we\\nbrought to prove that the whole world is as it were one city? And as for\\nthy body, what canst thou fear, if thou dost consider that thy mind and\\nunderstanding, when once it hath recollected itself, and knows its own\\npower, hath in this life and breath (whether it run smoothly and gently,\\nor whether harshly and rudely), no interest at all, but is altogether\\nindifferent: and whatsoever else thou hast heard and assented unto\\nconcerning either pain or pleasure? But the care of thine honour and\\nreputation will perchance distract thee? How can that be, if thou\\ndost look back, and consider both how quickly all things that are, are\\nforgotten, and what an immense chaos of eternity was before, and will\\nfollow after all things: and the vanity of praise, and the inconstancy\\nand variableness of human judgments and opinions, and the narrowness of\\nthe place, wherein it is limited and circumscribed? For the whole earth\\nis but as one point; and of it, this inhabited part of it, is but a very\\nlittle part; and of this part, how many in number, and what manner of\\nmen are they, that will commend thee? What remains then, but that thou\\noften put in practice this kind of retiring of thyself, to this little\\npart of thyself; and above all things, keep thyself from distraction,\\nand intend not anything vehemently, but be free and consider all things,\\nas a man whose proper object is Virtue, as a man whose true nature is\\nto be kind and sociable, as a citizen, as a mortal creature. Among\\nother things, which to consider, and look into thou must use to withdraw\\nthyself, let those two be among the most obvious and at hand. One, that\\nthe things or objects themselves reach not unto the soul, but stand\\nwithout still and quiet, and that it is from the opinion only which is\\nwithin, that all the tumult and all the trouble doth proceed. The next,\\nthat all these things, which now thou seest, shall within a very little\\nwhile be changed, and be no more: and ever call to mind, how many\\nchanges and alterations in the world thou thyself hast already been an\\neyewitness of in thy time. This world is mere change, and this life,\\nopinion.\\n\\nIV. If to understand and to be reasonable be common unto all men, then\\nis that reason, for which we are termed reasonable, common unto all. If\\nreason is general, then is that reason also, which prescribeth what is\\nto be done and what not, common unto all. If that, then law. If law,\\nthen are we fellow-citizens. If so, then are we partners in some one\\ncommonweal. If so, then the world is as it were a city. For which other\\ncommonweal is it, that all men can be said to be members of? From this\\ncommon city it is, that understanding, reason, and law is derived unto\\nus, for from whence else? For as that which in me is earthly I have from\\nsome common earth; and that which is moist from some other element is\\nimparted; as my breath and life hath its proper fountain; and that\\nlikewise which is dry and fiery in me: (for there is nothing which doth\\nnot proceed from something; as also there is nothing that can be reduced\\nunto mere nothing:) so also is there some common beginning from whence\\nmy understanding hath proceeded.\\n\\nV. As generation is, so also death, a secret of nature\\'s wisdom: a\\nmixture of elements, resolved into the same elements again, a thing\\nsurely which no man ought to be ashamed of: in a series of other fatal\\nevents and consequences, which a rational creature is subject unto,\\nnot improper or incongruous, nor contrary to the natural and proper\\nconstitution of man himself.\\n\\nVI. Such and such things, from such and such causes, must of necessity\\nproceed. He that would not have such things to happen, is as he that\\nwould have the fig-tree grow without any sap or moisture. In sum,\\nremember this, that within a very little while, both thou and he shall\\nboth be dead, and after a little while more, not so much as your names\\nand memories shall be remaining.\\n\\nVII. Let opinion be taken away, and no man will think himself wronged.\\nIf no man shall think himself wronged, then is there no more any such\\nthing as wrong. That which makes not man himself the worse, cannot\\nmake his life the worse, neither can it hurt him either inwardly\\nor outwardly. It was expedient in nature that it should be so, and\\ntherefore necessary.\\n\\nVIII. Whatsoever doth happen in the world, doth happen justly, and so if\\nthou dost well take heed, thou shalt find it. I say not only in right\\norder by a series of inevitable consequences, but according to justice\\nand as it were by way of equal distribution, according to the true worth\\nof everything. Continue then to take notice of it, as thou hast begun,\\nand whatsoever thou dost, do it not without this proviso, that it be a\\nthing of that nature that a good man (as the word good is properly\\ntaken) may do it. This observe carefully in every action.\\n\\nIX. Conceit no such things, as he that wrongeth thee conceiveth,\\nor would have thee to conceive, but look into the matter itself, and see\\nwhat it is in very truth.\\n\\nX. These two rules, thou must have always in a readiness. First, do\\nnothing at all, but what reason proceeding from that regal and supreme\\npart, shall for the good and benefit of men, suggest unto thee. And\\nsecondly, if any man that is present shall be able to rectify thee or to\\nturn thee from some erroneous persuasion, that thou be always ready to\\nchange thy mind, and this change to proceed, not from any respect of any\\npleasure or credit thereon depending, but always from some probable\\napparent ground of justice, or of some public good thereby to be\\nfurthered; or from some other such inducement.\\n\\nXI. Hast thou reason? I have. Why then makest thou not use of it? For if\\nthy reason do her part, what more canst thou require?\\n\\nXII. As a part hitherto thou hast had a particular subsistence: and now\\nshalt thou vanish away into the common substance of Him, who first begot\\nthee, or rather thou shalt be resumed again into that original rational\\nsubstance, out of which all others have issued, and are propagated.\\nMany small pieces of frankincense are set upon the same altar, one drops\\nfirst and is consumed, another after; and it comes all to one.\\n\\nXIII. Within ten days, if so happen, thou shalt be esteemed a god of\\nthem, who now if thou shalt return to the dogmata and to the honouring\\nof reason, will esteem of thee no better than of a mere brute, and of an\\nape.\\n\\nXIV. Not as though thou hadst thousands of years to live. Death hangs\\nover thee: whilst yet thou livest, whilst thou mayest, be good.\\n\\nXV. Now much time and leisure doth he gain, who is not curious to know\\nwhat his neighbour hath said, or hath done, or hath attempted, but only\\nwhat he doth himself, that it may be just and holy? or to express it in\\nAgathos\\' words, Not to look about upon the evil conditions of others,\\nbut to run on straight in the line, without any loose and extravagant\\nagitation.\\n\\nXVI. He who is greedy of credit and reputation after his death, doth\\nnot consider, that they themselves by whom he is remembered, shall soon\\nafter every one of them be dead; and they likewise that succeed those;\\nuntil at last all memory, which hitherto by the succession of men\\nadmiring and soon after dying hath had its course, be quite extinct.\\nBut suppose that both they that shall remember thee, and thy memory with\\nthem should be immortal, what is that to thee? I will not say to thee\\nafter thou art dead; but even to thee living, what is thy praise? But\\nonly for a secret and politic consideration, which we call oikonomian or\\ndispensation. For as for that, that it is the gift of nature, whatsoever\\nis commended in thee, what might be objected from thence, let that now\\nthat we are upon another consideration be omitted as unseasonable. That\\nwhich is fair and goodly, whatsoever it be, and in what respect soever\\nit be, that it is fair and goodly, it is so of itself, and terminates in\\nitself, not admitting praise as a part or member: that therefore\\nwhich is praised, is not thereby made either better or worse. This I\\nunderstand even of those things, that are commonly called fair and\\ngood, as those which are commended either for the matter itself, or for\\ncurious workmanship. As for that which is truly good, what can it\\nstand in need of more than either justice or truth; or more than either\\nkindness and modesty? Which of all those, either becomes good or fair,\\nbecause commended; or dispraised suffers any damage? Doth the emerald\\nbecome worse in itself, or more vile if it be not commended? Doth gold,\\nor ivory, or purple? Is there anything that doth though never so common,\\nas a knife, a flower, or a tree?\\n\\nXVII. If so be that the souls remain after death (say they that will not\\nbelieve it); how is the air from all eternity able to contain them? How\\nis the earth (say I) ever from that time able to Contain the bodies\\nof them that are buried? For as here the change and resolution of dead\\nbodies into another kind of subsistence (whatsoever it be;) makes place\\nfor other dead bodies: so the souls after death transferred into the\\nair, after they have conversed there a while, are either by way of\\ntransmutation, or transfusion, or conflagration, received again into\\nthat original rational substance, from which all others do proceed:\\nand so give way to those souls, who before coupled and associated unto\\nbodies, now begin to subsist single. This, upon a supposition that the\\nsouls after death do for a while subsist single, may be answered. And\\nhere, (besides the number of bodies, so buried and contained by the\\nearth), we may further consider the number of several beasts, eaten\\nby us men, and by other creatures. For notwithstanding that such a\\nmultitude of them is daily consumed, and as it were buried in the bodies\\nof the eaters, yet is the same place and body able to contain them, by\\nreason of their conversion, partly into blood, partly into air and fire.\\nWhat in these things is the speculation of truth? to divide things into\\nthat which is passive and material; and that which is active and formal.\\n\\nXVIII. Not to wander out of the way, but upon every motion and desire,\\nto perform that which is just: and ever to be careful to attain to the\\ntrue natural apprehension of every fancy, that presents itself.\\n\\nXIX. Whatsoever is expedient unto thee, O World, is expedient unto me;\\nnothing can either be \\'unseasonable unto me, or out of date, which unto\\nthee is seasonable. Whatsoever thy seasons bear, shall ever by me be\\nesteemed as happy fruit, and increase. O Nature! from thee are all\\nthings, in thee all things subsist, and to thee all tend. Could he say\\nof Athens, Thou lovely city of Cecrops; and shalt not thou say of the\\nworld, Thou lovely city of God?\\n\\nXX. They will say commonly, Meddle not with many things, if thou wilt\\nlive cheerfully. Certainly there is nothing better, than for a man\\nto confine himself to necessary actions; to such and so many only, as\\nreason in a creature that knows itself born for society, will command\\nand enjoin. This will not only procure that cheerfulness, which from the\\ngoodness, but that also, which from the paucity of actions doth usually\\nproceed. For since it is so, that most of those things, which we either\\nspeak or do, are unnecessary; if a man shall cut them off, it must needs\\nfollow that he shall thereby gain much leisure, and save much trouble,\\nand therefore at every action a man must privately by way of admonition\\nsuggest unto himself, What? may not this that now I go about, be of the\\nnumber of unnecessary actions? Neither must he use himself to cut off\\nactions only, but thoughts and imaginations also, that are unnecessary\\nfor so will unnecessary consequent actions the better be prevented and\\ncut off.\\n\\nXXI. Try also how a good man\\'s life; (of one, who is well pleased with\\nthose things whatsoever, which among the common changes and chances of\\nthis world fall to his own lot and share; and can live well contented\\nand fully satisfied in the justice of his own proper present action,\\nand in the goodness of his disposition for the future:) will agree with\\nthee. Thou hast had experience of that other kind of life: make now\\ntrial of this also. Trouble not thyself any more henceforth, reduce\\nthyself unto perfect simplicity. Doth any man offend? It is against\\nhimself that he doth offend: why should it trouble thee? Hath anything\\nhappened unto thee? It is well, whatsoever it be, it is that which\\nof all the common chances of the world from the very beginning in the\\nseries of all other things that have, or shall happen, was destinated\\nand appointed unto thee. To comprehend all in a few words, our life is\\nshort; we must endeavour to gain the present time with best discretion\\nand justice. Use recreation with sobriety.\\n\\nXXII. Either this world is a kosmoz or comely piece, because all\\ndisposed and governed by certain order: or if it be a mixture, though\\nconfused, yet still it is a comely piece. For is it possible that in\\nthee there should be any beauty at all, and that in the whole world\\nthere should be nothing but disorder and confusion? and all things in it\\ntoo, by natural different properties one from another differenced and\\ndistinguished; and yet all through diffused, and by natural sympathy,\\none to another united, as they are?\\n\\nXXIII. A black or malign disposition, an effeminate disposition; an\\nhard inexorable disposition, a wild inhuman disposition, a sheepish\\ndisposition, a childish disposition; a blockish, a false, a scurril, a\\nfraudulent, a tyrannical: what then? If he be a stranger in the world,\\nthat knows not the things that are in it; why not be a stranger as well,\\nthat wonders at the things that are done in it?\\n\\nXXIV. He is a true fugitive, that flies from reason, by which men are\\nsociable. He blind, who cannot see with the eyes of his understanding.\\nHe poor, that stands in need of another, and hath not in himself all\\nthings needful for this life. He an aposteme of the world, who by being\\ndiscontented with those things that happen unto him in the world,\\ndoth as it were apostatise, and separate himself from common nature\\'s\\nrational administration. For the same nature it is that brings this\\nunto thee, whatsoever it be, that first brought thee into the world. He\\nraises sedition in the city, who by irrational actions withdraws his own\\nsoul from that one and common soul of all rational creatures.\\n\\nXXV. There is, who without so much as a coat; and there is, who without\\nso much as a book, doth put philosophy in practice. I am half naked,\\nneither have I bread to eat, and yet I depart not from reason, saith\\none. But I say; I want the food of good teaching, and instructions, and\\nyet I depart not from reason.\\n\\nXXVI. What art and profession soever thou hast learned, endeavour to\\naffect it, and comfort thyself in it; and pass the remainder of thy life\\nas one who from his whole heart commits himself and whatsoever belongs\\nunto him, unto the gods: and as for men, carry not thyself either\\ntyrannically or servilely towards any.\\n\\nXXVII. Consider in my mind, for example\\'s sake, the times of Vespasian:\\nthou shalt see but the same things: some marrying, some bringing up\\nchildren, some sick, some dying, some fighting, some feasting, some\\nmerchandising, some tilling, some flattering, some boasting, some\\nsuspecting, some undermining, some wishing to die, some fretting and\\nmurmuring at their present estate, some wooing, some hoarding, some\\nseeking after magistracies, and some after kingdoms. And is not that\\ntheir age quite over, and ended? Again, consider now the times of\\nTrajan. There likewise thou seest the very self-same things, and that\\nage also is now over and ended. In the like manner consider other\\nperiods, both of times and of whole nations, and see how many men, after\\nthey had with all their might and main intended and prosecuted some one\\nworldly thing or other did soon after drop away, and were resolved into\\nthe elements. But especially thou must call to mind them, whom thou\\nthyself in thy lifetime hast known much distracted about vain things,\\nand in the meantime neglecting to do that, and closely and unseparably\\n(as fully satisfied with it) to adhere unto it, which their own proper\\nconstitution did require. And here thou must remember, that thy carriage\\nin every business must be according to the worth and due proportion of\\nit, for so shalt thou not easily be tired out and vexed, if thou shalt\\nnot dwell upon small matters longer than is fitting.\\n\\nXXVIII. Those words which once were common and ordinary, are now become\\nobscure and obsolete; and so the names of men once commonly known and\\nfamous, are now become in a manner obscure and obsolete names. Camillus,\\nCieso, Volesius, Leonnatus; not long after, Scipio, Cato, then Augustus,\\nthen Adrianus, then Antoninus Pius: all these in a short time will\\nbe out of date, and, as things of another world as it were, become\\nfabulous. And this I say of them, who once shined as the wonders of\\ntheir ages, for as for the rest, no sooner are they expired, than with\\nthem all their fame and memory. And what is it then that shall always be\\nremembered? all is vanity. What is it that we must bestow our care and\\ndiligence upon? even upon this only: that our minds and wills be just;\\nthat our actions be charitable; that our speech be never deceitful, or\\nthat our understanding be not subject to error; that our inclination be\\nalways set to embrace whatsoever shall happen unto us, as necessary,\\nas usual, as ordinary, as flowing from such a beginning, and such a\\nfountain, from which both thou thyself and all things are.\\nWillingly therefore, and wholly surrender up thyself unto that fatal\\nconcatenation, yielding up thyself unto the fates, to be disposed of at\\ntheir pleasure.\\n\\nXXIX. Whatsoever is now present, and from day to day hath its existence;\\nall objects of memories, and the minds and memories themselves,\\nincessantly consider, all things that are, have their being by change\\nand alteration. Use thyself therefore often to meditate upon this, that\\nthe nature of the universe delights in nothing more, than in altering\\nthose things that are, and in making others like unto them. So that we\\nmay say, that whatsoever is, is but as it were the seed of that which\\nshall be. For if thou think that that only is seed, which either the\\nearth or the womb receiveth, thou art very simple.\\n\\nXXX. Thou art now ready to die, and yet hast thou not attained to\\nthat perfect simplicity: thou art yet subject to many troubles and\\nperturbations; not yet free from all fear and suspicion of external\\naccidents; nor yet either so meekly disposed towards all men, as thou\\nshouldest; or so affected as one, whose only study and only wisdom is,\\nto be just in all his actions.\\n\\nXXXI. Behold and observe, what is the state of their rational part; and\\nthose that the world doth account wise, see what things they fly and are\\nafraid of; and what things they hunt after.\\n\\nXXXII. In another man\\'s mind and understanding thy evil Cannot subsist,\\nnor in any proper temper or distemper of the natural constitution of thy\\nbody, which is but as it were the coat or cottage of thy soul. Wherein\\nthen, but in that part of thee, wherein the conceit, and apprehension\\nof any misery can subsist? Let not that part therefore admit any such\\nconceit, and then all is well. Though thy body which is so near it\\nshould either be cut or burnt, or suffer any corruption or putrefaction,\\nyet let that part to which it belongs to judge of these, be still at\\nrest; that is, let her judge this, that whatsoever it is, that equally\\nmay happen to a wicked man, and to a good man, is neither good nor evil.\\nFor that which happens equally to him that lives according to nature,\\nand to him that doth not, is neither according to nature, nor against\\nit; and by consequent, neither good nor bad.\\n\\nXXXIII. Ever consider and think upon the world as being but one living\\nsubstance, and having but one soul, and how all things in the world, are\\nterminated into one sensitive power; and are done by one general motion\\nas it were, and deliberation of that one soul; and how all things that\\nare, concur in the cause of one another\\'s being, and by what manner of\\nconnection and concatenation all things happen.\\n\\nXXXIV. What art thou, that better and divine part excepted, but as\\nEpictetus said well, a wretched soul, appointed to carry a carcass up\\nand down?\\n\\nXXXV. To suffer change can be no hurt; as no benefit it is, by change to\\nattain to being. The age and time of the world is as it were a flood and\\nswift current, consisting of the things that are brought to pass in\\nthe world. For as soon as anything hath appeared, and is passed away,\\nanother succeeds, and that also will presently out of sight.\\n\\nXXXVI. Whatsoever doth happen in the world, is, in the course of nature,\\nas usual and ordinary as a rose in the spring, and fruit in summer. Of\\nthe same nature is sickness and death; slander, and lying in wait, and\\nwhatsoever else ordinarily doth unto fools use to be occasion either\\nof joy or sorrow. That, whatsoever it is, that comes after, doth always\\nvery naturally, and as it were familiarly, follow upon that which was\\nbefore. For thou must consider the things of the world, not as a loose\\nindependent number, consisting merely of necessary events; but as a\\ndiscreet connection of things orderly and harmoniously disposed. There\\nis then to be seen in the things of the world, not a bare succession,\\nbut an admirable correspondence and affinity.\\n\\nXXXVII. Let that of Heraclitus never be out of thy mind, that the death\\nof earth, is water, and the death of water, is air; and the death of\\nair, is fire; and so on the contrary. Remember him also who was ignorant\\nwhither the way did lead, and how that reason being the thing by which\\nall things in the world are administered, and which men are continually\\nand most inwardly conversant with: yet is the thing, which ordinarily\\nthey are most in opposition with, and how those things which daily\\nhappen among them, cease not daily to be strange unto them, and that\\nwe should not either speak, or do anything as men in their sleep, by\\nopinion and bare imagination: for then we think we speak and do, and\\nthat we must not be as children, who follow their father\\'s example;\\nfor best reason alleging their bare successive tradition from our\\nforefathers we have received it.\\n\\nXXXVIII. Even as if any of the gods should tell thee, Thou shalt\\ncertainly die to-morrow, or next day, thou wouldst not, except thou wert\\nextremely base and pusillanimous, take it for a great benefit, rather\\nto die the next day after, than to-morrow; (for alas, what is the\\ndifference!) so, for the same reason, think it no great matter to die\\nrather many years after, than the very next day.\\n\\nXXXIX. Let it be thy perpetual meditation, how many physicians who\\nonce looked so grim, and so theatrically shrunk their brows upon their\\npatients, are dead and gone themselves. How many astrologers, after that\\nin great ostentation they had foretold the death of some others, how\\nmany philosophers after so many elaborate tracts and volumes concerning\\neither mortality or immortality; how many brave captains and commanders,\\nafter the death and slaughter of so many; how many kings and tyrants,\\nafter they had with such horror and insolency abused their power upon\\nmen\\'s lives, as though themselves had been immortal; how many, that\\nI may so speak, whole cities both men and towns: Helice, Pompeii,\\nHerculaneum, and others innumerable are dead and gone. Run them over\\nalso, whom thou thyself, one after another, hast known in thy time\\nto drop away. Such and such a one took care of such and such a one\\'s\\nburial, and soon after was buried himself. So one, so another: and all\\nthings in a short time. For herein lieth all indeed, ever to look upon\\nall worldly things, as things for their continuance, that are but for a\\nday: and for their worth, most vile, and contemptible, as for example,\\nWhat is man? That which but the other day when he was conceived was vile\\nsnivel; and within few days shall be either an embalmed carcass, or mere\\nashes. Thus must thou according to truth and nature, throughly consider\\nhow man\\'s life is but for a very moment of time, and so depart meek and\\ncontented: even as if a ripe olive falling should praise the ground that\\nbare her, and give thanks to the tree that begat her.\\n\\nXL. Thou must be like a promontory of the sea, against which though\\nthe waves beat continually, yet it both itself stands, and about it are\\nthose swelling waves stilled and quieted.\\n\\nXLI. Oh, wretched I, to whom this mischance is happened! nay, happy I,\\nto whom this thing being happened, I can continue without grief; neither\\nwounded by that which is present, nor in fear of that which is to come.\\nFor as for this, it might have happened unto any man, but any man having\\nsuch a thing befallen him, could not have continued without grief. Why\\nthen should that rather be an unhappiness, than this a happiness? But\\nhowever, canst thou, O man! term that unhappiness, which is no mischance\\nto the nature of man I Canst thou think that a mischance to the nature\\nof man, which is not contrary to the end and will of his nature? What\\nthen hast thou learned is the will of man\\'s nature? Doth that then which\\nhath happened unto thee, hinder thee from being just? or magnanimous? or\\ntemperate? or wise? or circumspect? or true? or modest? or free? or from\\nanything else of all those things in the present enjoying and possession\\nwhereof the nature of man, (as then enjoying all that is proper unto\\nher,) is fully satisfied? Now to conclude; upon all occasion of sorrow\\nremember henceforth to make use of this dogma, that whatsoever it is\\nthat hath happened unto thee, is in very deed no such thing of itself,\\nas a misfortune; but that to bear it generously, is certainly great\\nhappiness.\\n\\nXLII. It is but an ordinary coarse one, yet it is a good effectual\\nremedy against the fear of death, for a man to consider in his mind the\\nexamples of such, who greedily and covetously (as it were) did for a\\nlong time enjoy their lives. What have they got more, than they whose\\ndeaths have been untimely? Are not they themselves dead at the last?\\nas Cadiciant\\'s, Fabius, Julianus Lepidus, or any other who in their\\nlifetime having buried many, were at the last buried themselves. The\\nwhole space of any man\\'s life, is but little; and as little as it is,\\nwith what troubles, with what manner of dispositions, and in the society\\nof how wretched a body must it be passed! Let it be therefore unto thee\\naltogether as a matter of indifferency. For if thou shalt look backward;\\nbehold, what an infinite chaos of time doth present itself unto thee;\\nand as infinite a chaos, if thou shalt look forward. In that which is\\nso infinite, what difference can there be between that which liveth but\\nthree days, and that which liveth three ages?\\n\\nXLIII. Let thy course ever be the most compendious way. The most\\ncompendious, is that which is according to nature: that is, in all both\\nwords and deeds, ever to follow that which is most sound and perfect.\\nFor such a resolution will free a man from all trouble, strife,\\ndissembling, and ostentation.\\n\\n\\n\\n\\nTHE FIFTH BOOK\\n\\nI. In the morning when thou findest thyself unwilling to rise, consider\\nwith thyself presently, it is to go about a man\\'s work that I am stirred\\nup. Am I then yet unwilling to go about that, for which I myself was\\nborn and brought forth into this world? Or was I made for this, to\\nlay me down, and make much of myself in a warm bed? \\'O but this is\\npleasing.\\' And was it then for this that thou wert born, that thou\\nmightest enjoy pleasure? Was it not in very truth for this, that thou\\nmightest always be busy and in action? Seest thou not how all things\\nin the world besides, how every tree md plant, how sparrows and ants,\\nspiders and bees: how all in their kind are intent as it were orderly to\\nperform whatsoever (towards the preservation of this orderly universe)\\nnaturally doth become and belong unto thin? And wilt not thou do that,\\nwhich belongs unto a man to do? Wilt not thou run to do that, which thy\\nnature doth require? \\'But thou must have some rest.\\' Yes, thou must.\\nNature hath of that also, as well as of eating and drinking, allowed\\nthee a certain stint. But thou guest beyond thy stint, and beyond that\\nwhich would suffice, and in matter of action, there thou comest short of\\nthat which thou mayest. It must needs be therefore, that thou dost not\\nlove thyself, for if thou didst, thou wouldst also love thy nature, and\\nthat which thy nature doth propose unto herself as her end. Others,\\nas many as take pleasure in their trade and profession, can even pine\\nthemselves at their works, and neglect their bodies and their food for\\nit; and doest thou less honour thy nature, than an ordinary mechanic\\nhis trade; or a good dancer his art? than a covetous man his silver, and\\nvainglorious man applause? These to whatsoever they take an affection,\\ncan be content to want their meat and sleep, to further that every one\\nwhich he affects: and shall actions tending to the common good of\\nhuman society, seem more vile unto thee, or worthy of less respect and\\nintention?\\n\\nII. How easy a thing is it for a man to put off from him all turbulent\\nadventitious imaginations, and presently to be in perfect rest and\\ntranquillity!\\n\\nIII. Think thyself fit and worthy to speak, or to do anything that is\\naccording to nature, and let not the reproach, or report of some that\\nmay ensue upon it, ever deter thee. If it be right and honest to be\\nspoken or done, undervalue not thyself so much, as to be discouraged\\nfrom it. As for them, they have their own rational over-ruling part, and\\ntheir own proper inclination: which thou must not stand and look\\nabout to take notice of, but go on straight, whither both thine own\\nparticular, and the common nature do lead thee; and the way of both\\nthese, is but one.\\n\\nIV. I continue my course by actions according to nature, until I\\nfall and cease, breathing out my last breath into that air, by which\\ncontinually breathed in I did live; and falling upon that earth, out of\\nwhose gifts and fruits my father gathered his seed, my mother her\\nblood, and my nurse her milk, out of which for so many years I have\\nbeen provided, both of meat and drink. And lastly, which beareth me that\\ntread upon it, and beareth with me that so many ways do abuse it, or\\nso freely make use of it, so many ways to so many ends.\\n\\nV. No man can admire thee for thy sharp acute language, such is thy\\nnatural disability that way. Be it so: yet there be many other good\\nthings, for the want of which thou canst not plead the want or natural\\nability. Let them be seen in thee, which depend wholly from thee;\\nsincerity, gravity, laboriousness, contempt of pleasures; be not\\nquerulous, be Content with little, be kind, be free; avoid all\\nsuperfluity, all vain prattling; be magnanimous. Doest not thou\\nperceive, how many things there be, which notwithstanding any pretence\\nof natural indisposition and unfitness, thou mightest have performed and\\nexhibited, and yet still thou doest voluntarily continue drooping\\ndownwards? Or wilt thou say that it is through defect of thy natural\\nconstitution, that thou art constrained to murmur, to be base and\\nwretched to flatter; now to accuse, and now to please, and pacify thy\\nbody: to be vainglorious, to be so giddy-headed., and unsettled in thy\\nthoughts? nay (witnesses be the Gods) of all these thou mightest have\\nbeen rid long ago: only, this thou must have been contented with, to\\nhave borne the blame of one that is somewhat slow and dull, wherein thou\\nmust so exercise thyself, as one who neither doth much take to heart\\nthis his natural defect, nor yet pleaseth himself in it.\\n\\nVI. Such there be, who when they have done a good turn to any, are ready\\nto set them on the score for it, and to require retaliation. Others\\nthere be, who though they stand not upon retaliation, to require any,\\nyet they think with themselves nevertheless, that such a one is their\\ndebtor, and they know as their word is what they have done. Others again\\nthere be, who when they have done any such thing, do not so much as\\nknow what they have done; but are like unto the vine, which beareth her\\ngrapes, and when once she hath borne her own proper fruit, is contented\\nand seeks for no further recompense. As a horse after a race, and a\\nhunting dog when he hath hunted, and a bee when she hath made her honey,\\nlook not for applause and commendation; so neither doth that man that\\nrightly doth understand his own nature when he hath done a good turn:\\nbut from one doth proceed to do another, even as the vine after she hath\\nonce borne fruit in her own proper season, is ready for another time.\\nThou therefore must be one of them, who what they do, barely do it\\nwithout any further thought, and are in a manner insensible of what they\\ndo. \\'Nay but,\\' will some reply perchance, \\'this very thing a rational\\nman is bound unto, to understand what it is, that he doeth.\\' For it\\nis the property, say they, of one that is naturally sociable, to be\\nsensible, that he doth operate sociably: nay, and to desire, that the\\nparty him self that is sociably dealt with, should be sensible of it\\ntoo. I answer, That which thou sayest is true indeed, but the true\\nmeaning of that which is said, thou dost not understand. And therefore\\nart thou one of those first, whom I mentioned. For they also are led by\\na probable appearance of reason. But if thou dost desire to understand\\ntruly what it is that is said, fear not that thou shalt therefore give\\nover any sociable action.\\n\\nVII. The form of the Athenians\\' prayer did run thus: \\'O rain, rain, good\\nJupiter, upon all the grounds and fields that belong to the Athenians.\\'\\nEither we should not pray at all, or thus absolutely and freely; and not\\nevery one for himself in particular alone.\\n\\nVIII. As we say commonly, The physician hath prescribed unto this man,\\nriding; unto another, cold baths; unto a third, to go barefoot: so it is\\nalike to say, The nature of the universe hath prescribed unto this man\\nsickness, or blindness, or some loss, or damage or some such thing. For\\nas there, when we say of a physician, that he hath prescribed anything,\\nour meaning is, that he hath appointed this for that, as subordinate\\nand conducing to health: so here, whatsoever doth happen unto any, is\\nordained unto him as a thing subordinate unto the fates, and therefore\\ndo we say of such things, that they do happen, or fall together; as of\\nsquare stones, when either in walls, or pyramids in a certain position\\nthey fit one another, and agree as it were in an harmony, the masons\\nsay, that they do (sumbainein) as if thou shouldest say, fall together:\\nso that in the general, though the things be divers that make it, yet\\nthe consent or harmony itself is but one. And as the whole world is made\\nup of all the particular bodies of the world, one perfect and complete\\nbody, of the same nature that particular bodies; so is the destiny of\\nparticular causes and events one general one, of the same nature that\\nparticular causes are. What I now say, even they that are mere idiots\\nare not ignorant of: for they say commonly (touto eferen autw) that is,\\nThis his destiny hath brought upon him. This therefore is by the fates\\nproperly and particularly brought upon this, as that unto this in\\nparticular is by the physician prescribed. These therefore let us\\naccept of in like manner, as we do those that are prescribed unto us our\\nphysicians. For them also in themselves shall We find to contain many\\nharsh things, but we nevertheless, in hope of health, and recovery,\\naccept of them. Let the fulfilling and accomplishment of those things\\nwhich the common nature hath determined, be unto thee as thy health.\\nAccept then, and be pleased with whatsoever doth happen, though\\notherwise harsh and un-pleasing, as tending to that end, to the health\\nand welfare of the universe, and to Jove\\'s happiness and prosperity.\\nFor this whatsoever it be, should not have been produced, had it not\\nconduced to the good of the universe. For neither doth any ordinary\\nparticular nature bring anything to pass, that is not to whatsoever\\nis within the sphere of its own proper administration and government\\nagreeable and subordinate. For these two considerations then thou must\\nbe well pleased with anything that doth happen unto thee. First, because\\nthat for thee properly it was brought to pass, and unto thee it\\nwas prescribed; and that from the very beginning by the series and\\nconnection of the first causes, it hath ever had a reference unto thee.\\nAnd secondly, because the good success and perfect welfare, and indeed\\nthe very continuance of Him, that is the Administrator of the whole,\\ndoth in a manner depend on it. For the whole (because whole, therefore\\nentire and perfect) is maimed, and mutilated, if thou shalt cut off\\nanything at all, whereby the coherence, and contiguity as of parts, so\\nof causes, is maintained and preserved. Of which certain it is,\\nthat thou doest (as much as lieth in thee) cut off, and in some sort\\nviolently take somewhat away, as often as thou art displeased with\\nanything that happeneth.\\n\\nIX. Be not discontented, be not disheartened, be not out of hope, if\\noften it succeed not so well with thee punctually and precisely to do\\nall things according to the right dogmata, but being once cast off,\\nreturn unto them again: and as for those many and more frequent\\noccurrences, either of worldly distractions, or human infirmities, which\\nas a man thou canst not but in some measure be subject unto, be not thou\\ndiscontented with them; but however, love and affect that only which\\nthou dust return unto: a philosopher\\'s life, and proper occupation after\\nthe most exact manner. And when thou dust return to thy philosophy,\\nreturn not unto it as the manner of some is, after play and liberty as\\nit were, to their schoolmasters and pedagogues; but as they that have\\nsore eyes to their sponge and egg: or as another to his cataplasm; or\\nas others to their fomentations: so shalt not thou make it a matter of\\nostentation at all to obey reason but of ease and comfort. And\\nremember that philosophy requireth nothing of thee, but what thy\\nnature requireth, and wouldest thou thyself desire anything that is\\nnot according to nature? for which of these sayest thou; that which is\\naccording to nature or against it, is of itself more kind and pleasing?\\nIs it not for that respect especially, that pleasure itself is to so\\nmany men\\'s hurt and overthrow, most prevalent, because esteemed commonly\\nmost kind, and natural? But consider well whether magnanimity rather,\\nand true liberty, and true simplicity, and equanimity, and holiness;\\nwhether these be not most kind and natural? And prudency itself, what\\nmore kind and amiable than it, when thou shalt truly consider with\\nthyself, what it is through all the proper objects of thy rational\\nintellectual faculty currently to go on without any fall or stumble?\\nAs for the things of the world, their true nature is in a manner so\\ninvolved with obscurity, that unto many philosophers, and those no\\nmean ones, they seemed altogether incomprehensible, and the Stoics\\nthemselves, though they judge them not altogether incomprehensible,\\nyet scarce and not without much difficulty, comprehensible, so that\\nall assent of ours is fallible, for who is he that is infallible in his\\nconclusions? From the nature of things, pass now unto their subjects\\nand matter: how temporary, how vile are they I such as may be in the\\npower and possession of some abominable loose liver, of some common\\nstrumpet, of some notorious oppressor and extortioner. Pass from thence\\nto the dispositions of them that thou doest ordinarily converse with,\\nhow hardly do we bear, even with the most loving and amiable! that I may\\nnot say, how hard it is for us to bear even with our own selves, in such\\nobscurity, and impurity of things: in such and so continual a flux both\\nof the substances and time; both of the motions themselves, and things\\nmoved; what it is that we can fasten upon; either to honour, and respect\\nespecially; or seriously, and studiously to seek after; I cannot so much\\nas conceive For indeed they are things contrary.\\n\\nX. Thou must comfort thyself in the expectation of thy natural\\ndissolution, and in the meantime not grieve at the delay; but rest\\ncontented in those two things. First, that nothing shall happen unto\\nthee, which is not according to the nature of the universe. Secondly,\\nthat it is in thy power, to do nothing against thine own proper God, and\\ninward spirit. For it is not in any man\\'s power to constrain thee to\\ntransgress against him.\\n\\nXI. What is the use that now at this present I make of my soul? Thus\\nfrom time to time and upon all occasions thou must put this question to\\nthyself; what is now that part of mine which they call the rational\\nmistress part, employed about? Whose soul do I now properly possess? a\\nchild\\'s? or a youth\\'s? a woman\\'s? or a tyrant\\'s? some brute, or some\\nwild beast\\'s soul?\\n\\nXII. What those things are in themselves, which by the greatest part are\\nesteemed good, thou mayest gather even from this. For if a man shall\\nhear things mentioned as good, which are really good indeed, such as are\\nprudence, temperance, justice, fortitude, after so much heard and\\nconceived, he cannot endure to hear of any more, for the word good is\\nproperly spoken of them. But as for those which by the vulgar are\\nesteemed good, if he shall hear them mentioned as good, he doth hearken\\nfor more. He is well contented to hear, that what is spoken by the\\ncomedian, is but familiarly and popularly spoken, so that even the\\nvulgar apprehend the difference. For why is it else, that this offends\\nnot and needs not to be excused, when virtues are styled good: but that\\nwhich is spoken in commendation of wealth, pleasure, or honour, we\\nentertain it only as merrily and pleasantly spoken? Proceed therefore,\\nand inquire further, whether it may not be that those things also which\\nbeing mentioned upon the stage were merrily, and with great applause of\\nthe multitude, scoffed at with this jest, that they that possessed them\\nhad not in all the world of their own, (such was their affluence and\\nplenty) so much as a place where to avoid their excrements. Whether, I\\nsay, those ought not also in very deed to be much respected, and\\nesteemed of, as the only things that are truly good.\\n\\nXIII. All that I consist of, is either form or matter. No corruption can\\nreduce either of these unto nothing: for neither did I of nothing become\\na subsistent creature. Every part of mine then will by mutation be\\ndisposed into a certain part of the whole world, and that in time into\\nanother part; and so in infinitum; by which kind of mutation, I also\\nbecame what I am, and so did they that begot me, and they before them,\\nand so upwards in infinitum. For so we may be allowed to speak, though\\nthe age and government of the world, be to some certain periods of time\\nlimited, and confined.\\n\\nXIV. Reason, and rational power, are faculties which content themselves\\nwith themselves, and their own proper operations. And as for their first\\ninclination and motion, that they take from themselves. But their\\nprogress is right to the end and object, which is in their way, as it\\nwere, and lieth just before them: that is, which is feasible and\\npossible, whether it be that which at the first they proposed to\\nthemselves, or no. For which reason also such actions are termed\\nkatorqwseiz to intimate the directness of the way, by which they are\\nachieved. Nothing must be thought to belong to a man, which doth not\\nbelong unto him as he is a man. These, the event of purposes, are not\\nthings required in a man. The nature of man doth not profess any such\\nthings. The final ends and consummations of actions are nothing at all\\nto a man\\'s nature. The end therefore of a man, or the summum bonum\\nwhereby that end is fulfilled, cannot consist in the consummation of\\nactions purposed and intended. Again, concerning these outward worldly\\nthings, were it so that any of them did properly belong unto man, then\\nwould it not belong unto man, to condemn them and to stand in opposition\\nwith them. Neither would he be praiseworthy that can live without them;\\nor he good, (if these were good indeed) who of his own accord doth\\ndeprive himself of any of them. But we see contrariwise, that the more a\\nman doth withdraw himself from these wherein external pomp and greatness\\ndoth consist, or any other like these; or the better he doth bear with\\nthe loss of these, the better he is accounted.\\n\\nXV. Such as thy thoughts and ordinary cogitations are, such will thy\\nmind be in time. For the soul doth as it were receive its tincture from\\nthe fancies, and imaginations. Dye it therefore and thoroughly soak it\\nwith the assiduity of these cogitations. As for example. Wheresoever\\nthou mayest live, there it is in thy power to live well and happy. But\\nthou mayest live at the Court, there then also mayest thou live well and\\nhappy. Again, that which everything is made for, he is also made unto\\nthat, and cannot but naturally incline unto it. That which anything\\ndoth naturally incline unto, therein is his end. Wherein the end of\\neverything doth consist, therein also doth his good and benefit consist.\\nSociety therefore is the proper good of a rational creature. For that we\\nare made for society, it hath long since been demonstrated. Or can any\\nman make any question of this, that whatsoever is naturally worse and\\ninferior, is ordinarily subordinated to that which is better? and that\\nthose things that are best, are made one for another? And those things\\nthat have souls, are better than those that have none? and of those that\\nhave, those best that have rational souls?\\n\\nXVI. To desire things impossible is the part of a mad man. But it is a\\nthing impossible, that wicked man should not commit some such things.\\nNeither doth anything happen to any man, which in the ordinary course\\nof nature as natural unto him doth not happen. Again, the same things\\nhappen unto others also. And truly, if either he that is ignorant that\\nsuch a thing hath happened unto him, or he that is ambitious to be\\ncommended for his magnanimity, can be patient, and is not grieved: is it\\nnot a grievous thing, that either ignorance, or a vain desire to please\\nand to be commended, should be more powerful and effectual than true\\nprudence? As for the things themselves, they touch not the soul, neither\\ncan they have any access unto it: neither can they of themselves any\\nways either affect it, or move it. For she herself alone can affect and\\nmove herself, and according as the dogmata and opinions are, which she\\ndoth vouchsafe herself; so are those things which, as accessories, have\\nany co-existence with her.\\n\\nXVII. After one consideration, man is nearest unto us; as we are bound\\nto do them good, and to bear with them. But as he may oppose any of our\\ntrue proper actions, so man is unto me but as a thing indifferent: even\\nas the sun, or the wind, or some wild beast. By some of these it may be,\\nthat some operation or other of mine, may be hindered; however, of my\\nmind and resolution itself, there can be no let or impediment, by reason\\nof that ordinary constant both exception (or reservation wherewith it\\ninclineth) and ready conversion of objects; from that which may not be,\\nto that which may be, which in the prosecution of its inclinations, as\\noccasion serves, it doth observe. For by these the mind doth turn and\\nconvert any impediment whatsoever, to be her aim and purpose. So that\\nwhat before was the impediment, is now the principal object of her\\nworking; and that which before was in her way, is now her readiest way.\\n\\nXVIII. Honour that which is chiefest and most powerful in the world, and\\nthat is it, which makes use of all things, and governs all things. So\\nalso in thyself; honour that which is chiefest, and most powerful; and\\nis of one kind and nature with that which we now spake of. For it is the\\nvery same, which being in thee, turneth all other things to its own use,\\nand by whom also thy life is governed.\\n\\nXIX. That which doth not hurt the city itself; cannot hurt any citizen.\\nThis rule thou must remember to apply and make use of upon every conceit\\nand apprehension of wrong. If the whole city be not hurt by this,\\nneither am I certainly. And if the whole be not, why should I make it\\nmy private grievance? consider rather what it is wherein he is overseen\\nthat is thought to have done the wrong. Again, often meditate how\\nswiftly all things that subsist, and all things that are done in the\\nworld, are carried away, and as it were conveyed out of sight: for both\\nthe substance themselves, we see as a flood, are in a continual flux;\\nand all actions in a perpetual change; and the causes themselves,\\nsubject to a thousand alterations, neither is there anything almost,\\nthat may ever be said to be now settled and constant. Next unto this,\\nand which follows upon it, consider both the infiniteness of the time\\nalready past, and the immense vastness of that which is to come, wherein\\nall things are to be resolved and annihilated. Art not thou then a\\nvery fool, who for these things, art either puffed up with pride, or\\ndistracted with cares, or canst find in thy heart to make such moans as\\nfor a thing that would trouble thee for a very long time? Consider the\\nwhole universe whereof thou art but a very little part, and the whole\\nage of the world together, whereof but a short and very momentary\\nportion is allotted unto thee, and all the fates and destinies together,\\nof which how much is it that comes to thy part and share! Again: another\\ndoth trespass against me. Let him look to that. He is master of his own\\ndisposition, and of his own operation. I for my part am in the meantime\\nin possession of as much, as the common nature would have me to possess:\\nand that which mine own nature would have me do, I do.\\n\\nXX. Let not that chief commanding part of thy soul be ever subject to\\nany variation through any corporal either pain or pleasure, neither\\nsuffer it to be mixed with these, but let it both circumscribe itself,\\nand confine those affections to their own proper parts and members.\\nBut if at any time they do reflect and rebound upon the mind and\\nunderstanding (as in an united and compacted body it must needs;) then\\nmust thou not go about to resist sense and feeling, it being natural.\\nHowever let not thy understanding to this natural sense and feeling,\\nwhich whether unto our flesh pleasant or painful, is unto us nothing\\nproperly, add an opinion of either good or bad and all is well.\\n\\nXXI. To live with the Gods. He liveth with the Gods, who at all times\\naffords unto them the spectacle of a soul, both contented and well\\npleased with whatsoever is afforded, or allotted unto her; and\\nperforming whatsoever is pleasing to that Spirit, whom (being part of\\nhimself) Jove hath appointed to every man as his overseer and governor.\\n\\nXXII. Be not angry neither with him whose breath, neither with him whose\\narm holes, are offensive. What can he do? such is his breath naturally,\\nand such are his arm holes; and from such, such an effect, and such\\na smell must of necessity proceed. \\'O, but the man (sayest thou) hath\\nunderstanding in him, and might of himself know, that he by standing\\nnear, cannot choose but offend.\\' And thou also (God bless thee!) hast\\nunderstanding. Let thy reasonable faculty, work upon his reasonable\\nfaculty; show him his fault, admonish him. If he hearken unto thee, thou\\nhast cured him, and there will be no more occasion of anger.\\n\\nXXIII. \\'Where there shall neither roarer be, nor harlot.\\' Why so? As\\nthou dost purpose to live, when thou hast retired thyself to some such\\nplace, where neither roarer nor harlot is: so mayest thou here. And if\\nthey will not suffer thee, then mayest thou leave thy life rather than\\nthy calling, but so as one that doth not think himself anyways wronged.\\nOnly as one would say, Here is a smoke; I will out of it. And what a\\ngreat matter is this! Now till some such thing force me out, I will\\ncontinue free; neither shall any man hinder me to do what I will, and\\nmy will shall ever be by the proper nature of a reasonable and sociable\\ncreature, regulated and directed.\\n\\nXXIV. That rational essence by which the universe is governed, is for\\ncommunity and society; and therefore hath it both made the things that\\nare worse, for the best, and hath allied and knit together those\\nwhich are best, as it were in an harmony. Seest thou not how it hath\\nsub-ordinated, and co-ordinated? and how it hath distributed unto\\neverything according to its worth? and those which have the pre-eminency\\nand superiority above all, hath it united together, into a mutual\\nconsent and agreement.\\n\\nXXV. How hast thou carried thyself hitherto towards the Gods? towards\\nthy parents? towards thy brethren? towards thy wife? towards thy\\nchildren? towards thy masters? thy foster-fathers? thy friends? thy\\ndomestics? thy servants? Is it so with thee, that hitherto thou hast\\nneither by word or deed wronged any of them? Remember withal through how\\nmany things thou hast already passed, and how many thou hast been able\\nto endure; so that now the legend of thy life is full, and thy charge is\\naccomplished. Again, how many truly good things have certainly by thee\\nbeen discerned? how many pleasures, how many pains hast thou passed over\\nwith contempt? how many things eternally glorious hast thou despised?\\ntowards how many perverse unreasonable men hast thou carried thyself\\nkindly, and discreetly?\\n\\nXXVI. Why should imprudent unlearned souls trouble that which is\\nboth learned, and prudent? And which is that that is so? she that\\nunderstandeth the beginning and the end, and hath the true knowledge of\\nthat rational essence, that passeth through all things subsisting, and\\nthrough all ages being ever the same, disposing and dispensing as it\\nwere this universe by certain periods of time.\\n\\nXXVII. Within a very little while, thou wilt be either ashes, or a\\nsceletum; and a name perchance; and perchance, not so much as a name.\\nAnd what is that but an empty sound, and a rebounding echo? Those things\\nwhich in this life are dearest unto us, and of most account, they are in\\nthemselves but vain, putrid, contemptible. The most weighty and serious,\\nif rightly esteemed, but as puppies, biting one another: or untoward\\nchildren, now laughing and then crying. As for faith, and modesty, and\\njustice, and truth, they long since, as one of the poets hath it, have\\nabandoned this spacious earth, and retired themselves unto heaven. What\\nis it then that doth keep thee here, if things sensible be so mutable\\nand unsettled? and the senses so obscure, and so fallible? and our souls\\nnothing but an exhalation of blood? and to be in credit among such,\\nbe but vanity? What is it that thou dost stay for? an extinction, or a\\ntranslation; either of them with a propitious and contented mind. But\\nstill that time come, what will content thee? what else, but to worship\\nand praise the Gods; and to do good unto men. To bear with them, and\\nto forbear to do them any wrong. And for all external things belonging\\neither to this thy wretched body, or life, to remember that they are\\nneither thine, nor in thy power.\\n\\nXXVIII. Thou mayest always speed, if thou wilt but make choice of the\\nright way; if in the course both of thine opinions and actions, thou\\nwilt observe a true method. These two things be common to the souls, as\\nof God, so of men, and of every reasonable creature, first that in their\\nown proper work they cannot be hindered by anything: and secondly, that\\ntheir happiness doth consist in a disposition to, and in the practice of\\nrighteousness; and that in these their desire is terminated.\\n\\nXXIX. If this neither be my wicked act, nor an act anyways depending\\nfrom any wickedness of mine, and that by it the public is not hurt; what\\ndoth it concern me? And wherein can the public be hurt? For thou must\\nnot altogether be carried by conceit and common opinion: as for help\\nthou must afford that unto them after thy best ability, and as occasion\\nshall require, though they sustain damage, but in these middle or\\nworldly things; but however do not thou conceive that they are truly\\nhurt thereby: for that is not right. But as that old foster-father\\nin the comedy, being now to take his leave doth with a great deal of\\nceremony, require his foster-child\\'s rhombus, or rattle-top, remembering\\nnevertheless that it is but a rhombus; so here also do thou likewise.\\nFor indeed what is all this pleading and public bawling for at the\\ncourts? O man, hast thou forgotten what those things are! yea but they\\nare things that others much care for, and highly esteem of. Wilt thou\\ntherefore be a fool too? Once I was; let that suffice.\\n\\nXXX. Let death surprise rue when it will, and where it will, I may be a\\nhappy man, nevertheless.\\n\\nFor he is a happy man, who in his lifetime dealeth unto himself a happy\\nlot and portion. A happy lot and portion is, good inclinations of the\\nsoul, good desires, good actions.\\n\\n\\n\\n\\nTHE SIXTH BOOK\\n\\nI. The matter itself, of which the universe doth consist, is of itself\\nvery tractable and pliable. That rational essence that doth govern it,\\nhath in itself no cause to do evil. It hath no evil in itself; neither\\ncan it do anything that is evil: neither can anything be hurt by it. And\\nall things are done and determined according to its will and prescript.\\n\\nII. Be it all one unto thee, whether half frozen or well warm; whether\\nonly slumbering, or after a full sleep; whether discommended or\\ncommended thou do thy duty: or whether dying or doing somewhat else; for\\nthat also \\'to die,\\' must among the rest be reckoned as one of the duties\\nand actions of our lives.\\n\\nIII. Look in, let not either the proper quality, or the true worth of\\nanything pass thee, before thou hast fully apprehended it.\\n\\nIV. All substances come soon to their change, and either they shall\\nbe resolved by way of exhalation (if so be that all things shall be\\nreunited into one substance), or as others maintain, they shall be\\nscattered and dispersed. As for that Rational Essence by which all\\nthings are governed, as it best understandeth itself, both its own\\ndisposition, and what it doth, and what matter it hath to do with and\\naccordingly doth all things; so we that do not, no wonder, if we wonder\\nat many things, the reasons whereof we cannot comprehend.\\n\\nV. The best kind of revenge is, not to become like unto them.\\n\\nVI. Let this be thy only joy, and thy only comfort, from one sociable\\nkind action without intermission to pass unto another, God being ever in\\nthy mind.\\n\\nVII. The rational commanding part, as it alone can stir up and turn\\nitself; so it maketh both itself to be, and everything that happeneth,\\nto appear unto itself, as it will itself.\\n\\nVIII. According to the nature of the universe all things particular are\\ndetermined, not according to any other nature, either about compassing\\nand containing; or within, dispersed and contained; or without,\\ndepending. Either this universe is a mere confused mass, and an\\nintricate context of things, which shall in time be scattered and\\ndispersed again: or it is an union consisting of order, and administered\\nby Providence. If the first, why should I desire to continue any longer\\nin this fortuit confusion and commixtion? or why should I take care for\\nanything else, but that as soon as may be I may be earth again? And\\nwhy should I trouble myself any more whilst I seek to please the Gods?\\nWhatsoever I do, dispersion is my end, and will come upon me whether I\\nwill or no. But if the latter be, then am not I religious in vain;\\nthen will I be quiet and patient, and put my trust in Him, who is the\\nGovernor of all.\\n\\nIX. Whensoever by some present hard occurrences thou art constrained to\\nbe in some sort troubled and vexed, return unto thyself as soon as may\\nbe, and be not out of tune longer than thou must needs. For so shalt\\nthou be the better able to keep thy part another time, and to maintain\\nthe harmony, if thou dost use thyself to this continually; once out,\\npresently to have recourse unto it, and to begin again.\\n\\nX. If it were that thou hadst at one time both a stepmother, and\\na natural mother living, thou wouldst honour and respect her also;\\nnevertheless to thine own natural mother would thy refuge, and recourse\\nbe continually. So let the court and thy philosophy be unto thee. Have\\nrecourse unto it often, and comfort thyself in her, by whom it is that\\nthose other things are made tolerable unto thee, and thou also in those\\nthings not intolerable unto others.\\n\\nXI. How marvellous useful it is for a man to represent unto himself\\nmeats, and all such things that are for the mouth, under a right\\napprehension and imagination! as for example: This is the carcass of a\\nfish; this of a bird; and this of a hog. And again more generally; This\\nphalernum, this excellent highly commended wine, is but the bare juice\\nof an ordinary grape. This purple robe, but sheep\\'s hairs, dyed with\\nthe blood of a shellfish. So for coitus, it is but the attrition of an\\nordinary base entrail, and the excretion of a little vile snivel, with\\na certain kind of convulsion: according to Hippocrates his opinion. How\\nexcellent useful are these lively fancies and representations of things,\\nthus penetrating and passing through the objects, to make their true\\nnature known and apparent! This must thou use all thy life long, and\\nupon all occasions: and then especially, when matters are apprehended\\nas of great worth and respect, thy art and care must be to uncover\\nthem, and to behold their vileness, and to take away from them all those\\nserious circumstances and expressions, under which they made so grave\\na show. For outward pomp and appearance is a great juggler; and then\\nespecially art thou most in danger to be beguiled by it, when (to\\na man\\'s thinking) thou most seemest to be employed about matters of\\nmoment.\\n\\nXII. See what Crates pronounceth concerning Xenocrates himself.\\n\\nXIII. Those things which the common sort of people do admire, are most\\nof them such things as are very general, and may be comprehended under\\nthings merely natural, or naturally affected and qualified: as stones,\\nwood, figs, vines, olives. Those that be admired by them that are more\\nmoderate and restrained, are comprehended under things animated: as\\nflocks and herds. Those that are yet more gentle and curious, their\\nadmiration is commonly confined to reasonable creatures only; not in\\ngeneral as they are reasonable, but as they are capable of art, or of\\nsome craft and subtile invention: or perchance barely to reasonable\\ncreatures; as they that delight in the possession of many slaves. But\\nhe that honours a reasonable soul in general, as it is reasonable and\\nnaturally sociable, doth little regard anything else: and above all\\nthings is careful to preserve his own, in the continual habit and\\nexercise both of reason and sociableness: and thereby doth co-operate\\nwith him, of whose nature he doth also participate; God.\\n\\nXIV. Some things hasten to be, and others to be no more. And even\\nwhatsoever now is, some part thereof hath already perished. Perpetual\\nfluxes and alterations renew the world, as the perpetual course of time\\ndoth make the age of the world (of itself infinite) to appear always\\nfresh and new. In such a flux and course of all things, what of these\\nthings that hasten so fast away should any man regard, since among all\\nthere is not any that a man may fasten and fix upon? as if a man would\\nsettle his affection upon some ordinary sparrow living by him, who is no\\nsooner seen, than out of sight. For we must not think otherwise of our\\nlives, than as a mere exhalation of blood, or of an ordinary respiration\\nof air. For what in our common apprehension is, to breathe in the air\\nand to breathe it out again, which we do daily: so much is it and no\\nmore, at once to breathe out all thy respirative faculty into that\\ncommon air from whence but lately (as being but from yesterday, and\\nto-day), thou didst first breathe it in, and with it, life.\\n\\nXV. Not vegetative spiration, it is not surely (which plants have) that\\nin this life should be so dear unto us; nor sensitive respiration, the\\nproper life of beasts, both tame and wild; nor this our imaginative\\nfaculty; nor that we are subject to be led and carried up and down by\\nthe strength of our sensual appetites; or that we can gather, and live\\ntogether; or that we can feed: for that in effect is no better, than\\nthat we can void the excrements of our food. What is it then that should\\nbe dear unto us? to hear a clattering noise? if not that, then neither\\nto be applauded by the tongues of men. For the praises of many tongues,\\nis in effect no better than the clattering of so many tongues. If then\\nneither applause, what is there remaining that should be dear unto thee?\\nThis I think: that in all thy motions and actions thou be moved,\\nand restrained according to thine own true natural constitution and\\nConstruction only. And to this even ordinary arts and professions do\\nlead us. For it is that which every art doth aim at, that whatsoever it\\nis, that is by art effected and prepared, may be fit for that work that\\nit is prepared for. This is the end that he that dresseth the vine, and\\nhe that takes upon him either to tame colts, or to train up dogs,\\ndoth aim at. What else doth the education of children, and all learned\\nprofessions tend unto? Certainly then it is that, which should be dear\\nunto us also. If in this particular it go well with thee, care not for\\nthe obtaining of other things. But is it so, that thou canst not but\\nrespect other things also? Then canst not thou truly be free? then canst\\nthou not have self-content: then wilt thou ever be subject to passions.\\nFor it is not possible, but that thou must be envious, and jealous, and\\nsuspicious of them whom thou knowest can bereave thee of such things;\\nand again, a secret underminer of them, whom thou seest in present\\npossession of that which is dear unto thee. To be short, he must of\\nnecessity be full of confusion within himself, and often accuse the\\nGods, whosoever stands in need of these things. But if thou shalt\\nhonour and respect thy mind only, that will make thee acceptable\\ntowards thyself, towards thy friends very tractable; and conformable\\nand concordant with the Gods; that is, accepting with praises whatsoever\\nthey shall think good to appoint and allot unto thee.\\n\\nXVI. Under, above, and about, are the motions of the elements; but\\nthe motion of virtue, is none of those motions, but is somewhat more\\nexcellent and divine. Whose way (to speed and prosper in it) must be\\nthrough a way, that is not easily comprehended.\\n\\nXVII. Who can choose but wonder at them? They will not speak well of\\nthem that are at the same time with them, and live with them; yet they\\nthemselves are very ambitious, that they that shall follow, whom they\\nhave never seen, nor shall ever see, should speak well of them. As if\\na man should grieve that he hath not been commended by them, that lived\\nbefore him.\\n\\nXVIII. Do not ever conceive anything impossible to man, which by thee\\ncannot, or not without much difficulty be effected; but whatsoever in\\ngeneral thou canst Conceive possible and proper unto any man, think that\\nvery possible unto thee also.\\n\\nXIX. Suppose that at the palestra somebody hath all to-torn thee with\\nhis nails, and hath broken thy head. Well, thou art wounded. Yet thou\\ndost not exclaim; thou art not offended with him. Thou dost not suspect\\nhim for it afterwards, as one that watcheth to do thee a mischief. Yea\\neven then, though thou dost thy best to save thyself from him, yet not\\nfrom him as an enemy. It is not by way of any suspicious indignation,\\nbut by way of gentle and friendly declination. Keep the same mind and\\ndisposition in other parts of thy life also. For many things there be,\\nwhich we must conceit and apprehend, as though we had had to do with an\\nantagonist at the palestra. For as I said, it is very possible for us to\\navoid and decline, though we neither suspect, nor hate.\\n\\nXX. If anybody shall reprove me, and shall make it apparent unto me,\\nthat in any either opinion or action of mine I do err, I will most\\ngladly retract. For it is the truth that I seek after, by which I am\\nsure that never any man was hurt; and as sure, that he is hurt that\\ncontinueth in any error, or ignorance whatsoever.\\n\\nXXI. I for my part will do what belongs unto me; as for other things,\\nwhether things unsensible or things irrational; or if rational, yet\\ndeceived and ignorant of the true way, they shall not trouble or\\ndistract me. For as for those creatures which are not endued with reason\\nand all other things and-matters of the world whatsoever I freely, and\\ngenerously, as one endued with reason, of things that have none, make\\nuse of them. And as for men, towards them as naturally partakers of the\\nsame reason, my care is to carry myself sociably. But whatsoever it is\\nthat thou art about, remember to call upon the Gods. And as for the time\\nhow long thou shalt live to do these things, let it be altogether\\nindifferent unto thee, for even three such hours are sufficient.\\n\\nXXII. Alexander of Macedon, and he that dressed his mules, when once\\ndead both came to one. For either they were both resumed into those\\noriginal rational essences from whence all things in the world are\\npropagated; or both after one fashion were scattered into atoms.\\n\\nXXIII Consider how many different things, whether they concern our\\nbodies, or our souls, in a moment of time come to pass in every one of\\nus, and so thou wilt not wonder if many more things or rather all things\\nthat are done, can at one time subsist, and coexist in that both one and\\ngeneral, which we call the world.\\n\\nXXIV. if any should put this question unto thee, how this word Antoninus\\nis written, wouldst thou not presently fix thine intention upon it, and\\nutter out in order every letter of it? And if any shall begin to gainsay\\nthee, and quarrel with thee about it; wilt thou quarrel with him again,\\nor rather go on meekly as thou hast begun, until thou hast numbered out\\nevery letter? Here then likewise remember, that every duty that belongs\\nunto a man doth consist of some certain letters or numbers as it were,\\nto which without any noise or tumult keeping thyself thou must orderly\\nproceed to thy proposed end, forbearing to quarrel with him that would\\nquarrel and fall out with thee.\\n\\nXXV. Is it not a cruel thing to forbid men to affect those things, which\\nthey conceive to agree best with their own natures, and to tend most\\nto their own proper good and behoof? But thou after a sort deniest them\\nthis liberty, as often as thou art angry with them for their sins. For\\nsurely they are led unto those sins whatsoever they be, as to\\ntheir proper good and commodity. But it is not so (thou wilt object\\nperchance). Thou therefore teach them better, and make it appear unto\\nthem: but be not thou angry with them.\\n\\nXXVI. Death is a cessation from the impression of the senses, the\\ntyranny of the passions, the errors of the mind, and the servitude of\\nthe body.\\n\\nXXVII. If in this kind of life thy body be able to hold out, it is a\\nshame that thy soul should faint first, and give over, take heed, lest\\nof a philosopher thou become a mere Caesar in time, and receive a new\\ntincture from the court. For it may happen if thou dost not take heed.\\nKeep thyself therefore, truly simple, good, sincere, grave, free\\nfrom all ostentation, a lover of that which is just, religious, kind,\\ntender-hearted, strong and vigorous to undergo anything that becomes\\nthee. Endeavour to continue such, as philosophy (hadst thou wholly and\\nconstantly applied thyself unto it) would have made, and secured thee.\\nWorship the Gods, procure the welfare of men, this life is short.\\nCharitable actions, and a holy disposition, is the only fruit of this\\nearthly life.\\n\\nXXVIII. Do all things as becometh the disciple of Antoninus Pius.\\nRemember his resolute constancy in things that were done by him\\naccording to reason, his equability in all things, his sanctity; the\\ncheerfulness of his countenance, his sweetness, and how free he was from\\nall vainglory; how careful to come to the true and exact knowledge of\\nmatters in hand, and how he would by no means give over till he did\\nfully, and plainly understand the whole state of the business; and how\\npatiently, and without any contestation he would bear with them, that\\ndid unjustly condemn him: how he would never be over-hasty in anything,\\nnor give ear to slanders and false accusations, but examine and observe\\nwith best diligence the several actions and dispositions of men. Again,\\nhow he was no backbiter, nor easily frightened, nor suspicious, and in\\nhis language free from all affectation and curiosity: and how easily he\\nwould content himself with few things, as lodging, bedding, clothing,\\nand ordinary nourishment, and attendance. How able to endure labour, how\\npatient; able through his spare diet to continue from morning to evening\\nwithout any necessity of withdrawing before his accustomed hours to\\nthe necessities of nature: his uniformity and constancy in matter of\\nfriendship. How he would bear with them that with all boldness and\\nliberty opposed his opinions; and even rejoice if any man could better\\nadvise him: and lastly, how religious he was without superstition. All\\nthese things of him remember, that whensoever thy last hour shall\\ncome upon thee, it may find thee, as it did him, ready for it in the\\npossession of a good conscience.\\n\\nXXIX. Stir up thy mind, and recall thy wits again from thy natural\\ndreams, and visions, and when thou art perfectly awoken, and canst\\nperceive that they were but dreams that troubled thee, as one newly\\nawakened out of another kind of sleep look upon these worldly things\\nwith the same mind as thou didst upon those, that thou sawest in thy\\nsleep.\\n\\nXXX. I consist of body and soul. Unto my body all things are\\nindifferent, for of itself it cannot affect one thing more than another\\nwith apprehension of any difference; as for my mind, all things which\\nare not within the verge of her own operation, are indifferent unto her,\\nand for her own operations, those altogether depend of her; neither\\ndoes she busy herself about any, but those that are present; for as\\nfor future and past operations, those also are now at this present\\nindifferent unto her.\\n\\nXXXI. As long as the foot doth that which belongeth unto it to do, and\\nthe hand that which belongs unto it, their labour, whatsoever it be, is\\nnot unnatural. So a man as long as he doth that which is proper unto\\na man, his labour cannot be against nature; and if it be not against\\nnature, then neither is it hurtful unto him. But if it were so that\\nhappiness did consist in pleasure: how came notorious robbers, impure\\nabominable livers, parricides, and tyrants, in so large a measure to\\nhave their part of pleasures?\\n\\nXXXII. Dost thou not see, how even those that profess mechanic arts,\\nthough in some respect they be no better than mere idiots, yet they\\nstick close to the course of their trade, neither can they find in\\ntheir heart to decline from it: and is it not a grievous thing that\\nan architect, or a physician shall respect the course and mysteries of\\ntheir profession, more than a man the proper course and condition of his\\nown nature, reason, which is common to him and to the Gods?\\n\\nXXXIII. Asia, Europe; what are they, but as corners of the whole world;\\nof which the whole sea, is but as one drop; and the great Mount Athos,\\nbut as a clod, as all present time is but as one point of eternity. All,\\npetty things; all things that are soon altered, soon perished. And all\\nthings come from one beginning; either all severally and particularly\\ndeliberated and resolved upon, by the general ruler and governor of all;\\nor all by necessary consequence. So that the dreadful hiatus of a gaping\\nlion, and all poison, and all hurtful things, are but (as the thorn and\\nthe mire) the necessary consequences of goodly fair things. Think not\\nof these therefore, as things contrary to those which thou dost much\\nhonour, and respect; but consider in thy mind the true fountain of all.\\n\\nXXXIV He that seeth the things that are now, hath Seen all that either\\nwas ever, or ever shall be, for all things are of one kind; and all like\\none unto another. Meditate often upon the connection of all things in\\nthe world; and upon the mutual relation that they have one unto another.\\nFor all things are after a sort folded and involved one within another,\\nand by these means all agree well together. For one thing is consequent\\nunto another, by local motion, by natural conspiration and agreement,\\nand by substantial union, or, reduction of all substances into one.\\n\\nXXXV. Fit and accommodate thyself to that estate and to those\\noccurrences, which by the destinies have been annexed unto thee; and\\nlove those men whom thy fate it is to live with; but love them truly. An\\ninstrument, a tool, an utensil, whatsoever it be, if it be fit for the\\npurpose it was made for, it is as it should be though he perchance that\\nmade and fitted it, be out of sight and gone. But in things natural,\\nthat power which hath framed and fitted them, is and abideth within them\\nstill: for which reason she ought also the more to be respected, and we\\nare the more obliged (if we may live and pass our time according to her\\npurpose and intention) to think that all is well with us, and according\\nto our own minds. After this manner also, and in this respect it is,\\nthat he that is all in all doth enjoy his happiness.\\n\\nXXXVI. What things soever are not within the proper power and\\njurisdiction of thine own will either to compass or avoid, if thou shalt\\npropose unto thyself any of those things as either good, or evil; it\\nmust needs be that according as thou shalt either fall into that which\\nthou dost think evil, or miss of that which thou dost think good, so\\nwilt thou be ready both to complain of the Gods, and to hate those men,\\nwho either shall be so indeed, or shall by thee be suspected as the\\ncause either of thy missing of the one, or falling into the other. And\\nindeed we must needs commit many evils, if we incline to any of these\\nthings, more or less, with an opinion of any difference. But if we mind\\nand fancy those things only, as good and bad, which wholly depend of our\\nown wills, there is no more occasion why we should either murmur against\\nthe Gods, or be at enmity with any man.\\n\\nXXXVII. We all work to one effect, some willingly, and with a rational\\napprehension of what we do: others without any such knowledge. As I\\nthink Heraclitus in a place speaketh of them that sleep, that even they\\ndo work in their kind, and do confer to the general operations of the\\nworld. One man therefore doth co-operate after one sort, and another\\nafter another sort; but even he that doth murmur, and to his power doth\\nresist and hinder; even he as much as any doth co-operate. For of such\\nalso did the world stand in need. Now do thou consider among which of\\nthese thou wilt rank thyself. For as for him who is the Administrator\\nof all, he will make good use of thee whether thou wilt or no, and make\\nthee (as a part and member of the whole) so to co-operate with him,\\nthat whatsoever thou doest, shall turn to the furtherance of his own\\ncounsels, and resolutions. But be not thou for shame such a part of the\\nwhole, as that vile and ridiculous verse (which Chrysippus in a place\\ndoth mention) is a part of the comedy. XXXVIII. Doth either the sun take\\nupon him to do that which belongs to the rain? or his son Aesculapius\\nthat, which unto the earth doth properly belong? How is it with every\\none of the stars in particular? Though they all differ one from another,\\nand have their several charges and functions by themselves, do they not\\nall nevertheless concur and co-operate to one end?\\n\\nXXXIX. If so be that the Gods have deliberated in particular of those\\nthings that should happen unto me, I must stand to their deliberation,\\nas discrete and wise. For that a God should be an imprudent God, is a\\nthing hard even to conceive: and why should they resolve to do me hurt?\\nfor what profit either unto them or the universe (which they specially\\ntake care for) could arise from it? But if so be that they have not\\ndeliberated of me in particular, certainly they have of the whole in\\ngeneral, and those things which in consequence and coherence of this\\ngeneral deliberation happen unto me in particular, I am bound to embrace\\nand accept of. But if so be that they have not deliberated at all (which\\nindeed is very irreligious for any man to believe: for then let us\\nneither sacrifice, nor pray, nor respect our oaths, neither let us any\\nmore use any of those things, which we persuaded of the presence and\\nsecret conversation of the Gods among us, daily use and practise:)\\nbut, I say, if so be that they have not indeed either in general, or\\nparticular deliberated of any of those things, that happen unto us\\nin this world; yet God be thanked, that of those things that\\nconcern myself, it is lawful for me to deliberate myself, and all my\\ndeliberation is but concerning that which may be to me most profitable.\\nNow that unto every one is most profitable, which is according to his\\nown constitution and nature. And my nature is, to be rational in all my\\nactions and as a good, and natural member of a city and commonwealth,\\ntowards my fellow members ever to be sociably and kindly disposed and\\naffected. My city and country as I am Antoninus, is Rome; as a man, the\\nwhole world. Those things therefore that are expedient and profitable to\\nthose cities, are the only things that are good and expedient for me.\\n\\nXL. Whatsoever in any kind doth happen to any one, is expedient to the\\nwhole. And thus much to content us might suffice, that it is expedient\\nfor the whole in general. But yet this also shalt thou generally\\nperceive, if thou dost diligently take heed, that whatsoever doth happen\\nto any one man or men.... And now I am content that the word expedient,\\nshould more generally be understood of those things which we otherwise\\ncall middle things, or things indifferent; as health, wealth, and the\\nlike.\\n\\nXLI. As the ordinary shows of the theatre and of other such places,\\nwhen thou art presented with them, affect thee; as the same things still\\nseen, and in the same fashion, make the sight ingrateful and tedious;\\nso must all the things that we see all our life long affect us. For all\\nthings, above and below, are still the same, and from the same causes.\\nWhen then will there be an end?\\n\\nXLII. Let the several deaths of men of all sorts, and of all sorts of\\nprofessions, and of all sort of nations, be a perpetual object of thy\\nthoughts,... so that thou mayst even come down to Philistio, Phoebus,\\nand Origanion. Pass now to other generations. Thither shall we after\\nmany changes, where so many brave orators are; where so many grave\\nphilosophers; Heraclitus, Pythagoras, Socrates. Where so many heroes of\\nthe old times; and then so many brave captains of the latter times; and\\nso many kings. After all these, where Eudoxus, Hipparchus, Archimedes;\\nwhere so many other sharp, generous, industrious, subtile, peremptory\\ndispositions; and among others, even they, that have been the greatest\\nscoffers and deriders of the frailty and brevity of this our human life;\\nas Menippus, and others, as many as there have been such as he. Of all\\nthese consider, that they long since are all dead, and gone. And what do\\nthey suffer by it! Nay they that have not so much as a name remaining,\\nwhat are they the worse for it? One thing there is, and that only, which\\nis worth our while in this world, and ought by us much to be esteemed;\\nand that is, according to truth and righteousness, meekly and lovingly\\nto converse with false, and unrighteous men.\\n\\nXLIII. When thou wilt comfort and cheer thyself, call to mind the\\nseveral gifts and virtues of them, whom thou dost daily converse with;\\nas for example, the industry of the one; the modesty of another; the\\nliberality of a third; of another some other thing. For nothing can so\\nmuch rejoice thee, as the resemblances and parallels of several virtues,\\nvisible and eminent in the dispositions of those who live with thee;\\nespecially when, all at once, as near as may be, they represent\\nthemselves unto thee. And therefore thou must have them always in a\\nreadiness.\\n\\nXLIV. Dost thou grieve that thou dost weigh but so many pounds, and not\\nthree hundred rather? Just as much reason hast thou to grieve that\\nthou must live but so many years, and not longer. For as for bulk and\\nsubstance thou dost content thyself with that proportion of it that is\\nallotted unto thee, so shouldst thou for time.\\n\\nXLV. Let us do our best endeavours to persuade them; but however, if\\nreason and justice lead thee to it, do it, though they be never so much\\nagainst it. But if any shall by force withstand thee, and hinder thee in\\nit, convert thy virtuous inclination from one object unto another, from\\njustice to contented equanimity, and cheerful patience: so that what in\\nthe one is thy hindrance, thou mayst make use of it for the exercise of\\nanother virtue: and remember that it was with due exception, and\\nreservation, that thou didst at first incline and desire. For thou didst\\nnot set thy mind upon things impossible. Upon what then? that all thy\\ndesires might ever be moderated with this due kind of reservation. And\\nthis thou hast, and mayst always obtain, whether the thing desired be in\\nthy power or no. And what do I care for more, if that for which I was\\nborn and brought forth into the world (to rule all my desires with\\nreason and discretion) may be?\\n\\nXLVI. The ambitious supposeth another man\\'s act, praise and applause, to\\nbe his own happiness; the voluptuous his own sense and feeling; but he\\nthat is wise, his own action.\\n\\nXLVII. It is in thy power absolutely to exclude all manner of conceit\\nand opinion, as concerning this matter; and by the same means, to\\nexclude all grief and sorrow from thy soul. For as for the things and\\nobjects themselves, they of themselves have no such power, whereby to\\nbeget and force upon us any opinion at all.\\n\\nXLVIII. Use thyself when any man speaks unto thee, so to hearken unto\\nhim, as that in the interim thou give not way to any other thoughts;\\nthat so thou mayst (as far as is possible) seem fixed and fastened to\\nhis very soul, whosoever he be that speaks unto thee.\\n\\nXLIX. That which is not good for the bee-hive, cannot be good for the\\nbee.\\n\\nL. Will either passengers, or patients, find fault and complain, either\\nthe one if they be well carried, or the others if well cured? Do they\\ntake care for any more than this; the one, that their shipmaster may\\nbring them safe to land, and the other, that their physician may effect\\ntheir recovery?\\n\\nLI. How many of them who came into the world at the same time when I\\ndid, are already gone out of it?\\n\\nLII. To them that are sick of the jaundice, honey seems bitter; and to\\nthem that are bitten by a mad dog, the water terrible; and to children,\\na little ball seems a fine thing. And why then should I be angry? or\\ndo I think that error and false opinion is less powerful to make men\\ntransgress, than either choler, being immoderate and excessive, to cause\\nthe jaundice; or poison, to cause rage?\\n\\nLIII. No man can hinder thee to live as thy nature doth require. Nothing\\ncan happen unto thee, but what the common good of nature doth require.\\n\\nLIV. What manner of men they be whom they seek to please, and what to\\nget, and by what actions: how soon time will cover and bury all things,\\nand how many it hath already buried!\\n\\n\\n\\n\\nTHE SEVENTH BOOK\\n\\nI. What is wickedness? It is that which many time and often thou hast\\nalready seen and known in the world. And so oft as anything doth happen\\nthat might otherwise trouble thee, let this memento presently come to\\nthy mind, that it is that which thou hast already often Seen and known.\\nGenerally, above and below, thou shalt find but the same things. The\\nvery same things whereof ancient stories, middle age stories, and fresh\\nstories are full whereof towns are full, and houses full. There is\\nnothing that is new. All things that are, are both usual and of little\\ncontinuance.\\n\\nII. What fear is there that thy dogmata, or philosophical resolutions\\nand conclusions, should become dead in thee, and lose their proper\\npower and efficacy to make thee live happy, as long as those proper\\nand correlative fancies, and representations of things on which they\\nmutually depend (which continually to stir up and revive is in thy\\npower,) are still kept fresh and alive? It is in my power concerning\\nthis thing that is happened, what soever it be, to conceit that which is\\nright and true. If it be, why then am I troubled? Those things that are\\nwithout my understanding, are nothing to it at all: and that is it only,\\nwhich doth properly concern me. Be always in this mind, and thou wilt be\\nright.\\n\\nIII. That which most men would think themselves most happy for, and\\nwould prefer before all things, if the Gods would grant it unto them\\nafter their deaths, thou mayst whilst thou livest grant unto thyself; to\\nlive again. See the things of the world again, as thou hast already seen\\nthem. For what is it else to live again? Public shows and solemnities\\nwith much pomp and vanity, stage plays, flocks and herds; conflicts\\nand contentions: a bone thrown to a company of hungry curs; a bait for\\ngreedy fishes; the painfulness, and continual burden-bearing of wretched\\nants, the running to and fro of terrified mice: little puppets drawn up\\nand down with wires and nerves: these be the objects of the world among\\nall these thou must stand steadfast, meekly affected, and free from all\\nmanner of indignation; with this right ratiocination and apprehension;\\nthat as the worth is of those things which a man doth affect, so is in\\nvery deed every man\\'s worth more or less.\\n\\nIV. Word after word, every one by itself, must the things that are\\nspoken be conceived and understood; and so the things that are done,\\npurpose after purpose, every one by itself likewise. And as in matter of\\npurposes and actions, we must presently see what is the proper use and\\nrelation of every one; so of words must we be as ready, to consider of\\nevery one what is the true meaning, and signification of it according to\\ntruth and nature, however it be taken in common use.\\n\\nV. Is my reason, and understanding sufficient for this, or no? If it be\\nsufficient, without any private applause, or public ostentation as of an\\ninstrument, which by nature I am provided of, I will make use of it for\\nthe work in hand, as of an instrument, which by nature I am provided of.\\nif it be not, and that otherwise it belong not unto me particularly as\\na private duty, I will either give it over, and leave it to some other\\nthat can better effect it: or I will endeavour it; but with the help\\nof some other, who with the joint help of my reason, is able to bring\\nsomewhat to pass, that will now be seasonable and useful for the common\\ngood. For whatsoever I do either by myself, or with some other, the\\nonly thing that I must intend, is, that it be good and expedient for\\nthe public. For as for praise, consider how many who once were much\\ncommended, are now already quite forgotten, yea they that commended\\nthem, how even they themselves are long since dead and gone. Be not\\ntherefore ashamed, whensoever thou must use the help of others. For\\nwhatsoever it be that lieth upon thee to effect, thou must propose it\\nunto thyself, as the scaling of walls is unto a soldier. And what if\\nthou through either lameness or some other impediment art not able to\\nreach unto the top of the battlements alone, which with the help of\\nanother thou mayst; wilt thou therefore give it over, or go about it\\nwith less courage and alacrity, because thou canst not effect it all\\nalone?\\n\\nVI. Let not things future trouble thee. For if necessity so require that\\nthey come to pass, thou shalt (whensoever that is) be provided for them\\nwith the same reason, by which whatsoever is now present, is made both\\ntolerable and acceptable unto thee. All things are linked and knitted\\ntogether, and the knot is sacred, neither is there anything in the\\nworld, that is not kind and natural in regard of any other thing, or,\\nthat hath not some kind of reference and natural correspondence with\\nwhatsoever is in the world besides. For all things are ranked together,\\nand by that decency of its due place and order that each particular\\ndoth observe, they all concur together to the making of one and the same\\n[\"Kosmos\" ed] or world: as if you said, a comely piece, or an orderly\\ncomposition. For all things throughout, there is but one and the same\\norder; and through all things, one and the same God, the same substance\\nand the same law. There is one common reason, and one common truth, that\\nbelongs unto all reasonable creatures, for neither is there save one\\nperfection of all creatures that are of the same kind, and partakers of\\nthe same reason.\\n\\nVII. Whatsoever is material, doth soon vanish away into the common\\nsubstance of the whole; and whatsoever is formal, or, whatsoever doth\\nanimate that which is material, is soon resumed into the common reason\\nof the whole; and the fame and memory of anything, is soon swallowed up\\nby the general age and duration of the whole.\\n\\nVIII. To a reasonable creature, the same action is both according\\nto nature, and according to reason.\\n\\nIX. Straight of itself, not made straight.\\n\\nX. As several members in one body united, so are reasonable creatures\\nin a body divided and dispersed, all made and prepared for one common\\noperation. And this thou shalt apprehend the better, if thou shalt use\\nthyself often to say to thyself, I am meloz, or a member of the mass and\\nbody of reasonable substances. But if thou shalt say I am meroz, or\\na part, thou dost not yet love men from thy heart. The joy that thou\\ntakest in the exercise of bounty, is not yet grounded upon a due\\nratiocination and right apprehension of the nature of things. Thou dost\\nexercise it as yet upon this ground barely, as a thing convenient and\\nfitting; not, as doing good to thyself, when thou dost good unto others.\\n\\nXI. Of things that are external, happen what will to that which can\\nsuffer by external accidents. Those things that suffer let them complain\\nthemselves, if they will; as for me, as long as I conceive no such\\nthing, that that which is happened is evil, I have no hurt; and it is in\\nmy power not to conceive any such thing.\\n\\nXII. Whatsoever any man either doth or saith, thou must be good; not for\\nany man\\'s sake, but for thine own nature\\'s sake; as if either gold, or\\nthe emerald, or purple, should ever be saying to themselves, Whatsoever\\nany man either doth or saith, I must still be an emerald, and I must\\nkeep my colour.\\n\\nXIII. This may ever be my comfort and security: my understanding, that\\nruleth over all, will not of itself bring trouble and vexation upon\\nitself. This I say; it will not put itself in any fear, it will not lead\\nitself into any concupiscence. If it be in the power of any other to\\ncompel it to fear, or to grieve, it is free for him to use his power.\\nBut sure if itself do not of itself, through some false opinion or\\nsupposition incline itself to any such disposition; there is no fear.\\nFor as for the body, why should I make the grief of my body, to be the\\ngrief of my mind? If that itself can either fear or complain, let it.\\nBut as for the soul, which indeed, can only be truly sensible of either\\nfear or grief; to which only it belongs according to its different\\nimaginations and opinions, to admit of either of these, or of their\\ncontraries; thou mayst look to that thyself, that it suffer nothing.\\nInduce her not to any such opinion or persuasion. The understanding\\nis of itself sufficient unto itself, and needs not (if itself doth not\\nbring itself to need) any other thing besides itself, and by consequent\\nas it needs nothing, so neither can it be troubled or hindered by\\nanything, if itself doth not trouble and hinder itself.\\n\\nXIV. What is rv&nfLovia, or happiness: but a7~o~ &d~wv, or, a good\\nda~rnon, or spirit? What then dost thou do here, O opinion? By the Gods\\nI adjure thee, that thou get thee gone, as thou earnest: for I need thee\\nnot. Thou earnest indeed unto me according to thy ancient wonted manner.\\nIt is that, that all men have ever been subject unto. That thou camest\\ntherefore I am not angry with thee, only begone, now that I have found\\nthee what thou art.\\n\\nXV. Is any man so foolish as to fear change, to which all things that\\nonce were not owe their being? And what is it, that is more pleasing and\\nmore familiar to the nature of the universe? How couldst thou thyself\\nuse thy ordinary hot baths, should not the wood that heateth them first\\nbe changed? How couldst thou receive any nourishment from those things\\nthat thou hast eaten, if they should not be changed? Can anything\\nelse almost (that is useful and profitable) be brought to pass without\\nchange? How then dost not thou perceive, that for thee also, by death,\\nto come to change, is a thing of the very same nature, and as necessary\\nfor the nature of the universe?\\n\\nXVI. Through the substance of the universe, as through a torrent pass\\nall particular bodies, being all of the same nature, and all joint\\nworkers with the universe itself as in one of our bodies so many\\nmembers among themselves. How many such as Chrysippus, how many such\\nas Socrates, how many such as Epictetus, hath the age of the world\\nlong since swallowed up and devoured? Let this, be it either men or\\nbusinesses, that thou hast occasion to think of, to the end that thy\\nthoughts be not distracted and thy mind too earnestly set upon anything,\\nupon every such occasion presently come to thy mind. Of all my thoughts\\nand cares, one only thing shall be the object, that I myself do nothing\\nwhich to the proper constitution of man, (either in regard of the\\nthing itself, or in regard of the manner, or of the time of doing,)\\nis contrary. The time when thou shalt have forgotten all things, is\\nat hand. And that time also is at hand, when thou thyself shalt be\\nforgotten by all. Whilst thou art, apply thyself to that especially\\nwhich unto man as he is a mart, is most proper and agreeable, and that\\nis, for a man even to love them that transgress against him. This shall\\nbe, if at the same time that any such thing doth happen, thou call\\nto mind, that they are thy kinsmen; that it is through ignorance and\\nagainst their wills that they sin; and that within a very short while\\nafter, both thou and he shall be no more. But above all things, that he\\nhath not done thee any hurt; for that by him thy mind and understanding\\nis not made worse or more vile than it was before.\\n\\nXVII. The nature of the universe, of the common substance of all things\\nas it were of so much wax hath now perchance formed a horse; and then,\\ndestroying that figure, hath new tempered and fashioned the matter of it\\ninto the form and substance of a tree: then that again into the form and\\nsubstance of a man: and then that again into some other. Now every one\\nof these doth subsist but for a very little while. As for dissolution,\\nif it be no grievous thing to the chest or trunk, to be joined together;\\nwhy should it be more grievous to be put asunder?\\n\\nXVIII. An angry countenance is much against nature, and it is oftentimes\\nthe proper countenance of them that are at the point of death. But were\\nit so, that all anger and passion were so thoroughly quenched in thee,\\nthat it were altogether impossible to kindle it any more, yet herein\\nmust not thou rest satisfied, but further endeavour by good consequence\\nof true ratiocination, perfectly to conceive and understand, that all\\nanger and passion is against reason. For if thou shalt not be sensible\\nof thine innocence; if that also shall be gone from thee, the comfort of\\na good conscience, that thou doest all things according to reason: what\\nshouldest thou live any longer for? All things that now thou seest,\\nare but for a moment. That nature, by which all things in the world are\\nadministered, will soon bring change and alteration upon them, and then\\nof their substances make other things like unto them: and then soon\\nafter others again of the matter and substance of these: that so by\\nthese means, the world may still appear fresh and new.\\n\\nXIX. Whensoever any man doth trespass against other, presently consider\\nwith thyself what it was that he did suppose to be good, what to be\\nevil, when he did trespass. For this when thou knowest, thou wilt pity\\nhim thou wilt have no occasion either to wonder, or to be angry. For\\neither thou thyself dust yet live in that error and ignorance, as that\\nthou dust suppose either that very thing that he doth, or some other\\nlike worldly thing, to be good; and so thou art bound to pardon him if\\nhe have done that which thou in the like case wouldst have done thyself.\\nOr if so be that thou dost not any more suppose the same things to be\\ngood or evil, that he doth; how canst thou but be gentle unto him that\\nis in an error?\\n\\nXX. Fancy not to thyself things future, as though they were present\\nbut of those that are present, take some aside, that thou takest most\\nbenefit of, and consider of them particularly, how wonderfully thou\\nwouldst want them, if they were not present. But take heed withal, lest\\nthat whilst thou dust settle thy contentment in things present, thou\\ngrow in time so to overprize them, as that the want of them (whensoever\\nit shall so fall out) should be a trouble and a vexation unto thee. Wind\\nup thyself into thyself. Such is the nature of thy reasonable\\ncommanding part, as that if it exercise justice, and have by that means\\ntranquillity within itself, it doth rest fully satisfied with itself\\nwithout any other thing.\\n\\nXXI. Wipe off all opinion stay the force and violence of unreasonable\\nlusts and affections: circumscribe the present time examine whatsoever\\nit be that is happened, either to thyself or to another: divide all\\npresent objects, either in that which is formal or material think of the\\nlast hour. That which thy neighbour hath committed, where the guilt of\\nit lieth, there let it rest. Examine in order whatsoever is spoken. Let\\nthy mind penetrate both into the effects, and into the causes. Rejoice\\nthyself with true simplicity, and modesty; and that all middle things\\nbetween virtue and vice are indifferent unto thee. Finally, love\\nmankind; obey God.\\n\\nXXII. All things (saith he) are by certain order and appointment. And\\nwhat if the elements only.\\n\\nIt will suffice to remember, that all things in general are by certain\\norder and appointment: or if it be but few. And as concerning death,\\nthat either dispersion, or the atoms, or annihilation, or extinction,\\nor translation will ensue. And as concerning pain, that that which is\\nintolerable is soon ended by death; and that which holds long must needs\\nbe tolerable; and that the mind in the meantime (which is all in all)\\nmay by way of interclusion, or interception, by stopping all manner of\\ncommerce and sympathy with the body, still retain its own tranquillity.\\nThy understanding is not made worse by it. As for those parts that\\nsuffer, let them, if they can, declare their grief themselves. As for\\npraise and commendation, view their mind and understanding, what estate\\nthey are in; what kind of things they fly, and what things they seek\\nafter: and that as in the seaside, whatsoever was before to be seen,\\nis by the continual succession of new heaps of sand cast up one upon\\nanother, soon hid and covered; so in this life, all former things by\\nthose which immediately succeed.\\n\\nXXIII. Out of Plato. \\'He then whose mind is endowed with true\\nmagnanimity, who hath accustomed himself to the contemplation both of\\nall times, and of all things in general; can this mortal life (thinkest\\nthou) seem any great matter unto him? It is not possible, answered he.\\nThen neither will such a one account death a grievous thing? By no\\nmeans.\\'\\n\\nXXIV. Out of Antisthenes. \\'It is a princely thing to do well, and to be\\nill-spoken of. It is a shameful thing that the face should be subject\\nunto the mind, to be put into what shape it will, and to be dressed by\\nit as it will; and that the mind should not bestow so much care upon\\nherself, as to fashion herself, and to dress herself as best becometh\\nher.\\'\\n\\nXXV. Out of several poets and comics. \\'It will but little avail thee,\\nto turn thine anger and indignation upon the things themselves that have\\nfallen across unto thee. For as for them, they are not sensible of it,\\n&c. Thou shalt but make thyself a laughing-stock; both unto the Gods and\\nmen, &c. Our life is reaped like a ripe ear of corn; one is yet\\nstanding and another is down, &c. But if so be that I and my children be\\nneglected by the gods, there is some reason even for that, &c. As long\\nas right and equity is of my side, &c. Not to lament with them, not to\\ntremble, &c.\\'\\n\\nXXVI. Out of Plato. \\'My answer, full of justice and equity, should be\\nthis: Thy speech is not right, O man! if thou supposest that he that is\\nof any worth at all, should apprehend either life or death, as a matter\\nof great hazard and danger; and should not make this rather his only\\ncare, to examine his own actions, whether just or unjust: whether\\nactions of a good, or of a wicked man, &c. For thus in very truth stands\\nthe case, O ye men of Athens. What place or station soever a man either\\nhath chosen to himself, judging it best for himself; or is by lawful\\nauthority put and settled in, therein do I think (all appearance of\\ndanger notwithstanding) that he should continue, as one who feareth\\nneither death, nor anything else, so much as he feareth to commit\\nanything that is vicious and shameful, &c. But, O noble sir, consider\\nI pray, whether true generosity and true happiness, do not consist in\\nsomewhat else rather, than in the preservation either of our, or other\\nmen\\'s lives. For it is not the part of a man that is a man indeed, to\\ndesire to live long or to make much of his life whilst he liveth: but\\nrather (he that is such) will in these things wholly refer himself unto\\nthe Gods, and believing that which every woman can tell him, that no man\\ncan escape death; the only thing that he takes thought and care for is\\nthis, that what time he liveth, he may live as well and as virtuously\\nas he can possibly, &c. To look about, and with the eyes to follow the\\ncourse of the stars and planets as though thou wouldst run with them;\\nand to mind perpetually the several changes of the elements one into\\nanother. For such fancies and imaginations, help much to purge away\\nthe dross and filth of this our earthly life,\\' &c. That also is a fine\\npassage of Plato\\'s, where he speaketh of worldly things in these words:\\n\\'Thou must also as from some higher place look down, as it were, upon\\nthe things of this world, as flocks, armies, husbandmen\\'s labours,\\nmarriages, divorces, generations, deaths: the tumults of courts and\\nplaces of judicatures; desert places; the several nations of barbarians,\\npublic festivals, mournings, fairs, markets.\\' How all things upon earth\\nare pell-mell; and how miraculously things contrary one to another,\\nconcur to the beauty and perfection of this universe.\\n\\nXXVII. To look back upon things of former ages, as upon the manifold\\nchanges and conversions of several monarchies and commonwealths. We\\nmay also foresee things future, for they shall all be of the same kind;\\nneither is it possible that they should leave the tune, or break the\\nconcert that is now begun, as it were, by these things that are now done\\nand brought to pass in the world. It comes all to one therefore, whether\\na man be a spectator of the things of this life but forty years, or\\nwhether he see them ten thousand years together: for what shall he\\nsee more? \\'And as for those parts that came from the earth, they shall\\nreturn unto the earth again; and those that came from heaven, they\\nalso shall return unto those heavenly places.\\' Whether it be a mere\\ndissolution and unbinding of the manifold intricacies and entanglements\\nof the confused atoms; or some such dispersion of the simple and\\nincorruptible elements... \\'With meats and drinks and divers charms, they\\nseek to divert the channel, that they might not die. Yet must we needs\\nendure that blast of wind that cometh from above, though we toil and\\nlabour never so much.\\'\\n\\nXXVIII. He hath a stronger body, and is a better wrestler than I. What\\nthen? Is he more bountiful? is he more modest? Doth he bear all adverse\\nchances with more equanimity: or with his neighbour\\'s offences with more\\nmeekness and gentleness than I?\\n\\nXXIX. Where the matter may be effected agreeably to that reason, which\\nboth unto the Gods and men is common, there can be no just cause of\\ngrief or sorrow. For where the fruit and benefit of an action well begun\\nand prosecuted according to the proper constitution of man may be reaped\\nand obtained, or is sure and certain, it is against reason that any\\ndamage should there be suspected. In all places, and at all times, it is\\nin thy power religiously to embrace whatsoever by God\\'s appointment is\\nhappened unto thee, and justly to converse with those men, whom thou\\nhast to do with, and accurately to examine every fancy that presents\\nitself, that nothing may slip and steal in, before thou hast rightly\\napprehended the true nature of it.\\n\\nXXX. Look not about upon other men\\'s minds and understandings; but look\\nright on forwards whither nature, both that of the universe, in those\\nthings that happen unto thee; and thine in particular, in those things\\nthat are done by thee: doth lead, and direct thee. Now every one is\\nbound to do that, which is consequent and agreeable to that end which\\nby his true natural constitution he was ordained unto. As for all other\\nthings, they are ordained for the use of reasonable creatures: as in all\\nthings we see that that which is worse and inferior, is made for\\nthat which is better. Reasonable creatures, they are ordained one for\\nanother. That therefore which is chief in every man\\'s constitution, is,\\nthat he intend the common good. The second is, that he yield not to any\\nlusts and motions of the flesh. For it is the part and privilege of the\\nreasonable and intellective faculty, that she can so bound herself,\\nas that neither the sensitive, nor the appetitive faculties, may not\\nanyways prevail upon her. For both these are brutish. And therefore over\\nboth she challengeth mastery, and cannot anyways endure, if in her right\\ntemper, to be subject unto either. And this indeed most justly. For\\nby nature she was ordained to command all in the body. The third\\nthing proper to man by his constitution, is, to avoid all rashness and\\nprecipitancy; and not to be subject to error. To these things then, let\\nthe mind apply herself and go straight on, without any distraction about\\nother things, and she hath her end, and by consequent her happiness.\\n\\nXXXI. As one who had lived, and were now to die by right, whatsoever is\\nyet remaining, bestow that wholly as a gracious overplus upon a virtuous\\nlife. Love and affect that only, whatsoever it be that happeneth, and is\\nby the fates appointed unto thee. For what can be more reasonable? And\\nas anything doth happen unto thee by way of cross, or calamity, call\\nto mind presently and set before thine eyes, the examples of some other\\nmen, to whom the self-same thing did once happen likewise. Well, what\\ndid they? They grieved; they wondered; they complained. And where are\\nthey now? All dead and gone. Wilt thou also be like one of them?\\nOr rather leaving to men of the world (whose life both in regard of\\nthemselves, and them that they converse with, is nothing but mere\\nmutability; or men of as fickle minds, as fickle bodies; ever changing\\nand soon changed themselves) let it be thine only care and study, how to\\nmake a right use of all such accidents. For there is good use to be made\\nof them, and they will prove fit matter for thee to work upon, if it\\nshall be both thy care and thy desire, that whatsoever thou doest, thou\\nthyself mayst like and approve thyself for it. And both these, see,\\nthat thou remember well, according as the diversity of the matter of\\nthe action that thou art about shall require. Look within; within is the\\nfountain of all good. Such a fountain, where springing waters can never\\nfail, so thou dig still deeper and deeper.\\n\\nXXXII. Thou must use thyself also to keep thy body fixed and steady;\\nfree from all loose fluctuant either motion, or posture. And as upon thy\\nface and looks, thy mind hath easily power over them to keep them to\\nthat which is grave and decent; so let it challenge the same power over\\nthe whole body also. But so observe all things in this kind, as that it\\nbe without any manner of affectation.\\n\\nXXXIII. The art of true living in this world is more like a wrestler\\'s,\\nthan a dancer\\'s practice. For in this they both agree, to teach a man\\nwhatsoever falls upon him, that he may be ready for it, and that nothing\\nmay cast him down.\\n\\nXXXIV. Thou must continually ponder and consider with thyself, what\\nmanner of men they be, and for their minds and understandings what is\\ntheir present estate, whose good word and testimony thou dost desire.\\nFor then neither wilt thou see cause to complain of them that offend\\nagainst their wills; or find any want of their applause, if once\\nthou dost but penetrate into the true force and ground both of their\\nopinions, and of their desires. \\'No soul (saith he) is willingly bereft\\nof the truth,\\' and by consequent, neither of justice, or temperance, or\\nkindness, and mildness; nor of anything that is of the same kind. It is\\nmost needful that thou shouldst always remember this. For so shalt thou\\nbe far more gentle and moderate towards all men.\\n\\nXXXV. What pain soever thou art in, let this presently come to thy mind,\\nthat it is not a thing whereof thou needest to be ashamed, neither is it\\na thing whereby thy understanding, that hath the government of all,\\ncan be made worse. For neither in regard of the substance of it, nor\\nin regard of the end of it (which is, to intend the common good) can\\nit alter and corrupt it. This also of Epicurus mayst thou in most pains\\nfind some help of, that it is \\'neither intolerable, nor eternal;\\' so\\nthou keep thyself to the true bounds and limits of reason and give not\\nway to opinion. This also thou must consider, that many things there be,\\nwhich oftentimes unsensibly trouble and vex thee, as not armed against\\nthem with patience, because they go not ordinarily under the name of\\npains, which in very deed are of the same nature as pain; as to slumber\\nunquietly, to suffer heat, to want appetite: when therefore any of these\\nthings make thee discontented, check thyself with these words: Now hath\\npain given thee the foil; thy courage hath failed thee.\\n\\nXXXVI. Take heed lest at any time thou stand so affected, though towards\\nunnatural evil men, as ordinary men are commonly one towards another.\\n\\nXXXVII. How know we whether Socrates were so eminent indeed, and of so\\nextraordinary a disposition? For that he died more gloriously, that he\\ndisputed with the Sophists more subtilty; that he watched in the frost\\nmore assiduously; that being commanded to fetch innocent Salaminius, he\\nrefused to do it more generously; all this will not serve. Nor that he\\nwalked in the streets, with much gravity and majesty, as was objected\\nunto him by his adversaries: which nevertheless a man may well doubt of,\\nwhether it were so or no, or, which above all the rest, if so be that\\nit were true, a man would well consider of, whether commendable, or\\ndis-commendable. The thing therefore that we must inquire into, is this;\\nwhat manner of soul Socrates had: whether his disposition was such; as\\nthat all that he stood upon, and sought after in this world, was barely\\nthis, that he might ever carry himself justly towards men, and holily\\ntowards the Gods. Neither vexing himself to no purpose at the wickedness\\nof others, nor yet ever condescending to any man\\'s evil fact, or evil\\nintentions, through either fear, or engagement of friendship. Whether of\\nthose things that happened unto him by God\\'s appointment, he neither did\\nwonder at any when it did happen, or thought it intolerable in the trial\\nof it. And lastly, whether he never did suffer his mind to sympathise\\nwith the senses, and affections of the body. For we must not think that\\nNature hath so mixed and tempered it with the body, as that she hath not\\npower to circumscribe herself, and by herself to intend her own ends and\\noccasions.\\n\\nXXXVIII. For it is a thing very possible, that a man should be a very\\ndivine man, and yet be altogether unknown. This thou must ever be\\nmindful of, as of this also, that a man\\'s true happiness doth consist\\nin very few things. And that although thou dost despair, that thou shalt\\never be a good either logician, or naturalist, yet thou art never the\\nfurther off by it from being either liberal, or modest, or charitable,\\nor obedient unto God.\\n\\nXXXIX. Free from all compulsion in all cheerfulness and alacrity thou\\nmayst run out thy time, though men should exclaim against thee never so\\nmuch, and the wild beasts should pull in sunder the poor members of thy\\npampered mass of flesh. For what in either of these or the like cases\\nshould hinder the mind to retain her own rest and tranquillity,\\nconsisting both in the right judgment of those things that happen unto\\nher, and in the ready use of all present matters and occasions? So that\\nher judgment may say, to that which is befallen her by way of cross:\\nthis thou art in very deed, and according to thy true nature:\\nnotwithstanding that in the judgment of opinion thou dust appear\\notherwise: and her discretion to the present object; thou art that,\\nwhich I sought for. For whatsoever it be, that is now present, shall\\never be embraced by me as a fit and seasonable object, both for my\\nreasonable faculty, and for my sociable, or charitable inclination to\\nwork upon. And that which is principal in this matter, is that it may be\\nreferred either unto the praise of God, or to the good of men. For\\neither unto God or man, whatsoever it is that doth happen in the world\\nhath in the ordinary course of nature its proper reference; neither is\\nthere anything, that in regard of nature is either new, or reluctant and\\nintractable, but all things both usual and easy.\\n\\nXL. Then hath a man attained to the estate of perfection in his life and\\nconversation, when he so spends every day, as if it were his last day:\\nnever hot and vehement in his affections, nor yet so cold and stupid as\\none that had no sense; and free from all manner of dissimulation.\\n\\nXLI. Can the Gods, who are immortal, for the continuance of so many ages\\nbear without indignation with such and so many sinners, as have ever\\nbeen, yea not only so, but also take such care for them, that they want\\nnothing; and dust thou so grievously take on, as one that could bear\\nwith them no longer; thou that art but for a moment of time? yea thou\\nthat art one of those sinners thyself? A very ridiculous thing it is,\\nthat any man should dispense with vice and wickedness in himself, which\\nis in his power to restrain; and should go about to suppress it in\\nothers, which is altogether impossible.\\n\\nXLII. What object soever, our reasonable and sociable faculty doth meet\\nwith, that affords nothing either for the satisfaction of reason, or for\\nthe practice of charity, she worthily doth think unworthy of herself.\\n\\nXLIII. When thou hast done well, and another is benefited by thy action,\\nmust thou like a very fool look for a third thing besides, as that\\nit may appear unto others also that thou hast done well, or that thou\\nmayest in time, receive one good turn for another? No man useth to be\\nweary of that which is beneficial unto him. But every action according\\nto nature, is beneficial. Be not weary then of doing that which is\\nbeneficial unto thee, whilst it is so unto others.\\n\\nXLIV. The nature of the universe did once certainly before it was\\ncreated, whatsoever it hath done since, deliberate and so resolve upon\\nthe creation of the world. Now since that time, whatsoever it is, that\\nis and happens in the world, is either but a consequent of that one and\\nfirst deliberation: or if so be that this ruling rational part of the\\nworld, takes any thought and care of things particular, they are surely\\nhis reasonable and principal creatures, that are the proper object of\\nhis particular care and providence. This often thought upon, will much\\nconduce to thy tranquillity.\\n\\n\\n\\n\\nTHE EIGHTH BOOK\\n\\nI. This also, among other things, may serve to keep thee from vainglory;\\nif thou shalt consider, that thou art now altogether incapable of the\\ncommendation of one, who all his life long, or from his youth at least,\\nhath lived a philosopher\\'s life. For both unto others, and to thyself\\nespecially, it is well known, that thou hast done many things contrary\\nto that perfection of life. Thou hast therefore been confounded in thy\\ncourse, and henceforth it will be hard for thee to recover the title and\\ncredit of a philosopher. And to it also is thy calling and profession\\nrepugnant. If therefore thou dost truly understand, what it is that is\\nof moment indeed; as for thy fame and credit, take no thought or care\\nfor that: let it suffice thee if all the rest of thy life, be it more or\\nless, thou shalt live as thy nature requireth, or according to the true\\nand natural end of thy making. Take pains therefore to know what it is\\nthat thy nature requireth, and let nothing else distract thee. Thou\\nhast already had sufficient experience, that of those many things that\\nhitherto thou hast erred and wandered about, thou couldst not find\\nhappiness in any of them. Not in syllogisms, and logical subtilties, not\\nin wealth, not in honour and reputation, not in pleasure. In none of all\\nthese. Wherein then is it to be found? In the practice of those things,\\nwhich the nature of man, as he is a man, doth require. How then shall\\nhe do those things? if his dogmata, or moral tenets and opinions (from\\nwhich all motions and actions do proceed), be right and true. Which be\\nthose dogmata? Those that concern that which is good or evil, as that\\nthere is nothing truly good and beneficial unto man, but that which\\nmakes him just, temperate, courageous, liberal; and that there is\\nnothing truly evil and hurtful unto man, but that which causeth the\\ncontrary effects.\\n\\nII. Upon every action that thou art about, put this question to thyself;\\nHow will this when it is done agree with me? Shall I have no occasion\\nto repent of it? Yet a very little while and I am dead and gone; and\\nall things are at end. What then do I care for more than this, that my\\npresent action whatsoever it be, may be the proper action of one that\\nis reasonable; whose end is, the common good; who in all things is ruled\\nand governed by the same law of right and reason, by which God Himself\\nis.\\n\\nIII. Alexander, Caius, Pompeius; what are these to Diogenes, Heraclitus,\\nand Socrates? These penetrated into the true nature of things; into all\\ncauses, and all subjects: and upon these did they exercise their power\\nand authority. But as for those, as the extent of their error was, so\\nfar did their slavery extend.\\n\\nIV. What they have done, they will still do, although thou shouldst hang\\nthyself. First; let it not trouble thee. For all things both good and\\nevil: come to pass according to the nature and general condition of the\\nuniverse, and within a very little while, all things will be at an\\nend; no man will be remembered: as now of Africanus (for example) and\\nAugustus it is already come to pass. Then secondly; fix thy mind upon\\nthe thing itself; look into it, and remembering thyself, that thou art\\nbound nevertheless to be a good man, and what it is that thy nature\\nrequireth of thee as thou art a man, be not diverted from what thou art\\nabout, and speak that which seemeth unto thee most just: only speak it\\nkindly, modestly, and without hypocrisy.\\n\\nV. That which the nature of the universe doth busy herself about, is;\\nthat which is here, to transfer it thither, to change it, and thence\\nagain to take it away, and to carry it to another place. So that thou\\nneedest not fear any new thing. For all things are usual and ordinary;\\nand all things are disposed by equality.\\n\\nVI. Every particular nature hath content, when in its own proper course\\nit speeds. A reasonable nature doth then speed, when first in matter of\\nfancies and imaginations, it gives no consent to that which is either\\nfalse uncertain. Secondly, when in all its motions and resolutions it\\ntakes its level at the common good only, and that it desireth nothing,\\nand flieth from nothing, bet what is in its own power to compass or\\navoid. And lastly, when it willingly and gladly embraceth, whatsoever is\\ndealt and appointed unto it by the common nature. For it is part of it;\\neven as the nature of any one leaf, is part of the common nature of all\\nplants and trees. But that the nature of a leaf, is part of a nature\\nboth unreasonable and unsensible, and which in its proper end may be\\nhindered; or, which is servile and slavish: whereas the nature of man is\\npart of a common nature which cannot be hindered, and which is both\\nreasonable and just. From whence also it is, that accord ing to the\\nworth of everything, she doth make such equal distribution of all\\nthings, as of duration, substance form, operation, and of events and\\naccidents. But herein consider not whether thou shalt find this equality\\nin everything absolutely and by itself; but whether in all the\\nparticulars of some one thing taken together, and compared with all the\\nparticulars of some other thing, and them together likewise.\\n\\nVII. Thou hast no time nor opportunity to read. What then? Hast thou\\nnot time and opportunity to exercise thyself, not to wrong thyself; to\\nstrive against all carnal pleasures and pains, and to aet the upper hand\\nof them; to contemn honour and vainglory; and not only, not to be angry\\nwith them, whom towards thee thou doest find unsensible and unthankful;\\nbut also to have a care of them still, and of their welfare?\\n\\nVIII. Forbear henceforth to complain of the trouble of a courtly life,\\neither in public before others, or in private by thyself.\\n\\nIX. Repentance is an inward and self-reprehension for the neglect or\\nomission of somewhat that was profitable. Now whatsoever is good, is\\nalso profitable, and it is the part of an honest virtuous man to set by\\nit, and to make reckoning of it accordingly. But never did any honest\\nvirtuous man repent of the neglect or omission of any carnal pleasure:\\nno carnal pleasure then is either good or profitable.\\n\\nX. This, what is it in itself, and by itself, according to its proper\\nconstitution? What is the substance of it? What is the matter, or proper\\nuse? What is the form or efficient cause? What is it for in this world,\\nand how long will it abide? Thus must thou examine all things, that\\npresent themselves unto thee.\\n\\nXI. When thou art hard to be stirred up and awaked out of thy sleep,\\nadmonish thyself and call to mind, that, to perform actions tending to\\nthe common good is that which thine own proper constitution, and\\nthat which the nature of man do require. But to sleep, is common to\\nunreasonable creatures also. And what more proper and natural, yea what\\nmore kind and pleasing, than that which is according to nature?\\n\\nXII. As every fancy and imagination presents itself unto thee, consider\\n(if it be possible) the true nature, and the proper qualities of it, and\\nreason with thyself about it.\\n\\nXIII. At thy first encounter with any one, say presently to thyself:\\nThis man, what are his opinions concerning that which is good or evil?\\nas concerning pain, pleasure, and the causes of both; concerning honour,\\nand dishonour, concerning life and death? thus and thus. Now if it be\\nno wonder that a man should have such and such opinions, how can it be\\na wonder that he should do such and such things? I will remember then,\\nthat he cannot but do as he doth, holding those opinions that he doth.\\nRemember, that as it is a shame for any man to wonder that a fig tree\\nshould bear figs, so also to wonder that the world should bear anything,\\nwhatsoever it is which in the ordinary course of nature it may bear.\\nTo a physician also and to a pilot it is a shame either for the one to\\nwonder, that such and such a one should have an ague; or for the other,\\nthat the winds should prove Contrary.\\n\\nXIV. Remember, that to change thy mind upon occasion, and to follow him\\nthat is able to rectify thee, is equally ingenuous, as to find out at\\nthe first, what is right and just, without help. For of thee nothing is\\nrequired, ti, is beyond the extent of thine own deliberation and jun.\\nmerit, and of thine own understanding.\\n\\nXV. If it were thine act and in thine own power, wouldest thou do\\nit? If it were not, whom dost tin accuse? the atoms, or the Gods? For to\\ndo either, the part of a mad man. Thou must therefore blame nobody, but\\nif it be in thy power, redress what is amiss; if it be not, to what end\\nis it to complain? For nothing should be done but to some certain end.\\n\\nXVI. Whatsoever dieth and falleth, however and wheresoever it die\\nand fall, it cannot fall out of the world, here it have its abode\\nand change, here also shall it have its dissolution into its proper\\nelements. The same are the world\\'s elements, and the elements of which\\nthou dost consist. And they when they are changed, they murmur not; why\\nshouldest thou?\\n\\nXVII. Whatsoever is, was made for something: as a horse, a vine. Why\\nwonderest thou? The sun itself will say of itself, I was made for\\nsomething; and so hath every god its proper function. What then were\\nthen made for? to disport and delight thyself? See how even common sense\\nand reason cannot brook it.\\n\\nXVIII. Nature hath its end as well in the end and final consummation of\\nanything that is, as in the begin-nine and continuation of it.\\n\\nXIX. As one that tosseth up a ball. And what is a ball the better, if\\nthe motion of it be upwards; or the worse if it be downwards; or if it\\nchance to fall upon the ground? So for the bubble; if it continue, what\\nit the better? and if it dissolve, what is it the worse And so is it of\\na candle too. And so must thou reason with thyself, both in matter of\\nfame, and in matter of death. For as for the body itself, (the subject\\nof death) wouldest thou know the vileness of it? Turn it about that\\nthou mayest behold it the worst sides upwards as well, as in its more\\nordinary pleasant shape; how doth it look, when it is old and withered?\\nwhen sick and pained? when in the act of lust, and fornication? And\\nas for fame. This life is short. Both he that praiseth, and he that is\\npraised; he that remembers, and he that is remembered, will soon be dust\\nand ashes. Besides, it is but in one corner of this part of the world\\nthat thou art praised; and yet in this corner, thou hast not the joint\\npraises of all men; no nor scarce of any one constantly. And yet the\\nwhole earth itself, what is it but as one point, in regard of the whole\\nworld?\\n\\nXX. That which must be the subject of thy consideration, is either the\\nmatter itself, or the dogma, or the operation, or the true sense and\\nsignification.\\n\\nXXI. Most justly have these things happened unto thee: why dost not\\nthou amend? O but thou hadst rather become good to-morrow, than to be\\nso to-day.\\n\\nXXII. Shall I do it? I will; so the end of my action be to do good unto\\nmen. Doth anything by way of cross or adversity happen unto me? I accept\\nit, with reference unto the Gods, and their providence; the fountain of\\nall things, from which whatsoever comes to pass, doth hang and depend.\\n\\nXXIII. By one action judge of the rest: this bathing which usually takes\\nup so much of our time, what is it? Oil, sweat, filth; or the sordes of\\nthe body: an excrementitious viscosity, the excrements of oil and other\\nointments used about the body, and mixed with the sordes of the body:\\nall base and loathsome. And such almost is every part of our life;\\nand every worldly object.\\n\\nXXIV. Lucilla buried Verus; then was Lucilla herself buried by others.\\nSo Secunda Maximus, then Secunda herself. So Epitynchanus, Diotimus;\\nthen Epitynchanus himself. So Antoninus Pius, Faustina his wife; then\\nAntoninus himself. This is the course of the world. First Celer,\\nAdrianus; then Adrianus himself. And those austere ones; those that\\nforetold other men\\'s deaths; those that were so proud and stately, where\\nare they now? Those austere ones I mean, such as were Charax, and\\nDemetrius the Platonic, and Eudaemon, and others like unto those. They\\nwere all but for one day; all dead and gone long since. Some of them no\\nsooner dead, than forgotten. Others soon turned into fables. Of others,\\neven that which was fabulous, is now long since forgotten. This\\nthereafter thou must remember, that whatsoever thou art compounded of,\\nshall soon be dispersed, and that thy life and breath, or thy soul,\\nshall either be no more or shall ranslated (sp.), and appointed to some\\ncertain place and station.\\n\\nXXV. The true joy of a man, is to do that which properly belongs unto a\\nman. That which is most proper unto a man, is, first, to be kindly\\naffected towards them that are of the same kind and nature as he is\\nhimself to contemn all sensual motions and appetites, to discern rightly\\nall plausible fancies and imaginations, to contemplate the nature of the\\nuniverse; both it, and things that are done in it. In which kind of\\ncontemplation three several relations are to be observed The first, to\\nthe apparent secondary cause. The Second to the first original cause,\\nGod, from whom originally proceeds whatsoever doth happen in the world.\\nThe third and last, to them that we live and converse with: what use may\\nbe made of it, to their use and benefit.\\n\\nXXVI. If pain be an evil, either it is in regard of the body; (and that\\ncannot be, because the body of itself is altogether insensible:) or in\\nregard of the soul But it is in the power of the soul, to preserve her\\nown peace and tranquillity, and not to suppose that pain is evil. For\\nall judgment and deliberation; all prosecution, or aversation is from\\nwithin, whither the sense of evil (except it be let in by opinion)\\ncannot penetrate.\\n\\nXXVII. Wipe off all idle fancies, and say unto thyself incessantly; Now\\nif I will, it is in my power to keep out of this my soul all wickedness,\\nall lust, and concupiscences, all trouble and confusion. But on the\\ncontrary to behold and consider all things according to their true\\nnature, and to carry myself towards everything according to its true\\nworth. Remember then this thy power that nature hath given thee.\\n\\nXXVIII. Whether thou speak in the Senate or whether thou speak to any\\nparticular, let thy speech In always grave and modest. But thou must\\nnot openly and vulgarly observe that sound and exact form of speaking,\\nconcerning that which is truly good and truly civil; the vanity of\\nthe world, and of worldly men: which otherwise truth and reason doth\\nprescribe.\\n\\nXXIX. Augustus his court; his wife, his daughter, his nephews, his\\nsons-in-law his sister, Agrippa, his kinsmen, his domestics, his\\nfriends; Areus, Maecenas, his slayers of beasts for sacrifice and\\ndivination: there thou hast the death of a whole court together. Proceed\\nnow on to the rest that have been since that of Augustus. Hath death\\ndwelt with them otherwise, though so many and so stately whilst they\\nlived, than it doth use to deal with any one particular man? Consider\\nnow the death of a whole kindred and family, as of that of the Pompeys,\\nas that also that useth to be written upon some monuments, HE WAS THE\\nLAST OF HIS OWN KINDRED. O what care did his predecessors take, that\\nthey might leave a successor, yet behold at last one or other must of\\nnecessity be THE LAST. Here again therefore consider the death of a\\nwhole kindred.\\n\\nXXX. Contract thy whole life to the measure and proportion of one single\\naction. And if in every particular action thou dost perform what is\\nfitting to the utmost of thy power, let it suffice thee. And who can\\nhinder thee, but that thou mayest perform what is fitting? But there may\\nbe some outward let and impediment. Not any, that can hinder thee, but\\nthat whatsoever thou dost, thou may do it, justly, temperately, and\\nwith the praise of God. Yea, but there may be somewhat, whereby some\\noperation or other of thine may be hindered. And then, with that very\\nthing that doth hinder, thou mayest he well pleased, and so by this\\ngentle and equanimious conversion of thy mind unto that which may be,\\ninstead of that which at first thou didst intend, in the room of that\\nformer action there succeedeth another, which agrees as well with this\\ncontraction of thy life, that we now speak of.\\n\\nXXXI. Receive temporal blessings without ostentation, when they are sent\\nand thou shalt be able to part with them with all readiness and facility\\nwhen they are taken from thee again.\\n\\nXXXII. If ever thou sawest either a hand, or a foot, or a head lying by\\nitself, in some place or other, as cut off from the rest of the body,\\nsuch must thou conceive him to make himself, as much as in him lieth,\\nthat either is offended with anything that is happened, (whatsoever it\\nbe) and as it were divides himself from it: or that commits anything\\nagainst the natural law of mutual correspondence, and society among men:\\nor, he that, commits any act of uncharitableness. Whosoever thou art,\\nthou art such, thou art cast forth I know not whither out of the general\\nunity, which is according to nature. Thou went born indeed a part, but\\nnow thou hast cut thyself off. However, herein is matter of joy and\\nexultation, that thou mayst be united again. God hath not granted\\nit unto any other part, that once separated and cut off, it might be\\nreunited, and come together again. But, behold, that GOODNESS how great\\nand immense it is! which hath so much esteemed MAN. As at first he\\nwas so made, that he needed not, except he would himself, have divided\\nhimself from the whole; so once divided and cut off, IT hath so provided\\nand ordered it, that if he would himself, he might return, and grow\\ntogether again, and be admitted into its former rank and place of a\\npart, as he was before.\\n\\nXXXIII. As almost all her other faculties and properties the nature of\\nthe universe hath imparted unto every reasonable creature, so this in\\nparticular we have received from her, that as whatsoever doth oppose\\nitself unto her, and doth withstand her in her purposes and intentions,\\nshe doth, though against its will and intention, bring it about to\\nherself, to serve herself of it in the execution of her own destinated\\nends; and so by this though not intended co-operation of it with herself\\nmakes it part of herself whether it will or no. So may every reasonable\\ncreature, what crosses and impediments soever it meets with in the\\ncourse of this mortal life, it may use them as fit and proper objects,\\nto the furtherance of whatsoever it intended and absolutely proposed\\nunto itself as its natural end and happiness.\\n\\nXXXIV. Let not the general representation unto thyself of the\\nwretchedness of this our mortal life, trouble thee. Let not thy mind\\nwander up and down, and heap together in her thoughts the many troubles\\nand grievous calamities which thou art as subject unto as any other. But\\nas everything in particular doth happen, put this question unto thyself,\\nand say: What is it that in this present matter, seems unto thee so\\nintolerable? For thou wilt be ashamed to confess it. Then upon this\\npresently call to mind, that neither that which is future, nor that\\nwhich is past can hurt thee; but that only which is present. (And that\\nalso is much lessened, if thou dost lightly circumscribe it:) and then\\ncheck thy mind if for so little a while, (a mere instant), it cannot\\nhold out with patience.\\n\\nXXXV. What? are either Panthea or Pergamus abiding to this day by their\\nmasters\\' tombs? or either Chabrias or Diotimus by that of Adrianus? O\\nfoolery! For what if they did, would their masters be sensible of It? or\\nif sensible, would they be glad of it? or if glad, were these immortal?\\nWas not it appointed unto them also (both men and women,) to become\\nold in time, and then to die? And these once dead, what would become of\\nthese former? And when all is done, what is all this for, but for a mere\\nbag of blood and corruption?\\n\\nXXXVI. If thou beest quick-sighted, be so in matter of judgment, and\\nbest discretion, saith he.\\n\\nXXXVII. In the whole constitution of man, I see not any virtue contrary\\nto justice, whereby it may be resisted and opposed. But one whereby\\npleasure and voluptuousness may be resisted and opposed, I see:\\ncontinence.\\n\\nXXXVIII. If thou canst but withdraw conceit and opinion concerning that\\nwhich may seem hurtful and offensive, thou thyself art as safe, as safe\\nmay be. Thou thyself? and who is that? Thy reason. \\'Yea, but I am not\\nreason.\\' Well, be it so. However, let not thy reason or understanding\\nadmit of grief, and if there be anything in thee that is grieved, let\\nthat, (whatsoever it be,) conceive its own grief, if it can.\\n\\nXXXIX. That which is a hindrance of the senses, is an evil to the\\nsensitive nature. That which is a hindrance of the appetitive and\\nprosecutive faculty, is an evil to the sensitive nature. As of the\\nsensitive, so of the vegetative constitution, whatsoever is a hindrance\\nunto it, is also in that respect an evil unto the same. And so likewise,\\nwhatsoever is a hindrance unto the mind and understanding, must needs\\nbe the proper evil of the reasonable nature. Now apply all those things\\nunto thyself. Do either pain or pleasure seize on thee? Let the senses\\nlook to that. Hast thou met with Some obstacle or other in thy purpose\\nand intention? If thou didst propose without due reservation and\\nexception now hath thy reasonable part received a blow indeed But if in\\ngeneral thou didst propose unto thyself what soever might be, thou art\\nnot thereby either hurt, nor properly hindered. For in those things that\\nproperly belong unto the mind, she cannot be hindered by any man. It\\nis not fire, nor iron; nor the power of a tyrant nor the power of a\\nslandering tongue; nor anything else that can penetrate into her.\\n\\nXL. If once round and solid, there is no fear that ever it will change.\\n\\nXLI. Why should I grieve myself; who never did willingly grieve any\\nother! One thing rejoices one and another thing another. As for me, this\\nis my joy, if my understanding be right and sound, as neither averse\\nfrom any man, nor refusing any of those things which as a man I am\\nsubject unto; if I can look upon all things in the world meekly and\\nkindly; accept all things and carry myself towards everything according\\nto to true worth of the thing itself.\\n\\nXLII. This time that is now present, bestow thou upon thyself. They that\\nrather hunt for fame after death, do not consider, that those men that\\nshall be hereafter, will be even such, as these whom now they can so\\nhardly bear with. And besides they also will be mortal men. But to\\nconsider the thing in itself, if so many with so many voices, shall make\\nsuch and such a sound, or shall have such and such an opinion concerning\\nthee, what is it to thee?\\n\\nXLIII. Take me and throw me where thou wilt: I am indifferent. For there\\nalso I shall have that spirit which is within me propitious; that is\\nwell pleased and fully contented both in that constant disposition, and\\nwith those particular actions, which to its own proper constitution are\\nsuitable and agreeable.\\n\\nXLIV. Is this then a thing of that worth, that for it my soul should\\nsuffer, and become worse than it was? as either basely dejected, or\\ndisordinately affected, or confounded within itself, or terrified? What\\ncan there be, that thou shouldest so much esteem?\\n\\nXLV. Nothing can happen unto thee, which is not incidental unto thee, as\\nthou art a man. As nothing can happen either to an ox, a vine, or to\\na stone, which is not incidental unto them; unto every one in his own\\nkind. If therefore nothing can happen unto anything, which is not both\\nusual and natural; why art thou displeased? Sure the common nature\\nof all would not bring anything upon any, that were intolerable. If\\ntherefore it be a thing external that causes thy grief, know, that it is\\nnot that properly that doth cause it, but thine own conceit and opinion\\nconcerning the thing: which thou mayest rid thyself of, when thou wilt.\\nBut if it be somewhat that is amiss in thine own disposition, that doth\\ngrieve thee, mayest thou not rectify thy moral tenets and opinions. But\\nif it grieve thee, that thou doest not perform that which seemeth unto\\nthee right and just, why doest not thou choose rather to perform it than\\nto grieve? But somewhat that is stronger than thyself doth hinder thee.\\nLet it not grieve thee then, if it be not thy fault that the thing is\\nnot performed. \\'Yea but it is a thing of that nature, as that thy life\\nis not worth the while, except it may be performed.\\' If it be so, upon\\ncondition that thou be kindly and lovingly disposed towards all men,\\nthou mayest be gone. For even then, as much as at any time, art thou in\\na very good estate of performance, when thou doest die in charity with\\nthose, that are an obstacle unto thy performance.\\n\\nXLVI. Remember that thy mind is of that nature as that it becometh\\naltogether unconquerable, when once recollected in herself, she seeks no\\nother content than this, that she cannot be forced: yea though it so\\nfall out, that it be even against reason itself, that it cloth bandy.\\nHow much less when by the help of reason she is able to judge of things\\nwith discretion? And therefore let thy chief fort and place of defence\\nbe, a mind free from passions. A stronger place, (whereunto to make his\\nrefuge, and so to become impregnable) and better fortified than this,\\nhath no man. He that seeth not this is unlearned. He that seeth it, and\\nbetaketh not himself to this place of refuge, is unhappy.\\n\\nXLVII. Keep thyself to the first bare and naked apprehensions of things,\\nas they present themselves unto thee, and add not unto them. It is\\nreported unto thee, that such a one speaketh ill of thee. Well; that he\\nspeaketh ill of thee, so much is reported. But that thou art hurt\\nthereby, is not reported: that is the addition of opinion, which thou\\nmust exclude. I see that my child is sick. That he is sick, I see, but\\nthat he is in danger of his life also, I see it not. Thus thou must use\\nto keep thyself to the first motions and apprehensions of things, as\\nthey present themselves outwardly; and add not unto them from within\\nthyself through mere conceit and opinion. Or rather add unto them: hut\\nas one that understandeth the true nature of all things that happen in\\nthe world.\\n\\nXLVIII. Is the cucumber bitter? set it away. Brambles are in the way?\\navoid them. Let this suffice. Add not presently speaking unto thyself,\\nWhat serve these things for in the world? For, this, one that is\\nacquainted with the mysteries of nature, will laugh at thee for it; as a\\ncarpenter would or a shoemaker, if meeting in either of their shops with\\nsome shavings, or small remnants of their work, thou shouldest blame\\nthem for it. And yet those men, it is not for want of a place where to\\nthrow them that they keep them in their shops for a while: but the\\nnature of the universe hath no such out-place; but herein doth consist\\nthe wonder of her art and skill, that she having once circumscribed\\nherself within some certain bounds and limits, whatsoever is within her\\nthat seems either corrupted, or old, or unprofitable, she can change it\\ninto herself, and of these very things can make new things; so that she\\nneedeth not to seek elsewhere out of herself either for a new supply of\\nmatter and substance, or for a place where to throw out whatsoever is\\nirrecoverably putrid and corrupt. Thus she, as for place, so for matter\\nand art, is herself sufficient unto herself.\\n\\nXLIX. Not to be slack and negligent; or loose, and wanton in thy\\nactions; nor contentious, and troublesome in thy conversation; nor to\\nrove and wander in thy fancies and imaginations. Not basely to contract\\nthy soul; nor boisterously to sally out with it, or furiously to launch\\nout as it were, nor ever to want employment.\\n\\nL. \\'They kill me, they cut my flesh; they persecute my person with\\ncurses.\\' What then? May not thy mind for all this continue pure,\\nprudent, temperate, just? As a fountain of sweet and clear water, though\\nshe be cursed by some stander by, yet do her springs nevertheless still\\nrun as sweet and clear as before; yea though either dirt or dung be\\nthrown in, yet is it no sooner thrown, than dispersed, and she cleared.\\nShe cannot be dyed or infected by it. What then must I do, that I\\nmay have within myself an overflowing fountain, and not a well? Beget\\nthyself by continual pains and endeavours to true liberty with charity,\\nand true simplicity and modesty.\\n\\nLI. He that knoweth not what the world is, knoweth not where he himself\\nis. And he that knoweth not what the world was made for, cannot possibly\\nknow either what are the qualities, or what is the nature of the world.\\nNow he that in either of these is to seek, for what he himself was made\\nis ignorant also. What then dost thou think of that man, who proposeth\\nunto himself, as a matter of great moment, the noise and applause\\nof men, who both where they are, and what they are themselves, are\\naltogether ignorant? Dost thou desire to be commended of that man, who\\nthrice in one hour perchance, doth himself curse himself? Dost thou\\ndesire to please him, who pleaseth not himself? or dost thou think that\\nhe pleaseth himself, who doth use to repent himself almost of everything\\nthat he doth?\\n\\nLII. Not only now henceforth to have a common breath, or to hold\\ncorrespondency of breath, with that air, that compasseth us about; but\\nto have a common mind, or to hold correspondency of mind also with that\\nrational substance, which compasseth all things. For, that also is of\\nitself, and of its own nature (if a man can but draw it in as he should)\\neverywhere diffused; and passeth through all things, no less than the\\nair doth, if a man can but suck it in.\\n\\nLIII. Wickedness in general doth not hurt the world. Particular\\nwickedness doth not hurt any other: only unto him it is hurtful,\\nwhosoever he be that offends, unto whom in great favour and mercy it is\\ngranted, that whensoever he himself shall but first desire it, he may be\\npresently delivered of it. Unto my free-will my neighbour\\'s free-will,\\nwhoever he be, (as his life, or his bode), is altogether indifferent.\\nFor though we are all made one for another, yet have our minds and\\nunderstandings each of them their own proper and limited jurisdiction.\\nFor else another man\\'s wickedness might be my evil which God would not\\nhave, that it might not be in another man\\'s power to make me unhappy:\\nwhich nothing now can do but mine own wickedness.\\n\\nLIV. The sun seemeth to be shed abroad. And indeed it is diffused but\\nnot effused. For that diffusion of it is a [-r~Jo-tc] or an extension.\\nFor therefore are the beams of it called [~i-~m\\'~] from the word\\n[~KTEIVEO-Oa,,] to be stretched out and extended. Now what a sunbeam is,\\nthou mayest know if thou observe the light of the sun, when through some\\nnarrow hole it pierceth into some room that is dark. For it is always in\\na direct line. And as by any solid body, that it meets with in the\\nway that is not penetrable by air, it is divided and abrupted, and yet\\nneither slides off, or falls down, but stayeth there nevertheless: such\\nmust the diffusion in the mind be; not an effusion, but an extension.\\nWhat obstacles and impediments soever she meeteth within her way, she\\nmust not violently, and by way of an impetuous onset light upon them;\\nneither must she fall down; but she must stand, and give light unto that\\nwhich doth admit of it. For as for that which doth not, it is its own\\nfault and loss, if it bereave itself of her light.\\n\\nLV. He that feareth death, either feareth that he shall have no sense at\\nall, or that his senses will not be the same. Whereas, he should rather\\ncomfort himself, that either no sense at all, and so no sense of evil;\\nor if any sense, then another life, and so no death properly.\\n\\nLVI. All men are made one for another: either then teach them better, or\\nbear with them.\\n\\nLVII. The motion of the mind is not as the motion of a dart. For\\nthe mind when it is wary and cautelous, and by way of diligent\\ncircumspection turneth herself many ways, may then as well be said to\\ngo straight on to the object, as when it useth no such circumspection.\\n\\n\\nLVIII. To pierce and penetrate into the estate of every one\\'s\\nunderstanding that thou hast to do with: as also to make the estate of\\nthine own open, and penetrable to any other.\\n\\n\\n\\n\\nTHE NINTH BOOK\\n\\nI. He that is unjust, is also impious. For the nature of the universe,\\nhaving made all reasonable creatures one for another, to the end that\\nthey should do one another good; more or less according to the several\\npersons and occasions but in nowise hurt one another: it is manifest\\nthat he that doth transgress against this her will, is guilty of impiety\\ntowards the most ancient and venerable of all the deities. For the\\nnature of the universe, is the nature the common parent of all, and\\ntherefore piously to be observed of all things that are, and that which\\nnow is, to whatsoever first was, and gave it its being, hath relation\\nof blood and kindred. She is also called truth and is the first cause\\nof all truths. He therefore that willingly and wittingly doth lie, is\\nimpious in that he doth receive, and so commit injustice: but he that\\nagainst his will, in that he disagreeth from the nature of the universe,\\nand in that striving with the nature of the world he doth in his\\nparticular, violate the general order of the world. For he doth no\\nbetter than strive and war against it, who contrary to his own nature\\napplieth himself to that which is contrary to truth. For nature had\\nbefore furnished him with instincts and opportunities sufficient for the\\nattainment of it; which he having hitherto neglected, is not now able\\nto discern that which is false from that which is true. He also that\\npursues after pleasures, as that which is truly good and flies from\\npains, as that which is truly evil: is impious. For such a one must of\\nnecessity oftentimes accuse that common nature, as distributing many\\nthings both unto the evil, and unto the good, not according to the\\ndeserts of either: as unto the bad oftentimes pleasures, and the causes\\nof pleasures; so unto the good, pains, and the occasions of pains.\\nAgain, he that feareth pains and crosses in this world, feareth some of\\nthose things which some time or other must needs happen in the world.\\nAnd that we have already showed to be impious. And he that pursueth\\nafter pleasures, will not spare, to compass his desires, to do that\\nwhich is unjust, and that is manifestly impious. Now those things which\\nunto nature are equally indifferent (for she had not created both, both\\npain and pleasure, if both had not been unto her equally indifferent):\\nthey that will live according to nature, must in those things (as being\\nof the same mind and disposition that she is) be as equally indifferent.\\nWhosoever therefore in either matter of pleasure and pain; death and\\nlife; honour and dishonour, (which things nature in the administration\\nof the world, indifferently doth make use of), is not as indifferent,\\nit is apparent that he is impious. When I say that common nature\\ndoth indifferently make use of them, my meaning is, that they happen\\nindifferently in the ordinary course of things, which by a necessary\\nconsequence, whether as principal or accessory, come to pass in the\\nworld, according to that first and ancient deliberation of Providence,\\nby which she from some certain beginning, did resolve upon the creation\\nof such a world, conceiving then in her womb as it were some certain\\nrational generative seeds and faculties of things future, whether\\nsubjects, changes, successions; both such and such, and just so many.\\n\\nII. It were indeed more happy and comfortable, for a man to depart out\\nof this world, having lived all his life long clear from all falsehood,\\ndissimulation, voluptuousness, and pride. But if this cannot be, yet it\\nis some comfort for a man joyfully to depart as weary, and out of love\\nwith those; rather than to desire to live, and to continue long in those\\nwicked courses. Hath not yet experience taught thee to fly from the\\nplague? For a far greater plague is the corruption of the mind, than any\\ncertain change and distemper of the common air can be. This is a plague\\nof creatures, as they are living creatures; but that of men as they are\\nmen or reasonable.\\n\\nIII. Thou must not in matter of death carry thyself scornfully, but as\\none that is well pleased with it, as being one of those things that\\nnature hath appointed. For what thou dost conceive of these, of a boy to\\nbecome a young man, to wax old, to grow, to ripen, to get teeth, or a\\nbeard, or grey hairs to beget, to bear, or to be delivered; or what\\nother action soever it be, that is natural unto man according to the\\nseveral seasons of his life; such a thing is it also to be dissolved. It\\nis therefore the part of a wise man, in matter of death, not in any wise\\nto carry himself either violently, or proudly but patiently to wait for\\nit, as one of nature\\'s operations: that with the same mind as now thou\\ndost expect when that which yet is but an embryo in thy wife\\'s belly\\nshall come forth, thou mayst expect also when thy soul shall fall off\\nfrom that outward coat or skin: wherein as a child in the belly it lieth\\ninvolved and shut up. But thou desirest a more popular, and though not\\nso direct and philosophical, yet a very powerful and penetrative recipe\\nagainst the fear of death, nothing can make they more willing to part\\nwith thy life, than if thou shalt consider, both what the subjects\\nthemselves are that thou shalt part with, and what manner of disposition\\nthou shalt no more have to do with. True it is, that, offended with them\\nthou must not be by no means, but take care of them, and meekly bear\\nwith them However, this thou mayst remember, that whensoever it happens\\nthat thou depart, it shall not be from men that held the same opinions\\nthat thou dost. For that indeed, (if it were so) is the only thing that\\nmight make thee averse from death, and willing to continue here, if it\\nwere thy hap to live with men that had obtained the same belief that\\nthou hast. But now, what a toil it is for thee to live with men of\\ndifferent opinions, thou seest: so that thou hast rather occasion to\\nsay, Hasten, I thee pray, O Death; lest I also in time forget myself.\\n\\nIV. He that sinneth, sinneth unto himself. He that is unjust, hurts\\nhimself, in that he makes himself worse than he was before. Not he only\\nthat committeth, but he also that omitteth something, is oftentimes\\nunjust.\\n\\nV. If my present apprehension of the object be right, and my present\\naction charitable, and this, towards whatsoever doth proceed from God,\\nbe my present disposition, to be well pleased with it, it sufficeth.\\n\\nVI. To wipe away fancy, to use deliberation, to quench concupiscence, to\\nkeep the mind free to herself.\\n\\nVII. Of all unreasonable creatures, there is but one unreasonable soul;\\nand of all that are reasonable, but one reasonable soul, divided betwixt\\nthem all. As of all earthly things there is but one earth, and but one\\nlight that we see by; and but one air that we breathe in, as many as\\neither breathe or see. Now whatsoever partakes of some common thing,\\nnaturally affects and inclines unto that whereof it is part, being of\\none kind and nature with it. Whatsoever is earthly, presseth downwards\\nto the common earth. Whatsoever is liquid, would flow together. And\\nwhatsoever is airy, would be together likewise. So that without some\\nobstacle, and some kind of violence, they cannot well be kept asunder.\\nWhatsoever is fiery, doth not only by reason of the elementary fire tend\\nupwards; but here also is so ready to join, and to burn together, that\\nwhatsoever doth want sufficient moisture to make resistance, is easily\\nset on fire. Whatsoever therefore is partaker of that reasonable common\\nnature, naturally doth as much and more long after his own kind. For by\\nhow much in its own nature it excels all other things, by so much more\\nis it desirous to be joined and united unto that, which is of its own\\nnature. As for unreasonable creatures then, they had not long been, but\\npresently begun among them swarms, and flocks, and broods of young ones,\\nand a kind of mutual love and affection. For though but unreasonable,\\nyet a kind of soul these had, and therefore was that natural desire of\\nunion more strong and intense in them, as in creatures of a more\\nexcellent nature, than either in plants, or stones, or trees. But among\\nreasonable creatures, begun commonwealths, friendships, families, public\\nmeetings, and even in their wars, conventions, and truces. Now among\\nthem that were yet of a more excellent nature, as the stars and planets,\\nthough by their nature far distant one from another, yet even among them\\nbegan some mutual correspondency and unity. So proper is it to\\nexcellency in a high degree to affect unity, as that even in things so\\nfar distant, it could operate unto a mutual sympathy. But now behold,\\nwhat is now come to pass. Those creatures that are reasonable, are now\\nthe only creatures that have forgotten their natural affection and\\ninclination of one towards another. Among them alone of all other things\\nthat are of one kind, there is not to be found a general disposition to\\nflow together. But though they fly from nature, yet are they stopt in\\ntheir course, and apprehended. Do they what they can, nature doth\\nprevail. And so shalt thou confess, if thou dost observe it. For sooner\\nmayst thou find a thing earthly, where no earthly thing is, than find a\\nman that naturally can live by himself alone.\\n\\nVIII. Man, God, the world, every one in their kind, bear some fruits.\\nAll things have their proper time to bear. Though by custom, the word\\nitself is in a manner become proper unto the vine, and the like, yet is\\nit so nevertheless, as we have said. As for reason, that beareth both\\ncommon fruit for the use of others; and peculiar, which itself doth\\nenjoy. Reason is of a diffusive nature, what itself is in itself, it\\nbegets in others, and so doth multiply.\\n\\nIX. Either teach them better if it be in thy power; or if it be not,\\nremember that for this use, to bear with them patiently, was mildness\\nand goodness granted unto thee. The Gods themselves are good unto such;\\nyea and in some things, (as in matter of health, of wealth, of honour,)\\nare content often to further their endeavours: so good and gracious are\\nthey. And mightest thou not be so too? or, tell me, what doth hinder\\nthee?\\n\\nX. Labour not as one to whom it is appointed to be wretched, nor as one\\nthat either would be pitied, or admired; but let this be thine only care\\nand desire; so always and in all things to prosecute or to forbear, as\\nthe law of charity, or mutual society doth require.\\n\\nXI. This day I did come out of all my trouble. Nay I have cast out all\\nmy trouble; it should rather be for that which troubled thee, whatsoever\\nit was, was not without anywhere that thou shouldest come out of it, but\\nwithin in thine own opinions, from whence it must be cast out, before\\nthou canst truly and constantly be at ease.\\n\\nXII. All those things, for matter of experience are usual and ordinary;\\nfor their continuance but for a day; and for their matter, most base and\\nfilthy. As they were in the days of those whom we have buried, so are\\nthey now also, and no otherwise.\\n\\nXIII. The things themselves that affect us, they stand without doors,\\nneither knowing anything themselves nor able to utter anything unto\\nothers concerning themselves. What then is it, that passeth verdict on\\nthem? The understanding.\\n\\nXIV. As virtue and wickedness consist not in passion, but in action; so\\nneither doth the true good or evil of a reasonable charitable man\\nconsist in passion, but in operation and action.\\n\\nXV. To the stone that is cast up, when it comes down it is no hurt unto\\nit; as neither benefit, when it doth ascend.\\n\\nXVI. Sift their minds and understandings, and behold what men they be,\\nwhom thou dost stand in fear of what they shall judge of thee, what they\\nthemselves judge of themselves.\\n\\nXVII. All things that are in the world, are always in the estate\\nof alteration. Thou also art in a perpetual change, yea and under\\ncorruption too, in some part: and so is the whole world.\\n\\nXVIII. it is not thine, but another man\\'s sin. Why should it trouble\\nthee? Let him look to it, whose sin it is.\\n\\nXIX. Of an operation and of a purpose there is an ending, or of an\\naction and of a purpose we say commonly, that it is at an end: from\\nopinion also there is an absolute cessation, which is as it were the\\ndeath of it. In all this there is no hurt. Apply this now to a man\\'s\\nage, as first, a child; then a youth, then a young man, then an old man;\\nevery change from one age to another is a kind of death And all this\\nwhile here no matter of grief yet. Pass now unto that life first, that\\nwhich thou livedst under thy grandfather, then under thy mother, then\\nunder thy father. And thus when through the whole course of thy life\\nhitherto thou hast found and observed many alterations, many changes,\\nmany kinds of endings and cessations, put this question to thyself What\\nmatter of grief or sorrow dost thou find in any of these? Or what doest\\nthou suffer through any of these? If in none of these, then neither\\nin the ending and consummation of thy whole life, which is also but a\\ncessation and change.\\n\\nXX. As occasion shall require, either to thine own understanding, or to\\nthat of the universe, or to his, whom thou hast now to do with, let thy\\nrefuge be with all speed. To thine own, that it resolve upon nothing\\nagainst justice. To that of the universe, that thou mayest remember,\\npart of whom thou art. Of his, that thou mayest consider whether in the\\nestate of ignorance, or of knowledge. And then also must thou call to\\nmind, that he is thy kinsman.\\n\\nXXI. As thou thyself, whoever thou art, were made for the perfection and\\nconsummation, being a member of it, of a common society; so must every\\naction of thine tend to the perfection and consummation of a life that\\nis truly sociable. What action soever of thine therefore that either\\nimmediately or afar off, hath not reference to the common good, that is\\nan exorbitant and disorderly action; yea it is seditious; as one among\\nthe people who from such and such a consent and unity, should factiously\\ndivide and separate himself.\\n\\nXXII. Children\\'s anger, mere babels; wretched souls bearing up dead\\nbodies, that they may not have their fall so soon: even as it is in that\\ncommon dirge song.\\n\\nXXIII. Go to the quality of the cause from which the effect doth\\nproceed. Behold it by itself bare and naked, separated from all that is\\nmaterial. Then consider the utmost bounds of time that that cause, thus\\nand thus qualified, can subsist and abide.\\n\\nXXIV. Infinite are the troubles and miseries, that thou hast already\\nbeen put to, by reason of this only, because that for all happiness\\nit did not suffice thee, or, that thou didst not account it sufficient\\nhappiness, that thy understanding did operate according to its natural\\nconstitution.\\n\\nXXV. When any shall either impeach thee with false accusations, or\\nhatefully reproach thee, or shall use any such carriage towards thee,\\nget thee presently to their minds and understandings, and look in them,\\nand behold what manner of men they be. Thou shalt see, that there is no\\nsuch occasion why it should trouble thee, what such as they are think of\\nthee. Yet must thou love them still, for by nature they are thy friends.\\nAnd the Gods themselves, in those things that they seek from them as\\nmatters of great moment, are well content, all manner of ways, as by\\ndreams and oracles, to help them as well as others.\\n\\nXXVI. Up and down, from one age to another, go the ordinary things of\\nthe world; being still the same. And either of everything in particular\\nbefore it come to pass, the mind of the universe doth consider with\\nitself and deliberate: and if so, then submit for shame unto the\\ndetermination of such an excellent understanding: or once for all it did\\nresolve upon all things in general; and since that whatsoever happens,\\nhappens by a necessary consequence, and all things indivisibly in a\\nmanner and inseparably hold one of another. In sum, either there is a\\nGod, and then all is well; or if all things go by chance and fortune,\\nyet mayest thou use thine own providence in those things that concern\\nthee properly; and then art thou well.\\n\\nXXVII. Within a while the earth shall cover us all, and then she herself\\nshall have her change. And then the course will be, from one period of\\neternity unto another, and so a perpetual eternity. Now can any man\\nthat shall consider with himself in his mind the several rollings or\\nsuccessions of so many changes and alterations, and the swiftness of all\\nthese rulings; can he otherwise but contemn in his heart and despise\\nall worldly things? The cause of the universe is as it were a strong\\ntorrent, it carrieth all away.\\n\\nXXVIII. And these your professed politicians, the only true practical\\nphilosophers of the world, (as they think of themselves) so full of\\naffected gravity, or such professed lovers of virtue and honesty, what\\nwretches be they in very deed; how vile and contemptible in themselves?\\nO man! what ado doest thou keep? Do what thy nature doth now require.\\nResolve upon it, if thou mayest: and take no thought, whether anybody\\nshall know it or no. Yea, but sayest thou, I must not expect a Plato\\'s\\ncommonwealth. If they profit though never so little, I must be content;\\nand think much even of that little progress. Doth then any of them\\nforsake their former false opinions that I should think they profit? For\\nwithout a change of opinions, alas! what is all that ostentation, but\\nmere wretchedness of slavish minds, that groan privately, and yet would\\nmake a show of obedience to reason, and truth? Go too now and tell me\\nof Alexander and Philippus, and Demetrius Phalereus. Whether they\\nunderstood what the common nature requireth, and could rule themselves\\nor no, they know best themselves. But if they kept a life, and\\nswaggered; I (God be thanked) am not bound to imitate them. The effect\\nof true philosophy is, unaffected simplicity and modesty. Persuade me\\nnot to ostentation and vainglory.\\n\\nXXIX. From some high place as it were to look down, and to behold\\nhere flocks, and there sacrifices, without number; and all kind of\\nnavigation; some in a rough and stormy sea, and some in a calm: the\\ngeneral differences, or different estates of things, some, that are now\\nfirst upon being; the several and mutual relations of those things that\\nare together; and some other things that are at their last. Their lives\\nalso, who were long ago, and theirs who shall be hereafter, and the\\npresent estate and life of those many nations of barbarians that are\\nnow in the world, thou must likewise consider in thy mind. And how many\\nthere be, who never so much as heard of thy name, how many that will\\nsoon forget it; how many who but even now did commend thee, within a\\nvery little while perchance will speak ill of thee. So that neither\\nfame, nor honour, nor anything else that this world doth afford, is\\nworth the while. The sum then of all; whatsoever doth happen unto thee,\\nwhereof God is the cause, to accept it contentedly: whatsoever thou\\ndoest, whereof thou thyself art the cause, to do it justly: which will\\nbe, if both in thy resolution and in thy action thou have no further\\nend, than to do good unto others, as being that, which by thy natural\\nconstitution, as a man, thou art bound unto.\\n\\nXXX. Many of those things that trouble and straiten thee, it is in thy\\npower to cut off, as wholly depending from mere conceit and opinion; and\\nthen thou shalt have room enough.\\n\\nXXXI. To comprehend the whole world together in thy mind, and the whole\\ncourse of this present age to represent it unto thyself, and to fix thy\\nthoughts upon the sudden change of every particular object. How short\\nthe time is from the generation of anything, unto the dissolution of\\nthe same; but how immense and infinite both that which was before the\\ngeneration, and that which after the generation of it shall be. All\\nthings that thou seest, will soon be perished, and they that see their\\ncorruptions, will soon vanish away themselves. He that dieth a hundred\\nyears old, and he that dieth young, shall come all to one.\\n\\nXXXII. What are their minds and understandings; and what the things that\\nthey apply themselves unto: what do they love, and what do they hate\\nfor? Fancy to thyself the estate of their souls openly to be seen. When\\nthey think they hurt them shrewdly, whom they speak ill of; and when\\nthey think they do them a very good turn, whom they commend and extol: O\\nhow full are they then of conceit, and opinion!\\n\\nXXXIII. Loss and corruption, is in very deed nothing else but change and\\nalteration; and that is it, which the nature of the universe doth most\\ndelight in, by which, and according to which, whatsoever is done, is\\nwell done. For that was the estate of worldly things from the beginning,\\nand so shall it ever be. Or wouldest thou rather say, that all things\\nin the world have gone ill from the beginning for so many ages, and\\nshall ever go ill? And then among so many deities, could no divine power\\nbe found all this while, that could rectify the things of the world? Or\\nis the world, to incessant woes and miseries, for ever condemned?\\n\\nXXXIV. How base and putrid, every common matter is! Water, dust, and\\nfrom the mixture of these bones, and all that loathsome stuff that our\\nbodies do consist of: so subject to be infected, and corrupted. And\\nagain those other things that are so much prized and admired, as marble\\nstones, what are they, but as it were the kernels of the earth? gold and\\nsilver, what are they, but as the more gross faeces of the earth? Thy\\nmost royal apparel, for matter, it is but as it were the hair of a silly\\nsheep, and for colour, the very blood of a shell-fish; of this nature\\nare all other things. Thy life itself, is some such thing too; a mere\\nexhalation of blood: and it also, apt to be changed into some other\\ncommon thing.\\n\\nXXXV. Will this querulousness, this murmuring, this complaining and\\ndissembling never be at an end? What then is it, that troubleth thee?\\nDoth any new thing happen unto thee? What doest thou so wonder at? At\\nthe cause, or the matter? Behold either by itself, is either of that\\nweight and moment indeed? And besides these, there is not anything. But\\nthy duty towards the Gods also, it is time thou shouldst acquit thyself\\nof it with more goodness and simplicity.\\n\\nXXXVI. It is all one to see these things for a hundred of years together\\nor but for three years.\\n\\nXXXVII. If he have sinned, his is the harm, not mine. But perchance he\\nhath not.\\n\\nXXXVIII. Either all things by the providence of reason happen unto every\\nparticular, as a part of one general body; and then it is against reason\\nthat a part should complain of anything that happens for the good of the\\nwhole; or if, according to Epicurus, atoms be the cause of all things\\nand that life be nothing else but an accidentary confusion of things,\\nand death nothing else, but a mere dispersion and so of all other\\nthings: what doest thou trouble thyself for?\\n\\nXXXIX. Sayest thou unto that rational part, Thou art dead; corruption\\nhath taken hold on thee? Doth it then also void excrements? Doth it like\\neither oxen, or sheep, graze or feed; that it also should be mortal, as\\nwell as the body?\\n\\nXL. Either the Gods can do nothing for us at all, or they can still and\\nallay all the distractions and distempers of thy mind. If they can do\\nnothing, why doest thou pray? If they can, why wouldst not thou rather\\npray, that they will grant unto thee, that thou mayst neither fear, nor\\nlust after any of those worldly things which cause these distractions\\nand distempers of it? Why not rather, that thou mayst not at either\\ntheir absence or presence, be grieved and discontented: than either that\\nthou mayst obtain them, or that thou mayst avoid them? For certainly\\nit must needs be, that if the Gods can help us in anything, they may in\\nthis kind also. But thou wilt say perchance, \\'In those things the Gods\\nhave given me my liberty: and it is in mine own power to do what I\\nwill.\\' But if thou mayst use this liberty, rather to set thy mind at\\ntrue liberty, than wilfully with baseness and servility of mind to\\naffect those things, which either to compass or to avoid is not in thy\\npower, wert not thou better? And as for the Gods, who hath told thee,\\nthat they may not help us up even in those things that they have put in\\nour own power? whether it be so or no, thou shalt soon perceive, if\\nthou wilt but try thyself and pray. One prayeth that he may compass his\\ndesire, to lie with such or such a one, pray thou that thou mayst not\\nlust to lie with her. Another how he may be rid of such a one; pray thou\\nthat thou mayst so patiently bear with him, as that thou have no such\\nneed to be rid of him. Another, that he may not lose his child. Pray\\nthou that thou mayst not fear to lose him. To this end and purpose, let\\nall thy prayer be, and see what will be the event.\\n\\nXLI. \\'In my sickness\\' (saith Epicurus of himself:) \\'my discourses were\\nnot concerning the nature of my disease, neither was that, to them that\\ncame to visit me, the subject of my talk; but in the consideration and\\ncontemplation of that, which was of especial weight and moment, was all\\nmy time bestowed and spent, and among others in this very thing, how my\\nmind, by a natural and unavoidable sympathy partaking in some sort with\\nthe present indisposition of my body, might nevertheless keep herself\\nfree from trouble, and in present possession of her own proper\\nhappiness. Neither did I leave the ordering of my body to the physicians\\naltogether to do with me what they would, as though I expected any\\ngreat matter from them, or as though I thought it a matter of such great\\nconsequence, by their means to recover my health: for my present estate,\\nmethought, liked me very well, and gave me good content.\\' Whether\\ntherefore in sickness (if thou chance to sicken) or in what other kind\\nof extremity soever, endeavour thou also to be in thy mind so affected,\\nas he doth report of himself: not to depart from thy philosophy for\\nanything that can befall thee, nor to give ear to the discourses of\\nsilly people, and mere naturalists.\\n\\nXLII. It is common to all trades and professions to mind and intend that\\nonly, which now they are about, and the instrument whereby they work.\\n\\nXLIII. When at any time thou art offended with any one\\'s impudency, put\\npresently this question to thyself: \\'What? Is it then possible, that\\nthere should not be any impudent men in the world! Certainly it is not\\npossible.\\' Desire not then that which is impossible. For this one, (thou\\nmust think) whosoever he be, is one of those impudent ones, that\\nthe world cannot be without. So of the subtile and crafty, so of the\\nperfidious, so of every one that offendeth, must thou ever be ready to\\nreason with thyself. For whilst in general thou dost thus reason with\\nthyself, that the kind of them must needs be in the world, thou wilt be\\nthe better able to use meekness towards every particular. This also\\nthou shalt find of very good use, upon every such occasion, presently\\nto consider with thyself, what proper virtue nature hath furnished man\\nwith, against such a vice, or to encounter with a disposition vicious\\nin this kind. As for example, against the unthankful, it hath given\\ngoodness and meekness, as an antidote, and so against another vicious\\nin another kind some other peculiar faculty. And generally, is it not\\nin thy power to instruct him better, that is in an error? For whosoever\\nsinneth, doth in that decline from his purposed end, and is certainly\\ndeceived, And again, what art thou the worse for his sin? For thou shalt\\nnot find that any one of these, against whom thou art incensed, hath in\\nvery deed done anything whereby thy mind (the only true subject of\\nthy hurt and evil) can be made worse than it was. And what a matter of\\neither grief or wonder is this, if he that is unlearned, do the deeds of\\none that is unlearned? Should not thou rather blame thyself, who, when\\nupon very good grounds of reason, thou mightst have thought it very\\nprobable, that such a thing would by such a one be committed, didst not\\nonly not foresee it, but moreover dost wonder at it, that such a thing\\nshould be. But then especially, when thou dost find fault with either an\\nunthankful, or a false man, must thou reflect upon thyself. For without\\nall question, thou thyself art much in fault, if either of one that were\\nof such a disposition, thou didst expect that he should be true unto\\nthee: or when unto any thou didst a good turn, thou didst not there\\nbound thy thoughts, as one that had obtained his end; nor didst not\\nthink that from the action itself thou hadst received a full reward of\\nthe good that thou hadst done. For what wouldst thou have more? Unto him\\nthat is a man, thou hast done a good turn: doth not that suffice thee?\\nWhat thy nature required, that hast thou done. Must thou be rewarded for\\nit? As if either the eye for that it seeth, or the feet that they go,\\nshould require satisfaction. For as these being by nature appointed for\\nsuch an use, can challenge no more, than that they may work according\\nto their natural constitution: so man being born to do good unto others\\nwhensoever he doth a real good unto any by helping them out of error; or\\nthough but in middle things, as in matter of wealth, life, preferment,\\nand the like, doth help to further their desires he doth that for which\\nhe was made, and therefore can require no more.\\n\\n\\n\\n\\nTHE TENTH BOOK\\n\\nI. O my soul, the time I trust will be, when thou shalt be good, simple,\\nsingle, more open and visible, than that body by which it is enclosed.\\nThou wilt one day be sensible of their happiness, whose end is love, and\\ntheir affections dead to all worldly things. Thou shalt one day be full,\\nand in want of no external thing: not seeking pleasure from anything,\\neither living or insensible, that this world can afford; neither wanting\\ntime for the continuation of thy pleasure, nor place and opportunity,\\nnor the favour either of the weather or of men. When thou shalt have\\ncontent in thy present estate, and all things present shall add to thy\\ncontent: when thou shalt persuade thyself, that thou hast all things;\\nall for thy good, and all by the providence of the Gods: and of things\\nfuture also shalt be as confident, that all will do well, as tending to\\nthe maintenance and preservation in some sort, of his perfect welfare\\nand happiness, who is perfection of life, of goodness, and beauty; who\\nbegets all things, and containeth all things in himself, and in himself\\ndoth recollect all things from all places that are dissolved, that of\\nthem he may beget others again like unto them. Such one day shall be thy\\ndisposition, that thou shalt be able, both in regard of the Gods, and\\nin regard of men, so to fit and order thy conversation, as neither\\nto complain of them at any time, for anything that they do; nor to do\\nanything thyself, for which thou mayest justly be condemned.\\n\\nII. As one who is altogether governed by nature, let it be thy care to\\nobserve what it is that thy nature in general doth require. That\\ndone, if thou find not that thy nature, as thou art a living sensible\\ncreature, will be the worse for it, thou mayest proceed. Next then thou\\nmust examine, what thy nature as thou art a living sensible creature,\\ndoth require. And that, whatsoever it be, thou mayest admit of and do\\nit, if thy nature as thou art a reasonable living creature, will not be\\nthe worse for it. Now whatsoever is reasonable, is also sociable, Keep\\nthyself to these rules, and trouble not thyself about idle things.\\n\\nIII. Whatsoever doth happen unto thee, thou art naturally by thy natural\\nconstitution either able, or not able to bear. If thou beest able, be\\nnot offended, but bear it according to thy natural constitution, or as\\nnature hath enabled thee. If thou beest not able, be not offended. For\\nit will soon make an end of thee, and itself, (whatsoever it be) at the\\nsame time end with thee. But remember, that whatsoever by the strength\\nof opinion, grounded upon a certain apprehension of both true profit and\\nduty, thou canst conceive tolerable; that thou art able to bear that by\\nthy natural constitution.\\n\\nIV. Him that offends, to teach with love and meek ness, and to show him\\nhis error. But if thou canst not, then to blame thyself; or rather not\\nthyself neither, if thy will and endeavours have not been wanting.\\n\\nV. Whatsoever it be that happens unto thee, it is that which from all\\ntime was appointed unto thee. For by the same coherence of causes, by\\nwhich thy substance from all eternity was appointed to be, was also\\nwhatsoever should happen unto it, destinated and appointed.\\n\\nVI. Either with Epicurus, we must fondly imagine the atoms to be the\\ncause of all things, or we must needs grant a nature. Let this then be\\nthy first ground, that thou art part of that universe, which is governed\\nby nature. Then secondly, that to those parts that are of the same kind\\nand nature as thou art, thou hast relation of kindred. For of these,\\nif I shall always be mindful, first as I am a part, I shall never be\\ndispleased with anything, that falls to my particular share of the\\ncommon chances of the world. For nothing that is behoveful unto the\\nwhole, can be truly hurtful to that which is part of it. For this\\nbeing the common privilege of all natures, that they contain nothing in\\nthemselves that is hurtful unto them; it cannot be that the nature of\\nthe universe (whose privilege beyond other particular natures, is,\\nthat she cannot against her will by any higher external cause be\\nconstrained,) should beget anything and cherish it in her bosom that\\nshould tend to her own hurt and prejudice. As then I bear in mind that\\nI am a part of such an universe, I shall not be displeased with anything\\nthat happens. And as I have relation of kindred to those parts that\\nare of the same kind and nature that I am, so I shall be careful to\\ndo nothing that is prejudicial to the community, but in all my\\ndeliberations shall they that are of my kind ever be; and the common\\ngood, that, which all my intentions and resolutions shall drive unto,\\nas that which is contrary unto it, I shall by all means endeavour to\\nprevent and avoid. These things once so fixed and concluded, as thou\\nwouldst think him a happy citizen, whose constant study and practice\\nwere for the good and benefit of his fellow citizens, and the carriage\\nof the city such towards him, that he were well pleased with it; so must\\nit needs be with thee, that thou shalt live a happy life.\\n\\nVII. All parts of the world, (all things I mean that are contained\\nwithin the whole world), must of necessity at some time or other come to\\ncorruption. Alteration I should say, to speak truly and properly; but\\nthat I may be the better understood, I am content at this time to use\\nthat more common word. Now say I, if so be that this be both hurtful\\nunto them, and yet unavoidable, would not, thinkest thou, the whole\\nitself be in a sweet case, all the parts of it being subject to\\nalteration, yea and by their making itself fitted for corruption, as\\nconsisting of things different and contrary? And did nature then either\\nof herself thus project and purpose the affliction and misery of her\\nparts, and therefore of purpose so made them, not only that haply they\\nmight, but of necessity that they should fall into evil; or did not she\\nknow what she did, when she made them? For either of these two to say,\\nis equally absurd. But to let pass nature in general, and to reason of\\nthings particular according to their own particular natures; how absurd\\nand ridiculous is it, first to say that all parts of the whole are, by\\ntheir proper natural constitution, subject to alteration; and then when\\nany such thing doth happen, as when one doth fall sick and dieth, to\\ntake on and wonder as though some strange thing had happened? Though\\nthis besides might move not so grievously to take on when any such thing\\ndoth happen, that whatsoever is dissolved, it is dissolved into those\\nthings, whereof it was compounded. For every dissolution is either\\na mere dispersion, of the elements into those elements again whereof\\neverything did consist, or a change, of that which is more solid into\\nearth; and of that which is pure and subtile or spiritual, into air.\\nSo that by this means nothing is lost, but all resumed again into those\\nrational generative seeds of the universe; and this universe, either\\nafter a certain period of time to lie consumed by fire, or by continual\\nchanges to be renewed, and so for ever to endure. Now that solid and\\nspiritual that we speak of, thou must not conceive it to be that very\\nsame, which at first was, when thou wert born. For alas! all this that\\nnow thou art in either kind, either for matter of substance, or of life,\\nhath but two or three days ago partly from meats eaten, and partly from\\nair breathed in, received all its influx, being the same then in no\\nother respect, than a running river, maintained by the perpetual influx\\nand new supply of waters, is the same. That therefore which thou hast\\nsince received, not that which came from thy mother, is that which\\ncomes to change and corruption. But suppose that that for the general\\nsubstance, and more solid part of it, should still cleave unto thee\\nnever so close, yet what is that to the proper qualities and affections\\nof it, by which persons are distinguished, which certainly are quite\\ndifferent?\\n\\nVIII. Now that thou hast taken these names upon thee of good, modest,\\ntrue; of emfrwn, sumfrwn, uperfrwn; take heed lest at any times by doing\\nanything that is contrary, thou be but improperly so called, and lose\\nthy right to these appellations. Or if thou do, return unto them again\\nwith all possible speed. And remember, that the word emfrwn notes\\nunto thee an intent and intelligent consideration of every object that\\npresents itself unto thee, without distraction. And the word emfrwn a\\nready and contented acceptation of whatsoever by the appointment of\\nthe common nature, happens unto thee. And the word sumfrwn, a\\nsuper-extension, or a transcendent, and outreaching disposition of thy\\nmind, whereby it passeth by all bodily pains and pleasures, honour\\nand credit, death and whatsoever is of the same nature, as matters of\\nabsolute indifferency, and in no wise to be stood upon by a wise man.\\nThese then if inviolably thou shalt observe, and shalt not be ambitious\\nto be so called by others, both thou thyself shalt become a new man, and\\nthou shalt begin a new life. For to continue such as hitherto thou hast\\nbeen, to undergo those distractions and distempers as thou must needs\\nfor such a life as hitherto thou hast lived, is the part of one that is\\nvery foolish, and is overfond of his life. Whom a man might compare to\\none of those half-eaten wretches, matched in the amphitheatre with wild\\nbeasts; who as full as they are all the body over with wounds and blood,\\ndesire for a great favour, that they may be reserved till the next day,\\nthen also, and in the same estate to be exposed to the same nails and\\nteeth as before. Away therefore, ship thyself; and from the troubles and\\ndistractions of thy former life convey thyself as it were unto these few\\nnames; and if thou canst abide in them, or be constant in the practice\\nand possession of them, continue there as glad and joyful as one that\\nwere translated unto some such place of bliss and happiness as that\\nwhich by Hesiod and Plato is called the Islands of the Blessed, by\\nothers called the Elysian Fields. And whensoever thou findest thyself;\\nthat thou art in danger of a relapse, and that thou art not able to\\nmaster and overcome those difficulties and temptations that present\\nthemselves in thy present station: get thee into any private corner,\\nwhere thou mayst be better able. Or if that will not serve forsake\\neven thy life rather. But so that it be not in passion but in a plain\\nvoluntary modest way: this being the only commendable action of thy\\nwhole life that thus thou art departed, or this having been the main\\nwork and business of thy whole life, that thou mightest thus depart. Now\\nfor the better remembrance of those names that we have spoken of, thou\\nshalt find it a very good help, to remember the Gods as often as may be:\\nand that, the thing which they require at our hands of as many of us,\\nas are by nature reasonable creation is not that with fair words, and\\noutward show of piety and devotion we should flatter them, but that we\\nshould become like unto them: and that as all other natural creatures,\\nthe fig tree for example; the dog the bee: both do, all of them, and\\napply themselves unto that which by their natural constitution, is\\nproper unto them; so man likewise should do that, which by his nature,\\nas he is a man, belongs unto him.\\n\\nIX. Toys and fooleries at home, wars abroad: sometimes terror, sometimes\\ntorpor, or stupid sloth: this is thy daily slavery. By little and\\nlittle, if thou doest not better look to it, those sacred dogmata will\\nbe blotted out of thy mind. How many things be there, which when as\\na mere naturalist, thou hast barely considered of according to their\\nnature, thou doest let pass without any further use? Whereas thou\\nshouldst in all things so join action and contemplation, that thou\\nmightest both at the same time attend all present occasions, to perform\\neverything duly and carefully and yet so intend the contemplative part\\ntoo, that no part of that delight and pleasure, which the contemplative\\nknowledge of everything according to its true nature doth of itself\\nafford, might be lost. Or, that the true and contemnplative knowledge\\nof everything according to its own nature, might of itself, (action\\nbeing subject to many lets and impediments) afford unto thee sufficient\\npleasure and happiness. Not apparent indeed, but not concealed. And when\\nshalt thou attain to the happiness of true simplicity, and unaffected\\ngravity? When shalt thou rejoice in the certain knowledge of every\\nparticular object according to its true nature: as what the matter and\\nsubstance of it is; what use it is for in the world: how long it can\\nsubsist: what things it doth consist of: who they be that are capable of\\nit, and who they that can give it, and take it away?\\n\\nX. As the spider, when it hath caught the fly that it hunted after, is\\nnot little proud, nor meanly conceited of herself: as he likewise that\\nhath caught an hare, or hath taken a fish with his net: as another for\\nthe taking of a boar, and another of a bear: so may they be proud,\\nand applaud themselves for their valiant acts against the Sarmatai, or\\nnorthern nations lately defeated. For these also, these famous soldiers\\nand warlike men, if thou dost look into their minds and opinions, what\\ndo they for the most part but hunt after prey?\\n\\nXI. To find out, and set to thyself some certain way and method of\\ncontemplation, whereby thou mayest clearly discern and represent unto\\nthyself, the mutual change of all things, the one into the other. Bear\\nit in thy mind evermore, and see that thou be throughly well exercised\\nin this particular. For there is not anything more effectual to beget\\ntrue magnanimity.\\n\\nXII. He hath got loose from the bonds of his body, and perceiving that\\nwithin a very little while he must of necessity bid the world farewell,\\nand leave all these things behind him, he wholly applied himself, as to\\nrighteousness in all his actions, so to the common nature in all things\\nthat should happen unto him. And contenting himself with these two\\nthings, to do all things justly, and whatsoever God doth send to like\\nwell of it: what others shall either say or think of him, or shall do\\nagainst him, he doth not so much as trouble his thoughts with it. To go\\non straight, whither right and reason directed him, and by so doing to\\nfollow God, was the only thing that he did mind, that, his only business\\nand occupation.\\n\\nXIII. What use is there of suspicion at all? or, why should thoughts\\nof mistrust, and suspicion concerning that which is future, trouble thy\\nmind at all? What now is to be done, if thou mayest search and inquiry\\ninto that, what needs thou care for more? And if thou art well able to\\nperceive it alone, let no man divert thee from it. But if alone thou\\ndoest not so well perceive it, suspend thine action, and take advice\\nfrom the best. And if there be anything else that doth hinder thee, go\\non with prudence and discretion, according to the present occasion\\nand opportunity, still proposing that unto thyself, which thou doest\\nconceive most right and just. For to hit that aright, and to speed in\\nthe prosecution of it, must needs be happiness, since it is that only\\nwhich we can truly and properly be said to miss of, or miscarry in.\\n\\nXIV. What is that that is slow, and yet quick? merry, and yet grave? He\\nthat in all things doth follow reason for his guide.\\n\\nXV. In the morning as soon as thou art awaked, when thy judgment, before\\neither thy affections, or external objects have wrought upon it, is yet\\nmost free and impartial: put this question to thyself, whether if that\\nwhich is right and just be done, the doing of it by thyself, or by\\nothers when thou art not able thyself; be a thing material or no. For\\nsure it is not. And as for these that keep such a life, and stand so\\nmuch upon the praises, or dispraises of other men, hast thou forgotten\\nwhat manner of men they be? that such and such upon their beds, and such\\nat their board: what their ordinary actions are: what they pursue after,\\nand what they fly from: what thefts and rapines they commit, if not with\\ntheir hands and feet, yet with that more precious part of theirs, their\\nminds: which (would it but admit of them) might enjoy faith, modesty,\\ntruth, justice, a good spirit.\\n\\nXVI. Give what thou wilt, and take away what thou wilt, saith he that is\\nwell taught and truly modest, to Him that gives, and takes away. And it\\nis not out of a stout and peremptory resolution, that he saith it, but\\nin mere love, and humble submission.\\n\\nXVII. So live as indifferent to the world and all worldly objects, as\\none who liveth by himself alone upon some desert hill. For whether here,\\nor there, if the whole world be but as one town, it matters not much for\\nthe place. Let them behold and see a man, that is a man indeed, living\\naccording to the true nature of man. If they cannot bear with me, let\\nthem kill me. For better were it to die, than so to live as they would\\nhave thee.\\n\\nXVIII. Make it not any longer a matter of dispute or discourse, what are\\nthe signs and proprieties of a good man, but really and actually to be\\nsuch.\\n\\nXIX. Ever to represent unto thyself; and to set before thee, both the\\ngeneral age and time of the world, and the whole substance of it. And\\nhow all things particular in respect of these are for their substance,\\nas one of the least seeds that is: and for their duration, as the\\nturning of the pestle in the mortar once about. Then to fix thy mind\\nupon every particular object of the world, and to conceive it, (as it\\nis indeed,) as already being in the state of dissolution, and of change;\\ntending to some kind of either putrefaction or dispersion; or whatsoever\\nelse it is, that is the death as it were of everything in his own kind.\\n\\nXX. Consider them through all actions and occupations, of their lives:\\nas when they eat, and when they sleep: when they are in the act of\\nnecessary exoneration, and when in the act of lust. Again, when they\\neither are in their greatest exultation; and in the middle of all\\ntheir pomp and glory; or being angry and displeased, in great state and\\nmajesty, as from an higher place, they chide and rebuke. How base and\\nslavish, but a little while ago, they were fain to be, that they might\\ncome to this; and within a very little while what will be their estate,\\nwhen death hath once seized upon them.\\n\\nXXI. That is best for every one, that the common nature of all doth send\\nunto every one, and then is it best, when she doth send it.\\n\\nXXII. The earth, saith the poet, doth often long after the rain. So is\\nthe glorious sky often as desirous to fall upon the earth, which argues\\na mutual kind of love between them. And so (say I) doth the world bear\\na certain affection of love to whatsoever shall come to pass With thine\\naffections shall mine concur, O world. The same (and no other) shall the\\nobject of my longing be which is of thine. Now that the world doth love\\nit is true indeed so is it as commonly said, and acknowledged ledged,\\nwhen, according to the Greek phrase, imitated by the Latins, of things\\nthat used to be, we say commonly, that they love to be.\\n\\nXXIII. Either thou dost Continue in this kind of life and that is it,\\nwhich so long thou hast been used unto and therefore tolerable: or thou\\ndoest retire, or leave the world, and that of thine own accord, and then\\nthou hast thy mind: or thy life is cut off; and then mayst thou\\nrejoice that thou hast ended thy charge. One of these must needs be.\\nBe therefore of good comfort.\\n\\nXXIV Let it always appear and be manifest unto thee that solitariness,\\nand desert places, by many philosophers so much esteemed of and\\naffected, are of themselves but thus and thus; and that all things are\\nthem to them that live in towns, and converse with others as they are\\nthe same nature everywhere to be seen and observed: to them that have\\nretired themselves to the top of mountains, and to desert havens, or\\nwhat other desert and inhabited places soever. For anywhere it thou wilt\\nmayest thou quickly find and apply that to thyself; which Plato saith of\\nhis philosopher, in a place: as private and retired, saith he, as if he\\nwere shut up and enclosed about in some shepherd\\'s lodge, on the top of\\na hill. There by thyself to put these questions to thyself or to enter\\nin these considerations: What is my chief and principal part, which hath\\npower over the rest? What is now the present estate of it, as I use it;\\nand what is it, that I employ it about? Is it now void of reason ir no?\\nIs it free, and separated; or so affixed, so congealed and grown\\ntogether as it were with the flesh, that it is swayed by the motions and\\ninclinations of it?\\n\\nXXV. He that runs away from his master is a fugitive. But the law is\\nevery man\\'s master. He therefore that forsakes the law, is a fugitive.\\nSo is he, whosoever he be, that is either sorry, angry, or afraid, or\\nfor anything that either hath been, is, or shall be by his appointment,\\nwho is the Lord and Governor of the universe. For he truly and properly\\nis Nomoz, or the law, as the only nemwn (sp.), or distributor\\nand dispenser of all things that happen unto any one in his\\nlifetime--Whatsoever then is either sorry, angry, or afraid,\\nis a fugitive.\\n\\nXXVI. From man is the seed, that once cast into the womb man hath no\\nmore to do with it. Another cause succeedeth, and undertakes the\\nwork, and in time brings a child (that wonderful effect from such a\\nbeginning!) to perfection. Again, man lets food down through his\\nthroat; and that once down, he hath no more to do with it. Another\\ncause succeedeth and distributeth this food into the senses, and the\\naffections: into life, and into strength; and doth with it those other\\nmany and marvellous things, that belong unto man. These things therefore\\nthat are so secretly and invisibly wrought and brought to pass, thou\\nmust use to behold and contemplate; and not the things themselves only,\\nbut the power also by which they are effected; that thou mayst behold\\nit, though not with the eyes of the body, yet as plainly and visibly as\\nthou canst see and discern the outward efficient cause of the depression\\nand elevation of anything.\\n\\nXXVII. Ever to mind and consider with thyself; how all things that now\\nare, have been heretofore much after the same sort, and after the same\\nfashion that now they are: and so to think of those things which shall\\nbe hereafter also. Moreover, whole dramata, and uniform scenes, or\\nscenes that comprehend the lives and actions of men of one calling and\\nprofession, as many as either in thine own experience thou hast known,\\nor by reading of ancient histories; (as the whole court of Adrianus,\\nthe whole court of Antoninus Pius, the whole court of Philippus, that of\\nAlexander, that of Croesus): to set them all before thine eyes. For thou\\nshalt find that they are all but after one sort and fashion: only that\\nthe actors were others.\\n\\nXXVIII. As a pig that cries and flings when his throat is cut, fancy to\\nthyself every one to be, that grieves for any worldly thing and takes\\non. Such a one is he also, who upon his bed alone, doth bewail\\nthe miseries of this our mortal life. And remember this, that Unto\\nreasonable creatures only it is granted that they may willingly and\\nfreely submit unto Providence: but absolutely to submit, is a necessity\\nimposed upon all creatures equally.\\n\\nXXIX. Whatsoever it is that thou goest about, consider of it by thyself,\\nand ask thyself, What? because I shall do this no more when I am dead,\\nshould therefore death seem grievous unto me?\\n\\nXXX. When thou art offended with any man\\'s transgression, presently\\nreflect upon thyself; and consider what thou thyself art guilty of in\\nthe same kind. As that thou also perchance dost think it a happiness\\neither to be rich, or to live in pleasure, or to be praised and\\ncommended, and so of the rest in particular. For this if thou shalt call\\nto mind, thou shalt soon forget thine anger; especially when at the same\\ntime this also shall concur in thy thoughts, that he was constrained by\\nhis error and ignorance so to do: for how can he choose as long as he\\nis of that opinion? Do thou therefore if thou canst, take away that from\\nhim, that forceth him to do as he doth.\\n\\nXXXI. When thou seest Satyro, think of Socraticus and Eutyches, or\\nHymen, and when Euphrates, think of Eutychio, and Sylvanus, when\\nAlciphron, of Tropaeophorus, when Xenophon, of Crito, or Severus. And\\nwhen thou doest look upon thyself, fancy unto thyself some one or other\\nof the Caesars; and so for every one, some one or other that hath been\\nfor estate and profession answerable unto him. Then let this come to thy\\nmind at the same time; and where now are they all? Nowhere or anywhere?\\nFor so shalt thou at all time be able to perceive how all worldly\\nthings are but as the smoke, that vanisheth away: or, indeed, mere\\nnothing. Especially when thou shalt call to mind this also, that\\nwhatsoever is once changed, shall never be again as long as the world\\nendureth. And thou then, how long shalt thou endure? And why doth it not\\nsuffice thee, if virtuously, and as becometh thee, thou mayest pass that\\nportion of time, how little soever it be, that is allotted unto thee?\\n\\nXXXII. What a subject, and what a course of life is it, that thou doest\\nso much desire to be rid of. For all these things, what are they, but\\nfit objects for an understanding, that beholdeth everything according to\\nits true nature, to exercise itself upon? Be patient, therefore, until\\nthat (as a strong stomach that turns all things into his own nature; and\\nas a great fire that turneth in flame and light, whatsoever thou doest\\ncast into it) thou have made these things also familiar, and as it were\\nnatural unto thee.\\n\\nXXXIII. Let it not be in any man\\'s power, to say truly of thee, that\\nthou art not truly simple, or sincere and open, or not good. Let him be\\ndeceived whosoever he be that shall have any such opinion of thee. For\\nall this doth depend of thee. For who is it that should hinder thee from\\nbeing either truly simple or good? Do thou only resolve rather not to\\nlive, than not to be such. For indeed neither doth it stand with reason\\nthat he should live that is not such. What then is it that may upon this\\npresent occasion according to best reason and discretion, either be said\\nor done? For whatsoever it be, it is in thy power either to do it, or\\nto say it, and therefore seek not any pretences, as though thou wert\\nhindered. Thou wilt never cease groaning and complaining, until such\\ntime as that, what pleasure is unto the voluptuous, be unto thee, to do\\nin everything that presents itself, whatsoever may be done conformably\\nand agreeably to the proper constitution of man, or, to man as he is a\\nman. For thou must account that pleasure, whatsoever it be, that thou\\nmayest do according to thine own nature. And to do this, every place\\nwill fit thee. Unto the cylindrus, or roller, it is not granted to\\nmove everywhere according to its own proper motion, as neither unto\\nthe water, nor unto the fire, nor unto any other thing, that either is\\nmerely natural, or natural and sensitive; but not rational for many\\nthings there be that can hinder their operations. But of the mind and\\nunderstanding this is the proper privilege, that according to its own\\nnature, and as it will itself, it can pass through every obstacle that\\nit finds, and keep straight on forwards. Setting therefore before thine\\neyes this happiness and felicity of thy mind, whereby it is able to pass\\nthrough all things, and is capable of all motions, whether as the fire,\\nupwards; or as the stone downwards, or as the cylindrus through that\\nwhich is sloping: content thyself with it, and seek not after any other\\nthing. For all other kind of hindrances that are not hindrances of thy\\nmind either they are proper to the body, or merely proceed from the\\nopinion, reason not making that resistance that it should, but basely,\\nand cowardly suffering itself to be foiled; and of themselves can\\nneither wound, nor do any hurt at all. Else must he of necessity,\\nwhosoever he be that meets with any of them, become worse than he was\\nbefore. For so is it in all other subjects, that that is thought hurtful\\nunto them, whereby they are made worse. But here contrariwise, man (if\\nhe make that good use of them that he should) is rather the better\\nand the more praiseworthy for any of those kind of hindrances, than\\notherwise. But generally remember that nothing can hurt a natural\\ncitizen, that is not hurtful unto the city itself, nor anything hurt\\nthe city, that is not hurtful unto the law itself. But none of these\\ncasualties, or external hindrances, do hurt the law itself; or, are\\ncontrary to that course of justice and equity, by which public societies\\nare maintained: neither therefore do they hurt either city or citizen.\\n\\nXXXIV. As he that is bitten by a mad dog, is afraid of everything almost\\nthat he seeth: so unto him, whom the dogmata have once bitten, or in\\nwhom true knowledge hath made an impression, everything almost that\\nhe sees or reads be it never so short or ordinary, doth afford a good\\nmemento; to put him out of all grief and fear, as that of the poet, \\'The\\nwinds blow upon the trees, and their leaves fall upon the ground. Then\\ndo the trees begin to bud again, and by the spring-time they put forth\\nnew branches. So is the generation of men; some come into the world, and\\nothers go out of it.\\' Of these leaves then thy children are. And they\\nalso that applaud thee so gravely, or, that applaud thy speeches, with\\nthat their usual acclamation, axiopistwz, O wisely spoken I and speak\\nwell of thee, as on the other side, they that stick not to curse thee,\\nthey that privately and secretly dispraise and deride thee, they also\\nare but leaves. And they also that shall follow, in whose memories\\nthe names of men famous after death, is preserved, they are but leaves\\nneither. For even so is it of all these worldly things. Their spring\\ncomes, and they are put forth. Then blows the wind, and they go down.\\nAnd then in lieu of them grow others out of the wood or common matter\\nof all things, like unto them. But, to endure but for a while, is common\\nunto all. Why then shouldest thou so earnestly either seek after these\\nthings, or fly from them, as though they should endure for ever? Yet a\\nlittle while, and thine eyes will be closed up, and for him that carries\\nthee to thy grave shall another mourn within a while after.\\n\\nXXXV. A good eye must be good to see whatsoever is to be seen, and not\\ngreen things only. For that is proper to sore eyes. So must a good\\near, and a good smell be ready for whatsoever is either to be heard,\\nor smelt: and a good stomach as indifferent to all kinds of food, as\\na millstone is, to whatsoever she was made for to grind. As ready\\ntherefore must a sound understanding be for whatsoever shall happen. But\\nhe that saith, O that my children might live! and, O that all men might\\ncommend me for whatsoever I do! is an eye that seeks after green things;\\nor as teeth, after that which is tender.\\n\\nXXXVI. There is not any man that is so happy in his death, but that some\\nof those that are by him when he dies, will be ready to rejoice at his\\nsupposed calamity. Is it one that was virtuous and wise indeed? will\\nthere not some one or other be found, who thus will say to himself;\\n\\'Well now at last shall I be at rest from this pedagogue. He did not\\nindeed otherwise trouble us much: but I know well enough that in his\\nheart, he did much condemn us.\\' Thus will they speak of the virtuous.\\nBut as for us, alas I how many things be there, for which there be many\\nthat glad would be to be rid of us. This therefore if thou shalt think\\nof whensoever thou diest, thou shalt die the more willingly, when thou\\nshalt think with thyself; I am now to depart from that world, wherein\\nthose that have been my nearest friends and acquaintances, they whom I\\nhave so much suffered for, so often prayed for, and for whom I have\\ntaken such care, even they would have me die, hoping that after my death\\nthey shall live happier, than they did before. What then should any man\\ndesire to continue here any longer? Nevertheless, whensoever thou diest,\\nthou must not be less kind and loving unto them for it; but as before,\\nsee them, continue to be their friend, to wish them well, and meekly,\\nand gently to carry thyself towards them, but yet so that on the other\\nside, it make thee not the more unwilling to die. But as it fareth with\\nthem that die an easy quick death, whose soul is soon separated from\\ntheir bodies, so must thy separation from them be. To these had nature\\njoined and annexed me: now she parts us; I am ready to depart, as from\\nfriends and kinsmen, but yet without either reluctancy or compulsion.\\nFor this also is according to Nature.\\n\\nXXXVII. Use thyself; as often, as thou seest any man do anything,\\npresently (if it be possible) to say unto thyself, What is this man\\'s\\nend in this his action? But begin this course with thyself first of all,\\nand diligently examine thyself concerning whatsoever thou doest.\\n\\nXXXVIII. Remember, that that which sets a man at work, and hath power\\nover the affections to draw them either one way, or the other way, is\\nnot any external thing properly, but that which is hidden within every\\nman\\'s dogmata, and opinions: That, that is rhetoric; that is life; that\\n(to speak true) is man himself. As for thy body, which as a vessel, or\\na case, compasseth thee about, and the many and curious instruments\\nthat it hath annexed unto it, let them not trouble thy thoughts. For\\nof themselves they are but as a carpenter\\'s axe, but that they are born\\nwith us, and naturally sticking unto us. But otherwise, without the\\ninward cause that hath power to move them, and to restrain them, those\\nparts are of themselves of no more use unto us, than the shuttle is\\nof itself to the weaver, or the pen to the writer, or the whip to the\\ncoachman.\\n\\n\\n\\n\\nTHE ELEVENTH BOOK\\n\\nI. The natural properties, and privileges of a reasonable soul are: That\\nshe seeth herself; that she can order, and compose herself: that\\nshe makes herself as she will herself: that she reaps her own fruits\\nwhatsoever, whereas plants, trees, unreasonable creatures, what fruit\\nsoever (be it either fruit properly, or analogically only) they bear,\\nthey bear them unto others, and not to themselves. Again; whensoever,\\nand wheresoever, sooner or later, her life doth end, she hath her own\\nend nevertheless. For it is not with her, as with dancers and players,\\nwho if they be interrupted in any part of their action, the whole action\\nmust needs be imperfect: but she in what part of time or action soever\\nshe be surprised, can make that which she hath in her hand whatsoever it\\nbe, complete and full, so that she may depart with that comfort, \\'I have\\nlived; neither want I anything of that which properly did belong unto\\nme.\\' Again, she compasseth the whole world, and penetrateth into the\\nvanity, and mere outside (wanting substance and solidity) of it, and\\nstretcheth herself unto the infiniteness of eternity; and the revolution\\nor restoration of all things after a certain period of time, to the same\\nstate and place as before, she fetcheth about, and doth comprehend in\\nherself; and considers withal, and sees clearly this, that neither they\\nthat shall follow us, shall see any new thing, that we have not seen,\\nnor they that went before, anything more than we: but that he that is\\nonce come to forty (if he have any wit at all) can in a manner (for\\nthat they are all of one kind) see all things, both past and future. As\\nproper is it, and natural to the soul of man to love her neighbour, to\\nbe true and modest; and to regard nothing so much as herself: which is\\nalso the property of the law: whereby by the way it appears, that sound\\nreason and justice comes all to one, and therefore that justice is the\\nchief thing, that reasonable creatures ought to propose unto themselves\\nas their end.\\n\\nII. A pleasant song or dance; the Pancratiast\\'s exercise, sports that\\nthou art wont to be much taken with, thou shalt easily contemn; if\\nthe harmonious voice thou shalt divide into so many particular sounds\\nwhereof it doth consist, and of every one in particular shall ask\\nthyself; whether this or that sound is it, that doth so conquer thee.\\nFor thou wilt be ashamed of it. And so for shame, if accordingly thou\\nshalt consider it, every particular motion and posture by itself: and\\nso for the wrestler\\'s exercise too. Generally then, whatsoever it be,\\nbesides virtue, and those things that proceed from virtue that thou art\\nsubject to be much affected with, remember presently thus to divide\\nit, and by this kind of division, in each particular to attain unto the\\ncontempt of the whole. This thou must transfer and apply to thy whole\\nlife also.\\n\\nIII. That soul which is ever ready, even now presently (if need be) from\\nthe body, whether by way of extinction, or dispersion, or continuation\\nin another place and estate to be separated, how blessed and happy is\\nit! But this readiness of it, it must proceed, not from an obstinate and\\nperemptory resolution of the mind, violently and passionately set upon\\nOpposition, as Christians are wont; but from a peculiar judgment; with\\ndiscretion and gravity, so that others may be persuaded also and drawn\\nto the like example, but without any noise and passionate exclamations.\\n\\nIV. Have I done anything charitably? then am I benefited by it. See\\nthat this upon all occasions may present itself unto thy mind, and never\\ncease to think of it. What is thy profession? to be good. And how should\\nthis be well brought to pass, but by certain theorems and doctrines;\\nsome Concerning the nature of the universe, and some Concerning the\\nproper and particular constitution of man?\\n\\nV. Tragedies were at first brought in and instituted, to put men in mind\\nof worldly chances and casualties: that these things in the ordinary\\ncourse of nature did so happen: that men that were much pleased and\\ndelighted by such accidents upon this stage, would not by the same\\nthings in a greater stage be grieved and afflicted: for here you see\\nwhat is the end of all such things; and that even they that cry out\\nso mournfully to Cithaeron, must bear them for all their cries and\\nexclamations, as well as others. And in very truth many good things are\\nspoken by these poets; as that (for example) is an excellent passage:\\n\\'But if so be that I and my two children be neglected by the Gods, they\\nhave some reason even for that,\\' &c. And again, \\'It will but little\\navail thee to storm and rage against the things themselves,\\' &c. Again,\\n\\'To reap one\\'s life, as a ripe ear of corn;\\' and whatsoever else is\\nto be found in them, that is of the same kind. After the tragedy, the\\nancient comedy was brought in, which had the liberty to inveigh against\\npersonal vices; being therefore through this her freedom and liberty\\nof speech of very good use and effect, to restrain men from pride\\nand arrogancy. To which end it was, that Diogenes took also the same\\nliberty. After these, what were either the Middle, or New Comedy\\nadmitted for, but merely, (Or for the most part at least) for the\\ndelight and pleasure of curious and excellent imitation? \\'It will steal\\naway; look to it,\\' &c. Why, no man denies, but that these also have some\\ngood things whereof that may be one: but the whole drift and foundation\\nof that kind of dramatical poetry, what is it else, but as we have said?\\n\\nVI. How clearly doth it appear unto thee, that no other course of thy\\nlife could fit a true philosopher\\'s practice better, than this very\\ncourse, that thou art now already in?\\n\\nVII. A branch cut off from the continuity of that which was next unto\\nit, must needs be cut off from the whole tree: so a man that is divided\\nfrom another man, is divided from the whole society. A branch is cut off\\nby another, but he that hates and is averse, cuts himself off from his\\nneighbour, and knows not that at the same time he divides himself from\\nthe whole body, or corporation. But herein is the gift and mercy of God,\\nthe Author of this society, in that, once cut off we may grow together\\nand become part of the whole again. But if this happen often the misery\\nis that the further a man is run in this division, the harder he is to\\nbe reunited and restored again: and however the branch which, once cut\\nof afterwards was graffed in, gardeners can tell you is not like that\\nwhich sprouted together at first, and still continued in the unity of\\nthe body.\\n\\nVIII. To grow together like fellow branches in matter of good\\ncorrespondence and affection; but not in matter of opinions. They that\\nshall oppose thee in thy right courses, as it is not in their power to\\ndivert thee from thy good action, so neither let it be to divert thee\\nfrom thy good affection towards them. But be it thy care to keep thyself\\nconstant in both; both in a right judgment and action, and in true\\nmeekness towards them, that either shall do their endeavour to hinder\\nthee, or at least will be displeased with thee for what thou hast done.\\nFor to fail in either (either in the one to give over for fear, or in\\nthe other to forsake thy natural affection towards him, who by nature is\\nboth thy friend and thy kinsman) is equally base, and much savouring of\\nthe disposition of a cowardly fugitive soldier.\\n\\nIX. It is not possible that any nature should be inferior unto art,\\nsince that all arts imitate nature. If this be so; that the most perfect\\nand general nature of all natures should in her operation come short of\\nthe skill of arts, is most improbable. Now common is it to all arts, to\\nmake that which is worse for the better\\'s sake. Much more then doth the\\ncommon nature do the same. Hence is the first ground of justice. From\\njustice all other virtues have their existence. For justice cannot be\\npreserved, if either we settle our minds and affections upon worldly\\nthings; or be apt to be deceived, or rash, and inconstant.\\n\\nX. The things themselves (which either to get or to avoid thou art put\\nto so much trouble) come not unto thee themselves; but thou in a manner\\ngoest unto them. Let then thine own judgment and opinion concerning\\nthose things be at rest; and as for the things themselves, they stand\\nstill and quiet, without any noise or stir at all; and so shall all\\npursuing and flying cease.\\n\\nXI. Then is the soul as Empedocles doth liken it, like unto a sphere or\\nglobe, when she is all of one form and figure: when she neither greedily\\nstretcheth out herself unto anything, nor basely contracts herself, or\\nlies flat and dejected; but shineth all with light, whereby she does see\\nand behold the true nature, both that of the universe, and her own in\\nparticular.\\n\\nXII. Will any contemn me? let him look to that, upon what grounds he\\ndoes it: my care shall be that I may never be found either doing or\\nspeaking anything that doth truly deserve contempt. Will any hate me?\\nlet him look to that. I for my part will be kind and loving unto all,\\nand even unto him that hates me, whom-soever he be, will I be ready to\\nshow his error, not by way of exprobation or ostentation of my patience,\\nbut ingenuously and meekly: such as was that famous Phocion, if so be\\nthat he did not dissemble. For it is inwardly that these things must be:\\nthat the Gods who look inwardly, and not upon the outward appearance,\\nmay behold a man truly free from all indignation and grief. For what\\nhurt can it be unto thee whatsoever any man else doth, as long as thou\\nmayest do that which is proper and suitable to thine own nature? Wilt\\nnot thou (a man wholly appointed to be both what, and as the common good\\nshall require) accept of that which is now seasonable to the nature\\nof the universe?\\n\\nXIII. They contemn one another, and yet they seek to please one another:\\nand whilest they seek to surpass one another in worldly pomp and\\ngreatness, they most debase and prostitute themselves in their better\\npart one to another.\\n\\nXIV. How rotten and insincere is he, that saith, I am resolved to carry\\nmyself hereafter towards you with all ingenuity and simplicity. O man,\\nwhat doest thou mean! what needs this profession of thine? the thing\\nitself will show it. It ought to be written upon thy forehead. No sooner\\nthy voice is heard, than thy countenance must be able to show what is in\\nthy mind: even as he that is loved knows presently by the looks of his\\nsweetheart what is in her mind. Such must he be for all the world, that\\nis truly simple and good, as he whose arm-holes are offensive, that\\nwhosoever stands by, as soon as ever he comes near him, may as it were\\nsmell him whether he will or no. But the affectation of simplicity\\nis nowise laudable. There is nothing more shameful than perfidious\\nfriendship. Above all things, that must be avoided. However true\\ngoodness, simplicity, and kindness cannot so be hidden, but that as\\nwe have already said in the very eyes and countenance they will show\\nthemselves.\\n\\nXV. To live happily is an inward power of the soul, when she is affected\\nwith indifferency, towards those things that are by their nature\\nindifferent. To be thus affected she must consider all worldly objects\\nboth divided and whole: remembering withal that no object can of itself\\nbeget any opinion in us, neither can come to us, but stands without\\nstill and quiet; but that we ourselves beget, and as it were print in\\nourselves opinions concerning them. Now it is in our power, not to print\\nthem; and if they creep in and lurk in some corner, it is in our\\npower to wipe them off. Remembering moreover, that this care and\\ncircumspection of thine, is to continue but for a while, and then thy\\nlife will be at an end. And what should hinder, but that thou mayest do\\nwell with all these things? For if they be according to nature, rejoice\\nin them, and let them be pleasing and acceptable unto thee. But if\\nthey be against nature, seek thou that which is according to thine own\\nnature, and whether it be for thy credit or no, use all possible speed\\nfor the attainment of it: for no man ought to be blamed, for seeking his\\nown good and happiness.\\n\\nXVI. Of everything thou must consider from whence it came, of what\\nthings it doth consist, and into what it will be changed: what will be\\nthe nature of it, or what it will be like unto when it is changed; and\\nthat it can suffer no hurt by this change. And as for other men\\'s either\\nfoolishness or wickedness, that it may not trouble and grieve thee;\\nfirst generally thus; What reference have I unto these? and that we are\\nall born for one another\\'s good: then more particularly after another\\nconsideration; as a ram is first in a flock of sheep, and a bull in a\\nherd of cattle, so am I born to rule over them. Begin yet higher, even\\nfrom this: if atoms be not the beginning of all things, than which to\\nbelieve nothing can be more absurd, then must we needs grant that there\\nis a nature, that doth govern the universe. If such a nature, then are\\nall worse things made for the better\\'s sake; and all better for one\\nanother\\'s sake. Secondly, what manner of men they be, at board, and upon\\ntheir beds, and so forth. But above all things, how they are forced by\\ntheir opinions that they hold, to do what they do; and even those things\\nthat they do, with what pride and self-conceit they do them. Thirdly,\\nthat if they do these things rightly, thou hast no reason to be grieved.\\nBut if not rightly, it must needs be that they do them against their\\nwills, and through mere ignorance. For as, according to Plato\\'s opinion,\\nno soul doth willingly err, so by consequent neither doth it anything\\notherwise than it ought, but against her will. Therefore are they\\ngrieved, whensoever they hear themselves charged, either of injustice,\\nor unconscionableness, or covetousness, or in general, of any injurious\\nkind of dealing towards their neighbours. Fourthly, that thou thyself\\ndoest transgress in many things, and art even such another as they are.\\nAnd though perchance thou doest forbear the very act of some sins, yet\\nhast thou in thyself an habitual disposition to them, but that either\\nthrough fear, or vainglory, or some such other ambitious foolish\\nrespect, thou art restrained. Fifthly, that whether they have sinned or\\nno, thou doest not understand perfectly. For many things are done by\\nway of discreet policy; and generally a man must know many things\\nfirst, before he be able truly and judiciously to judge of another\\nman\\'s action. Sixthly, that whensoever thou doest take on grievously, or\\nmakest great woe, little doest thou remember then that a man\\'s life is\\nbut for a moment of time, and that within a while we shall all be in our\\ngraves. Seventhly, that it is not the sins and transgressions themselves\\nthat trouble us properly; for they have their existence in their\\nminds and understandings only, that commit them; but our own opinions\\nconcerning those sins. Remove then, and be content to part with that\\nconceit of thine, that it is a grievous thing, and thou hast removed\\nthine anger. But how should I remove it? How? reasoning with thyself\\nthat it is not shameful. For if that which is shameful, be not the only\\ntrue evil that is, thou also wilt be driven whilest thou doest follow\\nthe common instinct of nature, to avoid that which is evil, to commit\\nmany unjust things, and to become a thief, and anything, that will\\nmake to the attainment of thy intended worldly ends. Eighthly, how many\\nthings may and do oftentimes follow upon such fits of anger and grief;\\nfar more grievous in themselves, than those very things which we are so\\ngrieved or angry for. Ninthly, that meekness is a thing unconquerable,\\nif it be true and natural, and not affected or hypocritical. For how\\nshall even the most fierce and malicious that thou shalt conceive, be\\nable to hold on against thee, if thou shalt still continue meek and\\nloving unto him; and that even at that time, when he is about to do\\nthee wrong, thou shalt be well disposed, and in good temper, with all\\nmeekness to teach him, and to instruct him better? As for example; My\\nson, we were not born for this, to hurt and annoy one another; it will\\nbe thy hurt not mine, my son: and so to show him forcibly and fully,\\nthat it is so in very deed: and that neither bees do it one to another,\\nnor any other creatures that are naturally sociable. But this thou must\\ndo, not scoffingly, not by way of exprobation, but tenderly without\\nany harshness of words. Neither must thou do it by way of exercise, or\\nostentation, that they that are by and hear thee, may admire thee: but\\nso always that nobody be privy to it, but himself alone: yea, though\\nthere be more present at the same time. These nine particular heads, as\\nso many gifts from the Muses, see that thou remember well: and begin one\\nday, whilest thou art yet alive, to be a man indeed. But on the other\\nside thou must take heed, as much to flatter them, as to be angry with\\nthem: for both are equally uncharitable, and equally hurtful. And in thy\\npassions, take it presently to thy consideration, that to be angry is\\nnot the part of a man, but that to be meek and gentle, as it savours of\\nmore humanity, so of more manhood. That in this, there is strength\\nand nerves, or vigour and fortitude: whereof anger and indignation is\\naltogether void. For the nearer everything is unto unpassionateness,\\nthe nearer it is unto power. And as grief doth proceed from weakness,\\nso doth anger. For both, both he that is angry and that grieveth, have\\nreceived a wound, and cowardly have as it were yielded themselves unto\\ntheir affections. If thou wilt have a tenth also, receive this tenth\\ngift from Hercules the guide and leader of the Muses: that is a mad\\nman\\'s part, to look that there should be no wicked men in the world,\\nbecause it is impossible. Now for a man to brook well enough, that there\\nshould be wicked men in the world, but not to endure that any\\nshould transgress against himself, is against all equity, and indeed\\ntyrannical.\\n\\nXVII. Four several dispositions or inclinations there be of the mind and\\nunderstanding, which to be aware of, thou must carefully observe: and\\nwhensoever thou doest discover them, thou must rectify them, saying to\\nthyself concerning every one of them, This imagination is not necessary;\\nthis is uncharitable: this thou shalt speak as another man\\'s slave, or\\ninstrument; than which nothing can be more senseless and absurd: for\\nthe fourth, thou shalt sharply check and upbraid thyself; for that\\nthou doest suffer that more divine part in thee, to become subject and\\nobnoxious to that more ignoble part of thy body, and the gross lusts\\nand concupiscences thereof.\\n\\nXVIII. What portion soever, either of air or fire there be in thee,\\nalthough by nature it tend upwards, submitting nevertheless to the\\nordinance of the universe, it abides here below in this mixed body. So\\nwhatsoever is in thee, either earthy, or humid, although by nature it\\ntend downwards, yet is it against its nature both raised upwards, and\\nstanding, or consistent. So obedient are even the elements themselves to\\nthe universe, abiding patiently wheresoever (though against their\\nnature) they are placed, until the sound as it were of their retreat,\\nand separation. Is it not a grievous thing then, that thy reasonable\\npart only should be disobedient, and should not endure to keep its\\nplace: yea though it be nothing enjoined that is contrary unto it, but\\nthat only which is according to its nature? For we cannot say of it when\\nit is disobedient, as we say of the fire, or air, that it tends upwards\\ntowards its proper element, for then goes it the quite contrary way. For\\nthe motion of the mind to any injustice, or incontinency, or to sorrow,\\nor to fear, is nothing else but a separation from nature. Also when the\\nmind is grieved for anything that is happened by the divine providence,\\nthen doth it likewise forsake its own place. For it was ordained unto\\nholiness and godliness, which specially consist in an humble submission\\nto God and His providence in all things; as well as unto justice: these\\nalso being part of those duties, which as naturally sociable, we are\\nbound unto; and without which we cannot happily converse one with\\nanother: yea and the very ground and fountain indeed of all just\\nactions.\\n\\nXIX. He that hath not one and the self-same general end always as long\\nas he liveth, cannot possibly be one and the self-same man always. But\\nthis will not suffice except thou add also what ought to be this general\\nend. For as the general conceit and apprehension of all those things\\nwhich upon no certain ground are by the greater part of men deemed good,\\ncannot be uniform and agreeable, but that only which is limited and\\nrestrained by some certain proprieties and conditions, as of community:\\nthat nothing be conceived good, which is not commonly and publicly\\ngood: so must the end also that we propose unto ourselves, be common\\nand sociable. For he that doth direct all his own private motions and\\npurposes to that end, all his actions will be agreeable and uniform; and\\nby that means will be still the same man.\\n\\nXX. Remember the fable of the country mouse and the city mouse, and the\\ngreat fright and terror that this was put into.\\n\\nXXI. Socrates was wont to call the common conceits and opinions of men,\\nthe common bugbears of the world: the proper terror of silly children.\\n\\nXXII. The Lacedaemonians at their public spectacles were wont to appoint\\nseats and forms for their strangers in the shadow, they themselves were\\ncontent to sit anywhere.\\n\\nXXIII. What Socrates answered unto Perdiccas, why he did not come unto\\nhim, Lest of all deaths I should die the worst kind of death, said he:\\nthat is, not able to requite the good that hath been done unto me.\\n\\nXXIV. In the ancient mystical letters of the Ephesians, there was an\\nitem, that a man should always have in his mind some one or other of the\\nancient worthies.\\n\\nXXV. The Pythagoreans were wont betimes in the morning the first thing\\nthey did, to look up unto the heavens, to put themselves in mind of them\\nwho constantly and invariably did perform their task: as also to put\\nthemselves in mind of orderliness, or good order, and of purity, and of\\nnaked simplicity. For no star or planet hath any cover before it.\\n\\nXXVI. How Socrates looked, when he was fain to gird himself with a\\nskin, Xanthippe his wife having taken away his clothes, and carried them\\nabroad with her, and what he said to his fellows and friends, who were\\nashamed; and out of respect to him, did retire themselves when they saw\\nhim thus decked.\\n\\nXXVII. In matter of writing or reading thou must needs be taught before\\nthou can do either: much more in matter of life. \\'For thou art born a\\nmere slave, to thy senses and brutish affections;\\' destitute without\\nteaching of all true knowledge and sound reason.\\n\\nXXVIII. \\'My heart smiled within me.\\' \\'They will accuse even virtue\\nherself; with heinous and opprobrious words.\\'\\n\\nXXIX. As they that long after figs in winter when they cannot be had; so\\nare they that long after children, before they be granted them.\\n\\nXXX. \\'As often as a father kisseth his child, he should say secretly\\nwith himself\\' (said Epictetus,) \\'tomorrow perchance shall he die.\\' But\\nthese words be ominous. No words ominous (said he) that signify anything\\nthat is natural: in very truth and deed not more ominous than this, \\'to\\ncut down grapes when they are ripe.\\' Green grapes, ripe grapes, dried\\ngrapes, or raisins: so many changes and mutations of one thing, not into\\nthat which was not absolutely, but rather so many several changes and\\nmutations, not into that which hath no being at all, but into that which\\nis not yet in being.\\n\\nXXXI. \\'Of the free will there is no thief or robber:\\' out of Epictetus;\\nWhose is this also: that we should find a certain art and method of\\nassenting; and that we should always observe with great care and heed\\nthe inclinations of our minds, that they may always be with their due\\nrestraint and reservation, always charitable, and according to the\\ntrue worth of every present object. And as for earnest longing, that we\\nshould altogether avoid it: and to use averseness in those things only,\\nthat wholly depend of our own wills. It is not about ordinary petty\\nmatters, believe it, that all our strife and contention is, but whether,\\nwith the vulgar, we should be mad, or by the help of philosophy wise and\\nsober, said he. XXXII. Socrates said, \\'What will you have? the souls of\\nreasonable, or unreasonable creatures? Of reasonable. But what? Of those\\nwhose reason is sound and perfect? or of those whose reason is vitiated\\nand corrupted? Of those whose reason is sound and perfect. Why then\\nlabour ye not for such? Because we have them already. What then do ye so\\nstrive and contend between you?\\'\\n\\n\\n\\n\\nTHE TWELFTH BOOK\\n\\nI. Whatsoever thou doest hereafter aspire unto, thou mayest even now\\nenjoy and possess, if thou doest not envy thyself thine own happiness.\\nAnd that will be, if thou shalt forget all that is past, and for the\\nfuture, refer thyself wholly to the Divine Providence, and shalt bend\\nand apply all thy present thoughts and intentions to holiness and\\nrighteousness. To holiness, in accepting willingly whatsoever is sent\\nby the Divine Providence, as being that which the nature of the universe\\nhath appointed unto thee, which also hath appointed thee for that,\\nwhatsoever it be. To righteousness, in speaking the truth freely, and\\nwithout ambiguity; and in doing all things justly and discreetly. Now in\\nthis good course, let not other men\\'s either wickedness, or opinion, or\\nvoice hinder thee: no, nor the sense of this thy pampered mass of flesh:\\nfor let that which suffers, look to itself. If therefore whensoever the\\ntime of thy departing shall come, thou shalt readily leave all things,\\nand shalt respect thy mind only, and that divine part of thine, and this\\nshall be thine only fear, not that some time or other thou shalt cease\\nto live, but thou shalt never begin to live according to nature: then\\nshalt thou be a man indeed, worthy of that world, from which thou hadst\\nthy beginning; then shalt thou cease to be a stranger in thy country,\\nand to wonder at those things that happen daily, as things strange and\\nunexpected, and anxiously to depend of divers things that are not in thy\\npower.\\n\\nII. God beholds our minds and understandings, bare and naked from these\\nmaterial vessels, and outsides, and all earthly dross. For with His\\nsimple and pure understanding, He pierceth into our inmost and purest\\nparts, which from His, as it were by a water pipe and channel, first\\nflowed and issued. This if thou also shalt use to do, thou shalt\\nrid thyself of that manifold luggage, wherewith thou art round about\\nencumbered. For he that does regard neither his body, nor his clothing,\\nnor his dwelling, nor any such external furniture, must needs gain unto\\nhimself great rest and ease. Three things there be in all, which thou\\ndoest consist of; thy body, thy life, and thy mind. Of these the two\\nformer, are so far forth thine, as that thou art bound to take care for\\nthem. But the third alone is that which is properly thine. If then thou\\nshalt separate from thyself, that is from thy mind, whatsoever other men\\neither do or say, or whatsoever thou thyself hast heretofore either\\ndone or said; and all troublesome thoughts concerning the future, and\\nwhatsoever, (as either belonging to thy body or life:) is without the\\njurisdiction of thine own will, and whatsoever in the ordinary course\\nof human chances and accidents doth happen unto thee; so that thy\\nmind (keeping herself loose and free from all outward coincidental\\nentanglements; always in a readiness to depart:) shall live by herself,\\nand to herself, doing that which is just, accepting whatsoever doth\\nhappen, and speaking the truth always; if, I say, thou shalt separate\\nfrom thy mind, whatsoever by sympathy might adhere unto it, and all time\\nboth past and future, and shalt make thyself in all points and respects,\\nlike unto Empedocles his allegorical sphere, \\'all round and circular,\\'\\n&c., and shalt think of no longer life than that which is now present:\\nthen shalt thou be truly able to pass the remainder of thy days without\\ntroubles and distractions; nobly and generously disposed, and in good\\nfavour and correspondency, with that spirit which is within thee.\\n\\nIII. I have often wondered how it should come to pass, that every man\\nloving himself best, should more regard other men\\'s opinions concerning\\nhimself than his own. For if any God or grave master standing by,\\nshould command any of us to think nothing by himself but what he should\\npresently speak out; no man were able to endure it, though but for one\\nday. Thus do we fear more what our neighbours will think of us, than\\nwhat we ourselves.\\n\\nIV. how come it to pass that the Gods having ordered all other things\\nso well and so lovingly, should be overseen in this one only thing, that\\nwhereas then hath been some very good men that have made many covenants\\nas it were with God and by many holy actions and outward services\\ncontracted a kind of familiarity with Him; that these men when once they\\nare dead, should never be restored to life, but be extinct for ever. But\\nthis thou mayest be sure of, that this (if it be so indeed) would\\nnever have been so ordered by the Gods, had it been fit otherwise. For\\ncertainly it was possible, had it been more just so and had it been\\naccording to nature, the nature of the universe would easily have borne\\nit. But now because it is not so, (if so be that it be not so indeed) be\\ntherefore confident that it was not fit it should be so for thou seest\\nthyself, that now seeking after this matter, how freely thou doest argue\\nand contest with God. But were not the Gods both just and good in the\\nhighest degree, thou durst not thus reason with them. Now if just and\\ngood, it could not be that in the creation of the world, they should\\neither unjustly or unreasonably oversee anything.\\n\\nV. Use thyself even unto those things that thou doest at first despair\\nof. For the left hand we see, which for the most part lieth idle because\\nnot used; yet doth it hold the bridle with more strength than the right,\\nbecause it hath been used unto it.\\n\\nVI. Let these be the objects of thy ordinary meditation: to consider,\\nwhat manner of men both for soul and body we ought to be, whensoever\\ndeath shall surprise us: the shortness of this our mortal life: the\\nimmense vastness of the time that hath been before, and will he after\\nus: the frailty of every worldly material object: all these things to\\nconsider, and behold clearly in themselves, all disguisement of external\\noutside being removed and taken away. Again, to consider the efficient\\ncauses of all things: the proper ends and references of all actions:\\nwhat pain is in itself; what pleasure, what death: what fame or\\nhonour, how every man is the true and proper ground of his own rest and\\ntranquillity, and that no man can truly be hindered by any other: that\\nall is but conceit and opinion. As for the use of thy dogmata, thou must\\ncarry thyself in the practice of them, rather like unto a pancratiastes,\\nor one that at the same time both fights and wrestles with hands and\\nfeet, than a gladiator. For this, if he lose his sword that he fights\\nwith, he is gone: whereas the other hath still his hand free, which he\\nmay easily turn and manage at his will.\\n\\nVII. All worldly things thou must behold and consider, dividing them\\ninto matter, form, and reference, or their proper end.\\n\\nVIII. How happy is man in this his power that hath been granted unto\\nhim: that he needs not do anything but what God shall approve, and\\nthat he may embrace contentedly, whatsoever God doth send unto him?\\n\\nIX. Whatsoever doth happen in the ordinary course and consequence of\\nnatural events, neither the Gods, (for it is not possible, that they\\neither wittingly or unwittingly should do anything amiss) nor men, (for\\nit is through ignorance, and therefore against their wills that they do\\nanything amiss) must be accused. None then must be accused.\\n\\nX. How ridiculous and strange is he, that wonders at anything that\\nhappens in this life in the ordinary course of nature!\\n\\nXI. Either fate, (and that either an absolute necessity, and unavoidable\\ndecree; or a placable and flexible Providence) or all is a mere\\ncasual confusion, void of all order and government. If an absolute and\\nunavoidable necessity, why doest thou resist? If a placable and exorable\\nProvidence, make thyself worthy of the divine help and assistance. If\\nall be a mere confusion without any moderator, or governor, then hast\\nthou reason to congratulate thyself; that in such a general flood of\\nconfusion thou thyself hast obtained a reasonable faculty, whereby thou\\nmayest govern thine own life and actions. But if thou beest carried\\naway with the flood, it must be thy body perchance, or thy life, or some\\nother thing that belongs unto them that is carried away: thy mind and\\nunderstanding cannot. Or should it be so, that the light of a candle\\nindeed is still bright and lightsome until it be put out: and should\\ntruth, and righteousness, and temperance cease to shine in thee whilest\\nthou thyself hast any being?\\n\\nXII. At the conceit and apprehension that such and such a one hath\\nsinned, thus reason with thyself; What do I know whether this be a sin\\nindeed, as it seems to be? But if it be, what do I know but that he\\nhimself hath already condemned himself for it? And that is all one as\\nif a man should scratch and tear his own face, an object of compassion\\nrather than of anger. Again, that he that would not have a vicious man\\nto sin, is like unto him that would not have moisture in the fig, nor\\nchildren to welp nor a horse to neigh, nor anything else that in the\\ncourse of nature is necessary. For what shall he do that hath such an\\nhabit? If thou therefore beest powerful and eloquent, remedy it if thou\\ncanst.\\n\\nXIII. If it be not fitting, do it not. If it be not true, speak it not.\\nEver maintain thine own purpose and resolution free from all compulsion\\nand necessity.\\n\\nXIV. Of everything that presents itself unto thee, to consider what the\\ntrue nature of it is, and to unfold it, as it were, by dividing it into\\nthat which is formal: that which is material: the true use or end of it,\\nand the just time that it is appointed to last.\\n\\nXV. It is high time for thee, to understand that there is somewhat in\\nthee, better and more divine than either thy passions, or thy sensual\\nappetites and affections. What is now the object of my mind, is it fear,\\nor suspicion, or lust, or any such thing? To do nothing rashly without\\nsome certain end; let that be thy first care. The next, to have no other\\nend than the common good. For, alas! yet a little while, and thou art no\\nmore: no more will any, either of those things that now thou seest, or\\nof those men that now are living, be any more. For all things are by\\nnature appointed soon to be changed, turned, and corrupted, that other\\nthings might succeed in their room.\\n\\nXVI. Remember that all is but opinion, and all opinion depends of the\\nmind. Take thine opinion away, and then as a ship that hath stricken\\nin within the arms and mouth of the harbour, a present calm; all things\\nsafe and steady: a bay, not capable of any storms and tempests: as the\\npoet hath it.\\n\\nXVII. No operation whatsoever it he, ceasing for a while, can be truly\\nsaid to suffer any evil, because it is at an end. Neither can he that\\nis the author of that operation; for this very respect, because his\\noperation is at an end, be said to suffer any evil. Likewise then,\\nneither can the whole body of all our actions (which is our life) if in\\ntime it cease, be said to suffer any evil for this very reason, because\\nit is at an end; nor he truly be said to have been ill affected, that\\ndid put a period to this series of actions. Now this time or certain\\nperiod, depends of the determination of nature: sometimes of particular\\nnature, as when a man dieth old; but of nature in general, however; the\\nparts whereof thus changing one after another, the whole world still\\ncontinues fresh and new. Now that is ever best and most seasonable,\\nwhich is for the good of the whole. Thus it appears that death of\\nitself can neither be hurtful to any in particular, because it is not a\\nshameful thing (for neither is it a thing that depends of our own will,\\nnor of itself contrary to the common good) and generally, as it is both\\nexpedient and seasonable to the whole, that in that respect it must\\nneeds be good. It is that also, which is brought unto us by the order\\nand appointment of the Divine Providence; so that he whose will and\\nmind in these things runs along with the Divine ordinance, and by this\\nconcurrence of his will and mind with the Divine Providence, is led\\nand driven along, as it were by God Himself; may truly be termed and\\nesteemed the *OEo~p7poc*, or divinely led and inspired.\\n\\nXVIII. These three things thou must have always in a readiness: first\\nconcerning thine own actions, whether thou doest nothing either idly,\\nor otherwise, than justice and equity do require: and concerning those\\nthings that happen unto thee externally, that either they happen unto\\nthee by chance, or by providence; of which two to accuse either, is\\nequally against reason. Secondly, what like unto our bodies are\\nwhilest yet rude and imperfect, until they be animated: and from their\\nanimation, until their expiration: of what things they are compounded,\\nand into what things they shall be dissolved. Thirdly, how vain all\\nthings will appear unto thee when, from on high as it were, looking\\ndown thou shalt contemplate all things upon earth, and the wonderful\\nmutability, that they are subject unto: considering withal, the infinite\\nboth greatness and variety of things aerial and things celestial that\\nare round about it. And that as often as thou shalt behold them, thou\\nshalt still see the same: as the same things, so the same shortness of\\ncontinuance of all those things. And, behold, these be the things that\\nwe are so proud and puffed up for.\\n\\nXIX. Cast away from thee opinion, and thou art safe. And what is it that\\nhinders thee from casting of it away? When thou art grieved at anything,\\nhast thou forgotten that all things happen according to the nature\\nof the universe; and that him only it concerns, who is in fault; and\\nmoreover, that what is now done, is that which from ever hath been done\\nin the world, and will ever be done, and is now done everywhere: how\\nnearly all men are allied one to another by a kindred not of blood, nor\\nof seed, but of the same mind. Thou hast also forgotten that every man\\'s\\nmind partakes of the Deity, and issueth from thence; and that no man can\\nproperly call anything his own, no not his son, nor his body, nor his\\nlife; for that they all proceed from that One who is the giver of all\\nthings: that all things are but opinion; that no man lives properly, but\\nthat very instant of time which is now present. And therefore that no\\nman whensoever he dieth can properly be said to lose any more, than an\\ninstant of time.\\n\\nXX. Let thy thoughts ever run upon them, who once for some one thing or\\nother, were moved with extraordinary indignation; who were once in\\nthe highest pitch of either honour, or calamity; or mutual hatred and\\nenmity; or of any other fortune or condition whatsoever. Then consider\\nwhat\\'s now become of all those things. All is turned to smoke; all to\\nashes, and a mere fable; and perchance not so much as a fable. As also\\nwhatsoever is of this nature, as Fabius Catulinus in the field; Lucius\\nLupus, and Stertinius, at Baiae Tiberius at Caprem: and Velius Rufus,\\nand all such examples of vehement prosecution in worldly matters; let\\nthese also run in thy mind at the same time; and how vile every object\\nof such earnest and vehement prosecution is; and how much more agreeable\\nto true philosophy it is, for a man to carry himself in every matter\\nthat offers itself; justly, and moderately, as one that followeth the\\nGods with all simplicity. For, for a man to be proud and high conceited,\\nthat he is not proud and high conceited, is of all kind of pride and\\npresumption, the most intolerable.\\n\\nXXI. To them that ask thee, Where hast thou seen the Gods, or how\\nknowest thou certainly that there be Gods, that thou art so devout in\\ntheir worship? I answer first of all, that even to the very eye, they\\nare in some manner visible and apparent. Secondly, neither have I ever\\nseen mine own soul, and yet I respect and honour it. So then for the\\nGods, by the daily experience that I have of their power and providence\\ntowards myself and others, I know certainly that they are, and therefore\\nworship them.\\n\\nXXII. Herein doth consist happiness of life, for a man to know\\nthoroughly the true nature of everything; what is the matter, and what\\nis the form of it: with all his heart and soul, ever to do that which is\\njust, and to speak the truth. What then remaineth but to enjoy thy life\\nin a course and coherence of good actions, one upon another immediately\\nsucceeding, and never interrupted, though for never so little a while?\\n\\nXXIII. There is but one light of the sun, though it be intercepted by\\nwalls and mountains, and other thousand objects. There is but one common\\nsubstance of the whole world, though it be concluded and restrained into\\nseveral different bodies, in number infinite. There is but one common\\nsoul, though divided into innumerable particular essences and natures.\\nSo is there but one common intellectual soul, though it seem to be\\ndivided. And as for all other parts of those generals which we have\\nmentioned, as either sensitive souls or subjects, these of themselves\\n(as naturally irrational) have no common mutual reference one unto\\nanother, though many of them contain a mind, or reasonable faculty in\\nthem, whereby they are ruled and governed. But of every reasonable mind,\\nthis the particular nature, that it hath reference to whatsoever is\\nof her own kind, and desireth to be united: neither can this common\\naffection, or mutual unity and correspondency, be here intercepted or\\ndivided, or confined to particulars as those other common things are.\\n\\nXXIV. What doest thou desire? To live long. What? To enjoy the\\noperations of a sensitive soul; or of the appetitive faculty? or wouldst\\nthou grow, and then decrease again? Wouldst thou long be able to talk,\\nto think and reason with thyself? Which of all these seems unto thee a\\nworthy object of thy desire? Now if of all these thou doest find that\\nthey be but little worth in themselves, proceed on unto the last, which\\nis, in all things to follow God and reason. But for a man to grieve that\\nby death he shall be deprived of any of these things, is both against\\nGod and reason.\\n\\nXXV. What a small portion of vast and infinite eternity it is, that is\\nallowed unto every one of us, and how soon it vanisheth into the general\\nage of the world: of the common substance, and of the common soul also\\nwhat a small portion is allotted unto us: and in what a little clod of\\nthe whole earth (as it were) it is that thou doest crawl. After thou\\nshalt rightly have considered these things with thyself; fancy not\\nanything else in the world any more to be of any weight and moment\\nbut this, to do that only which thine own nature doth require; and to\\nconform thyself to that which the common nature doth afford.\\n\\nXXVI. What is the present estate of my understanding? For herein lieth\\nall indeed. As for all other things, they are without the compass of\\nmine own will: and if without the compass of my will, then are they as\\ndead things unto me, and as it were mere smoke.\\n\\nXXVII. To stir up a man to the contempt of death this among other\\nthings, is of good power and efficacy, that even they who esteemed\\npleasure to be happiness, and pain misery, did nevertheless many of them\\ncontemn death as much as any. And can death be terrible to him, to\\nwhom that only seems good, which in the ordinary course of nature is\\nseasonable? to him, to whom, whether his actions be many or few, so they\\nbe all good, is all one; and who whether he behold the things of the\\nworld being always the same either for many years, or for few years\\nonly, is altogether indifferent? O man! as a citizen thou hast lived,\\nand conversed in this great city the world. Whether just for so many\\nyears, or no, what is it unto thee? Thou hast lived (thou mayest be\\nsure) as long as the laws and orders of the city required; which may be\\nthe common comfort of all. Why then should it be grievous unto thee, if\\n(not a tyrant, nor an unjust judge, but) the same nature that brought\\nthee in, doth now send thee out of the world? As if the praetor should\\nfairly dismiss him from the stage, whom he had taken in to act a while.\\nOh, but the play is not yet at an end, there are but three acts yet\\nacted of it? Thou hast well said: for in matter of life, three acts is\\nthe whole play. Now to set a certain time to every man\\'s acting, belongs\\nunto him only, who as first he was of thy composition, so is now the\\ncause of thy dissolution. As for thyself; thou hast to do with\\nneither. Go thy ways then well pleased and contented: for so is He that\\ndismisseth thee.\\n\\n\\n\\n\\nAPPENDIX\\n\\nCORRESPONDENCE OF M. AURELIUS ANTONINUS AND M. CORNELIUS FRONTO\\'\\n\\nM. CORNELIUS FRONTO(1) was a Roman by descent, but of provincial birth,\\nbeing native to Cirta, in Numidia. Thence he migrated to Rome in the\\nreign of Hadrian, and became the most famous rhetorician of his day.\\nAs a pleader and orator he was counted by his contemporaries hardly\\ninferior to Tully himself, and as a teacher his aid was sought for the\\nnoblest youths of Rome. To him was entrusted the education of M.\\n\\nAurelius and of his colleague L. Verus in their boyhood; and he was\\nrewarded for his efforts by a seat in the Senate and the consular rank\\n(A.D. 143). By the exercise of his profession he became wealthy; and if\\nhe speaks of his means as not great,(2) he must be comparing his wealth\\nwith the grandees of Rome, not with the ordinary citizen.\\n\\nBefore the present century nothing was known of the works of Fronto,\\nexcept a grammatical treatise; but in 1815 Cardinal Mai published a\\nnumber of letters and some short essays of Fronto, which he had\\ndiscovered in a palimpsest at Milan. Other parts of the same MS. he\\nfound later in the Vatican, the whole being collected\\n\\n     1 References are made to the edition of Naber, Leipzig\\n     (Trübner), 1867.\\n\\n     2 Ad Verum imp. Aur. Caes., ii, 7. and edited in the year\\n     1823.\\n\\nWe now possess parts of his correspondence with Antoninus Pius, with M.\\nAurelius, with L. Verus, and with certain of his friends, and also\\nseveral rhetorical and historical fragments. Though none of the more\\nambitious works of Fronto have survived, there are enough to give proof\\nof his powers. Never was a great literary reputation less deserved. It\\nwould be hard to conceive of anything more vapid than the style and\\nconception of these letters; clearly the man was a pedant without\\nimagination or taste. Such indeed was the age he lived in, and it is no\\nmarvel that he was like to his age. But there must have been more in him\\nthan mere pedantry; there was indeed a heart in the man, which Marcus\\nfound, and he found also a tongue which could speak the truth. Fronto\\'s\\nletters are by no means free from exaggeration and laudation, but they\\ndo not show that loathsome flattery which filled the Roman court. He\\nreally admires what he praises, and his way of saying so is not unlike\\nwhat often passes for criticism at the present day. He is not afraid to\\nreprove what he thinks amiss; and the astonishment of Marcus at this\\nwill prove, if proof were needed, that he was not used to plain dealing.\\n\"How happy I am,\" he writes, \"that my friend Marcus Cornelius, so\\ndistinguished as an orator and so noble as a man, thinks me worth\\npraising and blaming.\"(1) In another place he deems himself blest\\nbecause Pronto had taught him to speak the truth(2) although the context\\nshows him to be speaking of expression, it is still a point in favour of\\nPronto. A sincere heart is better than literary taste; and if Fronto had\\nnot done his duty by the young prince, it is not easy to understand the\\nfriendship which remained between them up to the last.\\n\\n     1 Ad M. Caes iii. 17\\n\\n     2 Ad M. Caes iii. 12\\n\\nAn example of the frankness which was between them is given by a\\ndifference they had over the case of Herodes Atticus. Herodes was a\\nGreek rhetorician who had a school at Rome, and Marcus Aurelius was\\namong his pupils. Both Marcus and the Emperor Antoninus had a high\\nopinion of Herodes; and all we know goes to prove he was a man of high\\ncharacter and princely generosity. When quite young he was made\\nadministrator of the free cities in Asia, nor is it surprising to find\\nthat he made bitter enemies there; indeed, a just ruler was sure to make\\nenemies. The end of it was that an Athenian deputation, headed by the\\norators Theodotus and Demostratus, made serious accusations against his\\nhonour. There is no need to discuss the merits of the case here; suffice\\nit to say, Herodes succeeded in defending himself to the satisfaction of\\nthe emperor. Pronto appears to have taken the delegates\\' part, and to\\nhave accepted a brief for the prosecution, urged to some extent by\\npersonal considerations; and in this cause Marcus Aurelius writes to\\nFronto as follows \\'AURELIUS CAESAR to his friend FRONTO, greeting.(1) \\'I\\nknow you have often told me you were anxious to find how you might best\\nplease me. Now is the time; now you can increase my love towards you, if\\nit can be increased. A trial is at hand, in which people seem likely not\\nonly to hear your speech with pleasure, but to see your indignation with\\nimpatience. I see no one who dares give you a hint in the matter; for\\nthose who are less friendly, prefer to see you act with some\\ninconsistency; and those who are more friendly, fear to seem too\\nfriendly to your opponent if they should dissuade you from your\\naccusation; then again, in case you have prepared something neat for the\\noccasion, they cannot endure to rob you of your harangue by silencing\\nyou. Therefore, whether you think me a rash counsellor, or a bold boy,\\nor too kind to your opponent, not because I think it better, I will\\noffer my counsel with some caution. But why have I said, offer my\\ncounsel? No, I demand it from you; I demand it boldly, and if I succeed,\\nI promise to remain under your obligation. What? you will say if I am\\nattackt, shall I not pay tit for tat? Ah, but you will get greater\\nglory, if even when attackt you answer nothing. Indeed, if he begins it,\\nanswer as you will and you will have fair excuse; but I have demanded of\\nhim that he shall not begin, and I think I have succeeded. I love each\\nof you according to your merits and I know that lie was educated in the\\nhouse of P. Calvisius, my grandfather, and that I was educated by you;\\ntherefore I am full of anxiety that this most disagreeable business\\nshall be managed as honourably as possible. I trust you may approve my\\nadvice, for my intention you will approve. At least I prefer to write\\nunwisely rather than to be silent unkindly.\\'\\n\\n     1 Ad M. Caes ii., 2.\\n\\nFronto replied, thanking the prince for his advice, and promising that\\nhe will confine himself to the facts of the case. But he points out that\\nthe charges brought against Herodes were such, that they can hardly be\\nmade agreeable; amongst them being spoliation, violence, and murder.\\nHowever, he is willing even to let some of these drop if it be the\\nprince\\'s pleasure. To this Marcus returned the following answer:--(1)\\n\\'This one thing, my dearest Fronto, is enough to make me truly grateful\\nto you, that so far from rejecting my counsel, you have even approved\\nit. As to the question you raise in your kind letter, my opinion is\\nthis: all that concerns the case which you are supporting must be\\nclearly brought forward; what concerns your own feelings, though you may\\nhave had just provocation, should be left unsaid.\\' The story does credit\\nto both. Fronto shows no loss of temper at the interference, nor shrinks\\nfrom stating his case with frankness; and Marcus, with forbearance\\nremarkable in a prince, does not command that his friend be left\\nunmolested, but merely stipulates for a fair trial on the merits of the\\ncase.\\n\\nAnother example may be given from a letter of Fronto\\'s (2) Here is\\nsomething else quarrelsome and querulous. I have sometimes found fault\\nwith you in your absence somewhat seriously in the company of a few\\nof my most intimate friends: at times, for example, when you mixt in\\nsociety with a more solemn look than was fitting, or would read books\\nin the theatre or in a banquet; nor did I absent myself from theatre\\nor banquet when you did (3). Then I used to call you a hard man, no good\\ncompany, even disagreeable, sometimes, when anger got the better of me.\\nBut did any one else in the same banquet speak against you, I could\\nnot endure to hear it with equanimity. Thus it was easier for me to say\\nsomething to your disadvantage myself, than to hear others do it; just\\nas I could more easily bear to chastise my daughter Gratia, than to see\\nher chastised by another.\\'\\n\\n     1. Ad. M. Caes., iii. 5.\\n\\n     2. iv. 12.\\n\\n     3 The text is obscure\\n\\nThe affection between them is clear from every page of the\\ncorrespondence. A few instances are now given, which were written at\\ndifferent periods To MY MASTER.(1) \\'This is how I have past the last few\\ndays. My sister was suddenly seized with an internal pain, so violent\\nthat I was horrified at her looks; my mother in her trepidation on that\\naccount accidentally bruised her side on a corner of the wall; she and\\nwe were greatly troubled about that blow. For myself; on going to rest\\nI found a scorpion in my bed; but I did not lie down upon him, I killed\\nhim first. If you are getting on better, that is a consolation. My\\nmother is easier now, thanks be to God. Good-bye, best and sweetest\\nmaster. My lady sends you greeting.\\'\\n\\n(2)\\'What words can I find to fit my had luck, or how shall I upbraid as\\nit deserves the hard constraint which is laid upon me? It ties me fast\\nhere, troubled my heart is, and beset by such anxiety; nor does it allow\\nme to make haste to my Fronto, my life and delight, to be near him at\\nsuch a moment of ill-health in particular, to hold his hands, to chafe\\ngently that identical foot, so far as may be done without discomfort, to\\nattend him in the bath, to support his steps with my arm.\\'\\n\\n(3)\\'This morning I did not write to you, because I heard you were\\nbetter, and because I was myself engaged in other business, and I\\ncannot ever endure to write anything to you unless with mind at ease and\\nuntroubled and free. So if we are all right, let me know: what I desire,\\nyou know, and how properly I desire it, I know. Farewell, my master,\\nalways in every chance first in my mind, as you deserve to be. My\\nmaster, see I am not asleep, and I compel myself to sleep, that you may\\nnot be angry with me. You gather I am writing this late at night.\\'\\n\\n     1 Ad M. Caes., v. 8.\\n\\n     2 i. 2.\\n\\n     3 iii. 21.\\n\\n(1)\\'What spirit do you suppose is in me, when I remember how long it\\nis since I have seen you, and why I have not seen you 1 and it may be\\nI shall not see you for a few days yet, while you are strengthening\\nyourself; as you must. So while you lie on the sick-bed, my spirit also\\nwill lie low anti, whenas,(2) by God\\'s mercy you shall stand upright,\\nmy spirit too will stand firm, which is now burning with the strongest\\ndesire for you. Farewell, soul of your prince, your (3)O my dear Fronto,\\nmost distinguished Consul! I yield, you have conquered: all who have\\never loved before, you have conquered out and out in love\\'s contest.\\nReceive the victor\\'s wreath; and the herald shall proclaim your victory\\naloud before your own tribunal: \"M. Cornelius Fronto, Consul, wins, and\\nis crowned victor in the Open International Love-race.\"(4) But beaten\\nthough I may be, I shall neither slacken nor relax my own zeal. Well,\\nyou shall love me more than any man loves any other man; but I, who\\npossess a faculty of loving less strong, shall love you more than any\\none else loves you; more indeed than you love yourself. Gratia and I\\nwill have to fight for it; I doubt I shall not get the better of her.\\nFor, as Plautus says, her love is like rain, whose big drops not only\\npenetrate the dress, but drench to the very marrow.\\'\\n\\nMarcus Aurelius seems to have been about eighteen years of age when\\nthe correspondence begins, Fronto being some thirty years older.(5) The\\nsystematic education of the young prince seems to have been finisht, and\\nPronto now acts more as his adviser than his tutor. He recommends\\nthe prince to use simplicity in his public speeches, and to avoid\\naffectation.(6) Marcus devotes his attention to the old authors who then\\nhad a great vogue at Rome: Ennius, Plautus, Nawius, and such orators\\nas Cato and Gracchus.(7) Pronto urges on him the study of Cicero, whose\\nletters, he says, are all worth reading.\\n\\n     1 Ad M. Caes., iii. 19.\\n\\n     2 The writer sometimes uses archaisms such as quom, which I\\n     render \\'whenas\\'.\\n\\n     3 Ad M. Caes., ii. 2.\\n\\n     4 The writer parodies the proclamation at the Greek games; the\\n     words also are Greek.\\n\\n     5 From internal evidence: the letters are not arranged in order\\n     of time. See Naher\\'s Prolegomena, p. xx. foil.\\n\\n     6 Ad M. Caes., iii. x.\\n\\n     7 Ad M. Caes ii. 10,; iii. 18,; ii. 4.\\n\\nWhen he wishes to compliment Marcus he declares one or other of his\\nletters has the true Tullian ring. Marcus gives his nights to reading\\nwhen he ought to be sleeping. He exercises himself in verse composition\\nand on rhetorical themes.\\n\\n\\'It is very nice of you,\\' he writes to Fronto,(1) \\'to ask for my\\nhexameters; I would have sent them at once if I had them by me. The fact\\nis my secretary, Anicetus-you know who I mean-did not pack up any of my\\ncompositions for me to take away with me. He knows my weakness; he was\\nafraid that if I got hold of them I might, as usual, make smoke of them.\\nHowever, there was no fear for the hexameters. I must confess the truth\\nto my master: I love them. I study at night, since the day is taken up\\nwith the theatre. I am weary of an evening, and sleepy in the daylight,\\nand so I don\\'t do much. Yet I have made extracts from sixty books, five\\nvolumes of them, in these latter days. But when you read remember\\nthat the \"sixty\" includes plays of Novius, and farces, and some little\\nspeeches of Scipio; don\\'t be too much startled at the number. You\\nremember your Polemon; but I pray you do not remember Horace, who has\\ndied with Pollio as far as I am concerned.(2) Farewell, my dearest\\nand most affectionate friend, most distinguished consul and my beloved\\nmaster, whom I have not seen these two years. Those who say two months,\\ncount the days. Shall I ever see you again?\\'\\n\\nSometimes Fronto sends him a theme to work up, as thus: \\'M. Lucilius\\ntribune of the people violently throws into prison a free Roman citizen,\\nagainst the opinion of his colleagues who demand his release. For this\\nact he is branded by the censor. Analyse the case, and then take both\\nsides in turn, attacking and defending.\\'(3) Or again: \\'A Roman consul,\\ndoffing his state robe, dons the gauntlet and kills a lion amongst\\nthe young men at the Quinquatrus in full view of the people of Rome.\\nDenunciation before the censors.\\'(4) The prince has a fair knowledge of\\nGreek, and quotes from Homer, Plato, Euripides, but for some reason\\nFronto dissuaded him from this study.(5) His Meditations are written in\\nGreek. He continued his literary studies throughout his life, and after\\nhe became emperor we still find him asking his adviser for copies of\\nCicero\\'s Letters, by which he hopes to improve his vocabulary.(6) Pronto\\nHelps him with a supply of similes, which, it seems, he did not think of\\nreadily. It is to be feared that the fount of Marcus\\'s eloquence was\\npumped up by artificial means.\\n\\n     1 Ad M. Caes., ii. 10.\\n\\n     2 He implies, as in i. 6, that he has ceased to study Horace.\\n\\n     3 Pollio was a grammarian, who taught Marcus.\\n\\n     4 Ad M. Caes., v. 27,; V. 22.\\n\\n     5 Ep. Gracae, 6.\\n\\n     6 Ad Anton. Imp., II. 4.\\n\\nSome idea of his literary style may be gathered from the letter which\\nfollows:(1) \\'I heard Polemo declaim the other day, to say something of\\nthings sublunary. If you ask what I thought of him, listen. He seems\\nto me an industrious farmer, endowed with the greatest skill, who has\\ncultivated a large estate for corn and vines only, and indeed with\\na rich return of fine crops. But yet in that land of his there is\\nno Pompeian fig or Arician vegetable, no Tarentine rose, or pleasing\\ncoppice, or thick grove, or shady plane tree; all is for use rather\\nthan for pleasure, such as one ought rather to commend, but cares not to\\nlove.\\n\\nA pretty bold idea, is it not, and rash judgment, to pass censure on a\\nman of such reputation? But whenas I remember that I am writing to you,\\nI think I am less bold than you would have me.\\n\\n\\'In that point I am wholly undecided.\\n\\n\\'There\\'s an unpremeditated hendecasyllable for you. So before I begin to\\npoetize, i\\'ll take an easy with you. Farewell, my heart\\'s desire, your\\nVerus\\'s best beloved, most distinguisht consul, master most sweet.\\nFarewell I ever pray, sweetest soul.\\n\\nWhat a letter do you think you have written me I could make bold to\\nsay, that never did she who bore me and nurst me, write anything SO\\ndelightful, so honey-sweet. And this does not come of your fine style\\nand eloquence: otherwise not my mother only, but all who breathe.\\'\\n\\n     1 Ad M. Caes, ii. 5.\\n\\nTo the pupil, never was anything on earth so fine as his master\\'s\\neloquence; on this theme Marcus fairly bubbles over with enthusiasm.\\n\\n(1)\\'Well, if the ancient Greeks ever wrote anything like this, let those\\nwho know decide it: for me, if I dare say so, I never read any\\ninvective of Cato\\'s so fine as your encomtum. O if my Lord(2) could\\nbe sufficiently praised, sufficiently praised he would have been\\nundoubtedly by you! This kind of thing is not done nowadays.(3) It were\\neasier to match Pheidias, easier to match Apelles, easier in a word to\\nmatch Demosthenes himself, or Cato himself; than to match this finisht\\nand perfect work. Never have I read anything more refined, anything more\\nafter the ancient type, anything more delicious, anything more Latin.\\nO happy you, to be endowed with eloquence so great! O happy I, to be\\ntinder the charge of such a master! O arguments,(4) O arrangement, O\\nelegance, O wit, O beauty, O words, O brilliancy, O subtilty, O grace,\\nO treatment, O everything! Mischief take me, if you ought not to have a\\nrod put in your hand one day, a diadem on your brow, a tribunal raised\\nfor you; then the herald would summon us all-why do I say \"us\"? Would\\nsummnon all, those scholars and orators: one by one you would beckon\\nthem forward with your rod and admonish them. Hitherto I have had\\nno fear of this admonition; many things help me to enter within your\\nschool. I write this in the utmost haste; for whenas I am sending you\\nso kindly a letter from my Lord, what needs a longer letter of mine?\\nFarewell then, glory of Roman eloquence, boast of your friends,\\nmagnifico, most delightful man, most distinguished consul, master most\\nsweet.\\n\\n\\'After this you will take care not to tell so many fibs of me,\\nespecially in the Senate. A monstrous fine speech this is! O if 1 could\\nkiss your head at every heading of it! You have looked down on all with\\na vengeance. This oration once read, in vain shall we study, in vain\\nshall we toil, in vain strain every nerve. Farewell always, most sweet\\nmaster.\\'\\n\\n     1 Ad M. Caes., ii. 3.\\n\\n     2 The Emperor Antoninus Pius is spoken of as dominus vieus.\\n\\n     3 This sentence is written in Greek.\\n\\n     4 Several of these words are Greek, and the meaning is not\\n     quite clear.\\n\\nSometimes Fronto descends from the heights of eloquence to offer\\npractical advice; as when he suggests how Marcus should deal with his\\nsuite. It is more difficult, he admits, to keep courtiers in harmony\\nthan to tame lions with a lute; but if it is to be done, it must be by\\neradicating jealousy. \\'Do not let your friends,\\' says Fronto,\\'(1) \\'envy\\neach other, or think that what you give to another is filched from them.\\n\\nKeep away envy from your suite, and you will find your friends kindly\\nand harmonious.\\'\\n\\nHere and there we meet with allusions to his daily life, which we could\\nwish to be more frequent. He goes to the theatre or the law-courts,(2)\\nor takes part in court ceremony, but his heart is always with his\\nbooks. The vintage season, with its religious rites, was always spent by\\nAntoninus Pius in the country. The following letters give sonic notion\\nof a day\\'s occupation at that time:(3) \\'MY DEAREST MASTER,--I am well.\\nTo-day I studied from the ninth hour of the night to the second hour of\\nday, after taking food. I then put on my slippers, and from time second\\nto the third hour had a most enjoyable walk up and down before my\\nchamber. Then booted and cloaked-for so we were commanded to appear-I\\nwent to wait upon my lord the emperor. We went a-hunting, did doughty\\ndeeds, heard a rumour that boars had been caught, but there was nothing\\nto see. However, we climbed a pretty steep hill, and in the afternoon\\nreturned home. I went straight to my books. Off with the boots, down\\nwith the cloak; I spent a couple of hours in bed. I read Cato\\'s speech\\non the Property of Pulchra, and another in which he impeaches a tribune.\\nHo, ho! I hear you cry to your man, Off with you as fast as you can, and\\nbring me these speeches from the library of Apollo. No use to send: I\\nhave those books with me too. You must get round the Tiberian librarian;\\nyou will have to spend something on the matter; and when I return to\\ntown, I shall expect to go shares with him. Well, after reading these\\nspeeches I wrote a wretched trifle, destined for drowning or burning.\\nNo, indeed my attempt at writing did not come off at all to-day; the\\ncomposition of a hunter or a vintager, whose shouts are echoing through\\nmy chamber, hateful and wearisome as the law-courts. What have I said?\\nYes, it was rightly said, for my master is an orator. I think I have\\ncaught cold, whether from walking in slippers or from writing badly,\\nI do not know. I am always annoyed with phlegm, but to-day I seem to\\nsnivel more than usual. Well, I will pour oil on my head and go off to\\nsleep. I don\\'t mean to put one drop in my lamp to-day, so weary am I\\nfrom riding and sneezing. Farewell, dearest and most beloved master,\\nwhom I miss, I may say, more than Rome it~dL\\'\\n\\n     1 Ad M Caes., iv. 1.\\n\\n     2 ii. 14\\n\\n     3 iv. 5,6.\\n\\n\\'MY BELOVED MASTER,-I am well. I slept a little more than usual for my\\nslight cold, which seems to be well again. So I spent the time from the\\neleventh hour of the night to the third of the day partly in reading in\\nCato\\'s Agriculture, partly in writing, not quite so badly as yesterday\\nindeed. Then, after waiting upon my father, I soothed my throat with\\nhoney-water, ejecting it without swallowing: I might say gargle, but I\\nwon\\'t, though I think the word is found in Novius and elsewhere. After\\nattending to my throat I went to my father, and stood by his side as he\\nsacrificed. Then to luncheon. What do you think I had to eat? A bit of\\nbread so big, while I watched others gobbling boiled beans, onions,\\nand fish full of roe. Then we set to work at gathering the grapes,\\nwith plenty of sweat and shouting, and, as the quotation runs, \"A few\\nhigh-hanging clusters did we leave survivors of the vintage.\" After the\\nsixth hour we returned home. I did a little work, and poor work at that.\\nThen I had a long gossip with my dear mother sitting on the bed. My\\nconversation was: What do you think my friend Fronto is doing just now?\\nShe said: And what do you think of my friend Gratia?\\'(1) My turn now:\\nAnd what of our little Gratia,(2) the sparrowkin? After this kind of\\ntalk, and an argument as to which of you loved the other most, the gong\\nsounded, the signal that my father had gone to the bath. We supped,\\nafter ablutions in the oil-cellar-I mean we supped after ablutions, not\\nafter ablutions in the oil-cellar; and listened with enjoyment to the\\nrustics gibing. After returning, before turning on my side to snore, I\\ndo my task and give an account of the day to my delightful master, whom\\nif I could long for a little more, I should not mind growing a trifle\\nthinner. Farewell, Fronto, wherever you are, honey-sweet, my darling, my\\ndelight. Why do I want you? I can love you while far away.\\'\\n\\nOne anecdote puts Marcus before us in a new light:(3)\\n\\n     1 Fronto\\'s wife.\\n\\n     2 Fronto\\'s daughter\\n\\n     3 Ad M. Caes ii. 12.\\n\\n\\'When my father returned home from the vineyards, I mounted my horse as\\nusual, and rode on ahead some little way. Well, there on the road was a\\nherd of sheep, standing all crowded together as though the place were\\na desert, with four dogs and two shepherds, but nothing else. Then one\\nshepherd said to another shepherd, on seeing a number of horsemen: \\'I\\nsay,\\' says he, \\'look you at those horsemen; they do a deal of robbery.\\'\\nWhen I heard this, I clap spurs to my horse, and ride straight for the\\nsheep. In consternation the sheep scatter; hither and thither they are\\nfleeting and bleating. A shepherd throws his fork, and the fork falls\\non the horseman who came next to me. We make our escape.\\' We like Marcus\\nnone the worse for this spice of mischief.\\n\\nAnother letter(1) describes a visit to a country town, and shows the\\nantiquarian spirit of the writer \\'M. CAESAR to his MASTER M. FRONTO,\\ngreeting.\\n\\n\\'After I entered the carriage, after I took leave of you, we made a\\njourney comfortable enough, but we had a few drops of rain to wet us.\\nBut before coming to the country-house, we broke our journey at Anagnia,\\na mile or so from the highroad. Then we inspected that ancient town, a\\nminiature it is, but has in it many antiquities, temples, and religious\\nceremonies quite out of the way. There is not a corner without its\\nshrine, or fane, or temple; besides, many books written on linen, which\\nbelongs to things sacred. Then on the gate as we came out was written\\ntwice, as follows: \"Priest don the fell.\"(2) I asked one of the\\ninhabitants what that word was. He said it was the word in the Hernican\\ndialect for the victim\\'s skin, which the priest puts over his conical\\ncap when he enters the city. I found out many other things which I\\ndesired to know, but the only thing I do not desire is that you should\\nbe absent from me; that is my chief anxiety. Now for yourself, when you\\nleft that place, did you go to Aurelia or to Campania? Be sure to write\\nto me, and say whether you have opened the vintage, or carried a host of\\nbooks to the country-house; this also, whether you miss me; I am foolish\\nto ask it, whenas you tell it me of yourself. Now if you miss me and\\nif you love me, send me your letters often, which is a comfort and\\nconsolation to me. Indeed I should prefer ten times to read your letters\\nthan all the vines of Gaurus or the Marsians; for these Signian vines\\nhave grapes too rank and fruit too sharp in the taste, but I prefer wine\\nto must for drinking. Besides, those grapes are nicer to eat dried than\\nfresh-ripe; I vow I would rather tread them under foot than put my teeth\\nin them. But I pray they may be gracious and forgiving, and grant me\\nfree pardon for these jests of mine. Farewell, best friend, dearest,\\nmost learned, sweetest master. When you see the must ferment in the vat,\\nremember that just so in my heart the longing for you is gushing and\\nflowing and bubbling. Good-bye.\\'\\n\\n     1 Ad Verum. Imp ii. 1, s. fin.\\n\\n     2 Santentum\\n\\nMaking all allowances for conventional exaggerations, it is clear from\\nthe correspondence that there was deep love between Marcus and his\\npreceptor. The letters cover several years in succession, but soon after\\nthe birth of Marcus\\'s daughter, Faustina, there is a large gap. It does\\nnot follow that the letters ceased entirely, because we know part of\\nthe collection is lost; but there was probably less intercourse between\\nMarcus and Fronto after Marcus took to the study of philosophy under the\\nguidance of Rusticus.\\n\\nWhen Marcus succeeded to the throne in 161, the letters begin again,\\nwith slightly increased formality on Fronto\\'s part, and they go on for\\nsome four years, when Fronto, who has been continually complaining of\\nill-health, appears to have died. One letter of the later period gives\\nsome interesting particulars of the emperor\\'s public life, which are\\nworth quoting. Fronto speaks of Marcus\\'s victories and eloquence in the\\nusual strain of high praise, and then continues.(1) \\'The army when you\\ntook it in hand was sunk in luxury and revelry, and corrupted with long\\ninactivity. At Antiochia the soldiers had been Wont to applaud at the\\nstage plays, knew more of the gardens at the nearest restaurant than\\nof the battlefield. Horses were hairy from lack of grooming, horsemen\\nsmooth because their hairs had been pulled out by the roots(2) a rare\\nthing it was to see a soldier with hair on arm or leg. Moreover, they\\nwere better drest than armed; so much so, that Laelianus Pontius, a\\nstrict man of the old discipline, broke the cuirasses of some of them\\nwith his finger-tips, and observed cushions on the horses\\' backs. At his\\ndirection the tufts were cut through, and out of the horsemen\\'s saddles\\ncame what appeared to be feathers pluckt from geese. Few of the men\\ncould vault on horseback, the rest clambered up with difficulty by aid\\nof heel and knee and leg not many could throw a lance hurtling, most did\\nit without force or power, as though they were things of wool-dicing\\nwas common in the camp, sleep lasted all night, or if they kept watch it\\nwas over the winecup. By what regulations to restrain such soldiers as\\nthese, and to turn them to honesty and industry, did you not learn from\\nHannibal\\'s sternness, the discipline of Africanus, the acts of Metellus\\nrecorded in history.\\n\\n     1 Ad Verum. imp., ii. I, s.fin.\\n\\n     2 A common mark of the effeminate at Rome.\\n\\nAfter the preceptorial letters cease the others are concerned with\\ndomestic events, health and sickness, visits or introductions, birth or\\ndeath. Thus the empperor writes to his old friend, who had shown some\\ndiffidence in seeking an interview:(1)\\n\\n\\'To MY MASTER.\\n\\n\\'I have a serious grievance against you, my dear master, yet indeed my\\ngrief is more than my grievance, because after so long a time I neither\\nembraced you nor spoke to you, though you visited the palace, and the\\nmoment after I had left the prince my brother. I reproached my brother\\nseverely for not recalling me; nor durst he deny the fault.\\' Fronto\\nagain writes on one occasion: \\'I have seen your daughter. It was like\\nseeing you and Faustina in infancy, so much that is charming her face\\nhas taken from each of yours.\\' Or again, at a later date:(2) I have seen\\nyour chicks, most delightful sight that ever I saw in my life, so like\\nyou that nothing is more like than the likeness.... By the mercy of\\nHeaven they have a healthy colour and strong lungs. One held a piece of\\nwhite bread, like a little prince, the other a common piece, like a true\\nphilosophers son.\\'\\n\\n     1 Ad Verum. Imp. Aur. Caes., i. 3.\\n\\n     2 Ad Ant. Imp i., 3.\\n\\nMarcus, we know, was devoted to his children. They were delicate in\\nhealth, in spite of Fronto\\'s assurance, and only one son survived the\\nfather. We find echoes of this affection now and again in the letters.\\n\\'We have summer heat here still,\\' writes Marcus, \\'but since my little\\ngirls are pretty well, if I may say so, it is like the bracing climate\\nof spring to us.\\'(1) When little Faustina came back from the valley of\\nthe shadow of death, her father at once writes to inform Fronto.(2)\\nThe sympathy he asks he also gives, and as old age brings more and more\\ninfirmity, Marcus becomes even more solicitous for his beloved teacher.\\nThe poor old man suffered a heavy blow in the death of his grandson, on\\nwhich Marcus writes:(3) \\'I have just heard of your misfortune. Feeling\\ngrieved as I do when one of your joints gives you pain, what do you\\nthink I feel, dear master, when you have pain of mind?\\' The old man\\'s\\nreply, in spite of a certain self-consciousness, is full of pathos. He\\nrecounts with pride the events of a long and upright life, in which he\\nhas wronged no man, and lived in harmony with his friends and family.\\nHis affectations fall away from him, as the cry of pain is forced from\\nhis heart:--\\n\\n(4)\\'Many such sorrows has fortune visited me with all my life long. To\\npass by my other afflictions, I have lost five children under the most\\npitiful conditions possible: for the five I lost one by one when each\\nwas my only child, suffering these blows of bereavement in such a manner\\nthat each child was born to one already bereaved. Thus I ever lost my\\nchildren without solace, and got them amidst fresh grief.....\\'\\n\\nThe letter continues with reflections on the nature of death, \\'more to\\nbe rejoiced at than bewailed, the younger one dies,\\' and an arraignment\\nof Providence not without dignity, wrung from him as it were by this\\nlast culminating misfortune. It concludes with a summing-up of his life\\nin protest against the blow which has fallen on his grey head.\\n\\n     1 Ad M. Caes., v. 19\\n\\n     2 iv. 11\\n\\n     3 De Nepote Amissa\\n\\n     4 De Nepote Amissa 2\\n\\n\\'Through my long life I have committed nothing which might bring\\ndishonour, or disgrace, or shame: no deed of avarice or treachery have\\nI done in all my day\\'s: nay, but much generosity, much kindness, much\\ntruth and faithfulness have I shown, often at the risk of my own life.\\nI have lived in amity with my good brother, whom I rejoice to see in\\npossession of the highest office by your father\\'s goodness, and by your\\nfriendship at peace and perfect rest. The offices which I have myself\\nobtained I never strove for by any underhand means. I have cultivated\\nmy mind rather than my body; the pursuit of learning I have preferred to\\nincreasing my wealth. I preferred to be poor rather than bound by any\\'\\nman\\'s obligation, even to want rather than to beg. I have never been\\nextravagant in spending money, I have earned it sometimes because I\\nmust. I have scrupulously spoken the truth, and have been glad to hear\\nit spoken to me. I have thought it better to be neglected than to fawn,\\nto be dumb than to feign, to be seldom a friend than to be often a\\nflatterer. 1 have sought little, deserved not little. So far as I could,\\nI have assisted each according to my means. I have given help readily\\nto the deserving, fearlessly to the undeserving. No one by proving to be\\nungrateful has made me more slow to bestow promptly all benefits I could\\ngive, nor have I ever been harsh to ingratitude. (A fragmentary passage\\nfollows, in which he appears to speak of his desire for a peaceful\\nend, and the desolation of his house.) I have suffered long and painful\\nsickness, my beloved Marcus. Then I was visited by pitiful misfortunes:\\nmy wife I have lost, my grandson I have lost in Germany:(1) woe is me!\\nI have lost my Decimanus. If I were made of iron, at this tine I could\\nwrite no more.\\' It is noteworthy that in his meditations Marcus Aurelius\\nmentions Fronto only once.(2) All his literary studies, his oratory and\\ncriticism (such as it was) is forgotten; and, says he, \\'Fronto taught\\nme not to expect natural affection from the highly-born.\\' Fronto really\\nsaid more than this: that \\'affection\\' is not a Roman quality, nor has it\\na Latin name.(3) Roman or not Roman, Marcus found affection in Fronto;\\nand if he outgrew his master\\'s intellectual training, he never lost\\ntouch with the true heart of the man it is that which Fronto\\'s name\\nbrings up to his remembrance, not dissertations on compound verbs or\\nfatuous criticisms of style.\\n\\n     1 In the war against the Catti.\\n\\n     2 Book I., 8.\\n\\n     3 Ad Verum, ii. 7\\n\\n\\n\\n\\nNOTES\\n\\nTHIS being neither a critical edition of the text nor an emended edition\\nof Casaubon\\'s translation, it has not been thought necessary to add full\\nnotes. Casaubon\\'s own notes have been omitted, because for the most part\\nthey are discursive, and not necessary to an understanding of what is\\nwritten. In those which here follow, certain emendations of his\\nare mentioned, which he proposes in his notes, and follows in the\\ntranslation. In addition, one or two corrections are made where he has\\nmistaken the Greek, and the translation might be misleading. Those which\\ndo not come under these two heads will explain themselves.\\n\\nThe text itself has been prepared by a comparison of the editions of\\n1634 and 1635. It should be borne in mind that Casaubon\\'s is often\\nrather a paraphrase than a close translation; and it did not seem worth\\nwhile to notice every variation or amplification of the original. In\\nthe original editions all that Casauhon conceives as understood, but\\nnot expressed, is enclosed in square brackets. These brackets are here\\nomitted, as they interfere with the comfort of the reader; and so have\\nsome of the alternative renderings suggested by the translator. In a few\\ncases, Latin words in the text have been replaced by English.\\n\\nNumbers in brackets refer to the Teubner text of Stich, but the\\ndivisions of the text are left unaltered. For some of the references\\nidentified I am indebted to Mr. G. H. Rendall\\'s Marcus Aurelius.\\n\\nBOOK II \"Both to frequent\" (4). Gr. to mh, C. conjectures to me. The\\ntext is probably right: \"I did not frequent public lectures, and I was\\ntaught at home.\"\\n\\nVI Idiots.... philosophers (9). The reading is doubtful, but the meaning\\nseems to be: \"simple and unlearned men\"\\n\\nXII \"Claudius Maximus\" (15). The reading of the Palatine MS. (now lost)\\nwas paraklhsiz Maximon, which C. supposes to conceal the letters kl as\\nan abbreviation of Claudius.\\n\\nXIII \"Patient hearing... He would not\" (16). C. translates his\\nconjectural reading epimonon ollan. on proapsth Stich suggests a reading\\nwith much the same sense: .....epimonon all antoi \"Strict and rigid\\ndealing\" (16). C. translates tonvn (Pal. MS.) as though from tonoz,\\nin the sense of \"strain.\" \"rigour.\" The reading of other MSS. tonvn is\\npreferable.\\n\\nXIII \"Congiaries\" (13). dianomais, \"doles.\"\\n\\nXIV \"Cajeta\" (17). The passage is certainly corrupt. C. spies a\\nreference to Chryses praying by the sea-shore in the Illiad, and\\nsupposes M. Aurelius to have done the like. None of the emendations\\nsuggested is satisfactory. At § XV. Book II. is usually reckoned to\\nbegin. BOOK II III. \"Do, soul\" (6). If the received reading be right,\\nit must be sarcastic; but there are several variants which show how\\nunsatisfactory it is. C. translates \"en gar o bioz ekasty so par eanty\",\\nwhich I do not understand. The sense required is: \"Do not violence to\\nthyself, for thou hast not long to use self-respect. Life is not (v. 1.\\nso long for each, and this life for thee is all but done.\"\\n\\nX. \"honour and credit do proceed\" (12). The verb has dropt out of the\\ntext, but C. has supplied one of the required meaning.\\n\\nXI. \"Consider,\" etc. (52). This verb is not in the Greek, which means:\\n\"(And reason also shows) how man, etc.\"\\n\\nBOOK IV XV. \"Agathos\" (18): This is probably not a proper name, but the\\ntext seems to be unsound. The meaning may be \"the good man ought\"\\n\\nXVI. oikonomian (16) is a \"practical benefit,\" a secondary end. XXXIX.\\n\"For herein lieth all....\" (~3). C. translates his conjecture olan for\\nola.\\n\\nBOOK V XIV. katorqwseiz (15): Acts of \"rightness\" or \"straightness.\"\\nXXIII. \"Roarer\" (28): Gr. \"tragedian.\" Ed. 1 has whoremonger,\\' ed.\\n2 corrects to \"harlot,\" but omits to alter\\' the word at its second\\noccurrence.\\n\\nXXV. \"Thou hast... them\" (33): A quotation from Homer, Odyssey, iv. 690.\\n\\nXXVII. \"One of the poets\" (33): Hesiod, Op. et Dies, 197.\\n\\nXXIX and XXX. (36). The Greek appears to contain quotations from sources\\nnot known, and the translation is a paraphrase. (One or two alterations\\nare here made on the authority of the second edition.) BOOK VI XIII.\\n\"Affected and qualified\" (i4): exis, the power of cohesion shown in\\nthings inanimate; fusiz, power of growth seen in plants and the like.\\n\\nXVII. \"Wonder at them\" (18): i.e. mankind.\\n\\nXXXVII. \"Chrysippus\" (42): C. refers to a passage of Plutarch De\\nCommunibus Notitiis (c. xiv.), where Chrysippus is represented as saying\\nthat a coarse phrase may be vile in itself, yet have due place in a\\ncomedy as contributing to a certain effect.\\n\\nXL. \"Man or men...\" There is no hiatus in the Greek, which means:\\n\"Whatever (is beneficial) for a man is so for other men also.\"\\n\\nXLII. There is no hiatus in the Greek.\\n\\nBOOK VII IX. C. translates his conjecture mh for h. The Greek means\\n\"straight, or rectified,\" with a play on the literal and metaphorical\\nmeaning of ortoz.\\n\\nXIV. endaimonia. contains the word daimwn in composition. XXII. The text\\nis corrupt, but the words \"or if it be but few\" should be \"that is\\nlittle enough.\"\\n\\nXXIII. \"Plato\": Republic, vi. p. 486 A.\\n\\nXXV. \"It will,\" etc. Euripides, Belerophon, frag. 287 (Nauck).\\n\\n\"Lives,\" etc. Euripides, Hypsipyle, frag. 757 (Nauck). \"As long,\" etc.\\nAristophanes, Acharne, 66 i.\\n\\n\"Plato\" Apology, p. 28 B.\\n\\n\"For thus\" Apology, p. 28 F.\\n\\nXXVI. \"But, O noble sir,\" etc. Plato, Gorgias, 512 D. XXVII. \"And as\\nfor those parts,\" etc. A quotation from Euripides, Chryssipus, frag. 839\\n(Nauck).\\n\\n\"With meats,\" etc. From Euripides, Supplices, 1110. XXXIII. \"They both,\"\\ni.e. life and wrestling.\\n\\n\"Says he\" (63): Plato, quoted by Epictetus, Arr. i. 28, 2 and 22.\\n\\nXXXVII. \"How know we,\" etc. The Greek means: \"how know we whether\\nTelauges were not nobler in character than Sophocles?\" The allusion is\\nunknown.\\n\\nXXVII. \"Frost\" The word is written by Casaubon as a proper name,\\n\"Pagus.\\'\\n\\n\"The hardihood of Socrates was famous\"; see Plato, Siymposium, p. 220.\\n\\nBOOK X XXII. The Greek means, \"paltry breath bearing up corpses, so that\\nthe tale of Dead Man\\'s Land is clearer.\"\\n\\nXXII. \"The poet\" (21): Euripides, frag. 898 (Nauck); compare Aeschylus,\\nDanaides, frag. 44.\\n\\nXXIV. \"Plato\" (23): Theaetetus, p. 174 D.\\n\\nXXXIV. \"The poet\" (34): Homer, Iliad, vi. 147.\\n\\nXXXIV. \"Wood\": A translation of ulh, \"matter.\"\\n\\nXXXVIII. \"Rhetoric\" (38): Rather \"the gift of speech\"; or perhaps the\\n\"decree\" of the reasoning faculty.\\n\\nBOOK XI V. \"Cithaeron\" (6): Oedipus utters this cry after discovering\\nthat he has fulfilled his awful doom, he was exposed on Cithaeron as\\nan infant to die, and the cry implies that he wishes he had died there.\\nSophocles, Oedipus Tyrannus, 1391.\\n\\nV. \"New Comedy...,\" etc. C. has here strayed from the Greek rather\\nwidely. Translate: \"and understand to what end the New Comedy was\\nadopted, which by small degrees degenerated into a mere show of skill\\nin mimicry.\" C. writes Comedia Vetus, Media, Nova. XII. \"Phocion\" (13):\\nWhen about to be put to death he charged his son to bear no malice\\nagainst the Athenians.\\n\\nXXVIII. \"My heart,\" etc. (31): From Homer, Odyssey ix. 413. \"They will\"\\nFrom Hesiod, Opera et Dies, 184.\\n\\n\"Epictetus\" Arr. i. II, 37.\\n\\nXXX. \"Cut down grapes\" (35): Correct \"ears of corn.\" \"Epictetus\"(36):\\nArr. 3, 22, 105.\\n\\n\\n\\n\\nGLOSSARY\\n\\nThis Glossary includes all proper names (excepting a few which are\\ninsignificant or unknown) and all obsolete or obscure words. ADRIANUS,\\nor Hadrian (76-138 A. D.), 14th Roman Emperor.\\n\\nAgrippa, M. Vipsanius (63-12 B.C.), a distinguished soldier under\\nAugustus.\\n\\nAlexander the Great, King of Macedonia, and Conqueror of the East,\\n356-323 B.C.\\n\\nAntisthenes of Athens, founder of the sect of Cynic philosophers, and an\\nopponent of Plato, 5th century B.C Antoninus Pius, 15th Roman Emperor,\\n138-161 AD. one of the best princes that ever mounted a throne.\\n\\nApathia: the Stoic ideal was calmness in all circumstance an\\ninsensibility to pain, and absence of all exaltation at, pleasure or\\ngood fortune.\\n\\nApelles, a famous painter of antiquity.\\n\\nApollonius of Alexandria, called Dyscolus, or the \\'ill-tempered,\\'\\na great grammarian.\\n\\nAposteme, tumour, excrescence.\\n\\nArchimedes of Syracuse 287-212 B.C., the most famous mathematician of\\nantiquity.\\n\\nAthos, a mountain promontory at the N. of the Aegean Sea.\\n\\nAugustus, first Roman Emperor (ruled 31 B.C.-14 AD.).\\n\\nAvoid, void.\\n\\nBACCHIUS: there Were several persons of this name, and the one meant is\\nperhaps the musician.\\n\\nBrutus (1) the liberator of the Roman people from their kings, and (2)\\nthe murderer of Caesar.\\n\\nBoth names were household words.\\n\\nCaesar, Caius, Julius, the Dictator and Conqueror.\\n\\nCaieta, a town in Latium.\\n\\nCamillus, a famous dictator in the early days of the Roman Republic.\\n\\nCarnuntum, a town on the Danube in Upper Pannonia.\\n\\nCato, called of Utica, a Stoic who died by his own hand after the battle\\nof Thapsus, 46 B.C. His name was proverbial for virtue and courage.\\n\\nCautelous, cautious.\\n\\nCecrops, first legendary King of Athens.\\n\\nCharax, perhaps the priestly historian of that name, whose date is\\nunknown, except that it must be later than Nero.\\n\\nChirurgeon, surgeon.\\n\\nChrysippus, 280-207 B.C., a Stoic philosopher, and the founder of\\nStoicism as a systematic philosophy.\\n\\nCircus, the Circus Maximus at Rome, where games were held.\\nThere were four companies who contracted to provide horses, drivers,\\netc. These were called Factiones, and each had its distinguishing\\ncolour: russata (red), albata (white), veneta (blue), prasina (green).\\nThere was high rivalry between them, and riots and bloodshed not\\ninfrequently.\\n\\nCithaeron, a mountain range N. of Attica.\\n\\nComedy, ancient; a term applied to the Attic comedy of Aristophanes and\\nhis time, which criticised persons and politics, like a modern comic\\njournal, such as Punck. See New Comedy.\\n\\nCompendious, short.\\n\\nConceit, opinion.\\n\\nContentation, contentment.\\n\\nCrates, a Cynic philosopher of the 4th century B.C.\\n\\nCroesus, King of Lydia, proverbial for wealth; he reigned 560-546 B.C.\\n\\nCynics, a school of philosophers, founded by Antisthenes. Their texts\\nwere a kind of caricature of Socraticism. Nothing was good but virtue,\\nnothing bad but vice. The Cynics repudiated all civil and social claims,\\nand attempted to return to what they called a state of nature. Many of\\nthem were very disgusting in their manners.\\n\\nDEMETRIUS of Phalerum, an Athenian orator, statesman, philosopher, and\\npoet. Born 345 B.C.\\n\\nDemocritus of Abdera (460-361 B.C.), celebrated as the \\'laughing\\nphilosopher,\\' whose constant thought was \\'What fools these mortals be.\\'\\nHe invented the Atomic Theory.\\n\\nDio of Syracuse, a disciple of Plato, and afterwards tyrant of Syracuse.\\nMurdered 353 B.C.\\n\\nDiogenes, the Cynic, born about 412 B.C., renowned for his rudeness and\\nhardihood.\\n\\nDiognetus, a painter.\\n\\nDispense with, put up with.\\n\\nDogmata, pithy sayings, or philosophical rules of life.\\n\\nEMPEDOCLES of Agrigentum, fl.\\n5th century B.C., a philosopher, who first laid down that there were\\n\"four elements.\" He believed in the transmigration of souls, and the\\nindestructibility of matter.\\n\\nEpictetus, a famous Stoic philosopher. He was of Phrygia, at first a\\nslave, then freedman, lame, poor, and contented.\\nThe work called Encheiridion was compiled by a pupil from his\\ndiscourses.\\n\\nEpicureans, a sect of philosophers founded by Epicurus, who \"combined\\nthe physics of Democritus,\" i.e. the atomic theory, \"with the ethics of\\nAristippus.\"\\n\\nThey proposed to live for happiness, but the word did not bear that\\ncoarse and vulgar sense originally which it soon took.\\n\\nEpicurus of Samos, 342-270 B.C.\\n\\nLived at Athens in his \"gardens,\" an urbane and kindly, if somewhat\\nuseless, life. His character was simple and temperate, and had none of\\nthe vice or indulgence which was afterwards associated with the name of\\nEpicurean.\\n\\nEudoxus of Cnidus, a famous astronomer and physician of the 4th century\\nB. C.\\n\\nFATAL, fated.\\n\\nFortuit, chance (adj.).\\n\\nFronto, M. Cornelius, a rhetorician and pleader, made consul in 143 A.D.\\nA number of his letters to M, Aur. and others are extant.\\n\\nGRANUA, a tributary of the Danube.\\n\\nHELICE, ancient capital city of Achaia, swallowed up by an earthquake,\\n373 B.C.\\n\\nHelvidius Priscus, son-in-law of Thrasea Paetus, a noble man and a lover\\nof liberty. He was banished by Nero, and put to death by Vespasian.\\n\\nHeraclitus of Ephesus, who lived in the 6th century B.C. He wrote on\\nphilosophy and natural science.\\n\\nHerculaneum, near Mount Vesuvius, buried by the eruption of 79 AD.\\n\\nHercules, p. 167, should be Apollo. See Muses.\\n\\nHiatus, gap.\\n\\nHipparchus of Bithynia, an astronomer of the 2nd century B.C., \"The true\\nfather of astronomy.\"\\n\\nHippocrates of Cos, about 460-357 B.C. One of the most famous physicians\\nof antiquity.\\n\\nIDIOT, means merely the non-proficient in anything, the \"layman,\" he who\\nwas not technically trained in any art, craft, or calling.\\n\\nLEONNATUS, a distinguished general under Alexander the Great.\\n\\nLucilla, daughter of M. Aurelius, and wife of Verus, whom she survived.\\n\\nMAECENAS, a trusted adviser of Augustus, and a munificent patron of wits\\nand literary men.\\n\\nMaximus, Claudius, a Stoic philosopher.\\n\\nMenippus, a Cynic philosopher.\\n\\nMeteores, ta metewrologika, \"high philosophy,\" used specially of\\nastronomy and natural philosophy, which were bound up with other\\nspeculations.\\n\\nMiddle Comedy, something midway between the Old and New Comedy. See\\nComedy, Ancient, and New Comedy.\\n\\nMiddle things, Book 7, XXV. The Stoics divided all things into virtue,\\nvice, and indifferent things; but as \"indifferent\" they regarded most of\\nthose things which the world regards as good or bad, such as wealth or\\npoverty. Of these, some were \"to be desired,\" some \"to be rejected.\"\\n\\nMuses, the nine deities who presided over various kinds of poesy, music,\\netc. Their leader was Apollo, one of whose titles is Musegetes, the\\nLeader of the Muses.\\n\\nNERVES, strings.\\n\\nNew Comedy, the Attic Comedy of Menander and his school, which\\ncriticised not persons but manners, like a modern comic opera. See\\nComedy, Ancient.\\n\\nPALESTRA, wrestling school.\\n\\nPancratiast, competitor in the pancratium, a combined contest which\\ncomprised boxing and wrestling.\\n\\nParmularii, gladiators armed with a small round shield (parma).\\n\\nPheidias, the most famous sculptor of antiquity.\\n\\nPhilippus, founder of the Macedonian supremacy, and father of Alexander\\nthe Great.\\n\\nPhocion, an Athenian general and statesman, a noble and high-minded man,\\n4th century B.C.\\n\\nHe was called by Demosthenes, \"the pruner of my periods.\"\\n\\nHe was put to death by the State in 317, on a false suspicion, and left\\na message for his son \"to bear no grudge against the Athenians.\"\\n\\nPine, torment.\\n\\nPlato of Athens, 429-347 B.C. He used the dialectic method invented by\\nhis master Socrates.\\n\\nHe was, perhaps, as much poet as philosopher. He is generally identified\\nwith the Theory of Ideas, that things are what they are by participation\\nwith our eternal Idea. His \"Commonwealth\" was a kind of Utopia.\\n\\nPlatonics, followers of Plato.\\n\\nPompeii, near Mount Vesuvius, buried in the eruption of 79 A. D.\\n\\nPompeius, C. Pompeius Magnus, a very successful general at the end of\\nthe Roman Republic (106-48 B.C.).\\n\\nPrestidigitator, juggler.\\n\\nPythagoras of Samos, a philosopher, scientist, and moralist of the 6th\\ncentury B.C.\\n\\nQUADI, a tribe of S. Germany.\\n\\nM. Aurelius carried on war against them, and part of this book was\\nwritten in the field.\\n\\nRICTUS, gape, jaws.\\n\\nRusticus, Q. Junius, or Stoic philosopher, twice made consul by M.\\nAurelius.\\n\\nSACRARY, shrine.\\n\\nSalaminius, Book 7, XXXVII. Leon of Sala-mis. Socrates was ordered by\\nthe Thirty Tyrants to fetch him before them, and Socrates, at his own\\nperil, refused.\\n\\nSarmatae, a tribe dwelling in Poland.\\n\\nSceletum, skeleton.\\n\\nSceptics, a school of philosophy founded by Pyrrho (4th contury B.C.).\\nHe advocated \"suspension of judgment,\" and taught the relativity of\\nknowledge and impossibility of proof. The school is not unlike the\\nAgnostic school.\\n\\nScipio, the name of two great soldiers, P. Corn. Scipio Africanus,\\nconqueror of Hannibal, and P.\\n\\nCorn. Sc. Afr. Minor, who came into the family by adoption, who\\ndestroyed Carthage.\\n\\nSecutoriani (a word coined by C.), the Sececutores, light-armed\\ngladiators, who were pitted against others with net and trident.\\n\\nSextus of Chaeronea, a Stoic philosopher, nephew of Plutarch.\\n\\nSilly, simple, common.\\n\\nSinuessa, a town in Latium.\\n\\nSocrates, an Athenian philosopher (469-399 B.C.), founder of the\\ndialectic method. Put to death on a trumped-up charge by his countrymen.\\n\\nStint, limit (without implying niggardliness).\\n\\nStoics, a philosophic system founded by Zeno (4th century B.C.), and\\nsystematised by Chrysippus (3rd century B.C.). Their physical theory\\nwas a pantheistic materialism, their summum bonum \"to live according\\nto nature.\" Their wise man needs nothing, he is sufficient to himself;\\nvirtue is good, vice bad, external things indifferent.\\n\\nTHEOPHRASTUS, a philosopher, pupil of Aristotle, and his successor as\\npresident of the Lyceum. He wrote a large number of works on philosophy\\nand natural history. Died 287 B.C.\\n\\nThrasea, P. Thrasea Pactus, a senator and Stoic philosopher, a noble and\\ncourageous man. He was condemned to death by Nero.\\n\\nTiberius, 2nd Roman Emperor (14-31 AD.). He spent the latter part of his\\nlife at Capreae (Capri), off Naples, in luxury or debauchery, neglecting\\nhis imperial duties.\\n\\nTo-torn, torn to pieces.\\n\\nTrajan, 13th Roman Emperor, 52-117 A.D.\\n\\nVERUS, Lucius Aurelius, colleague of M. Aurelius in the Empire.\\n\\nHe married Lucilla, daughter of M. A., and died 169 A.D.\\n\\nVespasian, 9th Roman Emperor XENOCRATES of Chalcedon, 396-314 B.C., a\\nphilosopher, and president of the Academy.\\n\\n\\n\\n\\n\\nEnd of the Project Gutenberg EBook of Meditations, by Marcus Aurelius\\n\\n*** END OF THIS PROJECT GUTENBERG EBOOK MEDITATIONS ***\\n\\n***** This file should be named 2680-8.txt or 2680-8.zip *****\\nThis and all associated files of various formats will be found in:\\n        http://www.gutenberg.org/2/6/8/2680/\\n\\nProduced by J. Boulton\\n\\nUpdated editions will replace the previous one--the old editions\\nwill be renamed.\\n\\nCreating the works from public domain print editions means that no\\none owns a United States copyright in these works, so the Foundation\\n(and you!) can copy and distribute it in the United States without\\npermission and without paying copyright royalties.  Special rules,\\nset forth in the General Terms of Use part of this license, apply to\\ncopying and distributing Project Gutenberg-tm electronic works to\\nprotect the PROJECT GUTENBERG-tm concept and trademark.  Project\\nGutenberg is a registered trademark, and may not be used if you\\ncharge for the eBooks, unless you receive specific permission.  If you\\ndo not charge anything for copies of this eBook, complying with the\\nrules is very easy.  You may use this eBook for nearly any purpose\\nsuch as creation of derivative works, reports, performances and\\nresearch.  They may be modified and printed and given away--you may do\\npractically ANYTHING with public domain eBooks.  Redistribution is\\nsubject to the trademark license, especially commercial\\nredistribution.\\n\\n\\n\\n*** START: FULL LICENSE ***\\n\\nTHE FULL PROJECT GUTENBERG LICENSE\\nPLEASE READ THIS BEFORE YOU DISTRIBUTE OR USE THIS WORK\\n\\nTo protect the Project Gutenberg-tm mission of promoting the free\\ndistribution of electronic works, by using or distributing this work\\n(or any other work associated in any way with the phrase \"Project\\nGutenberg\"), you agree to comply with all the terms of the Full Project\\nGutenberg-tm License (available with this file or online at\\nhttp://gutenberg.org/license).\\n\\n\\nSection 1.  General Terms of Use and Redistributing Project Gutenberg-tm\\nelectronic works\\n\\n1.A.  By reading or using any part of this Project Gutenberg-tm\\nelectronic work, you indicate that you have read, understand, agree to\\nand accept all the terms of this license and intellectual property\\n(trademark/copyright) agreement.  If you do not agree to abide by all\\nthe terms of this agreement, you must cease using and return or destroy\\nall copies of Project Gutenberg-tm electronic works in your possession.\\nIf you paid a fee for obtaining a copy of or access to a Project\\nGutenberg-tm electronic work and you do not agree to be bound by the\\nterms of this agreement, you may obtain a refund from the person or\\nentity to whom you paid the fee as set forth in paragraph 1.E.8.\\n\\n1.B.  \"Project Gutenberg\" is a registered trademark.  It may only be\\nused on or associated in any way with an electronic work by people who\\nagree to be bound by the terms of this agreement.  There are a few\\nthings that you can do with most Project Gutenberg-tm electronic works\\neven without complying with the full terms of this agreement.  See\\nparagraph 1.C below.  There are a lot of things you can do with Project\\nGutenberg-tm electronic works if you follow the terms of this agreement\\nand help preserve free future access to Project Gutenberg-tm electronic\\nworks.  See paragraph 1.E below.\\n\\n1.C.  The Project Gutenberg Literary Archive Foundation (\"the Foundation\"\\nor PGLAF), owns a compilation copyright in the collection of Project\\nGutenberg-tm electronic works.  Nearly all the individual works in the\\ncollection are in the public domain in the United States.  If an\\nindividual work is in the public domain in the United States and you are\\nlocated in the United States, we do not claim a right to prevent you from\\ncopying, distributing, performing, displaying or creating derivative\\nworks based on the work as long as all references to Project Gutenberg\\nare removed.  Of course, we hope that you will support the Project\\nGutenberg-tm mission of promoting free access to electronic works by\\nfreely sharing Project Gutenberg-tm works in compliance with the terms of\\nthis agreement for keeping the Project Gutenberg-tm name associated with\\nthe work.  You can easily comply with the terms of this agreement by\\nkeeping this work in the same format with its attached full Project\\nGutenberg-tm License when you share it without charge with others.\\n\\n1.D.  The copyright laws of the place where you are located also govern\\nwhat you can do with this work.  Copyright laws in most countries are in\\na constant state of change.  If you are outside the United States, check\\nthe laws of your country in addition to the terms of this agreement\\nbefore downloading, copying, displaying, performing, distributing or\\ncreating derivative works based on this work or any other Project\\nGutenberg-tm work.  The Foundation makes no representations concerning\\nthe copyright status of any work in any country outside the United\\nStates.\\n\\n1.E.  Unless you have removed all references to Project Gutenberg:\\n\\n1.E.1.  The following sentence, with active links to, or other immediate\\naccess to, the full Project Gutenberg-tm License must appear prominently\\nwhenever any copy of a Project Gutenberg-tm work (any work on which the\\nphrase \"Project Gutenberg\" appears, or with which the phrase \"Project\\nGutenberg\" is associated) is accessed, displayed, performed, viewed,\\ncopied or distributed:\\n\\nThis eBook is for the use of anyone anywhere at no cost and with\\nalmost no restrictions whatsoever.  You may copy it, give it away or\\nre-use it under the terms of the Project Gutenberg License included\\nwith this eBook or online at www.gutenberg.org\\n\\n1.E.2.  If an individual Project Gutenberg-tm electronic work is derived\\nfrom the public domain (does not contain a notice indicating that it is\\nposted with permission of the copyright holder), the work can be copied\\nand distributed to anyone in the United States without paying any fees\\nor charges.  If you are redistributing or providing access to a work\\nwith the phrase \"Project Gutenberg\" associated with or appearing on the\\nwork, you must comply either with the requirements of paragraphs 1.E.1\\nthrough 1.E.7 or obtain permission for the use of the work and the\\nProject Gutenberg-tm trademark as set forth in paragraphs 1.E.8 or\\n1.E.9.\\n\\n1.E.3.  If an individual Project Gutenberg-tm electronic work is posted\\nwith the permission of the copyright holder, your use and distribution\\nmust comply with both paragraphs 1.E.1 through 1.E.7 and any additional\\nterms imposed by the copyright holder.  Additional terms will be linked\\nto the Project Gutenberg-tm License for all works posted with the\\npermission of the copyright holder found at the beginning of this work.\\n\\n1.E.4.  Do not unlink or detach or remove the full Project Gutenberg-tm\\nLicense terms from this work, or any files containing a part of this\\nwork or any other work associated with Project Gutenberg-tm.\\n\\n1.E.5.  Do not copy, display, perform, distribute or redistribute this\\nelectronic work, or any part of this electronic work, without\\nprominently displaying the sentence set forth in paragraph 1.E.1 with\\nactive links or immediate access to the full terms of the Project\\nGutenberg-tm License.\\n\\n1.E.6.  You may convert to and distribute this work in any binary,\\ncompressed, marked up, nonproprietary or proprietary form, including any\\nword processing or hypertext form.  However, if you provide access to or\\ndistribute copies of a Project Gutenberg-tm work in a format other than\\n\"Plain Vanilla ASCII\" or other format used in the official version\\nposted on the official Project Gutenberg-tm web site (www.gutenberg.org),\\nyou must, at no additional cost, fee or expense to the user, provide a\\ncopy, a means of exporting a copy, or a means of obtaining a copy upon\\nrequest, of the work in its original \"Plain Vanilla ASCII\" or other\\nform.  Any alternate format must include the full Project Gutenberg-tm\\nLicense as specified in paragraph 1.E.1.\\n\\n1.E.7.  Do not charge a fee for access to, viewing, displaying,\\nperforming, copying or distributing any Project Gutenberg-tm works\\nunless you comply with paragraph 1.E.8 or 1.E.9.\\n\\n1.E.8.  You may charge a reasonable fee for copies of or providing\\naccess to or distributing Project Gutenberg-tm electronic works provided\\nthat\\n\\n- You pay a royalty fee of 20% of the gross profits you derive from\\n     the use of Project Gutenberg-tm works calculated using the method\\n     you already use to calculate your applicable taxes.  The fee is\\n     owed to the owner of the Project Gutenberg-tm trademark, but he\\n     has agreed to donate royalties under this paragraph to the\\n     Project Gutenberg Literary Archive Foundation.  Royalty payments\\n     must be paid within 60 days following each date on which you\\n     prepare (or are legally required to prepare) your periodic tax\\n     returns.  Royalty payments should be clearly marked as such and\\n     sent to the Project Gutenberg Literary Archive Foundation at the\\n     address specified in Section 4, \"Information about donations to\\n     the Project Gutenberg Literary Archive Foundation.\"\\n\\n- You provide a full refund of any money paid by a user who notifies\\n     you in writing (or by e-mail) within 30 days of receipt that s/he\\n     does not agree to the terms of the full Project Gutenberg-tm\\n     License.  You must require such a user to return or\\n     destroy all copies of the works possessed in a physical medium\\n     and discontinue all use of and all access to other copies of\\n     Project Gutenberg-tm works.\\n\\n- You provide, in accordance with paragraph 1.F.3, a full refund of any\\n     money paid for a work or a replacement copy, if a defect in the\\n     electronic work is discovered and reported to you within 90 days\\n     of receipt of the work.\\n\\n- You comply with all other terms of this agreement for free\\n     distribution of Project Gutenberg-tm works.\\n\\n1.E.9.  If you wish to charge a fee or distribute a Project Gutenberg-tm\\nelectronic work or group of works on different terms than are set\\nforth in this agreement, you must obtain permission in writing from\\nboth the Project Gutenberg Literary Archive Foundation and Michael\\nHart, the owner of the Project Gutenberg-tm trademark.  Contact the\\nFoundation as set forth in Section 3 below.\\n\\n1.F.\\n\\n1.F.1.  Project Gutenberg volunteers and employees expend considerable\\neffort to identify, do copyright research on, transcribe and proofread\\npublic domain works in creating the Project Gutenberg-tm\\ncollection.  Despite these efforts, Project Gutenberg-tm electronic\\nworks, and the medium on which they may be stored, may contain\\n\"Defects,\" such as, but not limited to, incomplete, inaccurate or\\ncorrupt data, transcription errors, a copyright or other intellectual\\nproperty infringement, a defective or damaged disk or other medium, a\\ncomputer virus, or computer codes that damage or cannot be read by\\nyour equipment.\\n\\n1.F.2.  LIMITED WARRANTY, DISCLAIMER OF DAMAGES - Except for the \"Right\\nof Replacement or Refund\" described in paragraph 1.F.3, the Project\\nGutenberg Literary Archive Foundation, the owner of the Project\\nGutenberg-tm trademark, and any other party distributing a Project\\nGutenberg-tm electronic work under this agreement, disclaim all\\nliability to you for damages, costs and expenses, including legal\\nfees.  YOU AGREE THAT YOU HAVE NO REMEDIES FOR NEGLIGENCE, STRICT\\nLIABILITY, BREACH OF WARRANTY OR BREACH OF CONTRACT EXCEPT THOSE\\nPROVIDED IN PARAGRAPH F3.  YOU AGREE THAT THE FOUNDATION, THE\\nTRADEMARK OWNER, AND ANY DISTRIBUTOR UNDER THIS AGREEMENT WILL NOT BE\\nLIABLE TO YOU FOR ACTUAL, DIRECT, INDIRECT, CONSEQUENTIAL, PUNITIVE OR\\nINCIDENTAL DAMAGES EVEN IF YOU GIVE NOTICE OF THE POSSIBILITY OF SUCH\\nDAMAGE.\\n\\n1.F.3.  LIMITED RIGHT OF REPLACEMENT OR REFUND - If you discover a\\ndefect in this electronic work within 90 days of receiving it, you can\\nreceive a refund of the money (if any) you paid for it by sending a\\nwritten explanation to the person you received the work from.  If you\\nreceived the work on a physical medium, you must return the medium with\\nyour written explanation.  The person or entity that provided you with\\nthe defective work may elect to provide a replacement copy in lieu of a\\nrefund.  If you received the work electronically, the person or entity\\nproviding it to you may choose to give you a second opportunity to\\nreceive the work electronically in lieu of a refund.  If the second copy\\nis also defective, you may demand a refund in writing without further\\nopportunities to fix the problem.\\n\\n1.F.4.  Except for the limited right of replacement or refund set forth\\nin paragraph 1.F.3, this work is provided to you \\'AS-IS\\' WITH NO OTHER\\nWARRANTIES OF ANY KIND, EXPRESS OR IMPLIED, INCLUDING BUT NOT LIMITED TO\\nWARRANTIES OF MERCHANTIBILITY OR FITNESS FOR ANY PURPOSE.\\n\\n1.F.5.  Some states do not allow disclaimers of certain implied\\nwarranties or the exclusion or limitation of certain types of damages.\\nIf any disclaimer or limitation set forth in this agreement violates the\\nlaw of the state applicable to this agreement, the agreement shall be\\ninterpreted to make the maximum disclaimer or limitation permitted by\\nthe applicable state law.  The invalidity or unenforceability of any\\nprovision of this agreement shall not void the remaining provisions.\\n\\n1.F.6.  INDEMNITY - You agree to indemnify and hold the Foundation, the\\ntrademark owner, any agent or employee of the Foundation, anyone\\nproviding copies of Project Gutenberg-tm electronic works in accordance\\nwith this agreement, and any volunteers associated with the production,\\npromotion and distribution of Project Gutenberg-tm electronic works,\\nharmless from all liability, costs and expenses, including legal fees,\\nthat arise directly or indirectly from any of the following which you do\\nor cause to occur: (a) distribution of this or any Project Gutenberg-tm\\nwork, (b) alteration, modification, or additions or deletions to any\\nProject Gutenberg-tm work, and (c) any Defect you cause.\\n\\n\\nSection  2.  Information about the Mission of Project Gutenberg-tm\\n\\nProject Gutenberg-tm is synonymous with the free distribution of\\nelectronic works in formats readable by the widest variety of computers\\nincluding obsolete, old, middle-aged and new computers.  It exists\\nbecause of the efforts of hundreds of volunteers and donations from\\npeople in all walks of life.\\n\\nVolunteers and financial support to provide volunteers with the\\nassistance they need, is critical to reaching Project Gutenberg-tm\\'s\\ngoals and ensuring that the Project Gutenberg-tm collection will\\nremain freely available for generations to come.  In 2001, the Project\\nGutenberg Literary Archive Foundation was created to provide a secure\\nand permanent future for Project Gutenberg-tm and future generations.\\nTo learn more about the Project Gutenberg Literary Archive Foundation\\nand how your efforts and donations can help, see Sections 3 and 4\\nand the Foundation web page at http://www.pglaf.org.\\n\\n\\nSection 3.  Information about the Project Gutenberg Literary Archive\\nFoundation\\n\\nThe Project Gutenberg Literary Archive Foundation is a non profit\\n501(c)(3) educational corporation organized under the laws of the\\nstate of Mississippi and granted tax exempt status by the Internal\\nRevenue Service.  The Foundation\\'s EIN or federal tax identification\\nnumber is 64-6221541.  Its 501(c)(3) letter is posted at\\nhttp://pglaf.org/fundraising.  Contributions to the Project Gutenberg\\nLiterary Archive Foundation are tax deductible to the full extent\\npermitted by U.S. federal laws and your state\\'s laws.\\n\\nThe Foundation\\'s principal office is located at 4557 Melan Dr. S.\\nFairbanks, AK, 99712., but its volunteers and employees are scattered\\nthroughout numerous locations.  Its business office is located at\\n809 North 1500 West, Salt Lake City, UT 84116, (801) 596-1887, email\\nbusiness@pglaf.org.  Email contact links and up to date contact\\ninformation can be found at the Foundation\\'s web site and official\\npage at http://pglaf.org\\n\\nFor additional contact information:\\n     Dr. Gregory B. Newby\\n     Chief Executive and Director\\n     gbnewby@pglaf.org\\n\\n\\nSection 4.  Information about Donations to the Project Gutenberg\\nLiterary Archive Foundation\\n\\nProject Gutenberg-tm depends upon and cannot survive without wide\\nspread public support and donations to carry out its mission of\\nincreasing the number of public domain and licensed works that can be\\nfreely distributed in machine readable form accessible by the widest\\narray of equipment including outdated equipment.  Many small donations\\n($1 to $5,000) are particularly important to maintaining tax exempt\\nstatus with the IRS.\\n\\nThe Foundation is committed to complying with the laws regulating\\ncharities and charitable donations in all 50 states of the United\\nStates.  Compliance requirements are not uniform and it takes a\\nconsiderable effort, much paperwork and many fees to meet and keep up\\nwith these requirements.  We do not solicit donations in locations\\nwhere we have not received written confirmation of compliance.  To\\nSEND DONATIONS or determine the status of compliance for any\\nparticular state visit http://pglaf.org\\n\\nWhile we cannot and do not solicit contributions from states where we\\nhave not met the solicitation requirements, we know of no prohibition\\nagainst accepting unsolicited donations from donors in such states who\\napproach us with offers to donate.\\n\\nInternational donations are gratefully accepted, but we cannot make\\nany statements concerning tax treatment of donations received from\\noutside the United States.  U.S. laws alone swamp our small staff.\\n\\nPlease check the Project Gutenberg Web pages for current donation\\nmethods and addresses.  Donations are accepted in a number of other\\nways including checks, online payments and credit card donations.\\nTo donate, please visit: http://pglaf.org/donate\\n\\n\\nSection 5.  General Information About Project Gutenberg-tm electronic\\nworks.\\n\\nProfessor Michael S. Hart is the originator of the Project Gutenberg-tm\\nconcept of a library of electronic works that could be freely shared\\nwith anyone.  For thirty years, he produced and distributed Project\\nGutenberg-tm eBooks with only a loose network of volunteer support.\\n\\n\\nProject Gutenberg-tm eBooks are often created from several printed\\neditions, all of which are confirmed as Public Domain in the U.S.\\nunless a copyright notice is included.  Thus, we do not necessarily\\nkeep eBooks in compliance with any particular paper edition.\\n\\n\\nMost people start at our Web site which has the main PG search facility:\\n\\n     http://www.gutenberg.org\\n\\nThis Web site includes information about Project Gutenberg-tm,\\nincluding how to make donations to the Project Gutenberg Literary\\nArchive Foundation, how to help produce our new eBooks, and how to\\nsubscribe to our email newsletter to hear about new eBooks.\\n', metadata={'source': 'pg2680.txt'})]\n"
          ]
        }
      ]
    },
    {
      "cell_type": "markdown",
      "source": [
        "now we are going to split the data\n",
        "\n",
        "We will use the langchain text splitter for this purpose\n",
        "\n",
        "https://python.langchain.com/v0.1/docs/modules/data_connection/document_transformers/character_text_splitter/"
      ],
      "metadata": {
        "id": "D2nZfglmDTKZ"
      }
    },
    {
      "cell_type": "code",
      "source": [
        "import os\n",
        "from getpass import getpass"
      ],
      "metadata": {
        "id": "VGZFGMYZDLZ1"
      },
      "execution_count": 11,
      "outputs": []
    },
    {
      "cell_type": "code",
      "source": [
        "from langchain_text_splitters import CharacterTextSplitter\n",
        "\n",
        "text_splitter = CharacterTextSplitter(\n",
        "    separator=\"\\n\",\n",
        "    chunk_size=1000,\n",
        "    chunk_overlap=200,\n",
        "    length_function=len,\n",
        "    is_separator_regex=False,\n",
        ")"
      ],
      "metadata": {
        "id": "MyfpRFFkDZ84"
      },
      "execution_count": 12,
      "outputs": []
    },
    {
      "cell_type": "code",
      "source": [
        "with open(\"pg2680.txt\") as f:\n",
        "    meditations = f.read()\n",
        "\n",
        "text1 = text_splitter.create_documents([meditations])\n",
        "print(text1[0])\n",
        "len(text1)"
      ],
      "metadata": {
        "colab": {
          "base_uri": "https://localhost:8080/"
        },
        "id": "rneGEQr8Dc6N",
        "outputId": "65446c98-01dc-4c19-b27d-4034ad864207"
      },
      "execution_count": 13,
      "outputs": [
        {
          "output_type": "stream",
          "name": "stdout",
          "text": [
            "page_content=\"\\ufeffThe Project Gutenberg EBook of Meditations, by Marcus Aurelius\\nThis eBook is for the use of anyone anywhere at no cost and with\\nalmost no restrictions whatsoever.  You may copy it, give it away or\\nre-use it under the terms of the Project Gutenberg License included\\nwith this eBook or online at www.gutenberg.org\\nTitle: Meditations\\nAuthor: Marcus Aurelius\\nPosting Date: December 25, 2008 [EBook #2680]\\nRelease Date: June, 2001\\nLanguage: English\\n*** START OF THIS PROJECT GUTENBERG EBOOK MEDITATIONS ***\\nProduced by J. Boulton\\nMEDITATIONS\\nBy Marcus Aurelius\\nCONTENTS\\n     NOTES\\n     INTRODUCTION\\n     FIRST BOOK\\n     SECOND BOOK\\n     THIRD BOOK\\n     FOURTH BOOK\\n     FIFTH BOOK\\n     SIXTH BOOK\\n     SEVENTH BOOK\\n     EIGHTH BOOK\\n     NINTH BOOK\\n     TENTH BOOK\\n     ELEVENTH BOOK\\n     TWELFTH BOOK\\n     APPENDIX\\n     GLOSSARY\\nOriginal Transcriber's Notes:\\nThis text was scanned by J. Boulton using Textbridge OCR. The Greek\\nportions of the text have been added by hand and they will require the\"\n"
          ]
        },
        {
          "output_type": "execute_result",
          "data": {
            "text/plain": [
              "509"
            ]
          },
          "metadata": {},
          "execution_count": 13
        }
      ]
    },
    {
      "cell_type": "code",
      "source": [
        "with open(\"pg17.txt\") as f:\n",
        "    mormons = f.read()\n",
        "\n",
        "text2 = text_splitter.create_documents([mormons])\n",
        "print(text2[2])\n",
        "len(text2)"
      ],
      "metadata": {
        "colab": {
          "base_uri": "https://localhost:8080/"
        },
        "id": "x_6Gf7Z4Fb9p",
        "outputId": "e91b5138-c870-462e-d8d8-abf96b31d5b5"
      },
      "execution_count": 14,
      "outputs": [
        {
          "output_type": "stream",
          "name": "stdout",
          "text": [
            "page_content='building a tower to get to heaven--Which is to show unto the\\nremnant of the House of Israel what great things the Lord hath\\ndone for their fathers; and that they may know the covenants of\\nthe Lord, that they are not cast off forever--And also to the\\nconvincing of the Jew and Gentile that JESUS is the CHRIST, the\\nETERNAL GOD, manifesting himself unto all nations--And now, if\\nthere are faults they are the mistakes of men; wherefore, condemn\\nnot the things of God, that ye may be found spotless at the\\njudgment-seat of Christ.\\nTRANSLATED BY JOSEPH SMITH, JUN.\\nTHE TESTIMONY OF THREE WITNESSES\\nBe it known unto all nations, kindreds, tongues, and people, unto\\nwhom this work shall come: That we, through the grace of God the\\nFather, and our Lord Jesus Christ, have seen the plates which\\ncontain this record, which is a record of the people of Nephi,\\nand also of the Lamanites, their brethren, and also of the people\\nof Jared, who came from the tower of which hath been spoken. And'\n"
          ]
        },
        {
          "output_type": "execute_result",
          "data": {
            "text/plain": [
              "1945"
            ]
          },
          "metadata": {},
          "execution_count": 14
        }
      ]
    },
    {
      "cell_type": "markdown",
      "source": [
        "##Creating an Index"
      ],
      "metadata": {
        "id": "TQMBY-RKKs8H"
      }
    },
    {
      "cell_type": "markdown",
      "source": [
        "###Selecting our vector store"
      ],
      "metadata": {
        "id": "hGAzRzN9Kxt6"
      }
    },
    {
      "cell_type": "markdown",
      "source": [
        "We are going to use FAISS - facebook AI similarity search for the vector embedding"
      ],
      "metadata": {
        "id": "W6bxkuFqK2F0"
      }
    },
    {
      "cell_type": "code",
      "source": [
        "!pip install -q -U faiss-cpu tiktoken sentence-transformers"
      ],
      "metadata": {
        "id": "MpqPXiGLFiz6"
      },
      "execution_count": 15,
      "outputs": []
    },
    {
      "cell_type": "markdown",
      "source": [
        "now we use the huggingface token to get access to model"
      ],
      "metadata": {
        "id": "X9sAGnxwK86q"
      }
    },
    {
      "cell_type": "code",
      "source": [
        "from huggingface_hub import notebook_login\n",
        "notebook_login()"
      ],
      "metadata": {
        "colab": {
          "base_uri": "https://localhost:8080/",
          "height": 331,
          "referenced_widgets": [
            "ef954723484245bfab4cda2566ee905d",
            "263f1140e7e148b8a2a2c03343f0fb0c",
            "9b0a6b7a6d0e41589562272c1de7cbe2",
            "7541d8b1dceb4419afee710fb219c7fb",
            "fafab02d8e2c4f079f46e6a1e006f49f",
            "6558237f74344d2a8e727402844cb2cd",
            "4d7d431702504325aaf9503cf22393ab",
            "fa7e1f01f488479aa069e4c26f2a8f4d",
            "8b962ba99e2a422cb34d20b55712e5d3",
            "87f452ec2a1148648c5a0af54d7e63ee",
            "6c0a03e338e344fc99f160d1e1ea84c1",
            "2dd602d264244ac19abacfda64761739",
            "2e66cf07a63f40558e306ee5cfdc3dac",
            "7a3384f3ae654c3f82151a2902871087",
            "5ea194b59e954b4cb1df016b00cc3e4b",
            "f288fe9ffa6b4970b86bb55a733088f0",
            "6c148ca18bd94a48a0ea30c380502dfb"
          ]
        },
        "id": "nGp45Ye3K4XM",
        "outputId": "87671edd-e52d-4833-b314-2357b23e05c1"
      },
      "execution_count": 16,
      "outputs": [
        {
          "output_type": "display_data",
          "data": {
            "text/plain": [
              "VBox(children=(HTML(value='<center> <img\\nsrc=https://huggingface.co/front/assets/huggingface_logo-noborder.sv…"
            ],
            "application/vnd.jupyter.widget-view+json": {
              "version_major": 2,
              "version_minor": 0,
              "model_id": "ef954723484245bfab4cda2566ee905d"
            }
          },
          "metadata": {}
        }
      ]
    },
    {
      "cell_type": "code",
      "source": [
        "from langchain.embeddings import CacheBackedEmbeddings, HuggingFaceEmbeddings\n",
        "from langchain.vectorstores import FAISS\n",
        "from langchain.storage import LocalFileStore\n",
        "\n",
        "\n",
        "store = LocalFileStore(\"./cache/\")\n",
        "\n",
        "embed_model_id = 'sentence-transformers/all-MiniLM-L12-v2'\n",
        "\n",
        "core_embeddings_model = HuggingFaceEmbeddings(\n",
        "    model_name=embed_model_id\n",
        ")\n",
        "\n",
        "embedder = CacheBackedEmbeddings.from_bytes_store(\n",
        "    core_embeddings_model, store, namespace=embed_model_id\n",
        ")\n",
        "\n",
        "vector_store = FAISS.from_documents(text1, embedder)"
      ],
      "metadata": {
        "colab": {
          "base_uri": "https://localhost:8080/"
        },
        "id": "bTNtXuwCK7zr",
        "outputId": "dc8d5665-de23-4e6b-f8c4-98b8c4c42850"
      },
      "execution_count": 17,
      "outputs": [
        {
          "output_type": "stream",
          "name": "stderr",
          "text": [
            "/usr/local/lib/python3.10/dist-packages/huggingface_hub/file_download.py:1132: FutureWarning: `resume_download` is deprecated and will be removed in version 1.0.0. Downloads always resume when possible. If you want to force a new download, use `force_download=True`.\n",
            "  warnings.warn(\n"
          ]
        }
      ]
    },
    {
      "cell_type": "markdown",
      "source": [
        "Now to check if the vector store works properly"
      ],
      "metadata": {
        "id": "eIaw_i3eLlB-"
      }
    },
    {
      "cell_type": "code",
      "source": [
        "query = \"Who is the author of this book?\"\n",
        "embedding_vector = core_embeddings_model.embed_query(query)\n",
        "docs = vector_store.similarity_search_by_vector(embedding_vector, k = 4)\n",
        "\n",
        "for page in docs:\n",
        "  print(page.page_content)"
      ],
      "metadata": {
        "colab": {
          "base_uri": "https://localhost:8080/"
        },
        "id": "fB9F46PELG1b",
        "outputId": "c184b13e-aa46-4ff3-c666-ef74b44b83d8"
      },
      "execution_count": 77,
      "outputs": [
        {
          "output_type": "stream",
          "name": "stdout",
          "text": [
            "neighbour, and knows not that at the same time he divides himself from\n",
            "the whole body, or corporation. But herein is the gift and mercy of God,\n",
            "the Author of this society, in that, once cut off we may grow together\n",
            "and become part of the whole again. But if this happen often the misery\n",
            "is that the further a man is run in this division, the harder he is to\n",
            "be reunited and restored again: and however the branch which, once cut\n",
            "of afterwards was graffed in, gardeners can tell you is not like that\n",
            "which sprouted together at first, and still continued in the unity of\n",
            "the body.\n",
            "VIII. To grow together like fellow branches in matter of good\n",
            "correspondence and affection; but not in matter of opinions. They that\n",
            "shall oppose thee in thy right courses, as it is not in their power to\n",
            "divert thee from thy good action, so neither let it be to divert thee\n",
            "from thy good affection towards them. But be it thy care to keep thyself\n",
            "constant in both; both in a right judgment and action, and in true\n",
            "﻿The Project Gutenberg EBook of Meditations, by Marcus Aurelius\n",
            "This eBook is for the use of anyone anywhere at no cost and with\n",
            "almost no restrictions whatsoever.  You may copy it, give it away or\n",
            "re-use it under the terms of the Project Gutenberg License included\n",
            "with this eBook or online at www.gutenberg.org\n",
            "Title: Meditations\n",
            "Author: Marcus Aurelius\n",
            "Posting Date: December 25, 2008 [EBook #2680]\n",
            "Release Date: June, 2001\n",
            "Language: English\n",
            "*** START OF THIS PROJECT GUTENBERG EBOOK MEDITATIONS ***\n",
            "Produced by J. Boulton\n",
            "MEDITATIONS\n",
            "By Marcus Aurelius\n",
            "CONTENTS\n",
            "     NOTES\n",
            "     INTRODUCTION\n",
            "     FIRST BOOK\n",
            "     SECOND BOOK\n",
            "     THIRD BOOK\n",
            "     FOURTH BOOK\n",
            "     FIFTH BOOK\n",
            "     SIXTH BOOK\n",
            "     SEVENTH BOOK\n",
            "     EIGHTH BOOK\n",
            "     NINTH BOOK\n",
            "     TENTH BOOK\n",
            "     ELEVENTH BOOK\n",
            "     TWELFTH BOOK\n",
            "     APPENDIX\n",
            "     GLOSSARY\n",
            "Original Transcriber's Notes:\n",
            "This text was scanned by J. Boulton using Textbridge OCR. The Greek\n",
            "portions of the text have been added by hand and they will require the\n",
            "words and deeds, ever to follow that which is most sound and perfect.\n",
            "For such a resolution will free a man from all trouble, strife,\n",
            "dissembling, and ostentation.\n",
            "THE FIFTH BOOK\n",
            "I. In the morning when thou findest thyself unwilling to rise, consider\n",
            "with thyself presently, it is to go about a man's work that I am stirred\n",
            "up. Am I then yet unwilling to go about that, for which I myself was\n",
            "born and brought forth into this world? Or was I made for this, to\n",
            "lay me down, and make much of myself in a warm bed? 'O but this is\n",
            "pleasing.' And was it then for this that thou wert born, that thou\n",
            "mightest enjoy pleasure? Was it not in very truth for this, that thou\n",
            "mightest always be busy and in action? Seest thou not how all things\n",
            "in the world besides, how every tree md plant, how sparrows and ants,\n",
            "spiders and bees: how all in their kind are intent as it were orderly to\n",
            "perform whatsoever (towards the preservation of this orderly universe)\n",
            "life, through which a man must pass pure, ever ready to depart, and\n",
            "willing of himself without any compulsion to fit and accommodate himself\n",
            "to his proper lot and portion.\n",
            "THE FOURTH BOOK\n",
            "I. That inward mistress part of man if it be in its own true natural\n",
            "temper, is towards all worldly chances and events ever so disposed and\n",
            "affected, that it will easily turn and apply itself to that which may\n",
            "be, and is within its own power to compass, when that cannot be which at\n",
            "first it intended. For it never doth absolutely addict and apply itself\n",
            "to any one object, but whatsoever it is that it doth now intend and\n",
            "prosecute, it doth prosecute it with exception and reservation; so that\n",
            "whatsoever it is that falls out contrary to its first intentions, even\n",
            "that afterwards it makes its proper object. Even as the fire when it\n",
            "prevails upon those things that are in his way; by which things indeed a\n",
            "little fire would have been quenched, but a great fire doth soon turn to\n"
          ]
        }
      ]
    },
    {
      "cell_type": "markdown",
      "source": [
        "Let's see how much time the CacheBackedEmbeddings pattern saves us:"
      ],
      "metadata": {
        "id": "fbrXd6k2ME2B"
      }
    },
    {
      "cell_type": "code",
      "source": [
        "%%timeit -n 1 -r 1\n",
        "query = \"Who was marcus aurelius?\"\n",
        "embedding_vector = embedder.embed_query(query)\n",
        "docs = vector_store.similarity_search_by_vector(embedding_vector, k = 4) #retrieving the top 4 documents"
      ],
      "metadata": {
        "colab": {
          "base_uri": "https://localhost:8080/"
        },
        "id": "VeujEy3gLud7",
        "outputId": "0a509b69-8e0b-4c36-d989-5b45486a4253"
      },
      "execution_count": 34,
      "outputs": [
        {
          "output_type": "stream",
          "name": "stdout",
          "text": [
            "26.2 ms ± 0 ns per loop (mean ± std. dev. of 1 run, 1 loop each)\n"
          ]
        }
      ]
    },
    {
      "cell_type": "code",
      "source": [
        "%%timeit\n",
        "query = \"Who was marcus aurelius?\"\n",
        "embedding_vector = embedder.embed_query(query)\n",
        "docs = vector_store.similarity_search_by_vector(embedding_vector, k = 4) #retrieving the top 4 documents"
      ],
      "metadata": {
        "colab": {
          "base_uri": "https://localhost:8080/"
        },
        "id": "kHDEn2ajMG-p",
        "outputId": "f20bfab3-cbc6-4377-a46d-b8debe650a71"
      },
      "execution_count": 35,
      "outputs": [
        {
          "output_type": "stream",
          "name": "stdout",
          "text": [
            "29.6 ms ± 5.36 ms per loop (mean ± std. dev. of 7 runs, 10 loops each)\n"
          ]
        }
      ]
    },
    {
      "cell_type": "markdown",
      "source": [
        "###Creating an index trying with another vector store: ChromaDB"
      ],
      "metadata": {
        "id": "3u2w0cDkM6tK"
      }
    },
    {
      "cell_type": "code",
      "source": [
        "!pip install chromadb"
      ],
      "metadata": {
        "colab": {
          "base_uri": "https://localhost:8080/"
        },
        "id": "hT2cF_gvNW9Q",
        "outputId": "cbe61513-d03b-41a2-aed8-a5625f291661"
      },
      "execution_count": 80,
      "outputs": [
        {
          "output_type": "stream",
          "name": "stdout",
          "text": [
            "Requirement already satisfied: chromadb in /usr/local/lib/python3.10/dist-packages (0.5.0)\n",
            "Requirement already satisfied: build>=1.0.3 in /usr/local/lib/python3.10/dist-packages (from chromadb) (1.2.1)\n",
            "Requirement already satisfied: requests>=2.28 in /usr/local/lib/python3.10/dist-packages (from chromadb) (2.31.0)\n",
            "Requirement already satisfied: pydantic>=1.9 in /usr/local/lib/python3.10/dist-packages (from chromadb) (2.7.1)\n",
            "Requirement already satisfied: chroma-hnswlib==0.7.3 in /usr/local/lib/python3.10/dist-packages (from chromadb) (0.7.3)\n",
            "Requirement already satisfied: fastapi>=0.95.2 in /usr/local/lib/python3.10/dist-packages (from chromadb) (0.111.0)\n",
            "Requirement already satisfied: uvicorn[standard]>=0.18.3 in /usr/local/lib/python3.10/dist-packages (from chromadb) (0.30.0)\n",
            "Requirement already satisfied: numpy>=1.22.5 in /usr/local/lib/python3.10/dist-packages (from chromadb) (1.25.2)\n",
            "Requirement already satisfied: posthog>=2.4.0 in /usr/local/lib/python3.10/dist-packages (from chromadb) (3.5.0)\n",
            "Requirement already satisfied: typing-extensions>=4.5.0 in /usr/local/lib/python3.10/dist-packages (from chromadb) (4.11.0)\n",
            "Requirement already satisfied: onnxruntime>=1.14.1 in /usr/local/lib/python3.10/dist-packages (from chromadb) (1.18.0)\n",
            "Requirement already satisfied: opentelemetry-api>=1.2.0 in /usr/local/lib/python3.10/dist-packages (from chromadb) (1.24.0)\n",
            "Requirement already satisfied: opentelemetry-exporter-otlp-proto-grpc>=1.2.0 in /usr/local/lib/python3.10/dist-packages (from chromadb) (1.24.0)\n",
            "Requirement already satisfied: opentelemetry-instrumentation-fastapi>=0.41b0 in /usr/local/lib/python3.10/dist-packages (from chromadb) (0.45b0)\n",
            "Requirement already satisfied: opentelemetry-sdk>=1.2.0 in /usr/local/lib/python3.10/dist-packages (from chromadb) (1.24.0)\n",
            "Requirement already satisfied: tokenizers>=0.13.2 in /usr/local/lib/python3.10/dist-packages (from chromadb) (0.19.1)\n",
            "Requirement already satisfied: pypika>=0.48.9 in /usr/local/lib/python3.10/dist-packages (from chromadb) (0.48.9)\n",
            "Requirement already satisfied: tqdm>=4.65.0 in /usr/local/lib/python3.10/dist-packages (from chromadb) (4.66.4)\n",
            "Requirement already satisfied: overrides>=7.3.1 in /usr/local/lib/python3.10/dist-packages (from chromadb) (7.7.0)\n",
            "Requirement already satisfied: importlib-resources in /usr/local/lib/python3.10/dist-packages (from chromadb) (6.4.0)\n",
            "Requirement already satisfied: grpcio>=1.58.0 in /usr/local/lib/python3.10/dist-packages (from chromadb) (1.64.0)\n",
            "Requirement already satisfied: bcrypt>=4.0.1 in /usr/local/lib/python3.10/dist-packages (from chromadb) (4.1.3)\n",
            "Requirement already satisfied: typer>=0.9.0 in /usr/local/lib/python3.10/dist-packages (from chromadb) (0.12.3)\n",
            "Requirement already satisfied: kubernetes>=28.1.0 in /usr/local/lib/python3.10/dist-packages (from chromadb) (29.0.0)\n",
            "Requirement already satisfied: tenacity>=8.2.3 in /usr/local/lib/python3.10/dist-packages (from chromadb) (8.3.0)\n",
            "Requirement already satisfied: PyYAML>=6.0.0 in /usr/local/lib/python3.10/dist-packages (from chromadb) (6.0.1)\n",
            "Requirement already satisfied: mmh3>=4.0.1 in /usr/local/lib/python3.10/dist-packages (from chromadb) (4.1.0)\n",
            "Requirement already satisfied: orjson>=3.9.12 in /usr/local/lib/python3.10/dist-packages (from chromadb) (3.10.3)\n",
            "Requirement already satisfied: packaging>=19.1 in /usr/local/lib/python3.10/dist-packages (from build>=1.0.3->chromadb) (23.2)\n",
            "Requirement already satisfied: pyproject_hooks in /usr/local/lib/python3.10/dist-packages (from build>=1.0.3->chromadb) (1.1.0)\n",
            "Requirement already satisfied: tomli>=1.1.0 in /usr/local/lib/python3.10/dist-packages (from build>=1.0.3->chromadb) (2.0.1)\n",
            "Requirement already satisfied: starlette<0.38.0,>=0.37.2 in /usr/local/lib/python3.10/dist-packages (from fastapi>=0.95.2->chromadb) (0.37.2)\n",
            "Requirement already satisfied: fastapi-cli>=0.0.2 in /usr/local/lib/python3.10/dist-packages (from fastapi>=0.95.2->chromadb) (0.0.4)\n",
            "Requirement already satisfied: httpx>=0.23.0 in /usr/local/lib/python3.10/dist-packages (from fastapi>=0.95.2->chromadb) (0.27.0)\n",
            "Requirement already satisfied: jinja2>=2.11.2 in /usr/local/lib/python3.10/dist-packages (from fastapi>=0.95.2->chromadb) (3.1.4)\n",
            "Requirement already satisfied: python-multipart>=0.0.7 in /usr/local/lib/python3.10/dist-packages (from fastapi>=0.95.2->chromadb) (0.0.9)\n",
            "Requirement already satisfied: ujson!=4.0.2,!=4.1.0,!=4.2.0,!=4.3.0,!=5.0.0,!=5.1.0,>=4.0.1 in /usr/local/lib/python3.10/dist-packages (from fastapi>=0.95.2->chromadb) (5.10.0)\n",
            "Requirement already satisfied: email_validator>=2.0.0 in /usr/local/lib/python3.10/dist-packages (from fastapi>=0.95.2->chromadb) (2.1.1)\n",
            "Requirement already satisfied: certifi>=14.05.14 in /usr/local/lib/python3.10/dist-packages (from kubernetes>=28.1.0->chromadb) (2024.2.2)\n",
            "Requirement already satisfied: six>=1.9.0 in /usr/local/lib/python3.10/dist-packages (from kubernetes>=28.1.0->chromadb) (1.16.0)\n",
            "Requirement already satisfied: python-dateutil>=2.5.3 in /usr/local/lib/python3.10/dist-packages (from kubernetes>=28.1.0->chromadb) (2.8.2)\n",
            "Requirement already satisfied: google-auth>=1.0.1 in /usr/local/lib/python3.10/dist-packages (from kubernetes>=28.1.0->chromadb) (2.27.0)\n",
            "Requirement already satisfied: websocket-client!=0.40.0,!=0.41.*,!=0.42.*,>=0.32.0 in /usr/local/lib/python3.10/dist-packages (from kubernetes>=28.1.0->chromadb) (1.8.0)\n",
            "Requirement already satisfied: requests-oauthlib in /usr/local/lib/python3.10/dist-packages (from kubernetes>=28.1.0->chromadb) (1.3.1)\n",
            "Requirement already satisfied: oauthlib>=3.2.2 in /usr/local/lib/python3.10/dist-packages (from kubernetes>=28.1.0->chromadb) (3.2.2)\n",
            "Requirement already satisfied: urllib3>=1.24.2 in /usr/local/lib/python3.10/dist-packages (from kubernetes>=28.1.0->chromadb) (2.0.7)\n",
            "Requirement already satisfied: coloredlogs in /usr/local/lib/python3.10/dist-packages (from onnxruntime>=1.14.1->chromadb) (15.0.1)\n",
            "Requirement already satisfied: flatbuffers in /usr/local/lib/python3.10/dist-packages (from onnxruntime>=1.14.1->chromadb) (24.3.25)\n",
            "Requirement already satisfied: protobuf in /usr/local/lib/python3.10/dist-packages (from onnxruntime>=1.14.1->chromadb) (3.20.3)\n",
            "Requirement already satisfied: sympy in /usr/local/lib/python3.10/dist-packages (from onnxruntime>=1.14.1->chromadb) (1.12)\n",
            "Requirement already satisfied: deprecated>=1.2.6 in /usr/local/lib/python3.10/dist-packages (from opentelemetry-api>=1.2.0->chromadb) (1.2.14)\n",
            "Requirement already satisfied: importlib-metadata<=7.0,>=6.0 in /usr/local/lib/python3.10/dist-packages (from opentelemetry-api>=1.2.0->chromadb) (7.0.0)\n",
            "Requirement already satisfied: googleapis-common-protos~=1.52 in /usr/local/lib/python3.10/dist-packages (from opentelemetry-exporter-otlp-proto-grpc>=1.2.0->chromadb) (1.63.0)\n",
            "Requirement already satisfied: opentelemetry-exporter-otlp-proto-common==1.24.0 in /usr/local/lib/python3.10/dist-packages (from opentelemetry-exporter-otlp-proto-grpc>=1.2.0->chromadb) (1.24.0)\n",
            "Requirement already satisfied: opentelemetry-proto==1.24.0 in /usr/local/lib/python3.10/dist-packages (from opentelemetry-exporter-otlp-proto-grpc>=1.2.0->chromadb) (1.24.0)\n",
            "Requirement already satisfied: opentelemetry-instrumentation-asgi==0.45b0 in /usr/local/lib/python3.10/dist-packages (from opentelemetry-instrumentation-fastapi>=0.41b0->chromadb) (0.45b0)\n",
            "Requirement already satisfied: opentelemetry-instrumentation==0.45b0 in /usr/local/lib/python3.10/dist-packages (from opentelemetry-instrumentation-fastapi>=0.41b0->chromadb) (0.45b0)\n",
            "Requirement already satisfied: opentelemetry-semantic-conventions==0.45b0 in /usr/local/lib/python3.10/dist-packages (from opentelemetry-instrumentation-fastapi>=0.41b0->chromadb) (0.45b0)\n",
            "Requirement already satisfied: opentelemetry-util-http==0.45b0 in /usr/local/lib/python3.10/dist-packages (from opentelemetry-instrumentation-fastapi>=0.41b0->chromadb) (0.45b0)\n",
            "Requirement already satisfied: setuptools>=16.0 in /usr/local/lib/python3.10/dist-packages (from opentelemetry-instrumentation==0.45b0->opentelemetry-instrumentation-fastapi>=0.41b0->chromadb) (67.7.2)\n",
            "Requirement already satisfied: wrapt<2.0.0,>=1.0.0 in /usr/local/lib/python3.10/dist-packages (from opentelemetry-instrumentation==0.45b0->opentelemetry-instrumentation-fastapi>=0.41b0->chromadb) (1.14.1)\n",
            "Requirement already satisfied: asgiref~=3.0 in /usr/local/lib/python3.10/dist-packages (from opentelemetry-instrumentation-asgi==0.45b0->opentelemetry-instrumentation-fastapi>=0.41b0->chromadb) (3.8.1)\n",
            "Requirement already satisfied: monotonic>=1.5 in /usr/local/lib/python3.10/dist-packages (from posthog>=2.4.0->chromadb) (1.6)\n",
            "Requirement already satisfied: backoff>=1.10.0 in /usr/local/lib/python3.10/dist-packages (from posthog>=2.4.0->chromadb) (2.2.1)\n",
            "Requirement already satisfied: annotated-types>=0.4.0 in /usr/local/lib/python3.10/dist-packages (from pydantic>=1.9->chromadb) (0.7.0)\n",
            "Requirement already satisfied: pydantic-core==2.18.2 in /usr/local/lib/python3.10/dist-packages (from pydantic>=1.9->chromadb) (2.18.2)\n",
            "Requirement already satisfied: charset-normalizer<4,>=2 in /usr/local/lib/python3.10/dist-packages (from requests>=2.28->chromadb) (3.3.2)\n",
            "Requirement already satisfied: idna<4,>=2.5 in /usr/local/lib/python3.10/dist-packages (from requests>=2.28->chromadb) (3.7)\n",
            "Requirement already satisfied: huggingface-hub<1.0,>=0.16.4 in /usr/local/lib/python3.10/dist-packages (from tokenizers>=0.13.2->chromadb) (0.23.1)\n",
            "Requirement already satisfied: click>=8.0.0 in /usr/local/lib/python3.10/dist-packages (from typer>=0.9.0->chromadb) (8.1.7)\n",
            "Requirement already satisfied: shellingham>=1.3.0 in /usr/local/lib/python3.10/dist-packages (from typer>=0.9.0->chromadb) (1.5.4)\n",
            "Requirement already satisfied: rich>=10.11.0 in /usr/local/lib/python3.10/dist-packages (from typer>=0.9.0->chromadb) (13.7.1)\n",
            "Requirement already satisfied: h11>=0.8 in /usr/local/lib/python3.10/dist-packages (from uvicorn[standard]>=0.18.3->chromadb) (0.14.0)\n",
            "Requirement already satisfied: httptools>=0.5.0 in /usr/local/lib/python3.10/dist-packages (from uvicorn[standard]>=0.18.3->chromadb) (0.6.1)\n",
            "Requirement already satisfied: python-dotenv>=0.13 in /usr/local/lib/python3.10/dist-packages (from uvicorn[standard]>=0.18.3->chromadb) (1.0.1)\n",
            "Requirement already satisfied: uvloop!=0.15.0,!=0.15.1,>=0.14.0 in /usr/local/lib/python3.10/dist-packages (from uvicorn[standard]>=0.18.3->chromadb) (0.19.0)\n",
            "Requirement already satisfied: watchfiles>=0.13 in /usr/local/lib/python3.10/dist-packages (from uvicorn[standard]>=0.18.3->chromadb) (0.22.0)\n",
            "Requirement already satisfied: websockets>=10.4 in /usr/local/lib/python3.10/dist-packages (from uvicorn[standard]>=0.18.3->chromadb) (12.0)\n",
            "Requirement already satisfied: dnspython>=2.0.0 in /usr/local/lib/python3.10/dist-packages (from email_validator>=2.0.0->fastapi>=0.95.2->chromadb) (2.6.1)\n",
            "Requirement already satisfied: cachetools<6.0,>=2.0.0 in /usr/local/lib/python3.10/dist-packages (from google-auth>=1.0.1->kubernetes>=28.1.0->chromadb) (5.3.3)\n",
            "Requirement already satisfied: pyasn1-modules>=0.2.1 in /usr/local/lib/python3.10/dist-packages (from google-auth>=1.0.1->kubernetes>=28.1.0->chromadb) (0.4.0)\n",
            "Requirement already satisfied: rsa<5,>=3.1.4 in /usr/local/lib/python3.10/dist-packages (from google-auth>=1.0.1->kubernetes>=28.1.0->chromadb) (4.9)\n",
            "Requirement already satisfied: anyio in /usr/local/lib/python3.10/dist-packages (from httpx>=0.23.0->fastapi>=0.95.2->chromadb) (3.7.1)\n",
            "Requirement already satisfied: httpcore==1.* in /usr/local/lib/python3.10/dist-packages (from httpx>=0.23.0->fastapi>=0.95.2->chromadb) (1.0.5)\n",
            "Requirement already satisfied: sniffio in /usr/local/lib/python3.10/dist-packages (from httpx>=0.23.0->fastapi>=0.95.2->chromadb) (1.3.1)\n",
            "Requirement already satisfied: filelock in /usr/local/lib/python3.10/dist-packages (from huggingface-hub<1.0,>=0.16.4->tokenizers>=0.13.2->chromadb) (3.14.0)\n",
            "Requirement already satisfied: fsspec>=2023.5.0 in /usr/local/lib/python3.10/dist-packages (from huggingface-hub<1.0,>=0.16.4->tokenizers>=0.13.2->chromadb) (2023.6.0)\n",
            "Requirement already satisfied: zipp>=0.5 in /usr/local/lib/python3.10/dist-packages (from importlib-metadata<=7.0,>=6.0->opentelemetry-api>=1.2.0->chromadb) (3.18.2)\n",
            "Requirement already satisfied: MarkupSafe>=2.0 in /usr/local/lib/python3.10/dist-packages (from jinja2>=2.11.2->fastapi>=0.95.2->chromadb) (2.1.5)\n",
            "Requirement already satisfied: markdown-it-py>=2.2.0 in /usr/local/lib/python3.10/dist-packages (from rich>=10.11.0->typer>=0.9.0->chromadb) (3.0.0)\n",
            "Requirement already satisfied: pygments<3.0.0,>=2.13.0 in /usr/local/lib/python3.10/dist-packages (from rich>=10.11.0->typer>=0.9.0->chromadb) (2.16.1)\n",
            "Requirement already satisfied: humanfriendly>=9.1 in /usr/local/lib/python3.10/dist-packages (from coloredlogs->onnxruntime>=1.14.1->chromadb) (10.0)\n",
            "Requirement already satisfied: mpmath>=0.19 in /usr/local/lib/python3.10/dist-packages (from sympy->onnxruntime>=1.14.1->chromadb) (1.3.0)\n",
            "Requirement already satisfied: exceptiongroup in /usr/local/lib/python3.10/dist-packages (from anyio->httpx>=0.23.0->fastapi>=0.95.2->chromadb) (1.2.1)\n",
            "Requirement already satisfied: mdurl~=0.1 in /usr/local/lib/python3.10/dist-packages (from markdown-it-py>=2.2.0->rich>=10.11.0->typer>=0.9.0->chromadb) (0.1.2)\n",
            "Requirement already satisfied: pyasn1<0.7.0,>=0.4.6 in /usr/local/lib/python3.10/dist-packages (from pyasn1-modules>=0.2.1->google-auth>=1.0.1->kubernetes>=28.1.0->chromadb) (0.6.0)\n"
          ]
        }
      ]
    },
    {
      "cell_type": "code",
      "source": [
        "from langchain.vectorstores import Chroma\n",
        "\n",
        "INDEX_PERSIST_DIRECTORY = os.getenv('INDEX_PERSIST_DIRECTORY', \"./data/chromadb\")"
      ],
      "metadata": {
        "id": "ladiz1JYNfXQ"
      },
      "execution_count": 81,
      "outputs": []
    },
    {
      "cell_type": "code",
      "source": [
        "!pip install langchain-chroma"
      ],
      "metadata": {
        "colab": {
          "base_uri": "https://localhost:8080/"
        },
        "id": "_u_OwLgiQMwE",
        "outputId": "e4f0e311-9022-48d8-fa53-98020c52b8dd"
      },
      "execution_count": 82,
      "outputs": [
        {
          "output_type": "stream",
          "name": "stdout",
          "text": [
            "Requirement already satisfied: langchain-chroma in /usr/local/lib/python3.10/dist-packages (0.1.1)\n",
            "Requirement already satisfied: chromadb<0.6.0,>=0.4.0 in /usr/local/lib/python3.10/dist-packages (from langchain-chroma) (0.5.0)\n",
            "Requirement already satisfied: fastapi<1,>=0.95.2 in /usr/local/lib/python3.10/dist-packages (from langchain-chroma) (0.111.0)\n",
            "Requirement already satisfied: langchain-core<0.3,>=0.1.40 in /usr/local/lib/python3.10/dist-packages (from langchain-chroma) (0.2.2)\n",
            "Requirement already satisfied: numpy<2,>=1 in /usr/local/lib/python3.10/dist-packages (from langchain-chroma) (1.25.2)\n",
            "Requirement already satisfied: build>=1.0.3 in /usr/local/lib/python3.10/dist-packages (from chromadb<0.6.0,>=0.4.0->langchain-chroma) (1.2.1)\n",
            "Requirement already satisfied: requests>=2.28 in /usr/local/lib/python3.10/dist-packages (from chromadb<0.6.0,>=0.4.0->langchain-chroma) (2.31.0)\n",
            "Requirement already satisfied: pydantic>=1.9 in /usr/local/lib/python3.10/dist-packages (from chromadb<0.6.0,>=0.4.0->langchain-chroma) (2.7.1)\n",
            "Requirement already satisfied: chroma-hnswlib==0.7.3 in /usr/local/lib/python3.10/dist-packages (from chromadb<0.6.0,>=0.4.0->langchain-chroma) (0.7.3)\n",
            "Requirement already satisfied: uvicorn[standard]>=0.18.3 in /usr/local/lib/python3.10/dist-packages (from chromadb<0.6.0,>=0.4.0->langchain-chroma) (0.30.0)\n",
            "Requirement already satisfied: posthog>=2.4.0 in /usr/local/lib/python3.10/dist-packages (from chromadb<0.6.0,>=0.4.0->langchain-chroma) (3.5.0)\n",
            "Requirement already satisfied: typing-extensions>=4.5.0 in /usr/local/lib/python3.10/dist-packages (from chromadb<0.6.0,>=0.4.0->langchain-chroma) (4.11.0)\n",
            "Requirement already satisfied: onnxruntime>=1.14.1 in /usr/local/lib/python3.10/dist-packages (from chromadb<0.6.0,>=0.4.0->langchain-chroma) (1.18.0)\n",
            "Requirement already satisfied: opentelemetry-api>=1.2.0 in /usr/local/lib/python3.10/dist-packages (from chromadb<0.6.0,>=0.4.0->langchain-chroma) (1.24.0)\n",
            "Requirement already satisfied: opentelemetry-exporter-otlp-proto-grpc>=1.2.0 in /usr/local/lib/python3.10/dist-packages (from chromadb<0.6.0,>=0.4.0->langchain-chroma) (1.24.0)\n",
            "Requirement already satisfied: opentelemetry-instrumentation-fastapi>=0.41b0 in /usr/local/lib/python3.10/dist-packages (from chromadb<0.6.0,>=0.4.0->langchain-chroma) (0.45b0)\n",
            "Requirement already satisfied: opentelemetry-sdk>=1.2.0 in /usr/local/lib/python3.10/dist-packages (from chromadb<0.6.0,>=0.4.0->langchain-chroma) (1.24.0)\n",
            "Requirement already satisfied: tokenizers>=0.13.2 in /usr/local/lib/python3.10/dist-packages (from chromadb<0.6.0,>=0.4.0->langchain-chroma) (0.19.1)\n",
            "Requirement already satisfied: pypika>=0.48.9 in /usr/local/lib/python3.10/dist-packages (from chromadb<0.6.0,>=0.4.0->langchain-chroma) (0.48.9)\n",
            "Requirement already satisfied: tqdm>=4.65.0 in /usr/local/lib/python3.10/dist-packages (from chromadb<0.6.0,>=0.4.0->langchain-chroma) (4.66.4)\n",
            "Requirement already satisfied: overrides>=7.3.1 in /usr/local/lib/python3.10/dist-packages (from chromadb<0.6.0,>=0.4.0->langchain-chroma) (7.7.0)\n",
            "Requirement already satisfied: importlib-resources in /usr/local/lib/python3.10/dist-packages (from chromadb<0.6.0,>=0.4.0->langchain-chroma) (6.4.0)\n",
            "Requirement already satisfied: grpcio>=1.58.0 in /usr/local/lib/python3.10/dist-packages (from chromadb<0.6.0,>=0.4.0->langchain-chroma) (1.64.0)\n",
            "Requirement already satisfied: bcrypt>=4.0.1 in /usr/local/lib/python3.10/dist-packages (from chromadb<0.6.0,>=0.4.0->langchain-chroma) (4.1.3)\n",
            "Requirement already satisfied: typer>=0.9.0 in /usr/local/lib/python3.10/dist-packages (from chromadb<0.6.0,>=0.4.0->langchain-chroma) (0.12.3)\n",
            "Requirement already satisfied: kubernetes>=28.1.0 in /usr/local/lib/python3.10/dist-packages (from chromadb<0.6.0,>=0.4.0->langchain-chroma) (29.0.0)\n",
            "Requirement already satisfied: tenacity>=8.2.3 in /usr/local/lib/python3.10/dist-packages (from chromadb<0.6.0,>=0.4.0->langchain-chroma) (8.3.0)\n",
            "Requirement already satisfied: PyYAML>=6.0.0 in /usr/local/lib/python3.10/dist-packages (from chromadb<0.6.0,>=0.4.0->langchain-chroma) (6.0.1)\n",
            "Requirement already satisfied: mmh3>=4.0.1 in /usr/local/lib/python3.10/dist-packages (from chromadb<0.6.0,>=0.4.0->langchain-chroma) (4.1.0)\n",
            "Requirement already satisfied: orjson>=3.9.12 in /usr/local/lib/python3.10/dist-packages (from chromadb<0.6.0,>=0.4.0->langchain-chroma) (3.10.3)\n",
            "Requirement already satisfied: starlette<0.38.0,>=0.37.2 in /usr/local/lib/python3.10/dist-packages (from fastapi<1,>=0.95.2->langchain-chroma) (0.37.2)\n",
            "Requirement already satisfied: fastapi-cli>=0.0.2 in /usr/local/lib/python3.10/dist-packages (from fastapi<1,>=0.95.2->langchain-chroma) (0.0.4)\n",
            "Requirement already satisfied: httpx>=0.23.0 in /usr/local/lib/python3.10/dist-packages (from fastapi<1,>=0.95.2->langchain-chroma) (0.27.0)\n",
            "Requirement already satisfied: jinja2>=2.11.2 in /usr/local/lib/python3.10/dist-packages (from fastapi<1,>=0.95.2->langchain-chroma) (3.1.4)\n",
            "Requirement already satisfied: python-multipart>=0.0.7 in /usr/local/lib/python3.10/dist-packages (from fastapi<1,>=0.95.2->langchain-chroma) (0.0.9)\n",
            "Requirement already satisfied: ujson!=4.0.2,!=4.1.0,!=4.2.0,!=4.3.0,!=5.0.0,!=5.1.0,>=4.0.1 in /usr/local/lib/python3.10/dist-packages (from fastapi<1,>=0.95.2->langchain-chroma) (5.10.0)\n",
            "Requirement already satisfied: email_validator>=2.0.0 in /usr/local/lib/python3.10/dist-packages (from fastapi<1,>=0.95.2->langchain-chroma) (2.1.1)\n",
            "Requirement already satisfied: jsonpatch<2.0,>=1.33 in /usr/local/lib/python3.10/dist-packages (from langchain-core<0.3,>=0.1.40->langchain-chroma) (1.33)\n",
            "Requirement already satisfied: langsmith<0.2.0,>=0.1.0 in /usr/local/lib/python3.10/dist-packages (from langchain-core<0.3,>=0.1.40->langchain-chroma) (0.1.65)\n",
            "Requirement already satisfied: packaging<24.0,>=23.2 in /usr/local/lib/python3.10/dist-packages (from langchain-core<0.3,>=0.1.40->langchain-chroma) (23.2)\n",
            "Requirement already satisfied: pyproject_hooks in /usr/local/lib/python3.10/dist-packages (from build>=1.0.3->chromadb<0.6.0,>=0.4.0->langchain-chroma) (1.1.0)\n",
            "Requirement already satisfied: tomli>=1.1.0 in /usr/local/lib/python3.10/dist-packages (from build>=1.0.3->chromadb<0.6.0,>=0.4.0->langchain-chroma) (2.0.1)\n",
            "Requirement already satisfied: dnspython>=2.0.0 in /usr/local/lib/python3.10/dist-packages (from email_validator>=2.0.0->fastapi<1,>=0.95.2->langchain-chroma) (2.6.1)\n",
            "Requirement already satisfied: idna>=2.0.0 in /usr/local/lib/python3.10/dist-packages (from email_validator>=2.0.0->fastapi<1,>=0.95.2->langchain-chroma) (3.7)\n",
            "Requirement already satisfied: anyio in /usr/local/lib/python3.10/dist-packages (from httpx>=0.23.0->fastapi<1,>=0.95.2->langchain-chroma) (3.7.1)\n",
            "Requirement already satisfied: certifi in /usr/local/lib/python3.10/dist-packages (from httpx>=0.23.0->fastapi<1,>=0.95.2->langchain-chroma) (2024.2.2)\n",
            "Requirement already satisfied: httpcore==1.* in /usr/local/lib/python3.10/dist-packages (from httpx>=0.23.0->fastapi<1,>=0.95.2->langchain-chroma) (1.0.5)\n",
            "Requirement already satisfied: sniffio in /usr/local/lib/python3.10/dist-packages (from httpx>=0.23.0->fastapi<1,>=0.95.2->langchain-chroma) (1.3.1)\n",
            "Requirement already satisfied: h11<0.15,>=0.13 in /usr/local/lib/python3.10/dist-packages (from httpcore==1.*->httpx>=0.23.0->fastapi<1,>=0.95.2->langchain-chroma) (0.14.0)\n",
            "Requirement already satisfied: MarkupSafe>=2.0 in /usr/local/lib/python3.10/dist-packages (from jinja2>=2.11.2->fastapi<1,>=0.95.2->langchain-chroma) (2.1.5)\n",
            "Requirement already satisfied: jsonpointer>=1.9 in /usr/local/lib/python3.10/dist-packages (from jsonpatch<2.0,>=1.33->langchain-core<0.3,>=0.1.40->langchain-chroma) (2.4)\n",
            "Requirement already satisfied: six>=1.9.0 in /usr/local/lib/python3.10/dist-packages (from kubernetes>=28.1.0->chromadb<0.6.0,>=0.4.0->langchain-chroma) (1.16.0)\n",
            "Requirement already satisfied: python-dateutil>=2.5.3 in /usr/local/lib/python3.10/dist-packages (from kubernetes>=28.1.0->chromadb<0.6.0,>=0.4.0->langchain-chroma) (2.8.2)\n",
            "Requirement already satisfied: google-auth>=1.0.1 in /usr/local/lib/python3.10/dist-packages (from kubernetes>=28.1.0->chromadb<0.6.0,>=0.4.0->langchain-chroma) (2.27.0)\n",
            "Requirement already satisfied: websocket-client!=0.40.0,!=0.41.*,!=0.42.*,>=0.32.0 in /usr/local/lib/python3.10/dist-packages (from kubernetes>=28.1.0->chromadb<0.6.0,>=0.4.0->langchain-chroma) (1.8.0)\n",
            "Requirement already satisfied: requests-oauthlib in /usr/local/lib/python3.10/dist-packages (from kubernetes>=28.1.0->chromadb<0.6.0,>=0.4.0->langchain-chroma) (1.3.1)\n",
            "Requirement already satisfied: oauthlib>=3.2.2 in /usr/local/lib/python3.10/dist-packages (from kubernetes>=28.1.0->chromadb<0.6.0,>=0.4.0->langchain-chroma) (3.2.2)\n",
            "Requirement already satisfied: urllib3>=1.24.2 in /usr/local/lib/python3.10/dist-packages (from kubernetes>=28.1.0->chromadb<0.6.0,>=0.4.0->langchain-chroma) (2.0.7)\n",
            "Requirement already satisfied: coloredlogs in /usr/local/lib/python3.10/dist-packages (from onnxruntime>=1.14.1->chromadb<0.6.0,>=0.4.0->langchain-chroma) (15.0.1)\n",
            "Requirement already satisfied: flatbuffers in /usr/local/lib/python3.10/dist-packages (from onnxruntime>=1.14.1->chromadb<0.6.0,>=0.4.0->langchain-chroma) (24.3.25)\n",
            "Requirement already satisfied: protobuf in /usr/local/lib/python3.10/dist-packages (from onnxruntime>=1.14.1->chromadb<0.6.0,>=0.4.0->langchain-chroma) (3.20.3)\n",
            "Requirement already satisfied: sympy in /usr/local/lib/python3.10/dist-packages (from onnxruntime>=1.14.1->chromadb<0.6.0,>=0.4.0->langchain-chroma) (1.12)\n",
            "Requirement already satisfied: deprecated>=1.2.6 in /usr/local/lib/python3.10/dist-packages (from opentelemetry-api>=1.2.0->chromadb<0.6.0,>=0.4.0->langchain-chroma) (1.2.14)\n",
            "Requirement already satisfied: importlib-metadata<=7.0,>=6.0 in /usr/local/lib/python3.10/dist-packages (from opentelemetry-api>=1.2.0->chromadb<0.6.0,>=0.4.0->langchain-chroma) (7.0.0)\n",
            "Requirement already satisfied: googleapis-common-protos~=1.52 in /usr/local/lib/python3.10/dist-packages (from opentelemetry-exporter-otlp-proto-grpc>=1.2.0->chromadb<0.6.0,>=0.4.0->langchain-chroma) (1.63.0)\n",
            "Requirement already satisfied: opentelemetry-exporter-otlp-proto-common==1.24.0 in /usr/local/lib/python3.10/dist-packages (from opentelemetry-exporter-otlp-proto-grpc>=1.2.0->chromadb<0.6.0,>=0.4.0->langchain-chroma) (1.24.0)\n",
            "Requirement already satisfied: opentelemetry-proto==1.24.0 in /usr/local/lib/python3.10/dist-packages (from opentelemetry-exporter-otlp-proto-grpc>=1.2.0->chromadb<0.6.0,>=0.4.0->langchain-chroma) (1.24.0)\n",
            "Requirement already satisfied: opentelemetry-instrumentation-asgi==0.45b0 in /usr/local/lib/python3.10/dist-packages (from opentelemetry-instrumentation-fastapi>=0.41b0->chromadb<0.6.0,>=0.4.0->langchain-chroma) (0.45b0)\n",
            "Requirement already satisfied: opentelemetry-instrumentation==0.45b0 in /usr/local/lib/python3.10/dist-packages (from opentelemetry-instrumentation-fastapi>=0.41b0->chromadb<0.6.0,>=0.4.0->langchain-chroma) (0.45b0)\n",
            "Requirement already satisfied: opentelemetry-semantic-conventions==0.45b0 in /usr/local/lib/python3.10/dist-packages (from opentelemetry-instrumentation-fastapi>=0.41b0->chromadb<0.6.0,>=0.4.0->langchain-chroma) (0.45b0)\n",
            "Requirement already satisfied: opentelemetry-util-http==0.45b0 in /usr/local/lib/python3.10/dist-packages (from opentelemetry-instrumentation-fastapi>=0.41b0->chromadb<0.6.0,>=0.4.0->langchain-chroma) (0.45b0)\n",
            "Requirement already satisfied: setuptools>=16.0 in /usr/local/lib/python3.10/dist-packages (from opentelemetry-instrumentation==0.45b0->opentelemetry-instrumentation-fastapi>=0.41b0->chromadb<0.6.0,>=0.4.0->langchain-chroma) (67.7.2)\n",
            "Requirement already satisfied: wrapt<2.0.0,>=1.0.0 in /usr/local/lib/python3.10/dist-packages (from opentelemetry-instrumentation==0.45b0->opentelemetry-instrumentation-fastapi>=0.41b0->chromadb<0.6.0,>=0.4.0->langchain-chroma) (1.14.1)\n",
            "Requirement already satisfied: asgiref~=3.0 in /usr/local/lib/python3.10/dist-packages (from opentelemetry-instrumentation-asgi==0.45b0->opentelemetry-instrumentation-fastapi>=0.41b0->chromadb<0.6.0,>=0.4.0->langchain-chroma) (3.8.1)\n",
            "Requirement already satisfied: monotonic>=1.5 in /usr/local/lib/python3.10/dist-packages (from posthog>=2.4.0->chromadb<0.6.0,>=0.4.0->langchain-chroma) (1.6)\n",
            "Requirement already satisfied: backoff>=1.10.0 in /usr/local/lib/python3.10/dist-packages (from posthog>=2.4.0->chromadb<0.6.0,>=0.4.0->langchain-chroma) (2.2.1)\n",
            "Requirement already satisfied: annotated-types>=0.4.0 in /usr/local/lib/python3.10/dist-packages (from pydantic>=1.9->chromadb<0.6.0,>=0.4.0->langchain-chroma) (0.7.0)\n",
            "Requirement already satisfied: pydantic-core==2.18.2 in /usr/local/lib/python3.10/dist-packages (from pydantic>=1.9->chromadb<0.6.0,>=0.4.0->langchain-chroma) (2.18.2)\n",
            "Requirement already satisfied: charset-normalizer<4,>=2 in /usr/local/lib/python3.10/dist-packages (from requests>=2.28->chromadb<0.6.0,>=0.4.0->langchain-chroma) (3.3.2)\n",
            "Requirement already satisfied: huggingface-hub<1.0,>=0.16.4 in /usr/local/lib/python3.10/dist-packages (from tokenizers>=0.13.2->chromadb<0.6.0,>=0.4.0->langchain-chroma) (0.23.1)\n",
            "Requirement already satisfied: click>=8.0.0 in /usr/local/lib/python3.10/dist-packages (from typer>=0.9.0->chromadb<0.6.0,>=0.4.0->langchain-chroma) (8.1.7)\n",
            "Requirement already satisfied: shellingham>=1.3.0 in /usr/local/lib/python3.10/dist-packages (from typer>=0.9.0->chromadb<0.6.0,>=0.4.0->langchain-chroma) (1.5.4)\n",
            "Requirement already satisfied: rich>=10.11.0 in /usr/local/lib/python3.10/dist-packages (from typer>=0.9.0->chromadb<0.6.0,>=0.4.0->langchain-chroma) (13.7.1)\n",
            "Requirement already satisfied: httptools>=0.5.0 in /usr/local/lib/python3.10/dist-packages (from uvicorn[standard]>=0.18.3->chromadb<0.6.0,>=0.4.0->langchain-chroma) (0.6.1)\n",
            "Requirement already satisfied: python-dotenv>=0.13 in /usr/local/lib/python3.10/dist-packages (from uvicorn[standard]>=0.18.3->chromadb<0.6.0,>=0.4.0->langchain-chroma) (1.0.1)\n",
            "Requirement already satisfied: uvloop!=0.15.0,!=0.15.1,>=0.14.0 in /usr/local/lib/python3.10/dist-packages (from uvicorn[standard]>=0.18.3->chromadb<0.6.0,>=0.4.0->langchain-chroma) (0.19.0)\n",
            "Requirement already satisfied: watchfiles>=0.13 in /usr/local/lib/python3.10/dist-packages (from uvicorn[standard]>=0.18.3->chromadb<0.6.0,>=0.4.0->langchain-chroma) (0.22.0)\n",
            "Requirement already satisfied: websockets>=10.4 in /usr/local/lib/python3.10/dist-packages (from uvicorn[standard]>=0.18.3->chromadb<0.6.0,>=0.4.0->langchain-chroma) (12.0)\n",
            "Requirement already satisfied: exceptiongroup in /usr/local/lib/python3.10/dist-packages (from anyio->httpx>=0.23.0->fastapi<1,>=0.95.2->langchain-chroma) (1.2.1)\n",
            "Requirement already satisfied: cachetools<6.0,>=2.0.0 in /usr/local/lib/python3.10/dist-packages (from google-auth>=1.0.1->kubernetes>=28.1.0->chromadb<0.6.0,>=0.4.0->langchain-chroma) (5.3.3)\n",
            "Requirement already satisfied: pyasn1-modules>=0.2.1 in /usr/local/lib/python3.10/dist-packages (from google-auth>=1.0.1->kubernetes>=28.1.0->chromadb<0.6.0,>=0.4.0->langchain-chroma) (0.4.0)\n",
            "Requirement already satisfied: rsa<5,>=3.1.4 in /usr/local/lib/python3.10/dist-packages (from google-auth>=1.0.1->kubernetes>=28.1.0->chromadb<0.6.0,>=0.4.0->langchain-chroma) (4.9)\n",
            "Requirement already satisfied: filelock in /usr/local/lib/python3.10/dist-packages (from huggingface-hub<1.0,>=0.16.4->tokenizers>=0.13.2->chromadb<0.6.0,>=0.4.0->langchain-chroma) (3.14.0)\n",
            "Requirement already satisfied: fsspec>=2023.5.0 in /usr/local/lib/python3.10/dist-packages (from huggingface-hub<1.0,>=0.16.4->tokenizers>=0.13.2->chromadb<0.6.0,>=0.4.0->langchain-chroma) (2023.6.0)\n",
            "Requirement already satisfied: zipp>=0.5 in /usr/local/lib/python3.10/dist-packages (from importlib-metadata<=7.0,>=6.0->opentelemetry-api>=1.2.0->chromadb<0.6.0,>=0.4.0->langchain-chroma) (3.18.2)\n",
            "Requirement already satisfied: markdown-it-py>=2.2.0 in /usr/local/lib/python3.10/dist-packages (from rich>=10.11.0->typer>=0.9.0->chromadb<0.6.0,>=0.4.0->langchain-chroma) (3.0.0)\n",
            "Requirement already satisfied: pygments<3.0.0,>=2.13.0 in /usr/local/lib/python3.10/dist-packages (from rich>=10.11.0->typer>=0.9.0->chromadb<0.6.0,>=0.4.0->langchain-chroma) (2.16.1)\n",
            "Requirement already satisfied: humanfriendly>=9.1 in /usr/local/lib/python3.10/dist-packages (from coloredlogs->onnxruntime>=1.14.1->chromadb<0.6.0,>=0.4.0->langchain-chroma) (10.0)\n",
            "Requirement already satisfied: mpmath>=0.19 in /usr/local/lib/python3.10/dist-packages (from sympy->onnxruntime>=1.14.1->chromadb<0.6.0,>=0.4.0->langchain-chroma) (1.3.0)\n",
            "Requirement already satisfied: mdurl~=0.1 in /usr/local/lib/python3.10/dist-packages (from markdown-it-py>=2.2.0->rich>=10.11.0->typer>=0.9.0->chromadb<0.6.0,>=0.4.0->langchain-chroma) (0.1.2)\n",
            "Requirement already satisfied: pyasn1<0.7.0,>=0.4.6 in /usr/local/lib/python3.10/dist-packages (from pyasn1-modules>=0.2.1->google-auth>=1.0.1->kubernetes>=28.1.0->chromadb<0.6.0,>=0.4.0->langchain-chroma) (0.6.0)\n"
          ]
        }
      ]
    },
    {
      "cell_type": "code",
      "source": [
        "from langchain_community.embeddings.sentence_transformer import (\n",
        "    SentenceTransformerEmbeddings,\n",
        ")\n",
        "from langchain_chroma import Chroma"
      ],
      "metadata": {
        "id": "fmRUKbyLQBzR"
      },
      "execution_count": 18,
      "outputs": []
    },
    {
      "cell_type": "code",
      "source": [
        "#loading the document\n",
        "loader = TextLoader(\"pg17.txt\")\n",
        "documents = loader.load()\n",
        "\n",
        "# split it into chunks\n",
        "text_splitter = CharacterTextSplitter(chunk_size=1000, chunk_overlap=0)\n",
        "docs = text_splitter.split_documents(documents)\n",
        "\n",
        "embeddings = SentenceTransformerEmbeddings(model_name=\"all-MiniLM-L6-v2\")\n",
        "vectordbChroma = Chroma.from_documents(\n",
        "        documents=text1,\n",
        "        embedding=embeddings\n",
        "    )\n"
      ],
      "metadata": {
        "colab": {
          "base_uri": "https://localhost:8080/"
        },
        "id": "TnZnODECMIsr",
        "outputId": "ec579013-fcab-479f-b61f-676efd5fdc10"
      },
      "execution_count": 19,
      "outputs": [
        {
          "output_type": "stream",
          "name": "stderr",
          "text": [
            "WARNING:langchain_text_splitters.base:Created a chunk of size 1541, which is longer than the specified 1000\n",
            "WARNING:langchain_text_splitters.base:Created a chunk of size 1013, which is longer than the specified 1000\n",
            "WARNING:langchain_text_splitters.base:Created a chunk of size 1052, which is longer than the specified 1000\n",
            "/usr/local/lib/python3.10/dist-packages/huggingface_hub/file_download.py:1132: FutureWarning: `resume_download` is deprecated and will be removed in version 1.0.0. Downloads always resume when possible. If you want to force a new download, use `force_download=True`.\n",
            "  warnings.warn(\n"
          ]
        }
      ]
    },
    {
      "cell_type": "code",
      "source": [
        "query = \"Who is aurelius?\"\n",
        "\n",
        "docs = vectordbChroma.similarity_search(query)\n",
        "\n",
        "print(docs[0].page_content)"
      ],
      "metadata": {
        "colab": {
          "base_uri": "https://localhost:8080/"
        },
        "id": "qACNOSZZNOqn",
        "outputId": "0554bb18-d56d-486f-d8c3-31d1bf982d34"
      },
      "execution_count": 20,
      "outputs": [
        {
          "output_type": "stream",
          "name": "stdout",
          "text": [
            "APPENDIX\n",
            "     GLOSSARY\n",
            "Original Transcriber's Notes:\n",
            "This text was scanned by J. Boulton using Textbridge OCR. The Greek\n",
            "portions of the text have been added by hand and they will require the\n",
            "standard \"Symbol\" font \"symbol.ttf\" to be installed in the system fonts\n",
            "folder. This is a standard Windows font, so should be present on most\n",
            "systems. To contact the scanner e-mail: magicjon@ic24.net INTRODUCTION\n",
            "This is the Plain Text version, see medma10h.txt or .zip for the HTML\n",
            "version with the various symbols mentioned above.\n",
            "INTRODUCTION\n",
            "MARCUS AURELIUS ANTONINUS was born on April 26, A.D. 121. His real name\n",
            "was M. Annius Verus, and he was sprung of a noble family which claimed\n",
            "descent from Numa, second King of Rome. Thus the most religious of\n",
            "emperors came of the blood of the most pious of early kings. His father,\n",
            "Annius Verus, had held high office in Rome, and his grandfather, of\n",
            "the same name, had been thrice Consul. Both his parents died young, but\n"
          ]
        }
      ]
    },
    {
      "cell_type": "code",
      "source": [
        "# save to disk\n",
        "db2 = Chroma.from_documents(docs, embeddings, persist_directory=\"./chroma_db\")\n",
        "docs = db2.similarity_search(query)\n",
        "\n",
        "# load from disk\n",
        "db3 = Chroma(persist_directory=\"./chroma_db\", embedding_function=embeddings)\n",
        "docs = db3.similarity_search(query)\n",
        "print(docs[0].page_content)"
      ],
      "metadata": {
        "colab": {
          "base_uri": "https://localhost:8080/"
        },
        "id": "T--1LFRbPFSg",
        "outputId": "e4ee8a59-df5e-45e5-dd1d-89894e6fd8f7"
      },
      "execution_count": 86,
      "outputs": [
        {
          "output_type": "stream",
          "name": "stdout",
          "text": [
            "APPENDIX\n",
            "     GLOSSARY\n",
            "Original Transcriber's Notes:\n",
            "This text was scanned by J. Boulton using Textbridge OCR. The Greek\n",
            "portions of the text have been added by hand and they will require the\n",
            "standard \"Symbol\" font \"symbol.ttf\" to be installed in the system fonts\n",
            "folder. This is a standard Windows font, so should be present on most\n",
            "systems. To contact the scanner e-mail: magicjon@ic24.net INTRODUCTION\n",
            "This is the Plain Text version, see medma10h.txt or .zip for the HTML\n",
            "version with the various symbols mentioned above.\n",
            "INTRODUCTION\n",
            "MARCUS AURELIUS ANTONINUS was born on April 26, A.D. 121. His real name\n",
            "was M. Annius Verus, and he was sprung of a noble family which claimed\n",
            "descent from Numa, second King of Rome. Thus the most religious of\n",
            "emperors came of the blood of the most pious of early kings. His father,\n",
            "Annius Verus, had held high office in Rome, and his grandfather, of\n",
            "the same name, had been thrice Consul. Both his parents died young, but\n"
          ]
        }
      ]
    },
    {
      "cell_type": "markdown",
      "source": [
        "Similarity search witha  a score and choosing the low score one as it is better(Cosine Score)"
      ],
      "metadata": {
        "id": "RK9Smt4_WSBx"
      }
    },
    {
      "cell_type": "code",
      "source": [
        "docs = db3.similarity_search_with_score(query)\n",
        "docs[0]"
      ],
      "metadata": {
        "colab": {
          "base_uri": "https://localhost:8080/"
        },
        "id": "wfFBijuDVP6X",
        "outputId": "efdb6f6e-a42d-4164-9594-815405682eb6"
      },
      "execution_count": 87,
      "outputs": [
        {
          "output_type": "execute_result",
          "data": {
            "text/plain": [
              "(Document(page_content='APPENDIX\\n     GLOSSARY\\nOriginal Transcriber\\'s Notes:\\nThis text was scanned by J. Boulton using Textbridge OCR. The Greek\\nportions of the text have been added by hand and they will require the\\nstandard \"Symbol\" font \"symbol.ttf\" to be installed in the system fonts\\nfolder. This is a standard Windows font, so should be present on most\\nsystems. To contact the scanner e-mail: magicjon@ic24.net INTRODUCTION\\nThis is the Plain Text version, see medma10h.txt or .zip for the HTML\\nversion with the various symbols mentioned above.\\nINTRODUCTION\\nMARCUS AURELIUS ANTONINUS was born on April 26, A.D. 121. His real name\\nwas M. Annius Verus, and he was sprung of a noble family which claimed\\ndescent from Numa, second King of Rome. Thus the most religious of\\nemperors came of the blood of the most pious of early kings. His father,\\nAnnius Verus, had held high office in Rome, and his grandfather, of\\nthe same name, had been thrice Consul. Both his parents died young, but'),\n",
              " 1.0201037772744286)"
            ]
          },
          "metadata": {},
          "execution_count": 87
        }
      ]
    },
    {
      "cell_type": "code",
      "source": [
        "docs = vector_store.similarity_search_with_score(query)\n",
        "docs[0]"
      ],
      "metadata": {
        "colab": {
          "base_uri": "https://localhost:8080/"
        },
        "id": "hw9Bs00_AFIm",
        "outputId": "5350b02a-c297-41da-ee6e-7e0c9bb1bd04"
      },
      "execution_count": 38,
      "outputs": [
        {
          "output_type": "execute_result",
          "data": {
            "text/plain": [
              "(Document(page_content='He married Lucilla, daughter of M. A., and died 169 A.D.\\nVespasian, 9th Roman Emperor XENOCRATES of Chalcedon, 396-314 B.C., a\\nphilosopher, and president of the Academy.\\nEnd of the Project Gutenberg EBook of Meditations, by Marcus Aurelius\\n*** END OF THIS PROJECT GUTENBERG EBOOK MEDITATIONS ***\\n***** This file should be named 2680-8.txt or 2680-8.zip *****\\nThis and all associated files of various formats will be found in:\\n        http://www.gutenberg.org/2/6/8/2680/\\nProduced by J. Boulton\\nUpdated editions will replace the previous one--the old editions\\nwill be renamed.\\nCreating the works from public domain print editions means that no\\none owns a United States copyright in these works, so the Foundation\\n(and you!) can copy and distribute it in the United States without\\npermission and without paying copyright royalties.  Special rules,\\nset forth in the General Terms of Use part of this license, apply to\\ncopying and distributing Project Gutenberg-tm electronic works to'),\n",
              " 0.87696373)"
            ]
          },
          "metadata": {},
          "execution_count": 38
        }
      ]
    },
    {
      "cell_type": "code",
      "source": [
        "docs = vectordbChroma.similarity_search_with_score(query)\n",
        "docs[0]"
      ],
      "metadata": {
        "colab": {
          "base_uri": "https://localhost:8080/"
        },
        "id": "YvUh6TzgAQXs",
        "outputId": "06eda4e9-e5a5-4636-a6cb-947424287c30"
      },
      "execution_count": 39,
      "outputs": [
        {
          "output_type": "execute_result",
          "data": {
            "text/plain": [
              "(Document(page_content='APPENDIX\\n     GLOSSARY\\nOriginal Transcriber\\'s Notes:\\nThis text was scanned by J. Boulton using Textbridge OCR. The Greek\\nportions of the text have been added by hand and they will require the\\nstandard \"Symbol\" font \"symbol.ttf\" to be installed in the system fonts\\nfolder. This is a standard Windows font, so should be present on most\\nsystems. To contact the scanner e-mail: magicjon@ic24.net INTRODUCTION\\nThis is the Plain Text version, see medma10h.txt or .zip for the HTML\\nversion with the various symbols mentioned above.\\nINTRODUCTION\\nMARCUS AURELIUS ANTONINUS was born on April 26, A.D. 121. His real name\\nwas M. Annius Verus, and he was sprung of a noble family which claimed\\ndescent from Numa, second King of Rome. Thus the most religious of\\nemperors came of the blood of the most pious of early kings. His father,\\nAnnius Verus, had held high office in Rome, and his grandfather, of\\nthe same name, had been thrice Consul. Both his parents died young, but'),\n",
              " 1.020103931427002)"
            ]
          },
          "metadata": {},
          "execution_count": 39
        }
      ]
    },
    {
      "cell_type": "markdown",
      "source": [
        "It seems the FAISS has a better similarity score than the chroma"
      ],
      "metadata": {
        "id": "vaj5gsP5AWfH"
      }
    },
    {
      "cell_type": "markdown",
      "source": [
        "#3.Building the retrieval chain"
      ],
      "metadata": {
        "id": "ZwzQTTa4YYRy"
      }
    },
    {
      "cell_type": "markdown",
      "source": [
        "###Creating a prompt template"
      ],
      "metadata": {
        "id": "70pjS6UtDF_Z"
      }
    },
    {
      "cell_type": "code",
      "source": [
        "from langchain_core.prompts import ChatPromptTemplate\n",
        "\n",
        "RAG_PROMPT = \"\"\"\\\n",
        "Use the following context to answer the user's query. If you cannot answer the question, please respond with 'I don't know'.\n",
        "\n",
        "Question:\n",
        "{question}\n",
        "\n",
        "Context:\n",
        "{context}\n",
        "\"\"\"\n",
        "\n",
        "rag_prompt = ChatPromptTemplate.from_template(RAG_PROMPT)"
      ],
      "metadata": {
        "id": "hgXGGxigDQtF"
      },
      "execution_count": 40,
      "outputs": []
    },
    {
      "cell_type": "code",
      "source": [
        "  !pip install huggingface-hub -q"
      ],
      "metadata": {
        "id": "5u_-60TwV_d7"
      },
      "execution_count": 1,
      "outputs": []
    },
    {
      "cell_type": "code",
      "source": [
        "\n",
        "from huggingface_hub import notebook_login\n",
        "\n",
        "notebook_login()"
      ],
      "metadata": {
        "colab": {
          "base_uri": "https://localhost:8080/",
          "height": 145,
          "referenced_widgets": [
            "46f5bc460b3d48698ea2dfeab09bd752",
            "1046bacd50c44d85b4adba9f7e98c221",
            "f5e28248f9014c8692c13773fe580f8f",
            "623d9db01b2546ccbf56e9ac73bfe023",
            "ef3499505ed44844947b18e85f3f1119",
            "889217f84c99487192b811f4f741c5f3",
            "1d4d52891cc94c1e8a5ec6436a526ae7",
            "486f57e51e2c4d54912f52f24409664e",
            "f6b040366e5d4fbcb9eb5364943f78dc",
            "9a402174e5214567828b3e49e263305e",
            "a00358d319214cda8fecdc76aabfa04f",
            "a8b0a619a1904bc28832341457904aec",
            "010faf60c42d45779a00534208c7b8ff",
            "ed29e6c7f0fa4c079a67eabc445bd48e",
            "6d69a5675b2d416cb3fdcf417497918d",
            "a6f0f21e0c024fa694378b4ee26ba064",
            "7cdc7524ac104ecfb88dca4cef8999c1",
            "eb174aea1dd14bbb89f25d0a8bcb281c",
            "9e7a86b4f09d4b19a7fb17bdc9d2f3b7",
            "e87db2d1363b4def8fcafb9ab1713028",
            "7852253399f8479dbaf231b2f604bf1f",
            "5746c2f871ff419693f57afde55f1415",
            "fa3727f3902140ada703df6e266bc94b",
            "905ae31c83e54c6d87d3864d0ce8225b",
            "32ab5016df3d4789b13d7c0c434a8160",
            "2b4f2ee597d04be281c20c4372f481e7",
            "f7fb58e765b94c0586a67c6b5c8b9845",
            "4bbb53d122c949af93b0237cc74b4640",
            "33da8487106844278fda8e0aaaacfc7d",
            "a9143c750e0a4f1289baf83b89d51f75",
            "bb86c654ef334882a298cd7818067668",
            "09f185ad2dcc488491995bd21fdb829a"
          ]
        },
        "id": "kKV_kz0FcUy3",
        "outputId": "5d1ff638-8261-4b69-edc0-2c987140ec7b"
      },
      "execution_count": 2,
      "outputs": [
        {
          "output_type": "display_data",
          "data": {
            "text/plain": [
              "VBox(children=(HTML(value='<center> <img\\nsrc=https://huggingface.co/front/assets/huggingface_logo-noborder.sv…"
            ],
            "application/vnd.jupyter.widget-view+json": {
              "version_major": 2,
              "version_minor": 0,
              "model_id": "46f5bc460b3d48698ea2dfeab09bd752"
            }
          },
          "metadata": {}
        }
      ]
    },
    {
      "cell_type": "code",
      "source": [
        "!pip install accelerate transformers\n",
        "import os\n",
        "os._exit(00)"
      ],
      "metadata": {
        "colab": {
          "base_uri": "https://localhost:8080/"
        },
        "id": "6Ovj5pFU0JMi",
        "outputId": "2d1ba20e-9be1-486d-b4df-56def50426f7"
      },
      "execution_count": null,
      "outputs": [
        {
          "output_type": "stream",
          "name": "stdout",
          "text": [
            "Requirement already satisfied: accelerate in /usr/local/lib/python3.10/dist-packages (0.21.0)\n",
            "Requirement already satisfied: transformers in /usr/local/lib/python3.10/dist-packages (4.41.1)\n",
            "Requirement already satisfied: numpy>=1.17 in /usr/local/lib/python3.10/dist-packages (from accelerate) (1.25.2)\n",
            "Requirement already satisfied: packaging>=20.0 in /usr/local/lib/python3.10/dist-packages (from accelerate) (23.2)\n",
            "Requirement already satisfied: psutil in /usr/local/lib/python3.10/dist-packages (from accelerate) (5.9.5)\n",
            "Requirement already satisfied: pyyaml in /usr/local/lib/python3.10/dist-packages (from accelerate) (6.0.1)\n",
            "Requirement already satisfied: torch>=1.10.0 in /usr/local/lib/python3.10/dist-packages (from accelerate) (2.3.0+cu121)\n",
            "Requirement already satisfied: filelock in /usr/local/lib/python3.10/dist-packages (from transformers) (3.14.0)\n",
            "Requirement already satisfied: huggingface-hub<1.0,>=0.23.0 in /usr/local/lib/python3.10/dist-packages (from transformers) (0.23.1)\n",
            "Requirement already satisfied: regex!=2019.12.17 in /usr/local/lib/python3.10/dist-packages (from transformers) (2024.5.15)\n",
            "Requirement already satisfied: requests in /usr/local/lib/python3.10/dist-packages (from transformers) (2.31.0)\n",
            "Requirement already satisfied: tokenizers<0.20,>=0.19 in /usr/local/lib/python3.10/dist-packages (from transformers) (0.19.1)\n",
            "Requirement already satisfied: safetensors>=0.4.1 in /usr/local/lib/python3.10/dist-packages (from transformers) (0.4.3)\n",
            "Requirement already satisfied: tqdm>=4.27 in /usr/local/lib/python3.10/dist-packages (from transformers) (4.66.4)\n",
            "Requirement already satisfied: fsspec>=2023.5.0 in /usr/local/lib/python3.10/dist-packages (from huggingface-hub<1.0,>=0.23.0->transformers) (2023.6.0)\n",
            "Requirement already satisfied: typing-extensions>=3.7.4.3 in /usr/local/lib/python3.10/dist-packages (from huggingface-hub<1.0,>=0.23.0->transformers) (4.11.0)\n",
            "Requirement already satisfied: sympy in /usr/local/lib/python3.10/dist-packages (from torch>=1.10.0->accelerate) (1.12)\n",
            "Requirement already satisfied: networkx in /usr/local/lib/python3.10/dist-packages (from torch>=1.10.0->accelerate) (3.3)\n",
            "Requirement already satisfied: jinja2 in /usr/local/lib/python3.10/dist-packages (from torch>=1.10.0->accelerate) (3.1.4)\n",
            "Requirement already satisfied: nvidia-cuda-nvrtc-cu12==12.1.105 in /usr/local/lib/python3.10/dist-packages (from torch>=1.10.0->accelerate) (12.1.105)\n",
            "Requirement already satisfied: nvidia-cuda-runtime-cu12==12.1.105 in /usr/local/lib/python3.10/dist-packages (from torch>=1.10.0->accelerate) (12.1.105)\n",
            "Requirement already satisfied: nvidia-cuda-cupti-cu12==12.1.105 in /usr/local/lib/python3.10/dist-packages (from torch>=1.10.0->accelerate) (12.1.105)\n",
            "Requirement already satisfied: nvidia-cudnn-cu12==8.9.2.26 in /usr/local/lib/python3.10/dist-packages (from torch>=1.10.0->accelerate) (8.9.2.26)\n",
            "Requirement already satisfied: nvidia-cublas-cu12==12.1.3.1 in /usr/local/lib/python3.10/dist-packages (from torch>=1.10.0->accelerate) (12.1.3.1)\n",
            "Requirement already satisfied: nvidia-cufft-cu12==11.0.2.54 in /usr/local/lib/python3.10/dist-packages (from torch>=1.10.0->accelerate) (11.0.2.54)\n",
            "Requirement already satisfied: nvidia-curand-cu12==10.3.2.106 in /usr/local/lib/python3.10/dist-packages (from torch>=1.10.0->accelerate) (10.3.2.106)\n",
            "Requirement already satisfied: nvidia-cusolver-cu12==11.4.5.107 in /usr/local/lib/python3.10/dist-packages (from torch>=1.10.0->accelerate) (11.4.5.107)\n",
            "Requirement already satisfied: nvidia-cusparse-cu12==12.1.0.106 in /usr/local/lib/python3.10/dist-packages (from torch>=1.10.0->accelerate) (12.1.0.106)\n",
            "Requirement already satisfied: nvidia-nccl-cu12==2.20.5 in /usr/local/lib/python3.10/dist-packages (from torch>=1.10.0->accelerate) (2.20.5)\n",
            "Requirement already satisfied: nvidia-nvtx-cu12==12.1.105 in /usr/local/lib/python3.10/dist-packages (from torch>=1.10.0->accelerate) (12.1.105)\n",
            "Requirement already satisfied: triton==2.3.0 in /usr/local/lib/python3.10/dist-packages (from torch>=1.10.0->accelerate) (2.3.0)\n",
            "Requirement already satisfied: nvidia-nvjitlink-cu12 in /usr/local/lib/python3.10/dist-packages (from nvidia-cusolver-cu12==11.4.5.107->torch>=1.10.0->accelerate) (12.5.40)\n",
            "Requirement already satisfied: charset-normalizer<4,>=2 in /usr/local/lib/python3.10/dist-packages (from requests->transformers) (3.3.2)\n",
            "Requirement already satisfied: idna<4,>=2.5 in /usr/local/lib/python3.10/dist-packages (from requests->transformers) (3.7)\n",
            "Requirement already satisfied: urllib3<3,>=1.21.1 in /usr/local/lib/python3.10/dist-packages (from requests->transformers) (2.0.7)\n",
            "Requirement already satisfied: certifi>=2017.4.17 in /usr/local/lib/python3.10/dist-packages (from requests->transformers) (2024.2.2)\n",
            "Requirement already satisfied: MarkupSafe>=2.0 in /usr/local/lib/python3.10/dist-packages (from jinja2->torch>=1.10.0->accelerate) (2.1.5)\n",
            "Requirement already satisfied: mpmath>=0.19 in /usr/local/lib/python3.10/dist-packages (from sympy->torch>=1.10.0->accelerate) (1.3.0)\n"
          ]
        }
      ]
    },
    {
      "cell_type": "code",
      "source": [
        "import torch\n",
        "\n",
        "import transformers\n",
        "# from transformers import fuyu\n",
        "\n",
        "model_id = \"meta-llama/Llama-2-13b-chat-hf\"\n",
        "\n",
        "bnb_config = transformers.BitsAndBytesConfig(\n",
        "    load_in_4bit=True,\n",
        "    bnb_4bit_quant_type='nf4',\n",
        "    bnb_4bit_use_double_quant=True,\n",
        "    bnb_4bit_compute_dtype=torch.bfloat16\n",
        ")\n",
        "\n",
        "model_config = transformers.AutoConfig.from_pretrained(\n",
        "    model_id\n",
        ")\n",
        "\n",
        "model = transformers.AutoModelForCausalLM.from_pretrained(\n",
        "    model_id,\n",
        "    trust_remote_code=True,\n",
        "    config=model_config,\n",
        "    quantization_config=bnb_config,\n",
        "    device_map='auto'\n",
        ")\n",
        "\n",
        "model.eval()"
      ],
      "metadata": {
        "colab": {
          "base_uri": "https://localhost:8080/",
          "height": 868,
          "referenced_widgets": [
            "62b1325187e14002946f1ecfad992dd3",
            "84c5a43f5b494e3f8f1fadaed2f4fd8a",
            "6fd9413bee6e45c9bb08d4d00a63ac74",
            "5ed2bda90f704aa19dd236061d5fe774",
            "64d2497934fe41819d7d864532f87503",
            "4daa7d469e2a476b8c886bcd50be918f",
            "46bad561a9f746389ea5d786e4afe33b",
            "36f56955222d4556b69834f205007874",
            "42a77abbb6344341a791c112942f131c",
            "baac2c53412a4b18938eb99b1282a2e7",
            "df47ea05a8ef467cb6934849d687e497",
            "95141a29ec1a48328ac0245dcdf423f3",
            "57f8392d1f9d48899abb81bc8c9ed677",
            "eb5da9f239b241d18980affb0fc100e0",
            "c0b0395d158a4e7483c27cb341b4f917",
            "13ae540f3f3d481c8d0e2491d22b268f",
            "b364b093ce7c443091dbde86a14c4a12",
            "37bd463c18f14aca904d34bc7dd256d2",
            "8be6918f936543a485b54b3237d534f5",
            "df6b5540c52e44ffb92c74e21d681b70",
            "8e6d3897d8ca414fa92beb59db883dfb",
            "39b0110089264e76a7de33fe9472dc26",
            "f4d9021652a94fa0afa33e4dcf213ba9",
            "17a0a9aa130b42cb80c6d2a561ef3243",
            "12687e6c70f048f9a6efd4f45dd8b2e7",
            "536265e4c2ac45a6b133b30b01238937",
            "e51f936d075d4415b645940803bd4fb6",
            "6ba5c2d283154277bd0061127b5e34bd",
            "0b3a594bfbb84a858d44864c8d1b1369",
            "f87dea117c934a8b83093181b99b40e7",
            "f077d3c99a264f9f9a31bdee1261d71b",
            "1bfd214ae546496b8a296876db85d6ca",
            "99472149a0804fcb962871a816bea16c",
            "096e0330ddf54a16a176af5655976a9b",
            "e83bf09c288a414389e99000a4b91d04",
            "e134a239ad834517bfa31665786bf93f",
            "44e0a85e046a414cb90652d19185fcf8",
            "87d3b52fe79641329a42bf960cc2a90b",
            "428e253d325349d4afc0c4f1a7c02e14",
            "e21158b9eae84f7784f9d20f6410b156",
            "6026f1d621724708b97237f823969bc9",
            "30028ce3af0a4d6699677b54e0eeaf1a",
            "8e02f6feb4134e398b0d870eab7caafc",
            "698092cc935343e9a3e555bff28e4f65",
            "e4f9501b862b4781aba28bf375c6d80a",
            "a6aafa20d98348109fbdf3c066d5b3b6",
            "68101468a66d444d9e1df41a9f6f0e7e",
            "b922a3fe1f724e5b87a9f6f6fbab083a",
            "7328d91dc4c64fafac949b30820dc723",
            "b4688b2f53ad4a4d90519dd4cb23111a",
            "26ca368824574e81bc7447ac29cb1462",
            "ad1ee5246e4f4bbe9f362db89dee86d9",
            "b559dbc378994238b4faba5c889af811",
            "cf11468b488847c4a2cbee9ba14b59fd",
            "f3950e3bc7b940d182a031505ce9a9f2",
            "b4b331db738a4439b931cf413d6b4a94",
            "bd2c39f9b714446395a0eb99c780485f",
            "1ea5915443f047f181983f7a51ca8b05",
            "0210ff51680d4a56b55acb27a1809d64",
            "fd6ab777549f46ab9c5f92bab3f13fce",
            "818f053f672b4e83a5edfb366b2ae8a1",
            "c41eab48f0c9405eb4af494f802da881",
            "cc15d941d32140be9acbbafba5589246",
            "c68c88862b2d4a23b28ed3dfb9f5c153",
            "d0ae206b91474274a87d22ec7b908241",
            "741f10ce3c4549a1a9d39102e547648d",
            "a87929a2fff043a9bf1ce2d197f68787",
            "be14457a0cf34e46b257e7b1ef2bbde6",
            "96d44a1293774d86bb8aedf119e303c8",
            "a9f01ce504ee488f83926d5f2b12d555",
            "b7c212e4b06749a88dbf9b3a531638d6",
            "7e079b6bb94642e1b7f475503f542f37",
            "afe4bd9b191941f8831c3a136dfa320a",
            "3f340f0b752f4bbebc4d1349952056ac",
            "f335c8d1f9d0425f830c284698059a1b",
            "c13679d3f5eb49f294b56ce7b12e2952",
            "8fe54f34c8c246299edbc52d77ea461b"
          ]
        },
        "id": "ICiobTNycYBN",
        "outputId": "314547a9-ad56-47b8-ac94-b92c48402b32"
      },
      "execution_count": 1,
      "outputs": [
        {
          "output_type": "stream",
          "name": "stderr",
          "text": [
            "/usr/local/lib/python3.10/dist-packages/huggingface_hub/file_download.py:1132: FutureWarning: `resume_download` is deprecated and will be removed in version 1.0.0. Downloads always resume when possible. If you want to force a new download, use `force_download=True`.\n",
            "  warnings.warn(\n",
            "/usr/local/lib/python3.10/dist-packages/huggingface_hub/utils/_token.py:89: UserWarning: \n",
            "The secret `HF_TOKEN` does not exist in your Colab secrets.\n",
            "To authenticate with the Hugging Face Hub, create a token in your settings tab (https://huggingface.co/settings/tokens), set it as secret in your Google Colab and restart your session.\n",
            "You will be able to reuse this secret in all of your notebooks.\n",
            "Please note that authentication is recommended but still optional to access public models or datasets.\n",
            "  warnings.warn(\n"
          ]
        },
        {
          "output_type": "display_data",
          "data": {
            "text/plain": [
              "model.safetensors.index.json:   0%|          | 0.00/33.4k [00:00<?, ?B/s]"
            ],
            "application/vnd.jupyter.widget-view+json": {
              "version_major": 2,
              "version_minor": 0,
              "model_id": "62b1325187e14002946f1ecfad992dd3"
            }
          },
          "metadata": {}
        },
        {
          "output_type": "display_data",
          "data": {
            "text/plain": [
              "Downloading shards:   0%|          | 0/3 [00:00<?, ?it/s]"
            ],
            "application/vnd.jupyter.widget-view+json": {
              "version_major": 2,
              "version_minor": 0,
              "model_id": "95141a29ec1a48328ac0245dcdf423f3"
            }
          },
          "metadata": {}
        },
        {
          "output_type": "display_data",
          "data": {
            "text/plain": [
              "model-00001-of-00003.safetensors:   0%|          | 0.00/9.95G [00:00<?, ?B/s]"
            ],
            "application/vnd.jupyter.widget-view+json": {
              "version_major": 2,
              "version_minor": 0,
              "model_id": "f4d9021652a94fa0afa33e4dcf213ba9"
            }
          },
          "metadata": {}
        },
        {
          "output_type": "display_data",
          "data": {
            "text/plain": [
              "model-00002-of-00003.safetensors:   0%|          | 0.00/9.90G [00:00<?, ?B/s]"
            ],
            "application/vnd.jupyter.widget-view+json": {
              "version_major": 2,
              "version_minor": 0,
              "model_id": "096e0330ddf54a16a176af5655976a9b"
            }
          },
          "metadata": {}
        },
        {
          "output_type": "display_data",
          "data": {
            "text/plain": [
              "model-00003-of-00003.safetensors:   0%|          | 0.00/6.18G [00:00<?, ?B/s]"
            ],
            "application/vnd.jupyter.widget-view+json": {
              "version_major": 2,
              "version_minor": 0,
              "model_id": "e4f9501b862b4781aba28bf375c6d80a"
            }
          },
          "metadata": {}
        },
        {
          "output_type": "display_data",
          "data": {
            "text/plain": [
              "Loading checkpoint shards:   0%|          | 0/3 [00:00<?, ?it/s]"
            ],
            "application/vnd.jupyter.widget-view+json": {
              "version_major": 2,
              "version_minor": 0,
              "model_id": "b4b331db738a4439b931cf413d6b4a94"
            }
          },
          "metadata": {}
        },
        {
          "output_type": "display_data",
          "data": {
            "text/plain": [
              "generation_config.json:   0%|          | 0.00/188 [00:00<?, ?B/s]"
            ],
            "application/vnd.jupyter.widget-view+json": {
              "version_major": 2,
              "version_minor": 0,
              "model_id": "a87929a2fff043a9bf1ce2d197f68787"
            }
          },
          "metadata": {}
        },
        {
          "output_type": "stream",
          "name": "stderr",
          "text": [
            "You are calling `save_pretrained` to a 4-bit converted model, but your `bitsandbytes` version doesn't support it. If you want to save 4-bit models, make sure to have `bitsandbytes>=0.41.3` installed.\n"
          ]
        },
        {
          "output_type": "execute_result",
          "data": {
            "text/plain": [
              "LlamaForCausalLM(\n",
              "  (model): LlamaModel(\n",
              "    (embed_tokens): Embedding(32000, 5120)\n",
              "    (layers): ModuleList(\n",
              "      (0-39): 40 x LlamaDecoderLayer(\n",
              "        (self_attn): LlamaSdpaAttention(\n",
              "          (q_proj): Linear4bit(in_features=5120, out_features=5120, bias=False)\n",
              "          (k_proj): Linear4bit(in_features=5120, out_features=5120, bias=False)\n",
              "          (v_proj): Linear4bit(in_features=5120, out_features=5120, bias=False)\n",
              "          (o_proj): Linear4bit(in_features=5120, out_features=5120, bias=False)\n",
              "          (rotary_emb): LlamaRotaryEmbedding()\n",
              "        )\n",
              "        (mlp): LlamaMLP(\n",
              "          (gate_proj): Linear4bit(in_features=5120, out_features=13824, bias=False)\n",
              "          (up_proj): Linear4bit(in_features=5120, out_features=13824, bias=False)\n",
              "          (down_proj): Linear4bit(in_features=13824, out_features=5120, bias=False)\n",
              "          (act_fn): SiLU()\n",
              "        )\n",
              "        (input_layernorm): LlamaRMSNorm()\n",
              "        (post_attention_layernorm): LlamaRMSNorm()\n",
              "      )\n",
              "    )\n",
              "    (norm): LlamaRMSNorm()\n",
              "  )\n",
              "  (lm_head): Linear(in_features=5120, out_features=32000, bias=False)\n",
              ")"
            ]
          },
          "metadata": {},
          "execution_count": 1
        }
      ]
    },
    {
      "cell_type": "code",
      "source": [
        "tokenizer = transformers.AutoTokenizer.from_pretrained(\n",
        "    model_id\n",
        ")"
      ],
      "metadata": {
        "id": "GipjfMhicgr4",
        "colab": {
          "base_uri": "https://localhost:8080/",
          "height": 145,
          "referenced_widgets": [
            "d692de0875a74708b47742b3a14e53ce",
            "64aeb660e77643b4b6e437917f9b740d",
            "4c5052f0bc3d4d5e976d6fbd2fb7dd5d",
            "d5c1757d6c294d8aa4988342f518c7f2",
            "8bff27f136cc40bb958fff55f985540b",
            "5ade0ba109e34c4aa131272ba5a1eaa1",
            "01d29a9715784afc86042b4de3069521",
            "1228ff1e5f464f389bff7b6de7f5d90b",
            "ef0e768a83af4775aae4e2b59f3c5401",
            "caca4abb9dc64716b43abb31278376fc",
            "8c7f0accdb084594a65fb039bac8438a",
            "e7b58a132b084ddd872d88374071b84c",
            "d421e8e3c6844e62a0919aadadf1eac1",
            "6256fdeee41f45e598a19ee0439dc391",
            "924d66a61b444549968b5c70367833aa",
            "36e944da293443c48f097f2987126901",
            "35fb501922c647329e73b297d08144f6",
            "596490f7278b47ac817d960b52a7a8bd",
            "ab92d65bcb724963b647a11aac54c729",
            "5735e48a79684e1e8dbf9e4dd316a578",
            "e1c1269715a94d35be02712ca79f6cc0",
            "f9c77c6f82474cbc8075695fc20f7330",
            "f5aea525e6ff40dda4a9c577c48bfa21",
            "52f2cadf2e9240bdae993aa92e6e2a52",
            "0186b28b3b614f538b8c481c5f188ea1",
            "a9f70d2186094f3794f8224f5af59a33",
            "d5aa390b2adf4319856a507022c099e5",
            "15c6e7a947cc4ba6baf02b69157a97f5",
            "267fe38bab2e42bf9c57af79351f8d08",
            "21f615a4c3e24d62ba41711016d25bac",
            "1666d20d3a1e491b99d46bc0fbd99571",
            "6817289b80904c2f96ff67f174b68b68",
            "29c59c956a3743cdbcad75fafc043e6c",
            "d321f3a714d04c3baf87c39b6eb81a95",
            "c320a74954024f1988d31dc299d3c08d",
            "200c81f0959d4764bc7134ab8326672f",
            "6a6ca0d82d2a4e1b9a6c5e7aa13018c6",
            "2e90a7b90ea24a6cad893d842b489bca",
            "0f7331ec4def44db9c930ad5b6ca2dc8",
            "2b467b7cb521481981b02289a3ace41e",
            "91c11faff6914a2590a51b229f61a0de",
            "a4e81fb56f1f46a1a7fcc1ca63aa90e5",
            "b8cfc1dcdbd04249b792b42da0fe2403",
            "eff840aa61bd4af2b922435e565074fd"
          ]
        },
        "outputId": "c3ea3274-c7c4-4b4c-e777-672936c1f703"
      },
      "execution_count": 2,
      "outputs": [
        {
          "output_type": "display_data",
          "data": {
            "text/plain": [
              "tokenizer_config.json:   0%|          | 0.00/1.62k [00:00<?, ?B/s]"
            ],
            "application/vnd.jupyter.widget-view+json": {
              "version_major": 2,
              "version_minor": 0,
              "model_id": "d692de0875a74708b47742b3a14e53ce"
            }
          },
          "metadata": {}
        },
        {
          "output_type": "display_data",
          "data": {
            "text/plain": [
              "tokenizer.model:   0%|          | 0.00/500k [00:00<?, ?B/s]"
            ],
            "application/vnd.jupyter.widget-view+json": {
              "version_major": 2,
              "version_minor": 0,
              "model_id": "e7b58a132b084ddd872d88374071b84c"
            }
          },
          "metadata": {}
        },
        {
          "output_type": "display_data",
          "data": {
            "text/plain": [
              "tokenizer.json:   0%|          | 0.00/1.84M [00:00<?, ?B/s]"
            ],
            "application/vnd.jupyter.widget-view+json": {
              "version_major": 2,
              "version_minor": 0,
              "model_id": "f5aea525e6ff40dda4a9c577c48bfa21"
            }
          },
          "metadata": {}
        },
        {
          "output_type": "display_data",
          "data": {
            "text/plain": [
              "special_tokens_map.json:   0%|          | 0.00/414 [00:00<?, ?B/s]"
            ],
            "application/vnd.jupyter.widget-view+json": {
              "version_major": 2,
              "version_minor": 0,
              "model_id": "d321f3a714d04c3baf87c39b6eb81a95"
            }
          },
          "metadata": {}
        }
      ]
    },
    {
      "cell_type": "code",
      "source": [
        "generate_text = transformers.pipeline(\n",
        "    model=model,\n",
        "    tokenizer=tokenizer,\n",
        "    task=\"text-generation\",\n",
        "    return_full_text=True,\n",
        "    temperature=1.0,\n",
        "    max_new_tokens=100,\n",
        "\n",
        ")"
      ],
      "metadata": {
        "id": "CqtJ1DMw4Boz"
      },
      "execution_count": 50,
      "outputs": []
    },
    {
      "cell_type": "code",
      "source": [
        "from langchain.llms import HuggingFacePipeline\n",
        "\n",
        "llm = HuggingFacePipeline(pipeline=generate_text)"
      ],
      "metadata": {
        "id": "GCZMLXgj4EhK"
      },
      "execution_count": 45,
      "outputs": []
    },
    {
      "cell_type": "code",
      "source": [
        "retriever = vector_store.as_retriever()"
      ],
      "metadata": {
        "id": "IUHOlRaY4H29"
      },
      "execution_count": 46,
      "outputs": []
    },
    {
      "cell_type": "code",
      "source": [
        "from langchain.chains import RetrievalQA\n",
        "from langchain.callbacks import StdOutCallbackHandler\n",
        "\n",
        "handler = StdOutCallbackHandler()\n",
        "\n",
        "qa_with_sources_chain = RetrievalQA.from_chain_type(\n",
        "    llm=llm,\n",
        "    retriever=retriever,\n",
        "    callbacks=[handler],\n",
        "    return_source_documents=True\n",
        ")"
      ],
      "metadata": {
        "id": "c1FQK9_74Meu"
      },
      "execution_count": 47,
      "outputs": []
    },
    {
      "cell_type": "markdown",
      "source": [
        "Testing"
      ],
      "metadata": {
        "id": "ze8XJX0M5XEK"
      }
    },
    {
      "cell_type": "code",
      "source": [
        "qa_with_sources_chain({\"query\" : \"Who was aurelius?\"})"
      ],
      "metadata": {
        "colab": {
          "base_uri": "https://localhost:8080/",
          "height": 339
        },
        "id": "vSej9zJ-5UDn",
        "outputId": "9f98e30e-398d-4454-c39b-60fad6557393"
      },
      "execution_count": 49,
      "outputs": [
        {
          "output_type": "stream",
          "name": "stdout",
          "text": [
            "\n",
            "\n",
            "\u001b[1m> Entering new RetrievalQA chain...\u001b[0m\n"
          ]
        },
        {
          "output_type": "error",
          "ename": "ValueError",
          "evalue": "The following `model_kwargs` are not used by the model: ['response'] (note: typos in the generate arguments will also show up in this list)",
          "traceback": [
            "\u001b[0;31m---------------------------------------------------------------------------\u001b[0m",
            "\u001b[0;31mValueError\u001b[0m                                Traceback (most recent call last)",
            "\u001b[0;32m<ipython-input-49-fa1b5f0f6737>\u001b[0m in \u001b[0;36m<cell line: 1>\u001b[0;34m()\u001b[0m\n\u001b[0;32m----> 1\u001b[0;31m \u001b[0mqa_with_sources_chain\u001b[0m\u001b[0;34m(\u001b[0m\u001b[0;34m{\u001b[0m\u001b[0;34m\"query\"\u001b[0m \u001b[0;34m:\u001b[0m \u001b[0;34m\"Who was aurelius?\"\u001b[0m\u001b[0;34m}\u001b[0m\u001b[0;34m)\u001b[0m\u001b[0;34m\u001b[0m\u001b[0;34m\u001b[0m\u001b[0m\n\u001b[0m",
            "\u001b[0;32m/usr/local/lib/python3.10/dist-packages/langchain_core/_api/deprecation.py\u001b[0m in \u001b[0;36mwarning_emitting_wrapper\u001b[0;34m(*args, **kwargs)\u001b[0m\n\u001b[1;32m    146\u001b[0m                 \u001b[0mwarned\u001b[0m \u001b[0;34m=\u001b[0m \u001b[0;32mTrue\u001b[0m\u001b[0;34m\u001b[0m\u001b[0;34m\u001b[0m\u001b[0m\n\u001b[1;32m    147\u001b[0m                 \u001b[0memit_warning\u001b[0m\u001b[0;34m(\u001b[0m\u001b[0;34m)\u001b[0m\u001b[0;34m\u001b[0m\u001b[0;34m\u001b[0m\u001b[0m\n\u001b[0;32m--> 148\u001b[0;31m             \u001b[0;32mreturn\u001b[0m \u001b[0mwrapped\u001b[0m\u001b[0;34m(\u001b[0m\u001b[0;34m*\u001b[0m\u001b[0margs\u001b[0m\u001b[0;34m,\u001b[0m \u001b[0;34m**\u001b[0m\u001b[0mkwargs\u001b[0m\u001b[0;34m)\u001b[0m\u001b[0;34m\u001b[0m\u001b[0;34m\u001b[0m\u001b[0m\n\u001b[0m\u001b[1;32m    149\u001b[0m \u001b[0;34m\u001b[0m\u001b[0m\n\u001b[1;32m    150\u001b[0m         \u001b[0;32masync\u001b[0m \u001b[0;32mdef\u001b[0m \u001b[0mawarning_emitting_wrapper\u001b[0m\u001b[0;34m(\u001b[0m\u001b[0;34m*\u001b[0m\u001b[0margs\u001b[0m\u001b[0;34m:\u001b[0m \u001b[0mAny\u001b[0m\u001b[0;34m,\u001b[0m \u001b[0;34m**\u001b[0m\u001b[0mkwargs\u001b[0m\u001b[0;34m:\u001b[0m \u001b[0mAny\u001b[0m\u001b[0;34m)\u001b[0m \u001b[0;34m->\u001b[0m \u001b[0mAny\u001b[0m\u001b[0;34m:\u001b[0m\u001b[0;34m\u001b[0m\u001b[0;34m\u001b[0m\u001b[0m\n",
            "\u001b[0;32m/usr/local/lib/python3.10/dist-packages/langchain/chains/base.py\u001b[0m in \u001b[0;36m__call__\u001b[0;34m(self, inputs, return_only_outputs, callbacks, tags, metadata, run_name, include_run_info)\u001b[0m\n\u001b[1;32m    381\u001b[0m         }\n\u001b[1;32m    382\u001b[0m \u001b[0;34m\u001b[0m\u001b[0m\n\u001b[0;32m--> 383\u001b[0;31m         return self.invoke(\n\u001b[0m\u001b[1;32m    384\u001b[0m             \u001b[0minputs\u001b[0m\u001b[0;34m,\u001b[0m\u001b[0;34m\u001b[0m\u001b[0;34m\u001b[0m\u001b[0m\n\u001b[1;32m    385\u001b[0m             \u001b[0mcast\u001b[0m\u001b[0;34m(\u001b[0m\u001b[0mRunnableConfig\u001b[0m\u001b[0;34m,\u001b[0m \u001b[0;34m{\u001b[0m\u001b[0mk\u001b[0m\u001b[0;34m:\u001b[0m \u001b[0mv\u001b[0m \u001b[0;32mfor\u001b[0m \u001b[0mk\u001b[0m\u001b[0;34m,\u001b[0m \u001b[0mv\u001b[0m \u001b[0;32min\u001b[0m \u001b[0mconfig\u001b[0m\u001b[0;34m.\u001b[0m\u001b[0mitems\u001b[0m\u001b[0;34m(\u001b[0m\u001b[0;34m)\u001b[0m \u001b[0;32mif\u001b[0m \u001b[0mv\u001b[0m \u001b[0;32mis\u001b[0m \u001b[0;32mnot\u001b[0m \u001b[0;32mNone\u001b[0m\u001b[0;34m}\u001b[0m\u001b[0;34m)\u001b[0m\u001b[0;34m,\u001b[0m\u001b[0;34m\u001b[0m\u001b[0;34m\u001b[0m\u001b[0m\n",
            "\u001b[0;32m/usr/local/lib/python3.10/dist-packages/langchain/chains/base.py\u001b[0m in \u001b[0;36minvoke\u001b[0;34m(self, input, config, **kwargs)\u001b[0m\n\u001b[1;32m    164\u001b[0m         \u001b[0;32mexcept\u001b[0m \u001b[0mBaseException\u001b[0m \u001b[0;32mas\u001b[0m \u001b[0me\u001b[0m\u001b[0;34m:\u001b[0m\u001b[0;34m\u001b[0m\u001b[0;34m\u001b[0m\u001b[0m\n\u001b[1;32m    165\u001b[0m             \u001b[0mrun_manager\u001b[0m\u001b[0;34m.\u001b[0m\u001b[0mon_chain_error\u001b[0m\u001b[0;34m(\u001b[0m\u001b[0me\u001b[0m\u001b[0;34m)\u001b[0m\u001b[0;34m\u001b[0m\u001b[0;34m\u001b[0m\u001b[0m\n\u001b[0;32m--> 166\u001b[0;31m             \u001b[0;32mraise\u001b[0m \u001b[0me\u001b[0m\u001b[0;34m\u001b[0m\u001b[0;34m\u001b[0m\u001b[0m\n\u001b[0m\u001b[1;32m    167\u001b[0m         \u001b[0mrun_manager\u001b[0m\u001b[0;34m.\u001b[0m\u001b[0mon_chain_end\u001b[0m\u001b[0;34m(\u001b[0m\u001b[0moutputs\u001b[0m\u001b[0;34m)\u001b[0m\u001b[0;34m\u001b[0m\u001b[0;34m\u001b[0m\u001b[0m\n\u001b[1;32m    168\u001b[0m \u001b[0;34m\u001b[0m\u001b[0m\n",
            "\u001b[0;32m/usr/local/lib/python3.10/dist-packages/langchain/chains/base.py\u001b[0m in \u001b[0;36minvoke\u001b[0;34m(self, input, config, **kwargs)\u001b[0m\n\u001b[1;32m    154\u001b[0m             \u001b[0mself\u001b[0m\u001b[0;34m.\u001b[0m\u001b[0m_validate_inputs\u001b[0m\u001b[0;34m(\u001b[0m\u001b[0minputs\u001b[0m\u001b[0;34m)\u001b[0m\u001b[0;34m\u001b[0m\u001b[0;34m\u001b[0m\u001b[0m\n\u001b[1;32m    155\u001b[0m             outputs = (\n\u001b[0;32m--> 156\u001b[0;31m                 \u001b[0mself\u001b[0m\u001b[0;34m.\u001b[0m\u001b[0m_call\u001b[0m\u001b[0;34m(\u001b[0m\u001b[0minputs\u001b[0m\u001b[0;34m,\u001b[0m \u001b[0mrun_manager\u001b[0m\u001b[0;34m=\u001b[0m\u001b[0mrun_manager\u001b[0m\u001b[0;34m)\u001b[0m\u001b[0;34m\u001b[0m\u001b[0;34m\u001b[0m\u001b[0m\n\u001b[0m\u001b[1;32m    157\u001b[0m                 \u001b[0;32mif\u001b[0m \u001b[0mnew_arg_supported\u001b[0m\u001b[0;34m\u001b[0m\u001b[0;34m\u001b[0m\u001b[0m\n\u001b[1;32m    158\u001b[0m                 \u001b[0;32melse\u001b[0m \u001b[0mself\u001b[0m\u001b[0;34m.\u001b[0m\u001b[0m_call\u001b[0m\u001b[0;34m(\u001b[0m\u001b[0minputs\u001b[0m\u001b[0;34m)\u001b[0m\u001b[0;34m\u001b[0m\u001b[0;34m\u001b[0m\u001b[0m\n",
            "\u001b[0;32m/usr/local/lib/python3.10/dist-packages/langchain/chains/retrieval_qa/base.py\u001b[0m in \u001b[0;36m_call\u001b[0;34m(self, inputs, run_manager)\u001b[0m\n\u001b[1;32m    143\u001b[0m         \u001b[0;32melse\u001b[0m\u001b[0;34m:\u001b[0m\u001b[0;34m\u001b[0m\u001b[0;34m\u001b[0m\u001b[0m\n\u001b[1;32m    144\u001b[0m             \u001b[0mdocs\u001b[0m \u001b[0;34m=\u001b[0m \u001b[0mself\u001b[0m\u001b[0;34m.\u001b[0m\u001b[0m_get_docs\u001b[0m\u001b[0;34m(\u001b[0m\u001b[0mquestion\u001b[0m\u001b[0;34m)\u001b[0m  \u001b[0;31m# type: ignore[call-arg]\u001b[0m\u001b[0;34m\u001b[0m\u001b[0;34m\u001b[0m\u001b[0m\n\u001b[0;32m--> 145\u001b[0;31m         answer = self.combine_documents_chain.run(\n\u001b[0m\u001b[1;32m    146\u001b[0m             \u001b[0minput_documents\u001b[0m\u001b[0;34m=\u001b[0m\u001b[0mdocs\u001b[0m\u001b[0;34m,\u001b[0m \u001b[0mquestion\u001b[0m\u001b[0;34m=\u001b[0m\u001b[0mquestion\u001b[0m\u001b[0;34m,\u001b[0m \u001b[0mcallbacks\u001b[0m\u001b[0;34m=\u001b[0m\u001b[0m_run_manager\u001b[0m\u001b[0;34m.\u001b[0m\u001b[0mget_child\u001b[0m\u001b[0;34m(\u001b[0m\u001b[0;34m)\u001b[0m\u001b[0;34m\u001b[0m\u001b[0;34m\u001b[0m\u001b[0m\n\u001b[1;32m    147\u001b[0m         )\n",
            "\u001b[0;32m/usr/local/lib/python3.10/dist-packages/langchain_core/_api/deprecation.py\u001b[0m in \u001b[0;36mwarning_emitting_wrapper\u001b[0;34m(*args, **kwargs)\u001b[0m\n\u001b[1;32m    146\u001b[0m                 \u001b[0mwarned\u001b[0m \u001b[0;34m=\u001b[0m \u001b[0;32mTrue\u001b[0m\u001b[0;34m\u001b[0m\u001b[0;34m\u001b[0m\u001b[0m\n\u001b[1;32m    147\u001b[0m                 \u001b[0memit_warning\u001b[0m\u001b[0;34m(\u001b[0m\u001b[0;34m)\u001b[0m\u001b[0;34m\u001b[0m\u001b[0;34m\u001b[0m\u001b[0m\n\u001b[0;32m--> 148\u001b[0;31m             \u001b[0;32mreturn\u001b[0m \u001b[0mwrapped\u001b[0m\u001b[0;34m(\u001b[0m\u001b[0;34m*\u001b[0m\u001b[0margs\u001b[0m\u001b[0;34m,\u001b[0m \u001b[0;34m**\u001b[0m\u001b[0mkwargs\u001b[0m\u001b[0;34m)\u001b[0m\u001b[0;34m\u001b[0m\u001b[0;34m\u001b[0m\u001b[0m\n\u001b[0m\u001b[1;32m    149\u001b[0m \u001b[0;34m\u001b[0m\u001b[0m\n\u001b[1;32m    150\u001b[0m         \u001b[0;32masync\u001b[0m \u001b[0;32mdef\u001b[0m \u001b[0mawarning_emitting_wrapper\u001b[0m\u001b[0;34m(\u001b[0m\u001b[0;34m*\u001b[0m\u001b[0margs\u001b[0m\u001b[0;34m:\u001b[0m \u001b[0mAny\u001b[0m\u001b[0;34m,\u001b[0m \u001b[0;34m**\u001b[0m\u001b[0mkwargs\u001b[0m\u001b[0;34m:\u001b[0m \u001b[0mAny\u001b[0m\u001b[0;34m)\u001b[0m \u001b[0;34m->\u001b[0m \u001b[0mAny\u001b[0m\u001b[0;34m:\u001b[0m\u001b[0;34m\u001b[0m\u001b[0;34m\u001b[0m\u001b[0m\n",
            "\u001b[0;32m/usr/local/lib/python3.10/dist-packages/langchain/chains/base.py\u001b[0m in \u001b[0;36mrun\u001b[0;34m(self, callbacks, tags, metadata, *args, **kwargs)\u001b[0m\n\u001b[1;32m    603\u001b[0m \u001b[0;34m\u001b[0m\u001b[0m\n\u001b[1;32m    604\u001b[0m         \u001b[0;32mif\u001b[0m \u001b[0mkwargs\u001b[0m \u001b[0;32mand\u001b[0m \u001b[0;32mnot\u001b[0m \u001b[0margs\u001b[0m\u001b[0;34m:\u001b[0m\u001b[0;34m\u001b[0m\u001b[0;34m\u001b[0m\u001b[0m\n\u001b[0;32m--> 605\u001b[0;31m             return self(kwargs, callbacks=callbacks, tags=tags, metadata=metadata)[\n\u001b[0m\u001b[1;32m    606\u001b[0m                 \u001b[0m_output_key\u001b[0m\u001b[0;34m\u001b[0m\u001b[0;34m\u001b[0m\u001b[0m\n\u001b[1;32m    607\u001b[0m             ]\n",
            "\u001b[0;32m/usr/local/lib/python3.10/dist-packages/langchain_core/_api/deprecation.py\u001b[0m in \u001b[0;36mwarning_emitting_wrapper\u001b[0;34m(*args, **kwargs)\u001b[0m\n\u001b[1;32m    146\u001b[0m                 \u001b[0mwarned\u001b[0m \u001b[0;34m=\u001b[0m \u001b[0;32mTrue\u001b[0m\u001b[0;34m\u001b[0m\u001b[0;34m\u001b[0m\u001b[0m\n\u001b[1;32m    147\u001b[0m                 \u001b[0memit_warning\u001b[0m\u001b[0;34m(\u001b[0m\u001b[0;34m)\u001b[0m\u001b[0;34m\u001b[0m\u001b[0;34m\u001b[0m\u001b[0m\n\u001b[0;32m--> 148\u001b[0;31m             \u001b[0;32mreturn\u001b[0m \u001b[0mwrapped\u001b[0m\u001b[0;34m(\u001b[0m\u001b[0;34m*\u001b[0m\u001b[0margs\u001b[0m\u001b[0;34m,\u001b[0m \u001b[0;34m**\u001b[0m\u001b[0mkwargs\u001b[0m\u001b[0;34m)\u001b[0m\u001b[0;34m\u001b[0m\u001b[0;34m\u001b[0m\u001b[0m\n\u001b[0m\u001b[1;32m    149\u001b[0m \u001b[0;34m\u001b[0m\u001b[0m\n\u001b[1;32m    150\u001b[0m         \u001b[0;32masync\u001b[0m \u001b[0;32mdef\u001b[0m \u001b[0mawarning_emitting_wrapper\u001b[0m\u001b[0;34m(\u001b[0m\u001b[0;34m*\u001b[0m\u001b[0margs\u001b[0m\u001b[0;34m:\u001b[0m \u001b[0mAny\u001b[0m\u001b[0;34m,\u001b[0m \u001b[0;34m**\u001b[0m\u001b[0mkwargs\u001b[0m\u001b[0;34m:\u001b[0m \u001b[0mAny\u001b[0m\u001b[0;34m)\u001b[0m \u001b[0;34m->\u001b[0m \u001b[0mAny\u001b[0m\u001b[0;34m:\u001b[0m\u001b[0;34m\u001b[0m\u001b[0;34m\u001b[0m\u001b[0m\n",
            "\u001b[0;32m/usr/local/lib/python3.10/dist-packages/langchain/chains/base.py\u001b[0m in \u001b[0;36m__call__\u001b[0;34m(self, inputs, return_only_outputs, callbacks, tags, metadata, run_name, include_run_info)\u001b[0m\n\u001b[1;32m    381\u001b[0m         }\n\u001b[1;32m    382\u001b[0m \u001b[0;34m\u001b[0m\u001b[0m\n\u001b[0;32m--> 383\u001b[0;31m         return self.invoke(\n\u001b[0m\u001b[1;32m    384\u001b[0m             \u001b[0minputs\u001b[0m\u001b[0;34m,\u001b[0m\u001b[0;34m\u001b[0m\u001b[0;34m\u001b[0m\u001b[0m\n\u001b[1;32m    385\u001b[0m             \u001b[0mcast\u001b[0m\u001b[0;34m(\u001b[0m\u001b[0mRunnableConfig\u001b[0m\u001b[0;34m,\u001b[0m \u001b[0;34m{\u001b[0m\u001b[0mk\u001b[0m\u001b[0;34m:\u001b[0m \u001b[0mv\u001b[0m \u001b[0;32mfor\u001b[0m \u001b[0mk\u001b[0m\u001b[0;34m,\u001b[0m \u001b[0mv\u001b[0m \u001b[0;32min\u001b[0m \u001b[0mconfig\u001b[0m\u001b[0;34m.\u001b[0m\u001b[0mitems\u001b[0m\u001b[0;34m(\u001b[0m\u001b[0;34m)\u001b[0m \u001b[0;32mif\u001b[0m \u001b[0mv\u001b[0m \u001b[0;32mis\u001b[0m \u001b[0;32mnot\u001b[0m \u001b[0;32mNone\u001b[0m\u001b[0;34m}\u001b[0m\u001b[0;34m)\u001b[0m\u001b[0;34m,\u001b[0m\u001b[0;34m\u001b[0m\u001b[0;34m\u001b[0m\u001b[0m\n",
            "\u001b[0;32m/usr/local/lib/python3.10/dist-packages/langchain/chains/base.py\u001b[0m in \u001b[0;36minvoke\u001b[0;34m(self, input, config, **kwargs)\u001b[0m\n\u001b[1;32m    164\u001b[0m         \u001b[0;32mexcept\u001b[0m \u001b[0mBaseException\u001b[0m \u001b[0;32mas\u001b[0m \u001b[0me\u001b[0m\u001b[0;34m:\u001b[0m\u001b[0;34m\u001b[0m\u001b[0;34m\u001b[0m\u001b[0m\n\u001b[1;32m    165\u001b[0m             \u001b[0mrun_manager\u001b[0m\u001b[0;34m.\u001b[0m\u001b[0mon_chain_error\u001b[0m\u001b[0;34m(\u001b[0m\u001b[0me\u001b[0m\u001b[0;34m)\u001b[0m\u001b[0;34m\u001b[0m\u001b[0;34m\u001b[0m\u001b[0m\n\u001b[0;32m--> 166\u001b[0;31m             \u001b[0;32mraise\u001b[0m \u001b[0me\u001b[0m\u001b[0;34m\u001b[0m\u001b[0;34m\u001b[0m\u001b[0m\n\u001b[0m\u001b[1;32m    167\u001b[0m         \u001b[0mrun_manager\u001b[0m\u001b[0;34m.\u001b[0m\u001b[0mon_chain_end\u001b[0m\u001b[0;34m(\u001b[0m\u001b[0moutputs\u001b[0m\u001b[0;34m)\u001b[0m\u001b[0;34m\u001b[0m\u001b[0;34m\u001b[0m\u001b[0m\n\u001b[1;32m    168\u001b[0m \u001b[0;34m\u001b[0m\u001b[0m\n",
            "\u001b[0;32m/usr/local/lib/python3.10/dist-packages/langchain/chains/base.py\u001b[0m in \u001b[0;36minvoke\u001b[0;34m(self, input, config, **kwargs)\u001b[0m\n\u001b[1;32m    154\u001b[0m             \u001b[0mself\u001b[0m\u001b[0;34m.\u001b[0m\u001b[0m_validate_inputs\u001b[0m\u001b[0;34m(\u001b[0m\u001b[0minputs\u001b[0m\u001b[0;34m)\u001b[0m\u001b[0;34m\u001b[0m\u001b[0;34m\u001b[0m\u001b[0m\n\u001b[1;32m    155\u001b[0m             outputs = (\n\u001b[0;32m--> 156\u001b[0;31m                 \u001b[0mself\u001b[0m\u001b[0;34m.\u001b[0m\u001b[0m_call\u001b[0m\u001b[0;34m(\u001b[0m\u001b[0minputs\u001b[0m\u001b[0;34m,\u001b[0m \u001b[0mrun_manager\u001b[0m\u001b[0;34m=\u001b[0m\u001b[0mrun_manager\u001b[0m\u001b[0;34m)\u001b[0m\u001b[0;34m\u001b[0m\u001b[0;34m\u001b[0m\u001b[0m\n\u001b[0m\u001b[1;32m    157\u001b[0m                 \u001b[0;32mif\u001b[0m \u001b[0mnew_arg_supported\u001b[0m\u001b[0;34m\u001b[0m\u001b[0;34m\u001b[0m\u001b[0m\n\u001b[1;32m    158\u001b[0m                 \u001b[0;32melse\u001b[0m \u001b[0mself\u001b[0m\u001b[0;34m.\u001b[0m\u001b[0m_call\u001b[0m\u001b[0;34m(\u001b[0m\u001b[0minputs\u001b[0m\u001b[0;34m)\u001b[0m\u001b[0;34m\u001b[0m\u001b[0;34m\u001b[0m\u001b[0m\n",
            "\u001b[0;32m/usr/local/lib/python3.10/dist-packages/langchain/chains/combine_documents/base.py\u001b[0m in \u001b[0;36m_call\u001b[0;34m(self, inputs, run_manager)\u001b[0m\n\u001b[1;32m    135\u001b[0m         \u001b[0;31m# Other keys are assumed to be needed for LLM prediction\u001b[0m\u001b[0;34m\u001b[0m\u001b[0;34m\u001b[0m\u001b[0m\n\u001b[1;32m    136\u001b[0m         \u001b[0mother_keys\u001b[0m \u001b[0;34m=\u001b[0m \u001b[0;34m{\u001b[0m\u001b[0mk\u001b[0m\u001b[0;34m:\u001b[0m \u001b[0mv\u001b[0m \u001b[0;32mfor\u001b[0m \u001b[0mk\u001b[0m\u001b[0;34m,\u001b[0m \u001b[0mv\u001b[0m \u001b[0;32min\u001b[0m \u001b[0minputs\u001b[0m\u001b[0;34m.\u001b[0m\u001b[0mitems\u001b[0m\u001b[0;34m(\u001b[0m\u001b[0;34m)\u001b[0m \u001b[0;32mif\u001b[0m \u001b[0mk\u001b[0m \u001b[0;34m!=\u001b[0m \u001b[0mself\u001b[0m\u001b[0;34m.\u001b[0m\u001b[0minput_key\u001b[0m\u001b[0;34m}\u001b[0m\u001b[0;34m\u001b[0m\u001b[0;34m\u001b[0m\u001b[0m\n\u001b[0;32m--> 137\u001b[0;31m         output, extra_return_dict = self.combine_docs(\n\u001b[0m\u001b[1;32m    138\u001b[0m             \u001b[0mdocs\u001b[0m\u001b[0;34m,\u001b[0m \u001b[0mcallbacks\u001b[0m\u001b[0;34m=\u001b[0m\u001b[0m_run_manager\u001b[0m\u001b[0;34m.\u001b[0m\u001b[0mget_child\u001b[0m\u001b[0;34m(\u001b[0m\u001b[0;34m)\u001b[0m\u001b[0;34m,\u001b[0m \u001b[0;34m**\u001b[0m\u001b[0mother_keys\u001b[0m\u001b[0;34m\u001b[0m\u001b[0;34m\u001b[0m\u001b[0m\n\u001b[1;32m    139\u001b[0m         )\n",
            "\u001b[0;32m/usr/local/lib/python3.10/dist-packages/langchain/chains/combine_documents/stuff.py\u001b[0m in \u001b[0;36mcombine_docs\u001b[0;34m(self, docs, callbacks, **kwargs)\u001b[0m\n\u001b[1;32m    242\u001b[0m         \u001b[0minputs\u001b[0m \u001b[0;34m=\u001b[0m \u001b[0mself\u001b[0m\u001b[0;34m.\u001b[0m\u001b[0m_get_inputs\u001b[0m\u001b[0;34m(\u001b[0m\u001b[0mdocs\u001b[0m\u001b[0;34m,\u001b[0m \u001b[0;34m**\u001b[0m\u001b[0mkwargs\u001b[0m\u001b[0;34m)\u001b[0m\u001b[0;34m\u001b[0m\u001b[0;34m\u001b[0m\u001b[0m\n\u001b[1;32m    243\u001b[0m         \u001b[0;31m# Call predict on the LLM.\u001b[0m\u001b[0;34m\u001b[0m\u001b[0;34m\u001b[0m\u001b[0m\n\u001b[0;32m--> 244\u001b[0;31m         \u001b[0;32mreturn\u001b[0m \u001b[0mself\u001b[0m\u001b[0;34m.\u001b[0m\u001b[0mllm_chain\u001b[0m\u001b[0;34m.\u001b[0m\u001b[0mpredict\u001b[0m\u001b[0;34m(\u001b[0m\u001b[0mcallbacks\u001b[0m\u001b[0;34m=\u001b[0m\u001b[0mcallbacks\u001b[0m\u001b[0;34m,\u001b[0m \u001b[0;34m**\u001b[0m\u001b[0minputs\u001b[0m\u001b[0;34m)\u001b[0m\u001b[0;34m,\u001b[0m \u001b[0;34m{\u001b[0m\u001b[0;34m}\u001b[0m\u001b[0;34m\u001b[0m\u001b[0;34m\u001b[0m\u001b[0m\n\u001b[0m\u001b[1;32m    245\u001b[0m \u001b[0;34m\u001b[0m\u001b[0m\n\u001b[1;32m    246\u001b[0m     async def acombine_docs(\n",
            "\u001b[0;32m/usr/local/lib/python3.10/dist-packages/langchain/chains/llm.py\u001b[0m in \u001b[0;36mpredict\u001b[0;34m(self, callbacks, **kwargs)\u001b[0m\n\u001b[1;32m    314\u001b[0m                 \u001b[0mcompletion\u001b[0m \u001b[0;34m=\u001b[0m \u001b[0mllm\u001b[0m\u001b[0;34m.\u001b[0m\u001b[0mpredict\u001b[0m\u001b[0;34m(\u001b[0m\u001b[0madjective\u001b[0m\u001b[0;34m=\u001b[0m\u001b[0;34m\"funny\"\u001b[0m\u001b[0;34m)\u001b[0m\u001b[0;34m\u001b[0m\u001b[0;34m\u001b[0m\u001b[0m\n\u001b[1;32m    315\u001b[0m         \"\"\"\n\u001b[0;32m--> 316\u001b[0;31m         \u001b[0;32mreturn\u001b[0m \u001b[0mself\u001b[0m\u001b[0;34m(\u001b[0m\u001b[0mkwargs\u001b[0m\u001b[0;34m,\u001b[0m \u001b[0mcallbacks\u001b[0m\u001b[0;34m=\u001b[0m\u001b[0mcallbacks\u001b[0m\u001b[0;34m)\u001b[0m\u001b[0;34m[\u001b[0m\u001b[0mself\u001b[0m\u001b[0;34m.\u001b[0m\u001b[0moutput_key\u001b[0m\u001b[0;34m]\u001b[0m\u001b[0;34m\u001b[0m\u001b[0;34m\u001b[0m\u001b[0m\n\u001b[0m\u001b[1;32m    317\u001b[0m \u001b[0;34m\u001b[0m\u001b[0m\n\u001b[1;32m    318\u001b[0m     \u001b[0;32masync\u001b[0m \u001b[0;32mdef\u001b[0m \u001b[0mapredict\u001b[0m\u001b[0;34m(\u001b[0m\u001b[0mself\u001b[0m\u001b[0;34m,\u001b[0m \u001b[0mcallbacks\u001b[0m\u001b[0;34m:\u001b[0m \u001b[0mCallbacks\u001b[0m \u001b[0;34m=\u001b[0m \u001b[0;32mNone\u001b[0m\u001b[0;34m,\u001b[0m \u001b[0;34m**\u001b[0m\u001b[0mkwargs\u001b[0m\u001b[0;34m:\u001b[0m \u001b[0mAny\u001b[0m\u001b[0;34m)\u001b[0m \u001b[0;34m->\u001b[0m \u001b[0mstr\u001b[0m\u001b[0;34m:\u001b[0m\u001b[0;34m\u001b[0m\u001b[0;34m\u001b[0m\u001b[0m\n",
            "\u001b[0;32m/usr/local/lib/python3.10/dist-packages/langchain_core/_api/deprecation.py\u001b[0m in \u001b[0;36mwarning_emitting_wrapper\u001b[0;34m(*args, **kwargs)\u001b[0m\n\u001b[1;32m    146\u001b[0m                 \u001b[0mwarned\u001b[0m \u001b[0;34m=\u001b[0m \u001b[0;32mTrue\u001b[0m\u001b[0;34m\u001b[0m\u001b[0;34m\u001b[0m\u001b[0m\n\u001b[1;32m    147\u001b[0m                 \u001b[0memit_warning\u001b[0m\u001b[0;34m(\u001b[0m\u001b[0;34m)\u001b[0m\u001b[0;34m\u001b[0m\u001b[0;34m\u001b[0m\u001b[0m\n\u001b[0;32m--> 148\u001b[0;31m             \u001b[0;32mreturn\u001b[0m \u001b[0mwrapped\u001b[0m\u001b[0;34m(\u001b[0m\u001b[0;34m*\u001b[0m\u001b[0margs\u001b[0m\u001b[0;34m,\u001b[0m \u001b[0;34m**\u001b[0m\u001b[0mkwargs\u001b[0m\u001b[0;34m)\u001b[0m\u001b[0;34m\u001b[0m\u001b[0;34m\u001b[0m\u001b[0m\n\u001b[0m\u001b[1;32m    149\u001b[0m \u001b[0;34m\u001b[0m\u001b[0m\n\u001b[1;32m    150\u001b[0m         \u001b[0;32masync\u001b[0m \u001b[0;32mdef\u001b[0m \u001b[0mawarning_emitting_wrapper\u001b[0m\u001b[0;34m(\u001b[0m\u001b[0;34m*\u001b[0m\u001b[0margs\u001b[0m\u001b[0;34m:\u001b[0m \u001b[0mAny\u001b[0m\u001b[0;34m,\u001b[0m \u001b[0;34m**\u001b[0m\u001b[0mkwargs\u001b[0m\u001b[0;34m:\u001b[0m \u001b[0mAny\u001b[0m\u001b[0;34m)\u001b[0m \u001b[0;34m->\u001b[0m \u001b[0mAny\u001b[0m\u001b[0;34m:\u001b[0m\u001b[0;34m\u001b[0m\u001b[0;34m\u001b[0m\u001b[0m\n",
            "\u001b[0;32m/usr/local/lib/python3.10/dist-packages/langchain/chains/base.py\u001b[0m in \u001b[0;36m__call__\u001b[0;34m(self, inputs, return_only_outputs, callbacks, tags, metadata, run_name, include_run_info)\u001b[0m\n\u001b[1;32m    381\u001b[0m         }\n\u001b[1;32m    382\u001b[0m \u001b[0;34m\u001b[0m\u001b[0m\n\u001b[0;32m--> 383\u001b[0;31m         return self.invoke(\n\u001b[0m\u001b[1;32m    384\u001b[0m             \u001b[0minputs\u001b[0m\u001b[0;34m,\u001b[0m\u001b[0;34m\u001b[0m\u001b[0;34m\u001b[0m\u001b[0m\n\u001b[1;32m    385\u001b[0m             \u001b[0mcast\u001b[0m\u001b[0;34m(\u001b[0m\u001b[0mRunnableConfig\u001b[0m\u001b[0;34m,\u001b[0m \u001b[0;34m{\u001b[0m\u001b[0mk\u001b[0m\u001b[0;34m:\u001b[0m \u001b[0mv\u001b[0m \u001b[0;32mfor\u001b[0m \u001b[0mk\u001b[0m\u001b[0;34m,\u001b[0m \u001b[0mv\u001b[0m \u001b[0;32min\u001b[0m \u001b[0mconfig\u001b[0m\u001b[0;34m.\u001b[0m\u001b[0mitems\u001b[0m\u001b[0;34m(\u001b[0m\u001b[0;34m)\u001b[0m \u001b[0;32mif\u001b[0m \u001b[0mv\u001b[0m \u001b[0;32mis\u001b[0m \u001b[0;32mnot\u001b[0m \u001b[0;32mNone\u001b[0m\u001b[0;34m}\u001b[0m\u001b[0;34m)\u001b[0m\u001b[0;34m,\u001b[0m\u001b[0;34m\u001b[0m\u001b[0;34m\u001b[0m\u001b[0m\n",
            "\u001b[0;32m/usr/local/lib/python3.10/dist-packages/langchain/chains/base.py\u001b[0m in \u001b[0;36minvoke\u001b[0;34m(self, input, config, **kwargs)\u001b[0m\n\u001b[1;32m    164\u001b[0m         \u001b[0;32mexcept\u001b[0m \u001b[0mBaseException\u001b[0m \u001b[0;32mas\u001b[0m \u001b[0me\u001b[0m\u001b[0;34m:\u001b[0m\u001b[0;34m\u001b[0m\u001b[0;34m\u001b[0m\u001b[0m\n\u001b[1;32m    165\u001b[0m             \u001b[0mrun_manager\u001b[0m\u001b[0;34m.\u001b[0m\u001b[0mon_chain_error\u001b[0m\u001b[0;34m(\u001b[0m\u001b[0me\u001b[0m\u001b[0;34m)\u001b[0m\u001b[0;34m\u001b[0m\u001b[0;34m\u001b[0m\u001b[0m\n\u001b[0;32m--> 166\u001b[0;31m             \u001b[0;32mraise\u001b[0m \u001b[0me\u001b[0m\u001b[0;34m\u001b[0m\u001b[0;34m\u001b[0m\u001b[0m\n\u001b[0m\u001b[1;32m    167\u001b[0m         \u001b[0mrun_manager\u001b[0m\u001b[0;34m.\u001b[0m\u001b[0mon_chain_end\u001b[0m\u001b[0;34m(\u001b[0m\u001b[0moutputs\u001b[0m\u001b[0;34m)\u001b[0m\u001b[0;34m\u001b[0m\u001b[0;34m\u001b[0m\u001b[0m\n\u001b[1;32m    168\u001b[0m \u001b[0;34m\u001b[0m\u001b[0m\n",
            "\u001b[0;32m/usr/local/lib/python3.10/dist-packages/langchain/chains/base.py\u001b[0m in \u001b[0;36minvoke\u001b[0;34m(self, input, config, **kwargs)\u001b[0m\n\u001b[1;32m    154\u001b[0m             \u001b[0mself\u001b[0m\u001b[0;34m.\u001b[0m\u001b[0m_validate_inputs\u001b[0m\u001b[0;34m(\u001b[0m\u001b[0minputs\u001b[0m\u001b[0;34m)\u001b[0m\u001b[0;34m\u001b[0m\u001b[0;34m\u001b[0m\u001b[0m\n\u001b[1;32m    155\u001b[0m             outputs = (\n\u001b[0;32m--> 156\u001b[0;31m                 \u001b[0mself\u001b[0m\u001b[0;34m.\u001b[0m\u001b[0m_call\u001b[0m\u001b[0;34m(\u001b[0m\u001b[0minputs\u001b[0m\u001b[0;34m,\u001b[0m \u001b[0mrun_manager\u001b[0m\u001b[0;34m=\u001b[0m\u001b[0mrun_manager\u001b[0m\u001b[0;34m)\u001b[0m\u001b[0;34m\u001b[0m\u001b[0;34m\u001b[0m\u001b[0m\n\u001b[0m\u001b[1;32m    157\u001b[0m                 \u001b[0;32mif\u001b[0m \u001b[0mnew_arg_supported\u001b[0m\u001b[0;34m\u001b[0m\u001b[0;34m\u001b[0m\u001b[0m\n\u001b[1;32m    158\u001b[0m                 \u001b[0;32melse\u001b[0m \u001b[0mself\u001b[0m\u001b[0;34m.\u001b[0m\u001b[0m_call\u001b[0m\u001b[0;34m(\u001b[0m\u001b[0minputs\u001b[0m\u001b[0;34m)\u001b[0m\u001b[0;34m\u001b[0m\u001b[0;34m\u001b[0m\u001b[0m\n",
            "\u001b[0;32m/usr/local/lib/python3.10/dist-packages/langchain/chains/llm.py\u001b[0m in \u001b[0;36m_call\u001b[0;34m(self, inputs, run_manager)\u001b[0m\n\u001b[1;32m    124\u001b[0m         \u001b[0mrun_manager\u001b[0m\u001b[0;34m:\u001b[0m \u001b[0mOptional\u001b[0m\u001b[0;34m[\u001b[0m\u001b[0mCallbackManagerForChainRun\u001b[0m\u001b[0;34m]\u001b[0m \u001b[0;34m=\u001b[0m \u001b[0;32mNone\u001b[0m\u001b[0;34m,\u001b[0m\u001b[0;34m\u001b[0m\u001b[0;34m\u001b[0m\u001b[0m\n\u001b[1;32m    125\u001b[0m     ) -> Dict[str, str]:\n\u001b[0;32m--> 126\u001b[0;31m         \u001b[0mresponse\u001b[0m \u001b[0;34m=\u001b[0m \u001b[0mself\u001b[0m\u001b[0;34m.\u001b[0m\u001b[0mgenerate\u001b[0m\u001b[0;34m(\u001b[0m\u001b[0;34m[\u001b[0m\u001b[0minputs\u001b[0m\u001b[0;34m]\u001b[0m\u001b[0;34m,\u001b[0m \u001b[0mrun_manager\u001b[0m\u001b[0;34m=\u001b[0m\u001b[0mrun_manager\u001b[0m\u001b[0;34m)\u001b[0m\u001b[0;34m\u001b[0m\u001b[0;34m\u001b[0m\u001b[0m\n\u001b[0m\u001b[1;32m    127\u001b[0m         \u001b[0;32mreturn\u001b[0m \u001b[0mself\u001b[0m\u001b[0;34m.\u001b[0m\u001b[0mcreate_outputs\u001b[0m\u001b[0;34m(\u001b[0m\u001b[0mresponse\u001b[0m\u001b[0;34m)\u001b[0m\u001b[0;34m[\u001b[0m\u001b[0;36m0\u001b[0m\u001b[0;34m]\u001b[0m\u001b[0;34m\u001b[0m\u001b[0;34m\u001b[0m\u001b[0m\n\u001b[1;32m    128\u001b[0m \u001b[0;34m\u001b[0m\u001b[0m\n",
            "\u001b[0;32m/usr/local/lib/python3.10/dist-packages/langchain/chains/llm.py\u001b[0m in \u001b[0;36mgenerate\u001b[0;34m(self, input_list, run_manager)\u001b[0m\n\u001b[1;32m    136\u001b[0m         \u001b[0mcallbacks\u001b[0m \u001b[0;34m=\u001b[0m \u001b[0mrun_manager\u001b[0m\u001b[0;34m.\u001b[0m\u001b[0mget_child\u001b[0m\u001b[0;34m(\u001b[0m\u001b[0;34m)\u001b[0m \u001b[0;32mif\u001b[0m \u001b[0mrun_manager\u001b[0m \u001b[0;32melse\u001b[0m \u001b[0;32mNone\u001b[0m\u001b[0;34m\u001b[0m\u001b[0;34m\u001b[0m\u001b[0m\n\u001b[1;32m    137\u001b[0m         \u001b[0;32mif\u001b[0m \u001b[0misinstance\u001b[0m\u001b[0;34m(\u001b[0m\u001b[0mself\u001b[0m\u001b[0;34m.\u001b[0m\u001b[0mllm\u001b[0m\u001b[0;34m,\u001b[0m \u001b[0mBaseLanguageModel\u001b[0m\u001b[0;34m)\u001b[0m\u001b[0;34m:\u001b[0m\u001b[0;34m\u001b[0m\u001b[0;34m\u001b[0m\u001b[0m\n\u001b[0;32m--> 138\u001b[0;31m             return self.llm.generate_prompt(\n\u001b[0m\u001b[1;32m    139\u001b[0m                 \u001b[0mprompts\u001b[0m\u001b[0;34m,\u001b[0m\u001b[0;34m\u001b[0m\u001b[0;34m\u001b[0m\u001b[0m\n\u001b[1;32m    140\u001b[0m                 \u001b[0mstop\u001b[0m\u001b[0;34m,\u001b[0m\u001b[0;34m\u001b[0m\u001b[0;34m\u001b[0m\u001b[0m\n",
            "\u001b[0;32m/usr/local/lib/python3.10/dist-packages/langchain_core/language_models/llms.py\u001b[0m in \u001b[0;36mgenerate_prompt\u001b[0;34m(self, prompts, stop, callbacks, **kwargs)\u001b[0m\n\u001b[1;32m    631\u001b[0m     ) -> LLMResult:\n\u001b[1;32m    632\u001b[0m         \u001b[0mprompt_strings\u001b[0m \u001b[0;34m=\u001b[0m \u001b[0;34m[\u001b[0m\u001b[0mp\u001b[0m\u001b[0;34m.\u001b[0m\u001b[0mto_string\u001b[0m\u001b[0;34m(\u001b[0m\u001b[0;34m)\u001b[0m \u001b[0;32mfor\u001b[0m \u001b[0mp\u001b[0m \u001b[0;32min\u001b[0m \u001b[0mprompts\u001b[0m\u001b[0;34m]\u001b[0m\u001b[0;34m\u001b[0m\u001b[0;34m\u001b[0m\u001b[0m\n\u001b[0;32m--> 633\u001b[0;31m         \u001b[0;32mreturn\u001b[0m \u001b[0mself\u001b[0m\u001b[0;34m.\u001b[0m\u001b[0mgenerate\u001b[0m\u001b[0;34m(\u001b[0m\u001b[0mprompt_strings\u001b[0m\u001b[0;34m,\u001b[0m \u001b[0mstop\u001b[0m\u001b[0;34m=\u001b[0m\u001b[0mstop\u001b[0m\u001b[0;34m,\u001b[0m \u001b[0mcallbacks\u001b[0m\u001b[0;34m=\u001b[0m\u001b[0mcallbacks\u001b[0m\u001b[0;34m,\u001b[0m \u001b[0;34m**\u001b[0m\u001b[0mkwargs\u001b[0m\u001b[0;34m)\u001b[0m\u001b[0;34m\u001b[0m\u001b[0;34m\u001b[0m\u001b[0m\n\u001b[0m\u001b[1;32m    634\u001b[0m \u001b[0;34m\u001b[0m\u001b[0m\n\u001b[1;32m    635\u001b[0m     async def agenerate_prompt(\n",
            "\u001b[0;32m/usr/local/lib/python3.10/dist-packages/langchain_core/language_models/llms.py\u001b[0m in \u001b[0;36mgenerate\u001b[0;34m(self, prompts, stop, callbacks, tags, metadata, run_name, run_id, **kwargs)\u001b[0m\n\u001b[1;32m    801\u001b[0m                 )\n\u001b[1;32m    802\u001b[0m             ]\n\u001b[0;32m--> 803\u001b[0;31m             output = self._generate_helper(\n\u001b[0m\u001b[1;32m    804\u001b[0m                 \u001b[0mprompts\u001b[0m\u001b[0;34m,\u001b[0m \u001b[0mstop\u001b[0m\u001b[0;34m,\u001b[0m \u001b[0mrun_managers\u001b[0m\u001b[0;34m,\u001b[0m \u001b[0mbool\u001b[0m\u001b[0;34m(\u001b[0m\u001b[0mnew_arg_supported\u001b[0m\u001b[0;34m)\u001b[0m\u001b[0;34m,\u001b[0m \u001b[0;34m**\u001b[0m\u001b[0mkwargs\u001b[0m\u001b[0;34m\u001b[0m\u001b[0;34m\u001b[0m\u001b[0m\n\u001b[1;32m    805\u001b[0m             )\n",
            "\u001b[0;32m/usr/local/lib/python3.10/dist-packages/langchain_core/language_models/llms.py\u001b[0m in \u001b[0;36m_generate_helper\u001b[0;34m(self, prompts, stop, run_managers, new_arg_supported, **kwargs)\u001b[0m\n\u001b[1;32m    668\u001b[0m             \u001b[0;32mfor\u001b[0m \u001b[0mrun_manager\u001b[0m \u001b[0;32min\u001b[0m \u001b[0mrun_managers\u001b[0m\u001b[0;34m:\u001b[0m\u001b[0;34m\u001b[0m\u001b[0;34m\u001b[0m\u001b[0m\n\u001b[1;32m    669\u001b[0m                 \u001b[0mrun_manager\u001b[0m\u001b[0;34m.\u001b[0m\u001b[0mon_llm_error\u001b[0m\u001b[0;34m(\u001b[0m\u001b[0me\u001b[0m\u001b[0;34m,\u001b[0m \u001b[0mresponse\u001b[0m\u001b[0;34m=\u001b[0m\u001b[0mLLMResult\u001b[0m\u001b[0;34m(\u001b[0m\u001b[0mgenerations\u001b[0m\u001b[0;34m=\u001b[0m\u001b[0;34m[\u001b[0m\u001b[0;34m]\u001b[0m\u001b[0;34m)\u001b[0m\u001b[0;34m)\u001b[0m\u001b[0;34m\u001b[0m\u001b[0;34m\u001b[0m\u001b[0m\n\u001b[0;32m--> 670\u001b[0;31m             \u001b[0;32mraise\u001b[0m \u001b[0me\u001b[0m\u001b[0;34m\u001b[0m\u001b[0;34m\u001b[0m\u001b[0m\n\u001b[0m\u001b[1;32m    671\u001b[0m         \u001b[0mflattened_outputs\u001b[0m \u001b[0;34m=\u001b[0m \u001b[0moutput\u001b[0m\u001b[0;34m.\u001b[0m\u001b[0mflatten\u001b[0m\u001b[0;34m(\u001b[0m\u001b[0;34m)\u001b[0m\u001b[0;34m\u001b[0m\u001b[0;34m\u001b[0m\u001b[0m\n\u001b[1;32m    672\u001b[0m         \u001b[0;32mfor\u001b[0m \u001b[0mmanager\u001b[0m\u001b[0;34m,\u001b[0m \u001b[0mflattened_output\u001b[0m \u001b[0;32min\u001b[0m \u001b[0mzip\u001b[0m\u001b[0;34m(\u001b[0m\u001b[0mrun_managers\u001b[0m\u001b[0;34m,\u001b[0m \u001b[0mflattened_outputs\u001b[0m\u001b[0;34m)\u001b[0m\u001b[0;34m:\u001b[0m\u001b[0;34m\u001b[0m\u001b[0;34m\u001b[0m\u001b[0m\n",
            "\u001b[0;32m/usr/local/lib/python3.10/dist-packages/langchain_core/language_models/llms.py\u001b[0m in \u001b[0;36m_generate_helper\u001b[0;34m(self, prompts, stop, run_managers, new_arg_supported, **kwargs)\u001b[0m\n\u001b[1;32m    655\u001b[0m         \u001b[0;32mtry\u001b[0m\u001b[0;34m:\u001b[0m\u001b[0;34m\u001b[0m\u001b[0;34m\u001b[0m\u001b[0m\n\u001b[1;32m    656\u001b[0m             output = (\n\u001b[0;32m--> 657\u001b[0;31m                 self._generate(\n\u001b[0m\u001b[1;32m    658\u001b[0m                     \u001b[0mprompts\u001b[0m\u001b[0;34m,\u001b[0m\u001b[0;34m\u001b[0m\u001b[0;34m\u001b[0m\u001b[0m\n\u001b[1;32m    659\u001b[0m                     \u001b[0mstop\u001b[0m\u001b[0;34m=\u001b[0m\u001b[0mstop\u001b[0m\u001b[0;34m,\u001b[0m\u001b[0;34m\u001b[0m\u001b[0;34m\u001b[0m\u001b[0m\n",
            "\u001b[0;32m/usr/local/lib/python3.10/dist-packages/langchain_community/llms/huggingface_pipeline.py\u001b[0m in \u001b[0;36m_generate\u001b[0;34m(self, prompts, stop, run_manager, **kwargs)\u001b[0m\n\u001b[1;32m    271\u001b[0m \u001b[0;34m\u001b[0m\u001b[0m\n\u001b[1;32m    272\u001b[0m             \u001b[0;31m# Process batch of prompts\u001b[0m\u001b[0;34m\u001b[0m\u001b[0;34m\u001b[0m\u001b[0m\n\u001b[0;32m--> 273\u001b[0;31m             responses = self.pipeline(\n\u001b[0m\u001b[1;32m    274\u001b[0m                 \u001b[0mbatch_prompts\u001b[0m\u001b[0;34m,\u001b[0m\u001b[0;34m\u001b[0m\u001b[0;34m\u001b[0m\u001b[0m\n\u001b[1;32m    275\u001b[0m                 \u001b[0;34m**\u001b[0m\u001b[0mpipeline_kwargs\u001b[0m\u001b[0;34m,\u001b[0m\u001b[0;34m\u001b[0m\u001b[0;34m\u001b[0m\u001b[0m\n",
            "\u001b[0;32m/usr/local/lib/python3.10/dist-packages/transformers/pipelines/text_generation.py\u001b[0m in \u001b[0;36m__call__\u001b[0;34m(self, text_inputs, **kwargs)\u001b[0m\n\u001b[1;32m    261\u001b[0m                 \u001b[0;32mreturn\u001b[0m \u001b[0msuper\u001b[0m\u001b[0;34m(\u001b[0m\u001b[0;34m)\u001b[0m\u001b[0;34m.\u001b[0m\u001b[0m__call__\u001b[0m\u001b[0;34m(\u001b[0m\u001b[0mchats\u001b[0m\u001b[0;34m,\u001b[0m \u001b[0;34m**\u001b[0m\u001b[0mkwargs\u001b[0m\u001b[0;34m)\u001b[0m\u001b[0;34m\u001b[0m\u001b[0;34m\u001b[0m\u001b[0m\n\u001b[1;32m    262\u001b[0m         \u001b[0;32melse\u001b[0m\u001b[0;34m:\u001b[0m\u001b[0;34m\u001b[0m\u001b[0;34m\u001b[0m\u001b[0m\n\u001b[0;32m--> 263\u001b[0;31m             \u001b[0;32mreturn\u001b[0m \u001b[0msuper\u001b[0m\u001b[0;34m(\u001b[0m\u001b[0;34m)\u001b[0m\u001b[0;34m.\u001b[0m\u001b[0m__call__\u001b[0m\u001b[0;34m(\u001b[0m\u001b[0mtext_inputs\u001b[0m\u001b[0;34m,\u001b[0m \u001b[0;34m**\u001b[0m\u001b[0mkwargs\u001b[0m\u001b[0;34m)\u001b[0m\u001b[0;34m\u001b[0m\u001b[0;34m\u001b[0m\u001b[0m\n\u001b[0m\u001b[1;32m    264\u001b[0m \u001b[0;34m\u001b[0m\u001b[0m\n\u001b[1;32m    265\u001b[0m     def preprocess(\n",
            "\u001b[0;32m/usr/local/lib/python3.10/dist-packages/transformers/pipelines/base.py\u001b[0m in \u001b[0;36m__call__\u001b[0;34m(self, inputs, num_workers, batch_size, *args, **kwargs)\u001b[0m\n\u001b[1;32m   1222\u001b[0m                     \u001b[0minputs\u001b[0m\u001b[0;34m,\u001b[0m \u001b[0mnum_workers\u001b[0m\u001b[0;34m,\u001b[0m \u001b[0mbatch_size\u001b[0m\u001b[0;34m,\u001b[0m \u001b[0mpreprocess_params\u001b[0m\u001b[0;34m,\u001b[0m \u001b[0mforward_params\u001b[0m\u001b[0;34m,\u001b[0m \u001b[0mpostprocess_params\u001b[0m\u001b[0;34m\u001b[0m\u001b[0;34m\u001b[0m\u001b[0m\n\u001b[1;32m   1223\u001b[0m                 )\n\u001b[0;32m-> 1224\u001b[0;31m                 \u001b[0moutputs\u001b[0m \u001b[0;34m=\u001b[0m \u001b[0mlist\u001b[0m\u001b[0;34m(\u001b[0m\u001b[0mfinal_iterator\u001b[0m\u001b[0;34m)\u001b[0m\u001b[0;34m\u001b[0m\u001b[0;34m\u001b[0m\u001b[0m\n\u001b[0m\u001b[1;32m   1225\u001b[0m                 \u001b[0;32mreturn\u001b[0m \u001b[0moutputs\u001b[0m\u001b[0;34m\u001b[0m\u001b[0;34m\u001b[0m\u001b[0m\n\u001b[1;32m   1226\u001b[0m             \u001b[0;32melse\u001b[0m\u001b[0;34m:\u001b[0m\u001b[0;34m\u001b[0m\u001b[0;34m\u001b[0m\u001b[0m\n",
            "\u001b[0;32m/usr/local/lib/python3.10/dist-packages/transformers/pipelines/pt_utils.py\u001b[0m in \u001b[0;36m__next__\u001b[0;34m(self)\u001b[0m\n\u001b[1;32m    122\u001b[0m \u001b[0;34m\u001b[0m\u001b[0m\n\u001b[1;32m    123\u001b[0m         \u001b[0;31m# We're out of items within a batch\u001b[0m\u001b[0;34m\u001b[0m\u001b[0;34m\u001b[0m\u001b[0m\n\u001b[0;32m--> 124\u001b[0;31m         \u001b[0mitem\u001b[0m \u001b[0;34m=\u001b[0m \u001b[0mnext\u001b[0m\u001b[0;34m(\u001b[0m\u001b[0mself\u001b[0m\u001b[0;34m.\u001b[0m\u001b[0miterator\u001b[0m\u001b[0;34m)\u001b[0m\u001b[0;34m\u001b[0m\u001b[0;34m\u001b[0m\u001b[0m\n\u001b[0m\u001b[1;32m    125\u001b[0m         \u001b[0mprocessed\u001b[0m \u001b[0;34m=\u001b[0m \u001b[0mself\u001b[0m\u001b[0;34m.\u001b[0m\u001b[0minfer\u001b[0m\u001b[0;34m(\u001b[0m\u001b[0mitem\u001b[0m\u001b[0;34m,\u001b[0m \u001b[0;34m**\u001b[0m\u001b[0mself\u001b[0m\u001b[0;34m.\u001b[0m\u001b[0mparams\u001b[0m\u001b[0;34m)\u001b[0m\u001b[0;34m\u001b[0m\u001b[0;34m\u001b[0m\u001b[0m\n\u001b[1;32m    126\u001b[0m         \u001b[0;31m# We now have a batch of \"inferred things\".\u001b[0m\u001b[0;34m\u001b[0m\u001b[0;34m\u001b[0m\u001b[0m\n",
            "\u001b[0;32m/usr/local/lib/python3.10/dist-packages/transformers/pipelines/pt_utils.py\u001b[0m in \u001b[0;36m__next__\u001b[0;34m(self)\u001b[0m\n\u001b[1;32m    123\u001b[0m         \u001b[0;31m# We're out of items within a batch\u001b[0m\u001b[0;34m\u001b[0m\u001b[0;34m\u001b[0m\u001b[0m\n\u001b[1;32m    124\u001b[0m         \u001b[0mitem\u001b[0m \u001b[0;34m=\u001b[0m \u001b[0mnext\u001b[0m\u001b[0;34m(\u001b[0m\u001b[0mself\u001b[0m\u001b[0;34m.\u001b[0m\u001b[0miterator\u001b[0m\u001b[0;34m)\u001b[0m\u001b[0;34m\u001b[0m\u001b[0;34m\u001b[0m\u001b[0m\n\u001b[0;32m--> 125\u001b[0;31m         \u001b[0mprocessed\u001b[0m \u001b[0;34m=\u001b[0m \u001b[0mself\u001b[0m\u001b[0;34m.\u001b[0m\u001b[0minfer\u001b[0m\u001b[0;34m(\u001b[0m\u001b[0mitem\u001b[0m\u001b[0;34m,\u001b[0m \u001b[0;34m**\u001b[0m\u001b[0mself\u001b[0m\u001b[0;34m.\u001b[0m\u001b[0mparams\u001b[0m\u001b[0;34m)\u001b[0m\u001b[0;34m\u001b[0m\u001b[0;34m\u001b[0m\u001b[0m\n\u001b[0m\u001b[1;32m    126\u001b[0m         \u001b[0;31m# We now have a batch of \"inferred things\".\u001b[0m\u001b[0;34m\u001b[0m\u001b[0;34m\u001b[0m\u001b[0m\n\u001b[1;32m    127\u001b[0m         \u001b[0;32mif\u001b[0m \u001b[0mself\u001b[0m\u001b[0;34m.\u001b[0m\u001b[0mloader_batch_size\u001b[0m \u001b[0;32mis\u001b[0m \u001b[0;32mnot\u001b[0m \u001b[0;32mNone\u001b[0m\u001b[0;34m:\u001b[0m\u001b[0;34m\u001b[0m\u001b[0;34m\u001b[0m\u001b[0m\n",
            "\u001b[0;32m/usr/local/lib/python3.10/dist-packages/transformers/pipelines/base.py\u001b[0m in \u001b[0;36mforward\u001b[0;34m(self, model_inputs, **forward_params)\u001b[0m\n\u001b[1;32m   1148\u001b[0m                 \u001b[0;32mwith\u001b[0m \u001b[0minference_context\u001b[0m\u001b[0;34m(\u001b[0m\u001b[0;34m)\u001b[0m\u001b[0;34m:\u001b[0m\u001b[0;34m\u001b[0m\u001b[0;34m\u001b[0m\u001b[0m\n\u001b[1;32m   1149\u001b[0m                     \u001b[0mmodel_inputs\u001b[0m \u001b[0;34m=\u001b[0m \u001b[0mself\u001b[0m\u001b[0;34m.\u001b[0m\u001b[0m_ensure_tensor_on_device\u001b[0m\u001b[0;34m(\u001b[0m\u001b[0mmodel_inputs\u001b[0m\u001b[0;34m,\u001b[0m \u001b[0mdevice\u001b[0m\u001b[0;34m=\u001b[0m\u001b[0mself\u001b[0m\u001b[0;34m.\u001b[0m\u001b[0mdevice\u001b[0m\u001b[0;34m)\u001b[0m\u001b[0;34m\u001b[0m\u001b[0;34m\u001b[0m\u001b[0m\n\u001b[0;32m-> 1150\u001b[0;31m                     \u001b[0mmodel_outputs\u001b[0m \u001b[0;34m=\u001b[0m \u001b[0mself\u001b[0m\u001b[0;34m.\u001b[0m\u001b[0m_forward\u001b[0m\u001b[0;34m(\u001b[0m\u001b[0mmodel_inputs\u001b[0m\u001b[0;34m,\u001b[0m \u001b[0;34m**\u001b[0m\u001b[0mforward_params\u001b[0m\u001b[0;34m)\u001b[0m\u001b[0;34m\u001b[0m\u001b[0;34m\u001b[0m\u001b[0m\n\u001b[0m\u001b[1;32m   1151\u001b[0m                     \u001b[0mmodel_outputs\u001b[0m \u001b[0;34m=\u001b[0m \u001b[0mself\u001b[0m\u001b[0;34m.\u001b[0m\u001b[0m_ensure_tensor_on_device\u001b[0m\u001b[0;34m(\u001b[0m\u001b[0mmodel_outputs\u001b[0m\u001b[0;34m,\u001b[0m \u001b[0mdevice\u001b[0m\u001b[0;34m=\u001b[0m\u001b[0mtorch\u001b[0m\u001b[0;34m.\u001b[0m\u001b[0mdevice\u001b[0m\u001b[0;34m(\u001b[0m\u001b[0;34m\"cpu\"\u001b[0m\u001b[0;34m)\u001b[0m\u001b[0;34m)\u001b[0m\u001b[0;34m\u001b[0m\u001b[0;34m\u001b[0m\u001b[0m\n\u001b[1;32m   1152\u001b[0m             \u001b[0;32melse\u001b[0m\u001b[0;34m:\u001b[0m\u001b[0;34m\u001b[0m\u001b[0;34m\u001b[0m\u001b[0m\n",
            "\u001b[0;32m/usr/local/lib/python3.10/dist-packages/transformers/pipelines/text_generation.py\u001b[0m in \u001b[0;36m_forward\u001b[0;34m(self, model_inputs, **generate_kwargs)\u001b[0m\n\u001b[1;32m    348\u001b[0m \u001b[0;34m\u001b[0m\u001b[0m\n\u001b[1;32m    349\u001b[0m         \u001b[0;31m# BS x SL\u001b[0m\u001b[0;34m\u001b[0m\u001b[0;34m\u001b[0m\u001b[0m\n\u001b[0;32m--> 350\u001b[0;31m         \u001b[0mgenerated_sequence\u001b[0m \u001b[0;34m=\u001b[0m \u001b[0mself\u001b[0m\u001b[0;34m.\u001b[0m\u001b[0mmodel\u001b[0m\u001b[0;34m.\u001b[0m\u001b[0mgenerate\u001b[0m\u001b[0;34m(\u001b[0m\u001b[0minput_ids\u001b[0m\u001b[0;34m=\u001b[0m\u001b[0minput_ids\u001b[0m\u001b[0;34m,\u001b[0m \u001b[0mattention_mask\u001b[0m\u001b[0;34m=\u001b[0m\u001b[0mattention_mask\u001b[0m\u001b[0;34m,\u001b[0m \u001b[0;34m**\u001b[0m\u001b[0mgenerate_kwargs\u001b[0m\u001b[0;34m)\u001b[0m\u001b[0;34m\u001b[0m\u001b[0;34m\u001b[0m\u001b[0m\n\u001b[0m\u001b[1;32m    351\u001b[0m         \u001b[0mout_b\u001b[0m \u001b[0;34m=\u001b[0m \u001b[0mgenerated_sequence\u001b[0m\u001b[0;34m.\u001b[0m\u001b[0mshape\u001b[0m\u001b[0;34m[\u001b[0m\u001b[0;36m0\u001b[0m\u001b[0;34m]\u001b[0m\u001b[0;34m\u001b[0m\u001b[0;34m\u001b[0m\u001b[0m\n\u001b[1;32m    352\u001b[0m         \u001b[0;32mif\u001b[0m \u001b[0mself\u001b[0m\u001b[0;34m.\u001b[0m\u001b[0mframework\u001b[0m \u001b[0;34m==\u001b[0m \u001b[0;34m\"pt\"\u001b[0m\u001b[0;34m:\u001b[0m\u001b[0;34m\u001b[0m\u001b[0;34m\u001b[0m\u001b[0m\n",
            "\u001b[0;32m/usr/local/lib/python3.10/dist-packages/torch/utils/_contextlib.py\u001b[0m in \u001b[0;36mdecorate_context\u001b[0;34m(*args, **kwargs)\u001b[0m\n\u001b[1;32m    113\u001b[0m     \u001b[0;32mdef\u001b[0m \u001b[0mdecorate_context\u001b[0m\u001b[0;34m(\u001b[0m\u001b[0;34m*\u001b[0m\u001b[0margs\u001b[0m\u001b[0;34m,\u001b[0m \u001b[0;34m**\u001b[0m\u001b[0mkwargs\u001b[0m\u001b[0;34m)\u001b[0m\u001b[0;34m:\u001b[0m\u001b[0;34m\u001b[0m\u001b[0;34m\u001b[0m\u001b[0m\n\u001b[1;32m    114\u001b[0m         \u001b[0;32mwith\u001b[0m \u001b[0mctx_factory\u001b[0m\u001b[0;34m(\u001b[0m\u001b[0;34m)\u001b[0m\u001b[0;34m:\u001b[0m\u001b[0;34m\u001b[0m\u001b[0;34m\u001b[0m\u001b[0m\n\u001b[0;32m--> 115\u001b[0;31m             \u001b[0;32mreturn\u001b[0m \u001b[0mfunc\u001b[0m\u001b[0;34m(\u001b[0m\u001b[0;34m*\u001b[0m\u001b[0margs\u001b[0m\u001b[0;34m,\u001b[0m \u001b[0;34m**\u001b[0m\u001b[0mkwargs\u001b[0m\u001b[0;34m)\u001b[0m\u001b[0;34m\u001b[0m\u001b[0;34m\u001b[0m\u001b[0m\n\u001b[0m\u001b[1;32m    116\u001b[0m \u001b[0;34m\u001b[0m\u001b[0m\n\u001b[1;32m    117\u001b[0m     \u001b[0;32mreturn\u001b[0m \u001b[0mdecorate_context\u001b[0m\u001b[0;34m\u001b[0m\u001b[0;34m\u001b[0m\u001b[0m\n",
            "\u001b[0;32m/usr/local/lib/python3.10/dist-packages/transformers/generation/utils.py\u001b[0m in \u001b[0;36mgenerate\u001b[0;34m(self, inputs, generation_config, logits_processor, stopping_criteria, prefix_allowed_tokens_fn, synced_gpus, assistant_model, streamer, negative_prompt_ids, negative_prompt_attention_mask, **kwargs)\u001b[0m\n\u001b[1;32m   1540\u001b[0m         \u001b[0mtokenizer\u001b[0m \u001b[0;34m=\u001b[0m \u001b[0mkwargs\u001b[0m\u001b[0;34m.\u001b[0m\u001b[0mpop\u001b[0m\u001b[0;34m(\u001b[0m\u001b[0;34m\"tokenizer\"\u001b[0m\u001b[0;34m,\u001b[0m \u001b[0;32mNone\u001b[0m\u001b[0;34m)\u001b[0m  \u001b[0;31m# Pull this out first, we only use it for stopping criteria\u001b[0m\u001b[0;34m\u001b[0m\u001b[0;34m\u001b[0m\u001b[0m\n\u001b[1;32m   1541\u001b[0m         \u001b[0mgeneration_config\u001b[0m\u001b[0;34m,\u001b[0m \u001b[0mmodel_kwargs\u001b[0m \u001b[0;34m=\u001b[0m \u001b[0mself\u001b[0m\u001b[0;34m.\u001b[0m\u001b[0m_prepare_generation_config\u001b[0m\u001b[0;34m(\u001b[0m\u001b[0mgeneration_config\u001b[0m\u001b[0;34m,\u001b[0m \u001b[0;34m**\u001b[0m\u001b[0mkwargs\u001b[0m\u001b[0;34m)\u001b[0m\u001b[0;34m\u001b[0m\u001b[0;34m\u001b[0m\u001b[0m\n\u001b[0;32m-> 1542\u001b[0;31m         \u001b[0mself\u001b[0m\u001b[0;34m.\u001b[0m\u001b[0m_validate_model_kwargs\u001b[0m\u001b[0;34m(\u001b[0m\u001b[0mmodel_kwargs\u001b[0m\u001b[0;34m.\u001b[0m\u001b[0mcopy\u001b[0m\u001b[0;34m(\u001b[0m\u001b[0;34m)\u001b[0m\u001b[0;34m)\u001b[0m\u001b[0;34m\u001b[0m\u001b[0;34m\u001b[0m\u001b[0m\n\u001b[0m\u001b[1;32m   1543\u001b[0m \u001b[0;34m\u001b[0m\u001b[0m\n\u001b[1;32m   1544\u001b[0m         \u001b[0;31m# 2. Set generation parameters if not already defined\u001b[0m\u001b[0;34m\u001b[0m\u001b[0;34m\u001b[0m\u001b[0m\n",
            "\u001b[0;32m/usr/local/lib/python3.10/dist-packages/transformers/generation/utils.py\u001b[0m in \u001b[0;36m_validate_model_kwargs\u001b[0;34m(self, model_kwargs)\u001b[0m\n\u001b[1;32m   1155\u001b[0m \u001b[0;34m\u001b[0m\u001b[0m\n\u001b[1;32m   1156\u001b[0m         \u001b[0;32mif\u001b[0m \u001b[0munused_model_args\u001b[0m\u001b[0;34m:\u001b[0m\u001b[0;34m\u001b[0m\u001b[0;34m\u001b[0m\u001b[0m\n\u001b[0;32m-> 1157\u001b[0;31m             raise ValueError(\n\u001b[0m\u001b[1;32m   1158\u001b[0m                 \u001b[0;34mf\"The following `model_kwargs` are not used by the model: {unused_model_args} (note: typos in the\"\u001b[0m\u001b[0;34m\u001b[0m\u001b[0;34m\u001b[0m\u001b[0m\n\u001b[1;32m   1159\u001b[0m                 \u001b[0;34m\" generate arguments will also show up in this list)\"\u001b[0m\u001b[0;34m\u001b[0m\u001b[0;34m\u001b[0m\u001b[0m\n",
            "\u001b[0;31mValueError\u001b[0m: The following `model_kwargs` are not used by the model: ['response'] (note: typos in the generate arguments will also show up in this list)"
          ]
        }
      ]
    },
    {
      "cell_type": "markdown",
      "source": [
        "now lets check from Chromadb if there is a difference"
      ],
      "metadata": {
        "id": "VHCDpNGy5tk0"
      }
    },
    {
      "cell_type": "code",
      "source": [
        "retriever = vectordbChroma.as_retriever()"
      ],
      "metadata": {
        "id": "fibgLVBO5bbr"
      },
      "execution_count": 29,
      "outputs": []
    },
    {
      "cell_type": "code",
      "source": [
        "from langchain.chains import RetrievalQA\n",
        "from langchain.callbacks import StdOutCallbackHandler\n",
        "\n",
        "handler = StdOutCallbackHandler()\n",
        "\n",
        "qa_with_sources_chain = RetrievalQA.from_chain_type(\n",
        "    llm=llm,\n",
        "    retriever=retriever,\n",
        "    callbacks=[handler],\n",
        "    return_source_documents=True\n",
        ")"
      ],
      "metadata": {
        "id": "W3KtyHjq5_dX"
      },
      "execution_count": 30,
      "outputs": []
    },
    {
      "cell_type": "markdown",
      "source": [
        "Testing"
      ],
      "metadata": {
        "id": "86xvHr856C8x"
      }
    },
    {
      "cell_type": "code",
      "source": [
        "qa_with_sources_chain({\"query\" : \"Who was aurelius antoninus?\"})"
      ],
      "metadata": {
        "colab": {
          "base_uri": "https://localhost:8080/"
        },
        "id": "UzKcA18r6CLm",
        "outputId": "7ca00c34-6b98-4cd2-a484-55d5aa524f56"
      },
      "execution_count": 32,
      "outputs": [
        {
          "output_type": "stream",
          "name": "stdout",
          "text": [
            "\n",
            "\n",
            "\u001b[1m> Entering new RetrievalQA chain...\u001b[0m\n",
            "\n",
            "\u001b[1m> Finished chain.\u001b[0m\n"
          ]
        },
        {
          "output_type": "execute_result",
          "data": {
            "text/plain": [
              "{'query': 'Who was aurelius antoninus?',\n",
              " 'result': 'Use the following pieces of context to answer the question at the end. If you don\\'t know the answer, just say that you don\\'t know, don\\'t try to make up an answer.\\n\\n1844; (6) George Long, 1862; (7) G. H. Rendall, 1898; and (8) J.\\nJackson, 1906. Renan\\'s \"Marc-Aurèle\"--in his \"History of the Origins of\\nChristianity,\" which appeared in 1882--is the most vital and original\\nbook to be had relating to the time of Marcus Aurelius. Pater\\'s \"Marius\\nthe Epicurean\" forms another outside commentary, which is of service in\\nthe imaginative attempt to create again the period.\\nMARCUS AURELIUS ANTONINUS THE ROMAN EMPEROR\\nHIS FIRST BOOK\\nconcerning HIMSELF:\\nWherein Antoninus recordeth, What and of whom, whether Parents, Friends,\\nor Masters; by their good examples, or good advice and counsel, he had\\nlearned:\\nDivided into Numbers or Sections.\\nANTONINUS Book vi. Num. xlviii. Whensoever thou wilt rejoice thyself,\\nthink and meditate upon those good parts and especial gifts, which thou\\nhast observed in any of them that live with thee:\\nas industry in one, in another modesty, in another bountifulness, in\\nanother some other thing. For nothing can so much rejoice thee, as\\n\\nAPPENDIX\\n     GLOSSARY\\nOriginal Transcriber\\'s Notes:\\nThis text was scanned by J. Boulton using Textbridge OCR. The Greek\\nportions of the text have been added by hand and they will require the\\nstandard \"Symbol\" font \"symbol.ttf\" to be installed in the system fonts\\nfolder. This is a standard Windows font, so should be present on most\\nsystems. To contact the scanner e-mail: magicjon@ic24.net INTRODUCTION\\nThis is the Plain Text version, see medma10h.txt or .zip for the HTML\\nversion with the various symbols mentioned above.\\nINTRODUCTION\\nMARCUS AURELIUS ANTONINUS was born on April 26, A.D. 121. His real name\\nwas M. Annius Verus, and he was sprung of a noble family which claimed\\ndescent from Numa, second King of Rome. Thus the most religious of\\nemperors came of the blood of the most pious of early kings. His father,\\nAnnius Verus, had held high office in Rome, and his grandfather, of\\nthe same name, had been thrice Consul. Both his parents died young, but\\n\\n138-161 AD. one of the best princes that ever mounted a throne.\\nApathia: the Stoic ideal was calmness in all circumstance an\\ninsensibility to pain, and absence of all exaltation at, pleasure or\\ngood fortune.\\nApelles, a famous painter of antiquity.\\nApollonius of Alexandria, called Dyscolus, or the \\'ill-tempered,\\'\\na great grammarian.\\nAposteme, tumour, excrescence.\\nArchimedes of Syracuse 287-212 B.C., the most famous mathematician of\\nantiquity.\\nAthos, a mountain promontory at the N. of the Aegean Sea.\\nAugustus, first Roman Emperor (ruled 31 B.C.-14 AD.).\\nAvoid, void.\\nBACCHIUS: there Were several persons of this name, and the one meant is\\nperhaps the musician.\\nBrutus (1) the liberator of the Roman people from their kings, and (2)\\nthe murderer of Caesar.\\nBoth names were household words.\\nCaesar, Caius, Julius, the Dictator and Conqueror.\\nCaieta, a town in Latium.\\nCamillus, a famous dictator in the early days of the Roman Republic.\\nCarnuntum, a town on the Danube in Upper Pannonia.\\n\\ncame about that Antoninus, having no son, adopted Marcus, changing his\\nname to that which he is known by, and betrothed him to his daughter\\nFaustina. His education was conducted with all care. The ablest teachers\\nwere engaged for him, and he was trained in the strict doctrine of the\\nStoic philosophy, which was his great delight. He was taught to dress\\nplainly and to live simply, to avoid all softness and luxury. His body\\nwas trained to hardihood by wrestling, hunting, and outdoor games; and\\nthough his constitution was weak, he showed great personal courage to\\nencounter the fiercest boars. At the same time he was kept from the\\nextravagancies of his day. The great excitement in Rome was the strife\\nof the Factions, as they were called, in the circus. The racing drivers\\nused to adopt one of four colours--red, blue, white, or green--and their\\npartisans showed an eagerness in supporting them which nothing could\\nsurpass. Riot and corruption went in the train of the racing chariots;\\n\\nQuestion: Who was aurelius antoninus?\\nHelpful Answer: Marcus Aurelius Antoninus was a roman emperor who lived from 121 ad to 180 ad. He was born with the name M. Annius Verus and was known for his wisdom and his adherence to the stoic philosophy. He was adopted by the emperor Antoninus Pius and became his successor. He ruled the roman empire from 161 ad until his death in 180 ad.',\n",
              " 'source_documents': [Document(page_content='1844; (6) George Long, 1862; (7) G. H. Rendall, 1898; and (8) J.\\nJackson, 1906. Renan\\'s \"Marc-Aurèle\"--in his \"History of the Origins of\\nChristianity,\" which appeared in 1882--is the most vital and original\\nbook to be had relating to the time of Marcus Aurelius. Pater\\'s \"Marius\\nthe Epicurean\" forms another outside commentary, which is of service in\\nthe imaginative attempt to create again the period.\\nMARCUS AURELIUS ANTONINUS THE ROMAN EMPEROR\\nHIS FIRST BOOK\\nconcerning HIMSELF:\\nWherein Antoninus recordeth, What and of whom, whether Parents, Friends,\\nor Masters; by their good examples, or good advice and counsel, he had\\nlearned:\\nDivided into Numbers or Sections.\\nANTONINUS Book vi. Num. xlviii. Whensoever thou wilt rejoice thyself,\\nthink and meditate upon those good parts and especial gifts, which thou\\nhast observed in any of them that live with thee:\\nas industry in one, in another modesty, in another bountifulness, in\\nanother some other thing. For nothing can so much rejoice thee, as'),\n",
              "  Document(page_content='APPENDIX\\n     GLOSSARY\\nOriginal Transcriber\\'s Notes:\\nThis text was scanned by J. Boulton using Textbridge OCR. The Greek\\nportions of the text have been added by hand and they will require the\\nstandard \"Symbol\" font \"symbol.ttf\" to be installed in the system fonts\\nfolder. This is a standard Windows font, so should be present on most\\nsystems. To contact the scanner e-mail: magicjon@ic24.net INTRODUCTION\\nThis is the Plain Text version, see medma10h.txt or .zip for the HTML\\nversion with the various symbols mentioned above.\\nINTRODUCTION\\nMARCUS AURELIUS ANTONINUS was born on April 26, A.D. 121. His real name\\nwas M. Annius Verus, and he was sprung of a noble family which claimed\\ndescent from Numa, second King of Rome. Thus the most religious of\\nemperors came of the blood of the most pious of early kings. His father,\\nAnnius Verus, had held high office in Rome, and his grandfather, of\\nthe same name, had been thrice Consul. Both his parents died young, but'),\n",
              "  Document(page_content=\"138-161 AD. one of the best princes that ever mounted a throne.\\nApathia: the Stoic ideal was calmness in all circumstance an\\ninsensibility to pain, and absence of all exaltation at, pleasure or\\ngood fortune.\\nApelles, a famous painter of antiquity.\\nApollonius of Alexandria, called Dyscolus, or the 'ill-tempered,'\\na great grammarian.\\nAposteme, tumour, excrescence.\\nArchimedes of Syracuse 287-212 B.C., the most famous mathematician of\\nantiquity.\\nAthos, a mountain promontory at the N. of the Aegean Sea.\\nAugustus, first Roman Emperor (ruled 31 B.C.-14 AD.).\\nAvoid, void.\\nBACCHIUS: there Were several persons of this name, and the one meant is\\nperhaps the musician.\\nBrutus (1) the liberator of the Roman people from their kings, and (2)\\nthe murderer of Caesar.\\nBoth names were household words.\\nCaesar, Caius, Julius, the Dictator and Conqueror.\\nCaieta, a town in Latium.\\nCamillus, a famous dictator in the early days of the Roman Republic.\\nCarnuntum, a town on the Danube in Upper Pannonia.\"),\n",
              "  Document(page_content='came about that Antoninus, having no son, adopted Marcus, changing his\\nname to that which he is known by, and betrothed him to his daughter\\nFaustina. His education was conducted with all care. The ablest teachers\\nwere engaged for him, and he was trained in the strict doctrine of the\\nStoic philosophy, which was his great delight. He was taught to dress\\nplainly and to live simply, to avoid all softness and luxury. His body\\nwas trained to hardihood by wrestling, hunting, and outdoor games; and\\nthough his constitution was weak, he showed great personal courage to\\nencounter the fiercest boars. At the same time he was kept from the\\nextravagancies of his day. The great excitement in Rome was the strife\\nof the Factions, as they were called, in the circus. The racing drivers\\nused to adopt one of four colours--red, blue, white, or green--and their\\npartisans showed an eagerness in supporting them which nothing could\\nsurpass. Riot and corruption went in the train of the racing chariots;')]}"
            ]
          },
          "metadata": {},
          "execution_count": 32
        }
      ]
    },
    {
      "cell_type": "code",
      "source": [
        "qa_with_sources_chain({\"query\" : \"Which year was aurelius born in?\"})"
      ],
      "metadata": {
        "colab": {
          "base_uri": "https://localhost:8080/"
        },
        "id": "V_S3xXR66Hgu",
        "outputId": "17799ff1-66dd-4894-b832-698bcd21c50a"
      },
      "execution_count": 36,
      "outputs": [
        {
          "output_type": "stream",
          "name": "stdout",
          "text": [
            "\n",
            "\n",
            "\u001b[1m> Entering new RetrievalQA chain...\u001b[0m\n",
            "\n",
            "\u001b[1m> Finished chain.\u001b[0m\n"
          ]
        },
        {
          "output_type": "execute_result",
          "data": {
            "text/plain": [
              "{'query': 'Which year was aurelius born in?',\n",
              " 'result': 'Use the following pieces of context to answer the question at the end. If you don\\'t know the answer, just say that you don\\'t know, don\\'t try to make up an answer.\\n\\nAPPENDIX\\n     GLOSSARY\\nOriginal Transcriber\\'s Notes:\\nThis text was scanned by J. Boulton using Textbridge OCR. The Greek\\nportions of the text have been added by hand and they will require the\\nstandard \"Symbol\" font \"symbol.ttf\" to be installed in the system fonts\\nfolder. This is a standard Windows font, so should be present on most\\nsystems. To contact the scanner e-mail: magicjon@ic24.net INTRODUCTION\\nThis is the Plain Text version, see medma10h.txt or .zip for the HTML\\nversion with the various symbols mentioned above.\\nINTRODUCTION\\nMARCUS AURELIUS ANTONINUS was born on April 26, A.D. 121. His real name\\nwas M. Annius Verus, and he was sprung of a noble family which claimed\\ndescent from Numa, second King of Rome. Thus the most religious of\\nemperors came of the blood of the most pious of early kings. His father,\\nAnnius Verus, had held high office in Rome, and his grandfather, of\\nthe same name, had been thrice Consul. Both his parents died young, but\\n\\n138-161 AD. one of the best princes that ever mounted a throne.\\nApathia: the Stoic ideal was calmness in all circumstance an\\ninsensibility to pain, and absence of all exaltation at, pleasure or\\ngood fortune.\\nApelles, a famous painter of antiquity.\\nApollonius of Alexandria, called Dyscolus, or the \\'ill-tempered,\\'\\na great grammarian.\\nAposteme, tumour, excrescence.\\nArchimedes of Syracuse 287-212 B.C., the most famous mathematician of\\nantiquity.\\nAthos, a mountain promontory at the N. of the Aegean Sea.\\nAugustus, first Roman Emperor (ruled 31 B.C.-14 AD.).\\nAvoid, void.\\nBACCHIUS: there Were several persons of this name, and the one meant is\\nperhaps the musician.\\nBrutus (1) the liberator of the Roman people from their kings, and (2)\\nthe murderer of Caesar.\\nBoth names were household words.\\nCaesar, Caius, Julius, the Dictator and Conqueror.\\nCaieta, a town in Latium.\\nCamillus, a famous dictator in the early days of the Roman Republic.\\nCarnuntum, a town on the Danube in Upper Pannonia.\\n\\nfrontiers to the Elbe, which seems to have been in his mind, much more\\nmight have been accomplished. But death cut short his designs.\\nTruly a rare opportunity was given to Marcus Aurelius of showing what\\nthe mind can do in despite of circumstances. Most peaceful of warriors,\\na magnificent monarch whose ideal was quiet happiness in home life, bent\\nto obscurity yet born to greatness, the loving father of children who\\ndied young or turned out hateful, his life was one paradox. That nothing\\nmight lack, it was in camp before the face of the enemy that he passed\\naway and went to his own place.\\nTranslations THE following is a list of the chief English translations\\nof Marcus Aurelius: (1) By Meric Casaubon, 1634; (2) Jeremy Collier,\\n1701; (3) James Thomson, 1747; (4) R. Graves, 1792; (5) H. McCormac,\\n1844; (6) George Long, 1862; (7) G. H. Rendall, 1898; and (8) J.\\nJackson, 1906. Renan\\'s \"Marc-Aurèle\"--in his \"History of the Origins of\\n\\nB. C.\\nFATAL, fated.\\nFortuit, chance (adj.).\\nFronto, M. Cornelius, a rhetorician and pleader, made consul in 143 A.D.\\nA number of his letters to M, Aur. and others are extant.\\nGRANUA, a tributary of the Danube.\\nHELICE, ancient capital city of Achaia, swallowed up by an earthquake,\\n373 B.C.\\nHelvidius Priscus, son-in-law of Thrasea Paetus, a noble man and a lover\\nof liberty. He was banished by Nero, and put to death by Vespasian.\\nHeraclitus of Ephesus, who lived in the 6th century B.C. He wrote on\\nphilosophy and natural science.\\nHerculaneum, near Mount Vesuvius, buried by the eruption of 79 AD.\\nHercules, p. 167, should be Apollo. See Muses.\\nHiatus, gap.\\nHipparchus of Bithynia, an astronomer of the 2nd century B.C., \"The true\\nfather of astronomy.\"\\nHippocrates of Cos, about 460-357 B.C. One of the most famous physicians\\nof antiquity.\\nIDIOT, means merely the non-proficient in anything, the \"layman,\" he who\\nwas not technically trained in any art, craft, or calling.\\n\\nQuestion: Which year was aurelius born in?\\nHelpful Answer: Based on the text, Marcus Aurelius was born in 121 AD.',\n",
              " 'source_documents': [Document(page_content='APPENDIX\\n     GLOSSARY\\nOriginal Transcriber\\'s Notes:\\nThis text was scanned by J. Boulton using Textbridge OCR. The Greek\\nportions of the text have been added by hand and they will require the\\nstandard \"Symbol\" font \"symbol.ttf\" to be installed in the system fonts\\nfolder. This is a standard Windows font, so should be present on most\\nsystems. To contact the scanner e-mail: magicjon@ic24.net INTRODUCTION\\nThis is the Plain Text version, see medma10h.txt or .zip for the HTML\\nversion with the various symbols mentioned above.\\nINTRODUCTION\\nMARCUS AURELIUS ANTONINUS was born on April 26, A.D. 121. His real name\\nwas M. Annius Verus, and he was sprung of a noble family which claimed\\ndescent from Numa, second King of Rome. Thus the most religious of\\nemperors came of the blood of the most pious of early kings. His father,\\nAnnius Verus, had held high office in Rome, and his grandfather, of\\nthe same name, had been thrice Consul. Both his parents died young, but'),\n",
              "  Document(page_content=\"138-161 AD. one of the best princes that ever mounted a throne.\\nApathia: the Stoic ideal was calmness in all circumstance an\\ninsensibility to pain, and absence of all exaltation at, pleasure or\\ngood fortune.\\nApelles, a famous painter of antiquity.\\nApollonius of Alexandria, called Dyscolus, or the 'ill-tempered,'\\na great grammarian.\\nAposteme, tumour, excrescence.\\nArchimedes of Syracuse 287-212 B.C., the most famous mathematician of\\nantiquity.\\nAthos, a mountain promontory at the N. of the Aegean Sea.\\nAugustus, first Roman Emperor (ruled 31 B.C.-14 AD.).\\nAvoid, void.\\nBACCHIUS: there Were several persons of this name, and the one meant is\\nperhaps the musician.\\nBrutus (1) the liberator of the Roman people from their kings, and (2)\\nthe murderer of Caesar.\\nBoth names were household words.\\nCaesar, Caius, Julius, the Dictator and Conqueror.\\nCaieta, a town in Latium.\\nCamillus, a famous dictator in the early days of the Roman Republic.\\nCarnuntum, a town on the Danube in Upper Pannonia.\"),\n",
              "  Document(page_content='frontiers to the Elbe, which seems to have been in his mind, much more\\nmight have been accomplished. But death cut short his designs.\\nTruly a rare opportunity was given to Marcus Aurelius of showing what\\nthe mind can do in despite of circumstances. Most peaceful of warriors,\\na magnificent monarch whose ideal was quiet happiness in home life, bent\\nto obscurity yet born to greatness, the loving father of children who\\ndied young or turned out hateful, his life was one paradox. That nothing\\nmight lack, it was in camp before the face of the enemy that he passed\\naway and went to his own place.\\nTranslations THE following is a list of the chief English translations\\nof Marcus Aurelius: (1) By Meric Casaubon, 1634; (2) Jeremy Collier,\\n1701; (3) James Thomson, 1747; (4) R. Graves, 1792; (5) H. McCormac,\\n1844; (6) George Long, 1862; (7) G. H. Rendall, 1898; and (8) J.\\nJackson, 1906. Renan\\'s \"Marc-Aurèle\"--in his \"History of the Origins of'),\n",
              "  Document(page_content='B. C.\\nFATAL, fated.\\nFortuit, chance (adj.).\\nFronto, M. Cornelius, a rhetorician and pleader, made consul in 143 A.D.\\nA number of his letters to M, Aur. and others are extant.\\nGRANUA, a tributary of the Danube.\\nHELICE, ancient capital city of Achaia, swallowed up by an earthquake,\\n373 B.C.\\nHelvidius Priscus, son-in-law of Thrasea Paetus, a noble man and a lover\\nof liberty. He was banished by Nero, and put to death by Vespasian.\\nHeraclitus of Ephesus, who lived in the 6th century B.C. He wrote on\\nphilosophy and natural science.\\nHerculaneum, near Mount Vesuvius, buried by the eruption of 79 AD.\\nHercules, p. 167, should be Apollo. See Muses.\\nHiatus, gap.\\nHipparchus of Bithynia, an astronomer of the 2nd century B.C., \"The true\\nfather of astronomy.\"\\nHippocrates of Cos, about 460-357 B.C. One of the most famous physicians\\nof antiquity.\\nIDIOT, means merely the non-proficient in anything, the \"layman,\" he who\\nwas not technically trained in any art, craft, or calling.')]}"
            ]
          },
          "metadata": {},
          "execution_count": 36
        }
      ]
    },
    {
      "cell_type": "code",
      "source": [
        "qa_with_sources_chain({\"query\" : \"Who is pikachu?\"})"
      ],
      "metadata": {
        "colab": {
          "base_uri": "https://localhost:8080/"
        },
        "id": "E7bZkIaB8EfU",
        "outputId": "ff033c14-3edd-4fd0-83c1-76decf59a5e0"
      },
      "execution_count": 37,
      "outputs": [
        {
          "output_type": "stream",
          "name": "stdout",
          "text": [
            "\n",
            "\n",
            "\u001b[1m> Entering new RetrievalQA chain...\u001b[0m\n",
            "\n",
            "\u001b[1m> Finished chain.\u001b[0m\n"
          ]
        },
        {
          "output_type": "execute_result",
          "data": {
            "text/plain": [
              "{'query': 'Who is pikachu?',\n",
              " 'result': \"Use the following pieces of context to answer the question at the end. If you don't know the answer, just say that you don't know, don't try to make up an answer.\\n\\ncolour: russata (red), albata (white), veneta (blue), prasina (green).\\nThere was high rivalry between them, and riots and bloodshed not\\ninfrequently.\\nCithaeron, a mountain range N. of Attica.\\nComedy, ancient; a term applied to the Attic comedy of Aristophanes and\\nhis time, which criticised persons and politics, like a modern comic\\njournal, such as Punck. See New Comedy.\\nCompendious, short.\\nConceit, opinion.\\nContentation, contentment.\\nCrates, a Cynic philosopher of the 4th century B.C.\\nCroesus, King of Lydia, proverbial for wealth; he reigned 560-546 B.C.\\nCynics, a school of philosophers, founded by Antisthenes. Their texts\\nwere a kind of caricature of Socraticism. Nothing was good but virtue,\\nnothing bad but vice. The Cynics repudiated all civil and social claims,\\nand attempted to return to what they called a state of nature. Many of\\nthem were very disgusting in their manners.\\nDEMETRIUS of Phalerum, an Athenian orator, statesman, philosopher, and\\npoet. Born 345 B.C.\\n\\nthe founder of Stoicism, was born in Cyprus at some date unknown, but\\nhis life may be said roughly to be between the years 350 and 250 B.C.\\nCyprus has been from time immemorial a meeting-place of the East and\\nWest, and although we cannot grant any importance to a possible strain\\nof Phoenician blood in him (for the Phoenicians were no philosophers),\\nyet it is quite likely that through Asia Minor he may have come in touch\\nwith the Far East. He studied under the cynic Crates, but he did not\\nneglect other philosophical systems. After many years' study he opened\\nhis own school in a colonnade in Athens called the Painted Porch, or\\nStoa, which gave the Stoics their name. Next to Zeno, the School of the\\nPorch owes most to Chrysippus (280--207 b.c.), who organised Stoicism\\ninto a system. Of him it was said, 'But for Chrysippus, there had been\\nno Porch.'\\nThe Stoics regarded speculation as a means to an end and that end was,\\nas Zeno put it, to live consistently omologonuenws zhn or as it was\\n\\nCaesar, Caius, Julius, the Dictator and Conqueror.\\nCaieta, a town in Latium.\\nCamillus, a famous dictator in the early days of the Roman Republic.\\nCarnuntum, a town on the Danube in Upper Pannonia.\\nCato, called of Utica, a Stoic who died by his own hand after the battle\\nof Thapsus, 46 B.C. His name was proverbial for virtue and courage.\\nCautelous, cautious.\\nCecrops, first legendary King of Athens.\\nCharax, perhaps the priestly historian of that name, whose date is\\nunknown, except that it must be later than Nero.\\nChirurgeon, surgeon.\\nChrysippus, 280-207 B.C., a Stoic philosopher, and the founder of\\nStoicism as a systematic philosophy.\\nCircus, the Circus Maximus at Rome, where games were held.\\nThere were four companies who contracted to provide horses, drivers,\\netc. These were called Factiones, and each had its distinguishing\\ncolour: russata (red), albata (white), veneta (blue), prasina (green).\\nThere was high rivalry between them, and riots and bloodshed not\\ninfrequently.\\n\\nthe true rictus of wild beasts, as those which by skilful painters and\\nother artificers are imitated. So will he be able to perceive the proper\\nripeness and beauty of old age, whether in man or woman: and whatsoever\\nelse it is that is beautiful and alluring in whatsoever is, with chaste\\nand continent eyes he will soon find out and discern. Those and many\\nother things will he discern, not credible unto every one, but unto them\\nonly who are truly and familiarly acquainted, both with nature itself,\\nand all natural things.\\nIII. Hippocrates having cured many sicknesses, fell sick himself and\\ndied. The Chaldeans and Astrologians having foretold the deaths of\\ndivers, were afterwards themselves surprised by the fates. Alexander and\\nPompeius, and Caius Caesar, having destroyed so many towns, and cut\\noff in the field so many thousands both of horse and foot, yet they\\nthemselves at last were fain to part with their own lives. Heraclitus\\n\\nQuestion: Who is pikachu?\\nHelpful Answer: Pikachu is a character from the Pokémon franchise.\",\n",
              " 'source_documents': [Document(page_content='colour: russata (red), albata (white), veneta (blue), prasina (green).\\nThere was high rivalry between them, and riots and bloodshed not\\ninfrequently.\\nCithaeron, a mountain range N. of Attica.\\nComedy, ancient; a term applied to the Attic comedy of Aristophanes and\\nhis time, which criticised persons and politics, like a modern comic\\njournal, such as Punck. See New Comedy.\\nCompendious, short.\\nConceit, opinion.\\nContentation, contentment.\\nCrates, a Cynic philosopher of the 4th century B.C.\\nCroesus, King of Lydia, proverbial for wealth; he reigned 560-546 B.C.\\nCynics, a school of philosophers, founded by Antisthenes. Their texts\\nwere a kind of caricature of Socraticism. Nothing was good but virtue,\\nnothing bad but vice. The Cynics repudiated all civil and social claims,\\nand attempted to return to what they called a state of nature. Many of\\nthem were very disgusting in their manners.\\nDEMETRIUS of Phalerum, an Athenian orator, statesman, philosopher, and\\npoet. Born 345 B.C.'),\n",
              "  Document(page_content=\"the founder of Stoicism, was born in Cyprus at some date unknown, but\\nhis life may be said roughly to be between the years 350 and 250 B.C.\\nCyprus has been from time immemorial a meeting-place of the East and\\nWest, and although we cannot grant any importance to a possible strain\\nof Phoenician blood in him (for the Phoenicians were no philosophers),\\nyet it is quite likely that through Asia Minor he may have come in touch\\nwith the Far East. He studied under the cynic Crates, but he did not\\nneglect other philosophical systems. After many years' study he opened\\nhis own school in a colonnade in Athens called the Painted Porch, or\\nStoa, which gave the Stoics their name. Next to Zeno, the School of the\\nPorch owes most to Chrysippus (280--207 b.c.), who organised Stoicism\\ninto a system. Of him it was said, 'But for Chrysippus, there had been\\nno Porch.'\\nThe Stoics regarded speculation as a means to an end and that end was,\\nas Zeno put it, to live consistently omologonuenws zhn or as it was\"),\n",
              "  Document(page_content='Caesar, Caius, Julius, the Dictator and Conqueror.\\nCaieta, a town in Latium.\\nCamillus, a famous dictator in the early days of the Roman Republic.\\nCarnuntum, a town on the Danube in Upper Pannonia.\\nCato, called of Utica, a Stoic who died by his own hand after the battle\\nof Thapsus, 46 B.C. His name was proverbial for virtue and courage.\\nCautelous, cautious.\\nCecrops, first legendary King of Athens.\\nCharax, perhaps the priestly historian of that name, whose date is\\nunknown, except that it must be later than Nero.\\nChirurgeon, surgeon.\\nChrysippus, 280-207 B.C., a Stoic philosopher, and the founder of\\nStoicism as a systematic philosophy.\\nCircus, the Circus Maximus at Rome, where games were held.\\nThere were four companies who contracted to provide horses, drivers,\\netc. These were called Factiones, and each had its distinguishing\\ncolour: russata (red), albata (white), veneta (blue), prasina (green).\\nThere was high rivalry between them, and riots and bloodshed not\\ninfrequently.'),\n",
              "  Document(page_content='the true rictus of wild beasts, as those which by skilful painters and\\nother artificers are imitated. So will he be able to perceive the proper\\nripeness and beauty of old age, whether in man or woman: and whatsoever\\nelse it is that is beautiful and alluring in whatsoever is, with chaste\\nand continent eyes he will soon find out and discern. Those and many\\nother things will he discern, not credible unto every one, but unto them\\nonly who are truly and familiarly acquainted, both with nature itself,\\nand all natural things.\\nIII. Hippocrates having cured many sicknesses, fell sick himself and\\ndied. The Chaldeans and Astrologians having foretold the deaths of\\ndivers, were afterwards themselves surprised by the fates. Alexander and\\nPompeius, and Caius Caesar, having destroyed so many towns, and cut\\noff in the field so many thousands both of horse and foot, yet they\\nthemselves at last were fain to part with their own lives. Heraclitus')]}"
            ]
          },
          "metadata": {},
          "execution_count": 37
        }
      ]
    },
    {
      "cell_type": "code",
      "source": [],
      "metadata": {
        "id": "n6VYUVaF_gxa"
      },
      "execution_count": null,
      "outputs": []
    }
  ]
}